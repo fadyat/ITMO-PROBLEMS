{
 "cells": [
  {
   "cell_type": "markdown",
   "id": "e001d899",
   "metadata": {},
   "source": [
    "## Эмпирическая функция распределения. Поведение в точке."
   ]
  },
  {
   "cell_type": "markdown",
   "id": "978069a0",
   "metadata": {},
   "source": [
    "### Цель работы:\n",
    "- ознакомится с определением ЭФР и ее поведением при фиксированном значении аргумента\n",
    "- аналитически и графически оценить надежность асимптотического интервала\n",
    "- убедиться в том, что асимптотические методы работают при конечном объеме выборки"
   ]
  },
  {
   "cell_type": "markdown",
   "id": "43f885b2",
   "metadata": {},
   "source": [
    "### Задание и ход работы:\n",
    " \n",
    "- Выбрать параметры 2-х из 3-х распределений генеральной совокупности $X$:\n",
    "\n",
    "> $X$ ~ $U(a, b)$\n",
    ">\n",
    "> $X$ ~ $e^u$\n",
    ">\n",
    "> $X$ ~ $N(a, \\sigma ^2)$ "
   ]
  },
  {
   "cell_type": "markdown",
   "id": "6ed6d28f",
   "metadata": {},
   "source": [
    "- Выбрать такую точку $t_0$, что $ 0.05 < F_X(t_0) < 0.95$. Вычислить $F_X(t_0)$"
   ]
  },
  {
   "cell_type": "markdown",
   "id": "7f7cfa23",
   "metadata": {},
   "source": [
    "- Смоделировать $m = 10^2$ выборок объема $n = 10^4$ для каждого из двух выбранных распределений.\n",
    "- Для каждой выборки построить $F_n(t_0)$ - значение эмпирической функции распределения в точке $t_0$ - оценку значения функции распределения в точке $t_0$, то есть величины $F_X(t_0)$.\n",
    "- Для каждого из распределений получите 100 оценок величины $F_X(t_0)$."
   ]
  },
  {
   "cell_type": "markdown",
   "id": "54a892d3",
   "metadata": {},
   "source": [
    "- Значение функции распределения $\\displaystyle F_X(t_0) = P(X \\in (-\\infty, t_0) = \\Delta)$ является вероятностью события $\\displaystyle A = {X \\in (-\\infty, t_0)}.$\n",
    "- Значение эмпирической функции распределения $F_n(t_0)$ - оценка вероятности события $\\displaystyle A = {\\displaystyle X \\in (-\\infty, t_0)}$, то есть $\\displaystyle k(\\Delta) \\over \\displaystyle n$ - частота попадания значения случайной величины $X$ в интервал $\\Delta$.\n",
    "\n",
    "> Частота, полученная по серии независимых однотипных испытаний с двумя исходами – $\\displaystyle A$ и\n",
    "$\\displaystyle \\bar A$, является состоятельной, несмещенной, асимптотически нормальной оценкой\n",
    "вероятности события.\n",
    "Свойство асимптотической нормальности позволяет строить\n",
    "асимптотический доверительный интервал надежности $\\gamma$.\n",
    "\n",
    "- Фиксировать $\\displaystyle \\gamma > 0.9$ и построить по $\\displaystyle 100$ асимптотических доверительных интервалов надежности $\\displaystyle \\gamma$ для\n",
    "значения $\\displaystyle F_X(t_0)$ для каждого из выбранных распределений."
   ]
  },
  {
   "cell_type": "markdown",
   "id": "c19edb96",
   "metadata": {},
   "source": [
    "- Построить $2$ графика – по оси $x$ - номер выборки, по оси $y$ – соответствующие левый и правый концы асимптотических доверительных интервалов и значение $\\displaystyle F_X(t_0)$."
   ]
  },
  {
   "cell_type": "markdown",
   "id": "691fd0ba",
   "metadata": {},
   "source": [
    "- Найти количество $\\displaystyle \\sigma_n$ асимптотических доверительных интервалов, в которые значение $\\displaystyle F_X(t_0)$ не попало. Сравнить среднее количество $\\displaystyle \\sigma_n$ для $k = 100$ серий $\\displaystyle (mean(\\sigma_n))$ с величиной $\\displaystyle 1 - \\gamma$\n",
    "\n",
    "> $\\displaystyle \\sigma_n$ можно рассматривать как оценку величины $\\displaystyle 1 - \\gamma$ для различных $\\displaystyle \\gamma$ = $\\displaystyle 0.9, 0.91, ... , 0.99$."
   ]
  },
  {
   "cell_type": "code",
   "execution_count": 1,
   "id": "e4f9f580",
   "metadata": {},
   "outputs": [
    {
     "name": "stdout",
     "output_type": "stream",
     "text": [
      "warning: using the gnuplot graphics toolkit is discouraged\r\n",
      "\r\n",
      "The gnuplot graphics toolkit is not actively maintained and has a number\r\n",
      "of limitations that are ulikely to be fixed.  Communication with gnuplot\r\n",
      "uses a one-directional pipe and limited information is passed back to the\r\n",
      "Octave interpreter so most changes made interactively in the plot window\r\n",
      "will not be reflected in the graphics properties managed by Octave.  For\r\n",
      "example, if the plot window is closed with a mouse click, Octave will not\r\n",
      "be notified and will not update it's internal list of open figure windows.\r\n",
      "We recommend using the qt toolkit instead.\r\n"
     ]
    }
   ],
   "source": [
    "clear -all\n",
    "pkg load statistics\n",
    "pkg load econometrics\n",
    "graphics_toolkit(\"gnuplot\")"
   ]
  },
  {
   "cell_type": "code",
   "execution_count": 2,
   "id": "3ad17396",
   "metadata": {},
   "outputs": [],
   "source": [
    "global m = 10^2;\n",
    "global n = 10^4;\n",
    "global t0 = 0.5;\n",
    "global figure_number = 1;"
   ]
  },
  {
   "cell_type": "code",
   "execution_count": 3,
   "id": "a1567225",
   "metadata": {},
   "outputs": [],
   "source": [
    "function f = draw(distribution, gamma = 0.95)\n",
    "    global m figure_number\n",
    "    [value, left, right, FX, name] = distribution(gamma);\n",
    "    f = figure(figure_number++, \"position\", get(0, \"screensize\"));\n",
    "    plot(1:m, left, \"k\",\n",
    "         1:m, right, \"k\",\n",
    "         1:m, linspace(FX, FX), \"r\")\n",
    "    title_name = strcat(name, \": gamma=\", num2str(gamma));\n",
    "    title(title_name);\n",
    "    xlabel(\"m\")\n",
    "    ylabel(\"I\")\n",
    "    pause(0.01);\n",
    "end"
   ]
  },
  {
   "cell_type": "code",
   "execution_count": 4,
   "id": "9a8c3958",
   "metadata": {},
   "outputs": [],
   "source": [
    "% SE = sigma / sqrt(n)\n",
    "% F(x) - empirical distribution function(EDF) => sigma^2 = F(t0) * (1 - F(t0))"
   ]
  },
  {
   "cell_type": "code",
   "execution_count": 5,
   "id": "5c38f1b5",
   "metadata": {},
   "outputs": [],
   "source": [
    "global mu = 0;\n",
    "global sigma = 1;\n",
    "\n",
    "function [value, left, right, FX, name] = normal_distribution(gamma)\n",
    "    global m n t0 mu sigma;\n",
    "    T = norminv((1 + gamma) / 2);\n",
    "    X = normrnd(mu, sigma, n, m);\n",
    "    FX = normcdf(t0, mu, sigma);\n",
    "    SE = T * sqrt(FX) * sqrt(1 - FX) / sqrt(n);\n",
    "    FX_t0 = mean(X < t0);\n",
    "    left = FX_t0 - SE;\n",
    "    right = FX_t0 + SE;\n",
    "    value = 0;\n",
    "    for i = 1:m\n",
    "        value += (left(i) > FX || right(i) < FX);\n",
    "    end\n",
    "    name = strcat(\"Normal distribution(\", num2str(mu), \", \", num2str(sigma), \")\");\n",
    "end"
   ]
  },
  {
   "cell_type": "code",
   "execution_count": 6,
   "id": "c363187f",
   "metadata": {},
   "outputs": [],
   "source": [
    "global u = 2;\n",
    "\n",
    "function [value, left, right, FX, name] = exponential_distribution(gamma)\n",
    "    global m n t0 u;\n",
    "    T = norminv((1 + gamma) / 2);\n",
    "    X = exprnd(u, n, m);\n",
    "    FX = expcdf(t0, u);\n",
    "    SE = T * sqrt(FX) * sqrt(1 - FX) / sqrt(n);\n",
    "    FX_t0 = mean(X < t0);\n",
    "    left = FX_t0 - SE;\n",
    "    right = FX_t0 + SE;\n",
    "    value = 0;\n",
    "    for i = 1:m\n",
    "        value += (left(i) > FX || right(i) < FX);\n",
    "    end\n",
    "    name = strcat(\"Exponential distribution(\", num2str(u), \")\");\n",
    "end"
   ]
  },
  {
   "cell_type": "code",
   "execution_count": 7,
   "id": "ea70239f",
   "metadata": {},
   "outputs": [],
   "source": [
    "function analyse(distribution)\n",
    "    global m;\n",
    "    ans = [];\n",
    "    name = \"\";\n",
    "    for gamma = 0.9 : 0.01 : 0.99\n",
    "        total = [];\n",
    "        for j = 1:m\n",
    "            [value, ~, ~, ~, name] = distribution(gamma);\n",
    "            total(j) = value;\n",
    "        end\n",
    "    ans = [ans; gamma, mean(total)];\n",
    "    end\n",
    "    printf(\"%s \\n\\n\", name)\n",
    "    prettyprint_c(ans, [\"Gamma\"; \"Mean\"])\n",
    "end"
   ]
  },
  {
   "cell_type": "code",
   "execution_count": 8,
   "id": "f13c83ae",
   "metadata": {},
   "outputs": [
    {
     "name": "stdout",
     "output_type": "stream",
     "text": [
      "Exponential distribution(2) \r\n",
      "\r\n",
      "     Gamma      Mean  \r\n",
      "     0.900     9.760\r\n",
      "     0.910     8.490\r\n",
      "     0.920     8.580\r\n",
      "     0.930     6.080\r\n",
      "     0.940     6.180\r\n",
      "     0.950     4.950\r\n",
      "     0.960     3.910\r\n",
      "     0.970     2.900\r\n",
      "     0.980     1.930\r\n",
      "     0.990     0.830\r\n"
     ]
    }
   ],
   "source": [
    "analyse(@exponential_distribution)"
   ]
  },
  {
   "cell_type": "code",
   "execution_count": 9,
   "id": "67e7b15e",
   "metadata": {},
   "outputs": [
    {
     "name": "stdout",
     "output_type": "stream",
     "text": [
      "Normal distribution(0,1) \r\n",
      "\r\n",
      "     Gamma      Mean  \r\n",
      "     0.900     9.590\r\n",
      "     0.910     9.160\r\n",
      "     0.920     8.200\r\n",
      "     0.930     6.600\r\n",
      "     0.940     5.920\r\n",
      "     0.950     4.690\r\n",
      "     0.960     4.110\r\n",
      "     0.970     3.110\r\n",
      "     0.980     2.020\r\n",
      "     0.990     0.940\r\n"
     ]
    }
   ],
   "source": [
    "analyse(@normal_distribution)"
   ]
  },
  {
   "cell_type": "code",
   "execution_count": 10,
   "id": "bbfc2a5b",
   "metadata": {},
   "outputs": [
    {
     "data": {
      "image/png": "[encoded data removed]",
      "text/plain": [
       "<IPython.core.display.Image object>"
      ]
     },
     "metadata": {},
     "output_type": "display_data"
    }
   ],
   "source": [
    "f1 = draw(@normal_distribution);"
   ]
  },
  {
   "cell_type": "code",
   "execution_count": 11,
   "id": "4a05a00d",
   "metadata": {},
   "outputs": [
    {
     "data": {
      "image/png": "[encoded data removed]",
      "text/plain": [
       "<IPython.core.display.Image object>"
      ]
     },
     "metadata": {},
     "output_type": "display_data"
    }
   ],
   "source": [
    "f2 = draw(@exponential_distribution);"
   ]
  },
  {
   "cell_type": "markdown",
   "id": "160fc4ed",
   "metadata": {},
   "source": [
    "### Выводы:\n",
    "- При увеличении $\\gamma$ количество доверительных интервалов, в которые истинное значение не попал уменьшается \n",
    "- Увеличивается точность измерений с ростом $\\gamma$\n",
    "> $100 \\cdot \\gamma + mean() \\approx 100$"
   ]
  },
  {
   "cell_type": "markdown",
   "id": "78364470",
   "metadata": {},
   "source": [
    "**Used packages**:\n",
    "> pkg install -forge struct\n",
    ">\n",
    "> pkg install -forge statistics\n",
    ">\n",
    "> pkg install -forge optim\n",
    ">\n",
    "> pkg install -forge econometrics"
   ]
  }
 ],
 "metadata": {
  "kernelspec": {
   "display_name": "Octave",
   "language": "octave",
   "name": "octave"
  },
  "language_info": {
   "file_extension": ".m",
   "help_links": [
    {
     "text": "GNU Octave",
     "url": "https://www.gnu.org/software/octave/support.html"
    },
    {
     "text": "Octave Kernel",
     "url": "https://github.com/Calysto/octave_kernel"
    },
    {
     "text": "MetaKernel Magics",
     "url": "https://metakernel.readthedocs.io/en/latest/source/README.html"
    }
   ],
   "mimetype": "text/x-octave",
   "name": "octave",
   "version": "6.4.0"
  },
  "varInspector": {
   "cols": {
    "lenName": 16,
    "lenType": 16,
    "lenVar": 40
   },
   "kernels_config": {
    "python": {
     "delete_cmd_postfix": "",
     "delete_cmd_prefix": "del ",
     "library": "var_list.py",
     "varRefreshCmd": "print(var_dic_list())"
    },
    "r": {
     "delete_cmd_postfix": ") ",
     "delete_cmd_prefix": "rm(",
     "library": "var_list.r",
     "varRefreshCmd": "cat(var_dic_list()) "
    }
   },
   "types_to_exclude": [
    "module",
    "function",
    "builtin_function_or_method",
    "instance",
    "_Feature"
   ],
   "window_display": false
  }
 },
 "nbformat": 4,
 "nbformat_minor": 5
}
