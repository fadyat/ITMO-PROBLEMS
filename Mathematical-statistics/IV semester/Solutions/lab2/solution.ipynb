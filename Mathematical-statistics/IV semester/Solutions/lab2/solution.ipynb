{
 "cells": [
  {
   "cell_type": "markdown",
   "id": "fde2e383",
   "metadata": {},
   "source": [
    "## Эмпирическая функция распределения. Поведение в точке."
   ]
  },
  {
   "cell_type": "markdown",
   "id": "a02a36e8",
   "metadata": {},
   "source": [
    "### Цель работы:\n",
    "- ознакомится с определением ЭФР и ее поведением при фиксированном значении аргумента\n",
    "- аналитически и графически оценить надежность асимптотического интервала\n",
    "- убедиться в том, что асимптотические методы работают при конечном объеме выборки"
   ]
  },
  {
   "cell_type": "markdown",
   "id": "d5faae1b",
   "metadata": {},
   "source": [
    "## Задание и ход работы:\n",
    " \n",
    "- Выбрать параметры 2-х из 3-х распределений генеральной совокупности $X$:\n",
    "\n",
    "> $X$ ~ $U(a, b)$\n",
    ">\n",
    "> $X$ ~ $e^u$\n",
    ">\n",
    "> $X$ ~ $N(a, \\sigma ^2)$ "
   ]
  },
  {
   "cell_type": "markdown",
   "id": "f10e6fc2",
   "metadata": {},
   "source": [
    "- Выбрать такую точку $t_0$, что $ 0.05 < F_X(t_0) < 0.95$. Вычислить $F_X(t_0)$"
   ]
  },
  {
   "cell_type": "markdown",
   "id": "34c1676d",
   "metadata": {},
   "source": [
    "- Смоделировать $m = 10^2$ выборок объема $n = 10^4$ для каждого из двух выбранных распределений.\n",
    "- Для каждой выборки построить $F_n(t_0)$ - значение эмпирической функции распределения в точке $t_0$ - оценку значения функции распределения в точке $t_0$, то есть величины $F_X(t_0)$.\n",
    "- Для каждого из распределений получите 100 оценок величины $F_X(t_0)$."
   ]
  },
  {
   "cell_type": "code",
   "execution_count": 37,
   "id": "a0f3d664",
   "metadata": {},
   "outputs": [],
   "source": [
    "pkg load statistics"
   ]
  },
  {
   "cell_type": "code",
   "execution_count": 102,
   "id": "fe905145",
   "metadata": {},
   "outputs": [],
   "source": [
    "m = 10^2;\n",
    "n = 10^4;\n",
    "t0 = 0.5;"
   ]
  },
  {
   "cell_type": "code",
   "execution_count": 131,
   "id": "7fbda95f",
   "metadata": {},
   "outputs": [],
   "source": [
    "% For normal disctribution\n",
    "mu = 0;\n",
    "sigma = 1;\n",
    "\n",
    "%     SE = sigma / sqrt(n)\n",
    "%     F(x) - empirical distribution function(EDF) => sigma^2 = F(t0) * (1 - F(t0))\n",
    "\n",
    "function normal_distribution(gamma)\n",
    "    global m n t0 mu sigma\n",
    "    T = norminv((1 + gamma) / 2);\n",
    "    X = normrnd(mu, sigma, n, m);\n",
    "    FX = normcdf(t0, mu, sigma);\n",
    "    SE = T * sqrt(FX) * (1 - FX) / sqrt(n);\n",
    "    FX_t0 = mean(X < t0);\n",
    "    I = [FX_t0 - SE, FX_t0 + SE];\n",
    "%     ...\n",
    "\n",
    "endfunction"
   ]
  },
  {
   "cell_type": "code",
   "execution_count": 132,
   "id": "9ff8ba79",
   "metadata": {},
   "outputs": [],
   "source": [
    "normal_distribution(0.95)"
   ]
  }
 ],
 "metadata": {
  "kernelspec": {
   "display_name": "Octave",
   "language": "octave",
   "name": "octave"
  },
  "language_info": {
   "file_extension": ".m",
   "help_links": [
    {
     "text": "GNU Octave",
     "url": "https://www.gnu.org/software/octave/support.html"
    },
    {
     "text": "Octave Kernel",
     "url": "https://github.com/Calysto/octave_kernel"
    },
    {
     "text": "MetaKernel Magics",
     "url": "https://metakernel.readthedocs.io/en/latest/source/README.html"
    }
   ],
   "mimetype": "text/x-octave",
   "name": "octave",
   "version": "6.4.0"
  }
 },
 "nbformat": 4,
 "nbformat_minor": 5
}
