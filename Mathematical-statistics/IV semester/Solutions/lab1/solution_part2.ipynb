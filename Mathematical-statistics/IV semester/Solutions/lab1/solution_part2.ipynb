{
 "cells": [
  {
   "cell_type": "markdown",
   "id": "313dd244",
   "metadata": {},
   "source": [
    "## Оценка интегралов\n",
    "Аналогично построить оценку интегралов (представить интеграл как математическое ожидание функции,\n",
    "зависящей от случайной величины с известной плотностью) и для выбранной надежности $\\gamma \\geqslant 0.95$ указать\n",
    "асимптотическую точность оценивания и построить асимптотический доверительный интервал для истинного\n",
    "значения интеграла."
   ]
  },
  {
   "cell_type": "markdown",
   "id": "24607a6e",
   "metadata": {},
   "source": [
    "### Вариант 17"
   ]
  },
  {
   "cell_type": "markdown",
   "id": "7255f075",
   "metadata": {},
   "source": [
    "- $ \\displaystyle \\int_{0}^{\\infty} x^3 \\cdot e^{-2x} \\,dx$"
   ]
  },
  {
   "cell_type": "markdown",
   "id": "dcbc6660",
   "metadata": {},
   "source": [
    "> Интеграл вида ${\\displaystyle \\int_{0}^{\\infty} g(x) \\cdot e^{-{x \\over u}}\\, dx } = E(u \\cdot g(X))$\n",
    ">\n",
    "> $X$ ~ $e^u$ - показательное распределение с параметром $u = {1 \\over \\lambda}$\n",
    ">\n",
    "> $X$ ~ $e^{1 \\over 2}$"
   ]
  },
  {
   "cell_type": "code",
   "execution_count": 1,
   "id": "9824194a",
   "metadata": {},
   "outputs": [],
   "source": [
    "pkg load statistics"
   ]
  },
  {
   "cell_type": "code",
   "execution_count": 2,
   "id": "f4350a8f",
   "metadata": {},
   "outputs": [],
   "source": [
    "g = 0.95;\n",
    "u = 0.5;\n",
    "n1 = 10^4;\n",
    "n2 = 10^6;"
   ]
  },
  {
   "cell_type": "code",
   "execution_count": 3,
   "id": "90a522de",
   "metadata": {},
   "outputs": [
    {
     "name": "stdout",
     "output_type": "stream",
     "text": [
      "T = 1.9600\r\n"
     ]
    }
   ],
   "source": [
    "% Normal inverse cumulative distribution function\n",
    "T = norminv((1 + g) / 2)"
   ]
  },
  {
   "cell_type": "code",
   "execution_count": 4,
   "id": "ff906db5",
   "metadata": {},
   "outputs": [],
   "source": [
    "% Exponential distribution\n",
    "x1 = exprnd(u, 1, n1);\n",
    "x2 = exprnd(u, 1, n2);"
   ]
  },
  {
   "cell_type": "code",
   "execution_count": 5,
   "id": "9a54cfca",
   "metadata": {},
   "outputs": [],
   "source": [
    "z1 = u * x1 .^ 3;\n",
    "z2 = u * x2 .^ 3;"
   ]
  },
  {
   "cell_type": "code",
   "execution_count": 6,
   "id": "4e80d0e9",
   "metadata": {},
   "outputs": [
    {
     "name": "stdout",
     "output_type": "stream",
     "text": [
      "I1 = 0.3499\n",
      "I2 = 0.3751\n"
     ]
    }
   ],
   "source": [
    "% Expected value\n",
    "I1 = mean(mean(z1))\n",
    "I2 = mean(mean(z2))"
   ]
  },
  {
   "cell_type": "code",
   "execution_count": 7,
   "id": "8d66f6bc",
   "metadata": {},
   "outputs": [
    {
     "name": "stdout",
     "output_type": "stream",
     "text": [
      "dI1 = 0.028117\n",
      "dI2 = 3.1381e-03\n"
     ]
    }
   ],
   "source": [
    "% Standard deviation / sqrt(n) = standard error\n",
    "dI1 = mean(T * std(z1) / sqrt(n1))\n",
    "dI2 = mean(T * std(z2) / sqrt(n2))"
   ]
  },
  {
   "cell_type": "code",
   "execution_count": 8,
   "id": "80958d7c",
   "metadata": {},
   "outputs": [
    {
     "name": "stdout",
     "output_type": "stream",
     "text": [
      "In1 =\n",
      "\n",
      "   0.3218   0.3780\n",
      "\n",
      "In2 =\n",
      "\n",
      "   0.3720   0.3783\n",
      "\n"
     ]
    }
   ],
   "source": [
    "In1 = [I1 - dI1, I1 + dI1]\n",
    "In2 = [I2 - dI2, I2 + dI2]"
   ]
  },
  {
   "cell_type": "code",
   "execution_count": 9,
   "id": "3c5f3377",
   "metadata": {},
   "outputs": [
    {
     "name": "stdout",
     "output_type": "stream",
     "text": [
      "d1 = 0.056233\n",
      "d2 = 6.2762e-03\n"
     ]
    }
   ],
   "source": [
    "d1 = 2 * dI1\n",
    "d2 = 2 * dI2"
   ]
  },
  {
   "cell_type": "code",
   "execution_count": 10,
   "id": "a5d5533b",
   "metadata": {},
   "outputs": [
    {
     "name": "stdout",
     "output_type": "stream",
     "text": [
      "I = 0.3750\r\n"
     ]
    }
   ],
   "source": [
    "I = quad(@(x) x .^ 3 .* exp(-2 * x), 0, inf)"
   ]
  },
  {
   "cell_type": "markdown",
   "id": "f49d29ef",
   "metadata": {},
   "source": [
    "- $ \\displaystyle \\int_{4}^{9} {{x - 1} \\over {x^2 + 1}} \\sqrt x \\, dx$"
   ]
  },
  {
   "cell_type": "markdown",
   "id": "275fcf53",
   "metadata": {},
   "source": [
    ">  Интеграл вида ${\\displaystyle \\int_{a}^{b} g(x) \\, dx} = E((b - a)\\cdot g(X))$\n",
    ">\n",
    "> $X$ ~ $U(a, b)$ - имеет равномерное распределение на $[a, b]$\n",
    ">\n",
    "> $X$ ~ $U(4, 9)$"
   ]
  },
  {
   "cell_type": "code",
   "execution_count": 11,
   "id": "faaeaf4b",
   "metadata": {},
   "outputs": [],
   "source": [
    "pkg load statistics"
   ]
  },
  {
   "cell_type": "code",
   "execution_count": 12,
   "id": "439f8554",
   "metadata": {},
   "outputs": [],
   "source": [
    "g = 0.95;\n",
    "a = 4;\n",
    "b = 9;\n",
    "n1 = 10^4;\n",
    "n2 = 10^6;"
   ]
  },
  {
   "cell_type": "code",
   "execution_count": 13,
   "id": "fcbdd9e6",
   "metadata": {},
   "outputs": [
    {
     "name": "stdout",
     "output_type": "stream",
     "text": [
      "T = 1.9600\r\n"
     ]
    }
   ],
   "source": [
    "T = norminv((1 + g) / 2)"
   ]
  },
  {
   "cell_type": "code",
   "execution_count": 14,
   "id": "9570305d",
   "metadata": {},
   "outputs": [],
   "source": [
    "% Continuous uniform distribution\n",
    "x1 = unifrnd(a, b, 1, n1);\n",
    "x2 = unifrnd(a, b, 1, n2);"
   ]
  },
  {
   "cell_type": "code",
   "execution_count": 15,
   "id": "2b967bcc",
   "metadata": {},
   "outputs": [],
   "source": [
    "z1 = ((x1 - 1) .* sqrt(x1)) ./ (x1 .^ 2 + 1);\n",
    "z2 = ((x2 - 1) .* sqrt(x2)) ./ (x2 .^ 2 + 1);"
   ]
  },
  {
   "cell_type": "code",
   "execution_count": 16,
   "id": "28f935f4",
   "metadata": {},
   "outputs": [
    {
     "name": "stdout",
     "output_type": "stream",
     "text": [
      "I1 = 1.6207\n",
      "I2 = 1.6206\n"
     ]
    }
   ],
   "source": [
    "I1 = mean(mean(z1)) * (b - a)\n",
    "I2 = mean(mean(z2)) * (b - a)"
   ]
  },
  {
   "cell_type": "code",
   "execution_count": 17,
   "id": "017b731b",
   "metadata": {},
   "outputs": [
    {
     "name": "stdout",
     "output_type": "stream",
     "text": [
      "dI1 = 3.5910e-04\n",
      "dI2 = 3.6077e-05\n"
     ]
    }
   ],
   "source": [
    "dI1 = mean(T * std(z1) / sqrt(n1))\n",
    "dI2 = mean(T * std(z2) / sqrt(n2))"
   ]
  },
  {
   "cell_type": "code",
   "execution_count": 18,
   "id": "3a5914c3",
   "metadata": {},
   "outputs": [
    {
     "name": "stdout",
     "output_type": "stream",
     "text": [
      "In1 =\n",
      "\n",
      "   1.6204   1.6211\n",
      "\n",
      "In2 =\n",
      "\n",
      "   1.6205   1.6206\n",
      "\n"
     ]
    }
   ],
   "source": [
    "In1 = [I1 - dI1, I1 + dI1]\n",
    "In2 = [I2 - dI2, I2 + dI2]"
   ]
  },
  {
   "cell_type": "code",
   "execution_count": 19,
   "id": "4b090eff",
   "metadata": {},
   "outputs": [
    {
     "name": "stdout",
     "output_type": "stream",
     "text": [
      "d1 = 7.1820e-04\n",
      "d2 = 7.2153e-05\n"
     ]
    }
   ],
   "source": [
    "d1 = 2 * dI1\n",
    "d2 = 2 * dI2"
   ]
  },
  {
   "cell_type": "code",
   "execution_count": 20,
   "id": "f7601b16",
   "metadata": {},
   "outputs": [
    {
     "name": "stdout",
     "output_type": "stream",
     "text": [
      "I = 1.6205\r\n"
     ]
    }
   ],
   "source": [
    "I = quad(@(x) ((x - 1) .* sqrt(x)) ./ (x .^ 2 + 1), a, b)"
   ]
  },
  {
   "cell_type": "markdown",
   "id": "e1eec7e0",
   "metadata": {},
   "source": [
    "### Выводы:\n",
    "- Доверительные интервалы для каждого интеграла пересекаются.\n",
    "- Точное значение обоих интегралов попадают в свои доверительные интервалы.\n",
    "- При увеличении объема выборки скорость сходимости пропорциональна ${1 \\over \\sqrt n}$"
   ]
  }
 ],
 "metadata": {
  "kernelspec": {
   "display_name": "Octave",
   "language": "octave",
   "name": "octave"
  },
  "language_info": {
   "file_extension": ".m",
   "help_links": [
    {
     "text": "GNU Octave",
     "url": "https://www.gnu.org/software/octave/support.html"
    },
    {
     "text": "Octave Kernel",
     "url": "https://github.com/Calysto/octave_kernel"
    },
    {
     "text": "MetaKernel Magics",
     "url": "https://metakernel.readthedocs.io/en/latest/source/README.html"
    }
   ],
   "mimetype": "text/x-octave",
   "name": "octave",
   "version": "6.4.0"
  }
 },
 "nbformat": 4,
 "nbformat_minor": 5
}
