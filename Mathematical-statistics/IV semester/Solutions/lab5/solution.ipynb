{
 "cells": [
  {
   "cell_type": "markdown",
   "id": "aa6a9f5c",
   "metadata": {},
   "source": [
    "### О сравнении качества оценок.\n",
    "\n",
    "Для трех распределений  $X$ ~ $\\displaystyle N(a, \\sigma)$, $X$ ~ $\\displaystyle U(a - \\frac{\\delta}{2}, a + \\frac{\\delta}{2})$ и распределения Лапласа или двойного показательного – $\\displaystyle L(a, u)= a + Exp_\\lambda - Exp_\\lambda, \\lambda = \\frac{1}{u}$  (суммируемые показательные распределения независимы).\n",
    "\n",
    "Сравнить следующие оценки параметра $a$ – математического ожидания и медианы всех распределений,  $\\displaystyle \\bar{X_n}$- выборочного среднего, $med_n$ - выборочной медианы и $\\displaystyle \\frac{x_1 + x_n}{2}$ - полусуммы минимума и максимума вариационного ряда.\n",
    "\n",
    "Все оценки не смещены. Сравнивать оценки нужно с точки зрения квадратичного риска (т. е. для несмещенных оценок одномерного параметра – дисперсии оценки). \n",
    "\n",
    "При $n = 100$  – объем выборки, $m = 100$ – количество выборок, построить 100 оценок каждого вида и сравнить их выборочные среднеквадратичные отклонения, повторить при $n = 10000$, $m = 100$. \n",
    "Сравнить с теоретическими среднеквадратичными отклонениями.\n",
    "\n",
    "Результат – 6 таблиц и вывод о том какая из оценок с точки зрения квадратичного риска является наилучшей."
   ]
  },
  {
   "cell_type": "code",
   "execution_count": 1,
   "id": "d12e8819",
   "metadata": {},
   "outputs": [],
   "source": [
    "clear\n",
    "clc\n",
    "pkg load statistics\n",
    "pkg load econometrics"
   ]
  },
  {
   "cell_type": "code",
   "execution_count": 2,
   "id": "9dd79550",
   "metadata": {},
   "outputs": [],
   "source": [
    "function result = normal_distribution(sigma, n)\n",
    "    result = [\n",
    "        (sigma ^ 2) / n,\n",
    "        (pi * sigma ^ 2) / (2 * n),\n",
    "        (0.4 * sigma ^ 2) / log(n)\n",
    "    ];\n",
    "end"
   ]
  },
  {
   "cell_type": "code",
   "execution_count": 3,
   "id": "9f2088e4",
   "metadata": {},
   "outputs": [],
   "source": [
    "function result = uniform_distribution(delta, n)\n",
    "    result = [\n",
    "        (delta ^ 2) / (12 * n),\n",
    "        (delta ^ 2) / (4 * n),\n",
    "        (delta ^ 2) / (2 * n ^ 2)\n",
    "    ];\n",
    "end"
   ]
  },
  {
   "cell_type": "code",
   "execution_count": 4,
   "id": "dc2e216b",
   "metadata": {},
   "outputs": [],
   "source": [
    "function result =  laplace_distribution(u, n)\n",
    "    result = [\n",
    "        (2 * u ^ 2) / n,\n",
    "        (u ^ 2) / n,\n",
    "        (0.9 * u ^ 2)\n",
    "    ];\n",
    "end"
   ]
  },
  {
   "cell_type": "code",
   "execution_count": 5,
   "id": "63dafca0",
   "metadata": {},
   "outputs": [],
   "source": [
    "function result = estimators(X)\n",
    "    result = [\n",
    "        std(mean(X)),\n",
    "        std(median(X)),\n",
    "        std((min(X) + max(X)) * .5)\n",
    "    ];\n",
    "end"
   ]
  },
  {
   "cell_type": "code",
   "execution_count": 6,
   "id": "2a35cf70",
   "metadata": {},
   "outputs": [],
   "source": [
    "function make_table(table_name, l, r, theory, experiment, n, m)\n",
    "    printf('\\n%s(%d, %d), n = %d, m = %d \\n\\n',\n",
    "            table_name, l, r, n, m);\n",
    "\n",
    "    theory = sqrt(theory);    \n",
    "    prettyprint([theory, experiment, abs(theory - experiment)].',\n",
    "                ['sigma_th'; 'sigma_pr'; 'diff'],\n",
    "                ['mean'; 'median'; 'halfsum']);\n",
    "    printf('\\n\\n');\n",
    "end"
   ]
  },
  {
   "cell_type": "code",
   "execution_count": 7,
   "id": "0978e35b",
   "metadata": {},
   "outputs": [],
   "source": [
    "function all_distributions(a1, sigma, a2, delta, a3, u, n, m)\n",
    "    X_norm = normrnd(a1, sigma, n, m);\n",
    "    make_table('normal', a1, sigma,\n",
    "                normal_distribution(sigma, n), estimators(X_norm),\n",
    "                n, m);\n",
    "                \n",
    "    X_unif = unifrnd(a2 - delta / 2, a2 + delta / 2, n, m);\n",
    "    make_table('uniform', a2 - delta / 2, a2 + delta / 2,\n",
    "                uniform_distribution(delta, n), estimators(X_unif),\n",
    "                n, m);\n",
    "    \n",
    "    X_lapl = a3 + exprnd(u, n, m) - exprnd(u, n, m);\n",
    "    make_table('laplace', a3, u,\n",
    "                laplace_distribution(u, n), estimators(X_lapl),\n",
    "                n, m);\n",
    "end"
   ]
  },
  {
   "cell_type": "code",
   "execution_count": 8,
   "id": "772edbce",
   "metadata": {},
   "outputs": [
    {
     "name": "stdout",
     "output_type": "stream",
     "text": [
      "\r\n",
      "normal(1, 2), n = 100, m = 100 \r\n",
      "\r\n",
      "                mean      median     halfsum  \r\n",
      "sigma_th       0.200       0.251       0.589\r\n",
      "sigma_pr       0.193       0.258       0.594\r\n",
      "diff           0.007       0.007       0.004\r\n",
      "\r\n",
      "\r\n",
      "\r\n",
      "uniform(1, 5), n = 100, m = 100 \r\n",
      "\r\n",
      "                mean      median     halfsum  \r\n",
      "sigma_th       0.115       0.200       0.028\r\n",
      "sigma_pr       0.120       0.214       0.028\r\n",
      "diff           0.005       0.014       0.000\r\n",
      "\r\n",
      "\r\n",
      "\r\n",
      "laplace(5, 6), n = 100, m = 100 \r\n",
      "\r\n",
      "                mean      median     halfsum  \r\n",
      "sigma_th       0.849       0.600       5.692\r\n",
      "sigma_pr       0.683       0.503       5.438\r\n",
      "diff           0.166       0.097       0.255\r\n",
      "\r\n",
      "\r\n"
     ]
    }
   ],
   "source": [
    "all_distributions(1, 2, 3, 4, 5, 6, 100, 100)"
   ]
  },
  {
   "cell_type": "code",
   "execution_count": 10,
   "id": "6946805c",
   "metadata": {},
   "outputs": [
    {
     "name": "stdout",
     "output_type": "stream",
     "text": [
      "\r\n",
      "normal(1, 2), n = 10000, m = 100 \r\n",
      "\r\n",
      "                mean      median     halfsum  \r\n",
      "sigma_th       0.020       0.025       0.417\r\n",
      "sigma_pr       0.020       0.025       0.439\r\n",
      "diff           0.000       0.000       0.022\r\n",
      "\r\n",
      "\r\n",
      "\r\n",
      "uniform(1, 5), n = 10000, m = 100 \r\n",
      "\r\n",
      "                mean      median     halfsum  \r\n",
      "sigma_th       0.012       0.020       0.000\r\n",
      "sigma_pr       0.011       0.021       0.000\r\n",
      "diff           0.000       0.001       0.000\r\n",
      "\r\n",
      "\r\n",
      "\r\n",
      "laplace(5, 6), n = 10000, m = 100 \r\n",
      "\r\n",
      "                mean      median     halfsum  \r\n",
      "sigma_th       0.085       0.060       5.692\r\n",
      "sigma_pr       0.082       0.064       5.238\r\n",
      "diff           0.003       0.004       0.454\r\n",
      "\r\n",
      "\r\n"
     ]
    }
   ],
   "source": [
    "all_distributions(1, 2, 3, 4, 5, 6, 10000, 100)"
   ]
  }
 ],
 "metadata": {
  "kernelspec": {
   "display_name": "Octave",
   "language": "octave",
   "name": "octave"
  },
  "language_info": {
   "file_extension": ".m",
   "help_links": [
    {
     "text": "GNU Octave",
     "url": "https://www.gnu.org/software/octave/support.html"
    },
    {
     "text": "Octave Kernel",
     "url": "https://github.com/Calysto/octave_kernel"
    },
    {
     "text": "MetaKernel Magics",
     "url": "https://metakernel.readthedocs.io/en/latest/source/README.html"
    }
   ],
   "mimetype": "text/x-octave",
   "name": "octave",
   "version": "6.4.0"
  },
  "varInspector": {
   "cols": {
    "lenName": 16,
    "lenType": 16,
    "lenVar": 40
   },
   "kernels_config": {
    "python": {
     "delete_cmd_postfix": "",
     "delete_cmd_prefix": "del ",
     "library": "var_list.py",
     "varRefreshCmd": "print(var_dic_list())"
    },
    "r": {
     "delete_cmd_postfix": ") ",
     "delete_cmd_prefix": "rm(",
     "library": "var_list.r",
     "varRefreshCmd": "cat(var_dic_list()) "
    }
   },
   "types_to_exclude": [
    "module",
    "function",
    "builtin_function_or_method",
    "instance",
    "_Feature"
   ],
   "window_display": false
  }
 },
 "nbformat": 4,
 "nbformat_minor": 5
}
