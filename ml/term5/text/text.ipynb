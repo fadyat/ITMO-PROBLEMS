{
 "nbformat": 4,
 "nbformat_minor": 0,
 "metadata": {
  "kernelspec": {
   "display_name": "Python 3",
   "language": "python",
   "name": "python3"
  },
  "language_info": {
   "codemirror_mode": {
    "name": "ipython",
    "version": 3
   },
   "file_extension": ".py",
   "mimetype": "text/x-python",
   "name": "python",
   "nbconvert_exporter": "python",
   "pygments_lexer": "ipython3",
   "version": "3.5.2"
  },
  "colab": {
   "provenance": [],
   "collapsed_sections": [
    "Zpq4QOU5Wg-H",
    "i_7DyyXRWg-K",
    "_JewKs4XU-so",
    "5yiLk1P_xYQ2",
    "VlWxW3e9Wg-m",
    "D39SSh0zWg-r",
    "rhVrgkSaWg_K",
    "XsRf9T_SWg_U",
    "ylKZG2MwWg_f",
    "9hedBdcYWhAH",
    "JrqW55jgWhAR",
    "5QYTwyMtWhAZ",
    "DbJrUpARWhAd",
    "MI18l-l9WhAk",
    "1wrEGqBSWhAr",
    "gStgBJy2WhAx"
   ]
  }
 },
 "cells": [
  {
   "cell_type": "markdown",
   "metadata": {
    "id": "UHX9p5jfTySS",
    "pycharm": {
     "name": "#%% md\n"
    }
   },
   "source": [
    "## Задание 5.1"
   ]
  },
  {
   "cell_type": "markdown",
   "metadata": {
    "id": "0EnHNZtbXlH0",
    "pycharm": {
     "name": "#%% md\n"
    }
   },
   "source": [
    "Набор данных тут: https://github.com/sismetanin/rureviews, также есть в папке [Data](https://drive.google.com/drive/folders/1YAMe7MiTxA-RSSd8Ex2p-L0Dspe6Gs4L). Те, кто предпочитает работать с английским языком, могут использовать набор данных `sms_spam`."
   ]
  },
  {
   "cell_type": "code",
   "execution_count": 203,
   "outputs": [
    {
     "name": "stdout",
     "output_type": "stream",
     "text": [
      "Requirement already satisfied: gdown in /Users/artyomfadeyev/GitHub/ITMO-PROBLEMS/Machine-Learning/venv/lib/python3.9/site-packages (4.5.1)\r\n",
      "Requirement already satisfied: requests[socks] in /Users/artyomfadeyev/GitHub/ITMO-PROBLEMS/Machine-Learning/venv/lib/python3.9/site-packages (from gdown) (2.28.1)\r\n",
      "Requirement already satisfied: beautifulsoup4 in /Users/artyomfadeyev/GitHub/ITMO-PROBLEMS/Machine-Learning/venv/lib/python3.9/site-packages (from gdown) (4.11.1)\r\n",
      "Requirement already satisfied: tqdm in /Users/artyomfadeyev/GitHub/ITMO-PROBLEMS/Machine-Learning/venv/lib/python3.9/site-packages (from gdown) (4.64.1)\r\n",
      "Requirement already satisfied: filelock in /Users/artyomfadeyev/GitHub/ITMO-PROBLEMS/Machine-Learning/venv/lib/python3.9/site-packages (from gdown) (3.8.0)\r\n",
      "Requirement already satisfied: six in /Users/artyomfadeyev/GitHub/ITMO-PROBLEMS/Machine-Learning/venv/lib/python3.9/site-packages (from gdown) (1.16.0)\r\n",
      "Requirement already satisfied: soupsieve>1.2 in /Users/artyomfadeyev/GitHub/ITMO-PROBLEMS/Machine-Learning/venv/lib/python3.9/site-packages (from beautifulsoup4->gdown) (2.3.2.post1)\r\n",
      "Requirement already satisfied: charset-normalizer<3,>=2 in /Users/artyomfadeyev/GitHub/ITMO-PROBLEMS/Machine-Learning/venv/lib/python3.9/site-packages (from requests[socks]->gdown) (2.1.1)\r\n",
      "Requirement already satisfied: certifi>=2017.4.17 in /Users/artyomfadeyev/GitHub/ITMO-PROBLEMS/Machine-Learning/venv/lib/python3.9/site-packages (from requests[socks]->gdown) (2022.9.24)\r\n",
      "Requirement already satisfied: idna<4,>=2.5 in /Users/artyomfadeyev/GitHub/ITMO-PROBLEMS/Machine-Learning/venv/lib/python3.9/site-packages (from requests[socks]->gdown) (3.4)\r\n",
      "Requirement already satisfied: urllib3<1.27,>=1.21.1 in /Users/artyomfadeyev/GitHub/ITMO-PROBLEMS/Machine-Learning/venv/lib/python3.9/site-packages (from requests[socks]->gdown) (1.26.12)\r\n",
      "Requirement already satisfied: PySocks!=1.5.7,>=1.5.6 in /Users/artyomfadeyev/GitHub/ITMO-PROBLEMS/Machine-Learning/venv/lib/python3.9/site-packages (from requests[socks]->gdown) (1.7.1)\r\n",
      "\r\n",
      "\u001B[1m[\u001B[0m\u001B[34;49mnotice\u001B[0m\u001B[1;39;49m]\u001B[0m\u001B[39;49m A new release of pip available: \u001B[0m\u001B[31;49m22.2.2\u001B[0m\u001B[39;49m -> \u001B[0m\u001B[32;49m22.3.1\u001B[0m\r\n",
      "\u001B[1m[\u001B[0m\u001B[34;49mnotice\u001B[0m\u001B[1;39;49m]\u001B[0m\u001B[39;49m To update, run: \u001B[0m\u001B[32;49mpip install --upgrade pip\u001B[0m\r\n"
     ]
    }
   ],
   "source": [
    "!pip install gdown"
   ],
   "metadata": {
    "collapsed": false,
    "pycharm": {
     "name": "#%%\n"
    }
   }
  },
  {
   "cell_type": "code",
   "execution_count": 204,
   "outputs": [
    {
     "name": "stdout",
     "output_type": "stream",
     "text": [
      "Downloading...\r\n",
      "From: https://drive.google.com/uc?id=1j-DhO_XD5EqzOqVSR4Wz1kNzhLmpeTkZ\r\n",
      "To: /Users/artyomfadeyev/GitHub/ITMO-PROBLEMS/Machine-Learning/V semester/data/women-clothing-accessories.csv\r\n",
      "100%|██████████████████████████████████████| 21.8M/21.8M [00:08<00:00, 2.58MB/s]\r\n"
     ]
    }
   ],
   "source": [
    "!gdown 1j-DhO_XD5EqzOqVSR4Wz1kNzhLmpeTkZ -O ./data/women-clothing-accessories.csv"
   ],
   "metadata": {
    "collapsed": false,
    "pycharm": {
     "name": "#%%\n"
    }
   }
  },
  {
   "cell_type": "code",
   "execution_count": 205,
   "outputs": [],
   "source": [
    "import pandas as pd\n",
    "\n",
    "accessories = pd.read_csv('./data/women-clothing-accessories.csv', sep='\\t')"
   ],
   "metadata": {
    "collapsed": false,
    "pycharm": {
     "name": "#%%\n"
    }
   }
  },
  {
   "cell_type": "code",
   "execution_count": 206,
   "outputs": [
    {
     "data": {
      "text/plain": "                                              review sentiment\n0  качество плохое пошив ужасный (горловина напер...  negative\n1  Товар отдали другому человеку, я не получила п...  negative\n2  Ужасная синтетика! Тонкая, ничего общего с пре...  negative\n3  товар не пришел, продавец продлил защиту без м...  negative\n4      Кофточка голая синтетика, носить не возможно.  negative",
      "text/html": "<div>\n<style scoped>\n    .dataframe tbody tr th:only-of-type {\n        vertical-align: middle;\n    }\n\n    .dataframe tbody tr th {\n        vertical-align: top;\n    }\n\n    .dataframe thead th {\n        text-align: right;\n    }\n</style>\n<table border=\"1\" class=\"dataframe\">\n  <thead>\n    <tr style=\"text-align: right;\">\n      <th></th>\n      <th>review</th>\n      <th>sentiment</th>\n    </tr>\n  </thead>\n  <tbody>\n    <tr>\n      <th>0</th>\n      <td>качество плохое пошив ужасный (горловина напер...</td>\n      <td>negative</td>\n    </tr>\n    <tr>\n      <th>1</th>\n      <td>Товар отдали другому человеку, я не получила п...</td>\n      <td>negative</td>\n    </tr>\n    <tr>\n      <th>2</th>\n      <td>Ужасная синтетика! Тонкая, ничего общего с пре...</td>\n      <td>negative</td>\n    </tr>\n    <tr>\n      <th>3</th>\n      <td>товар не пришел, продавец продлил защиту без м...</td>\n      <td>negative</td>\n    </tr>\n    <tr>\n      <th>4</th>\n      <td>Кофточка голая синтетика, носить не возможно.</td>\n      <td>negative</td>\n    </tr>\n  </tbody>\n</table>\n</div>"
     },
     "execution_count": 206,
     "metadata": {},
     "output_type": "execute_result"
    }
   ],
   "source": [
    "accessories.head()"
   ],
   "metadata": {
    "collapsed": false,
    "pycharm": {
     "name": "#%%\n"
    }
   }
  },
  {
   "cell_type": "markdown",
   "metadata": {
    "id": "bJox-LoonoPx",
    "pycharm": {
     "name": "#%% md\n"
    }
   },
   "source": [
    "Применим полученные навыки и решим задачу анализа тональности отзывов. \n",
    "\n",
    "Нужно повторить весь пайплайн от сырых текстов до получения обученной модели.\n",
    "\n",
    "Обязательные шаги предобработки:\n",
    "1. токенизация\n",
    "2. приведение к нижнему регистру\n",
    "3. удаление стоп-слов\n",
    "4. лемматизация\n",
    "5. векторизация (с настройкой гиперпараметров)\n",
    "6. построение модели\n",
    "7. оценка качества модели\n",
    "\n",
    "Обязательно использование векторайзеров:\n",
    "1. мешок n-грамм (диапазон для n подбирайте самостоятельно, запрещено использовать только униграммы).\n",
    "2. tf-idf ((диапазон для n подбирайте самостоятельно, также нужно подбирать гиперпараметры max_df, min_df, max_features)\n",
    "3. символьные n-граммы (диапазон для n подбирайте самостоятельно)\n",
    "\n",
    "В качестве классификатора нужно использовать наивный байесовский классификатор. \n",
    "\n",
    "Для сравнения векторайзеров между собой используйте precision, recall, f1-score и accuracy. Для этого сформируйте датафрейм, в котором в строках будут разные векторайзеры, а в столбцах разные метрики качества, а в  ячейках будут значения этих метрик для соответсвующих векторайзеров."
   ]
  },
  {
   "cell_type": "code",
   "execution_count": 207,
   "outputs": [
    {
     "name": "stdout",
     "output_type": "stream",
     "text": [
      "Requirement already satisfied: nltk in /Users/artyomfadeyev/GitHub/ITMO-PROBLEMS/Machine-Learning/venv/lib/python3.9/site-packages (3.7)\r\n",
      "Requirement already satisfied: joblib in /Users/artyomfadeyev/GitHub/ITMO-PROBLEMS/Machine-Learning/venv/lib/python3.9/site-packages (from nltk) (1.2.0)\r\n",
      "Requirement already satisfied: regex>=2021.8.3 in /Users/artyomfadeyev/GitHub/ITMO-PROBLEMS/Machine-Learning/venv/lib/python3.9/site-packages (from nltk) (2022.10.31)\r\n",
      "Requirement already satisfied: click in /Users/artyomfadeyev/GitHub/ITMO-PROBLEMS/Machine-Learning/venv/lib/python3.9/site-packages (from nltk) (8.1.3)\r\n",
      "Requirement already satisfied: tqdm in /Users/artyomfadeyev/GitHub/ITMO-PROBLEMS/Machine-Learning/venv/lib/python3.9/site-packages (from nltk) (4.64.1)\r\n",
      "\r\n",
      "\u001B[1m[\u001B[0m\u001B[34;49mnotice\u001B[0m\u001B[1;39;49m]\u001B[0m\u001B[39;49m A new release of pip available: \u001B[0m\u001B[31;49m22.2.2\u001B[0m\u001B[39;49m -> \u001B[0m\u001B[32;49m22.3.1\u001B[0m\r\n",
      "\u001B[1m[\u001B[0m\u001B[34;49mnotice\u001B[0m\u001B[1;39;49m]\u001B[0m\u001B[39;49m To update, run: \u001B[0m\u001B[32;49mpip install --upgrade pip\u001B[0m\r\n"
     ]
    }
   ],
   "source": [
    "!pip install nltk"
   ],
   "metadata": {
    "collapsed": false,
    "pycharm": {
     "name": "#%%\n"
    }
   }
  },
  {
   "cell_type": "code",
   "execution_count": 208,
   "outputs": [
    {
     "name": "stderr",
     "output_type": "stream",
     "text": [
      "[nltk_data] Downloading package stopwords to\n",
      "[nltk_data]     /Users/artyomfadeyev/nltk_data...\n",
      "[nltk_data]   Package stopwords is already up-to-date!\n",
      "[nltk_data] Downloading package punkt to\n",
      "[nltk_data]     /Users/artyomfadeyev/nltk_data...\n",
      "[nltk_data]   Package punkt is already up-to-date!\n",
      "[nltk_data] Downloading package wordnet to\n",
      "[nltk_data]     /Users/artyomfadeyev/nltk_data...\n",
      "[nltk_data]   Package wordnet is already up-to-date!\n",
      "[nltk_data] Downloading package omw-1.4 to\n",
      "[nltk_data]     /Users/artyomfadeyev/nltk_data...\n",
      "[nltk_data]   Package omw-1.4 is already up-to-date!\n"
     ]
    }
   ],
   "source": [
    "import nltk\n",
    "nltk.download('stopwords')\n",
    "nltk.download('punkt')\n",
    "nltk.download('wordnet')\n",
    "nltk.download('omw-1.4')\n",
    "\n",
    "def tokenize(text):\n",
    "    return nltk.word_tokenize(text)\n",
    "\n",
    "def to_lower(tokens):\n",
    "    return [token.lower() for token in tokens]\n",
    "\n",
    "stop_words = set(nltk.corpus.stopwords.words('russian'))\n",
    "def remove_stopwords(tokens):\n",
    "    return [\n",
    "        token\n",
    "        for token in tokens\n",
    "        if token not in stop_words\n",
    "    ]\n",
    "\n",
    "def lemmatize(tokens):\n",
    "    lemmatizer = nltk.stem.WordNetLemmatizer()\n",
    "    return [\n",
    "        lemmatizer.lemmatize(token)\n",
    "        for token in tokens\n",
    "    ]\n",
    "\n",
    "def remove_non_words(tokens):\n",
    "    return [\n",
    "        token\n",
    "        for token in tokens\n",
    "        if token.isalpha()\n",
    "    ]\n",
    "\n",
    "\n",
    "def preprocess(text):\n",
    "    tokens = tokenize(text)\n",
    "    tokens = to_lower(tokens)\n",
    "    tokens = remove_stopwords(tokens)\n",
    "    tokens = lemmatize(tokens)\n",
    "    tokens = remove_non_words(tokens)\n",
    "    return ' '.join(tokens)"
   ],
   "metadata": {
    "collapsed": false,
    "pycharm": {
     "name": "#%%\n"
    }
   }
  },
  {
   "cell_type": "code",
   "execution_count": 209,
   "outputs": [
    {
     "data": {
      "text/plain": "                                              review sentiment\n0  качество плохое пошив ужасный горловина напере...  negative\n1  товар отдали другому человеку получила посылку...  negative\n2  ужасная синтетика тонкая общего представленной...  negative\n3  товар пришел продавец продлил защиту моего сог...  negative\n4           кофточка голая синтетика носить возможно  negative",
      "text/html": "<div>\n<style scoped>\n    .dataframe tbody tr th:only-of-type {\n        vertical-align: middle;\n    }\n\n    .dataframe tbody tr th {\n        vertical-align: top;\n    }\n\n    .dataframe thead th {\n        text-align: right;\n    }\n</style>\n<table border=\"1\" class=\"dataframe\">\n  <thead>\n    <tr style=\"text-align: right;\">\n      <th></th>\n      <th>review</th>\n      <th>sentiment</th>\n    </tr>\n  </thead>\n  <tbody>\n    <tr>\n      <th>0</th>\n      <td>качество плохое пошив ужасный горловина напере...</td>\n      <td>negative</td>\n    </tr>\n    <tr>\n      <th>1</th>\n      <td>товар отдали другому человеку получила посылку...</td>\n      <td>negative</td>\n    </tr>\n    <tr>\n      <th>2</th>\n      <td>ужасная синтетика тонкая общего представленной...</td>\n      <td>negative</td>\n    </tr>\n    <tr>\n      <th>3</th>\n      <td>товар пришел продавец продлил защиту моего сог...</td>\n      <td>negative</td>\n    </tr>\n    <tr>\n      <th>4</th>\n      <td>кофточка голая синтетика носить возможно</td>\n      <td>negative</td>\n    </tr>\n  </tbody>\n</table>\n</div>"
     },
     "execution_count": 209,
     "metadata": {},
     "output_type": "execute_result"
    }
   ],
   "source": [
    "accessories.review = accessories.review.apply(preprocess)\n",
    "accessories.head()"
   ],
   "metadata": {
    "collapsed": false,
    "pycharm": {
     "name": "#%%\n"
    }
   }
  },
  {
   "cell_type": "code",
   "execution_count": 210,
   "outputs": [],
   "source": [
    "from sklearn.model_selection import train_test_split\n",
    "\n",
    "X_train, X_test, y_train, y_test = train_test_split(\n",
    "    accessories.review,\n",
    "    accessories.sentiment,\n",
    "    test_size=0.2,\n",
    "    random_state=42\n",
    ")"
   ],
   "metadata": {
    "collapsed": false,
    "pycharm": {
     "name": "#%%\n"
    }
   }
  },
  {
   "cell_type": "code",
   "execution_count": 211,
   "outputs": [],
   "source": [
    "def generate_multiple_ngram_ranges(min_n, max_n):\n",
    "    for lower in range(min_n, max_n + 1):\n",
    "        for upper in range(lower, max_n + 1):\n",
    "            yield lower, upper"
   ],
   "metadata": {
    "collapsed": false,
    "pycharm": {
     "name": "#%%\n"
    }
   }
  },
  {
   "cell_type": "code",
   "execution_count": 212,
   "outputs": [],
   "source": [
    "import time\n",
    "from sklearn.metrics import classification_report\n",
    "from sklearn.naive_bayes import MultinomialNB\n",
    "import warnings\n",
    "\n",
    "warnings.filterwarnings('always')\n",
    "\n",
    "\n",
    "def naive_bayes_classifier(X_train, X_test, y_train, y_test, vectorizer, name):\n",
    "    X_train = vectorizer.fit_transform(X_train)\n",
    "    X_test = vectorizer.transform(X_test)\n",
    "    classifier = MultinomialNB()\n",
    "    classifier.fit(X_train, y_train)\n",
    "    y_pred = classifier.predict(X_test)\n",
    "    report = classification_report(y_test, y_pred, output_dict=True)\n",
    "    print(f'\\n{time.ctime()}: {name}\\n')\n",
    "    return report"
   ],
   "metadata": {
    "collapsed": false,
    "pycharm": {
     "name": "#%%\n"
    }
   }
  },
  {
   "cell_type": "code",
   "execution_count": 213,
   "outputs": [],
   "source": [
    "from sklearn.feature_extraction.text import CountVectorizer\n",
    "\n",
    "\n",
    "def create_count_vectorizers_words():\n",
    "    for ngram_range in generate_multiple_ngram_ranges(2, 6):\n",
    "        yield f'CountVectorizer ngram_range={ngram_range} analyzer=word', CountVectorizer(\n",
    "                ngram_range=ngram_range,\n",
    "                analyzer='word',\n",
    "            )\n",
    "\n",
    "report_data = []\n",
    "def make_report(X_train, X_test, y_train, y_test, vectorizers):\n",
    "    for name, vectorizer in vectorizers:\n",
    "        try:\n",
    "            report = naive_bayes_classifier(\n",
    "                X_train, X_test, y_train, y_test, vectorizer, name\n",
    "            )\n",
    "        except ValueError as e:\n",
    "            print(f'{name} failed: {e}')\n",
    "            continue\n",
    "\n",
    "        report_data.append((name, report))"
   ],
   "metadata": {
    "collapsed": false,
    "pycharm": {
     "name": "#%%\n"
    }
   }
  },
  {
   "cell_type": "code",
   "execution_count": 214,
   "outputs": [
    {
     "name": "stdout",
     "output_type": "stream",
     "text": [
      "\n",
      "Tue Nov 22 13:11:17 2022: CountVectorizer ngram_range=(2, 2) analyzer=word\n",
      "\n",
      "\n",
      "Tue Nov 22 13:11:21 2022: CountVectorizer ngram_range=(2, 3) analyzer=word\n",
      "\n",
      "\n",
      "Tue Nov 22 13:11:27 2022: CountVectorizer ngram_range=(2, 4) analyzer=word\n",
      "\n",
      "\n",
      "Tue Nov 22 13:11:36 2022: CountVectorizer ngram_range=(2, 5) analyzer=word\n",
      "\n",
      "\n",
      "Tue Nov 22 13:11:46 2022: CountVectorizer ngram_range=(2, 6) analyzer=word\n",
      "\n",
      "\n",
      "Tue Nov 22 13:11:48 2022: CountVectorizer ngram_range=(3, 3) analyzer=word\n",
      "\n",
      "\n",
      "Tue Nov 22 13:11:53 2022: CountVectorizer ngram_range=(3, 4) analyzer=word\n",
      "\n",
      "\n",
      "Tue Nov 22 13:12:00 2022: CountVectorizer ngram_range=(3, 5) analyzer=word\n",
      "\n",
      "\n",
      "Tue Nov 22 13:12:08 2022: CountVectorizer ngram_range=(3, 6) analyzer=word\n",
      "\n",
      "\n",
      "Tue Nov 22 13:12:11 2022: CountVectorizer ngram_range=(4, 4) analyzer=word\n",
      "\n",
      "\n",
      "Tue Nov 22 13:12:16 2022: CountVectorizer ngram_range=(4, 5) analyzer=word\n",
      "\n",
      "\n",
      "Tue Nov 22 13:12:22 2022: CountVectorizer ngram_range=(4, 6) analyzer=word\n",
      "\n",
      "\n",
      "Tue Nov 22 13:12:25 2022: CountVectorizer ngram_range=(5, 5) analyzer=word\n",
      "\n",
      "\n",
      "Tue Nov 22 13:12:29 2022: CountVectorizer ngram_range=(5, 6) analyzer=word\n",
      "\n",
      "\n",
      "Tue Nov 22 13:12:32 2022: CountVectorizer ngram_range=(6, 6) analyzer=word\n",
      "\n"
     ]
    }
   ],
   "source": [
    "make_report(X_train, X_test, y_train, y_test, create_count_vectorizers_words())"
   ],
   "metadata": {
    "collapsed": false,
    "pycharm": {
     "name": "#%%\n"
    }
   }
  },
  {
   "cell_type": "code",
   "execution_count": 215,
   "outputs": [],
   "source": [
    "from sklearn.feature_extraction.text import TfidfVectorizer\n",
    "\n",
    "\n",
    "def create_tfidf_vectorizers():\n",
    "    for max_df in [0.2, 0.3, 1.0]:\n",
    "        for min_df in [0, 0.01, 0.025]:\n",
    "            for max_features in [1000, 5000, 10000, 50000]:\n",
    "                for ngram_range in generate_multiple_ngram_ranges(2, 3):\n",
    "                    yield f'TfidfVectorizer max_df={max_df} min_df={min_df} max_features={max_features} ngram_range={ngram_range}', TfidfVectorizer(\n",
    "                        max_df=max_df,\n",
    "                        min_df=min_df,\n",
    "                        max_features=max_features,\n",
    "                        ngram_range=ngram_range,\n",
    "                    )"
   ],
   "metadata": {
    "collapsed": false,
    "pycharm": {
     "name": "#%%\n"
    }
   }
  },
  {
   "cell_type": "code",
   "execution_count": 216,
   "outputs": [
    {
     "name": "stdout",
     "output_type": "stream",
     "text": [
      "\n",
      "Tue Nov 22 13:12:34 2022: TfidfVectorizer max_df=0.2 min_df=0 max_features=1000 ngram_range=(2, 2)\n",
      "\n",
      "\n",
      "Tue Nov 22 13:12:39 2022: TfidfVectorizer max_df=0.2 min_df=0 max_features=1000 ngram_range=(2, 3)\n",
      "\n",
      "\n",
      "Tue Nov 22 13:12:42 2022: TfidfVectorizer max_df=0.2 min_df=0 max_features=1000 ngram_range=(3, 3)\n",
      "\n",
      "\n",
      "Tue Nov 22 13:12:44 2022: TfidfVectorizer max_df=0.2 min_df=0 max_features=5000 ngram_range=(2, 2)\n",
      "\n",
      "\n",
      "Tue Nov 22 13:12:48 2022: TfidfVectorizer max_df=0.2 min_df=0 max_features=5000 ngram_range=(2, 3)\n",
      "\n",
      "\n",
      "Tue Nov 22 13:12:51 2022: TfidfVectorizer max_df=0.2 min_df=0 max_features=5000 ngram_range=(3, 3)\n",
      "\n",
      "\n",
      "Tue Nov 22 13:12:53 2022: TfidfVectorizer max_df=0.2 min_df=0 max_features=10000 ngram_range=(2, 2)\n",
      "\n",
      "\n",
      "Tue Nov 22 13:12:58 2022: TfidfVectorizer max_df=0.2 min_df=0 max_features=10000 ngram_range=(2, 3)\n",
      "\n",
      "\n",
      "Tue Nov 22 13:13:01 2022: TfidfVectorizer max_df=0.2 min_df=0 max_features=10000 ngram_range=(3, 3)\n",
      "\n",
      "\n",
      "Tue Nov 22 13:13:04 2022: TfidfVectorizer max_df=0.2 min_df=0 max_features=50000 ngram_range=(2, 2)\n",
      "\n",
      "\n",
      "Tue Nov 22 13:13:08 2022: TfidfVectorizer max_df=0.2 min_df=0 max_features=50000 ngram_range=(2, 3)\n",
      "\n",
      "\n",
      "Tue Nov 22 13:13:11 2022: TfidfVectorizer max_df=0.2 min_df=0 max_features=50000 ngram_range=(3, 3)\n",
      "\n",
      "\n",
      "Tue Nov 22 13:13:14 2022: TfidfVectorizer max_df=0.2 min_df=0.01 max_features=1000 ngram_range=(2, 2)\n",
      "\n",
      "\n",
      "Tue Nov 22 13:13:18 2022: TfidfVectorizer max_df=0.2 min_df=0.01 max_features=1000 ngram_range=(2, 3)\n",
      "\n",
      "TfidfVectorizer max_df=0.2 min_df=0.01 max_features=1000 ngram_range=(3, 3) failed: After pruning, no terms remain. Try a lower min_df or a higher max_df.\n",
      "\n",
      "Tue Nov 22 13:13:24 2022: TfidfVectorizer max_df=0.2 min_df=0.01 max_features=5000 ngram_range=(2, 2)\n",
      "\n",
      "\n",
      "Tue Nov 22 13:13:28 2022: TfidfVectorizer max_df=0.2 min_df=0.01 max_features=5000 ngram_range=(2, 3)\n",
      "\n",
      "TfidfVectorizer max_df=0.2 min_df=0.01 max_features=5000 ngram_range=(3, 3) failed: After pruning, no terms remain. Try a lower min_df or a higher max_df.\n",
      "\n",
      "Tue Nov 22 13:13:33 2022: TfidfVectorizer max_df=0.2 min_df=0.01 max_features=10000 ngram_range=(2, 2)\n",
      "\n",
      "\n",
      "Tue Nov 22 13:13:38 2022: TfidfVectorizer max_df=0.2 min_df=0.01 max_features=10000 ngram_range=(2, 3)\n",
      "\n",
      "TfidfVectorizer max_df=0.2 min_df=0.01 max_features=10000 ngram_range=(3, 3) failed: After pruning, no terms remain. Try a lower min_df or a higher max_df.\n",
      "\n",
      "Tue Nov 22 13:13:42 2022: TfidfVectorizer max_df=0.2 min_df=0.01 max_features=50000 ngram_range=(2, 2)\n",
      "\n",
      "\n",
      "Tue Nov 22 13:13:47 2022: TfidfVectorizer max_df=0.2 min_df=0.01 max_features=50000 ngram_range=(2, 3)\n",
      "\n",
      "TfidfVectorizer max_df=0.2 min_df=0.01 max_features=50000 ngram_range=(3, 3) failed: After pruning, no terms remain. Try a lower min_df or a higher max_df.\n",
      "\n",
      "Tue Nov 22 13:13:51 2022: TfidfVectorizer max_df=0.2 min_df=0.025 max_features=1000 ngram_range=(2, 2)\n",
      "\n",
      "\n",
      "Tue Nov 22 13:13:55 2022: TfidfVectorizer max_df=0.2 min_df=0.025 max_features=1000 ngram_range=(2, 3)\n",
      "\n",
      "TfidfVectorizer max_df=0.2 min_df=0.025 max_features=1000 ngram_range=(3, 3) failed: After pruning, no terms remain. Try a lower min_df or a higher max_df.\n",
      "\n",
      "Tue Nov 22 13:13:59 2022: TfidfVectorizer max_df=0.2 min_df=0.025 max_features=5000 ngram_range=(2, 2)\n",
      "\n",
      "\n",
      "Tue Nov 22 13:14:04 2022: TfidfVectorizer max_df=0.2 min_df=0.025 max_features=5000 ngram_range=(2, 3)\n",
      "\n",
      "TfidfVectorizer max_df=0.2 min_df=0.025 max_features=5000 ngram_range=(3, 3) failed: After pruning, no terms remain. Try a lower min_df or a higher max_df.\n",
      "\n",
      "Tue Nov 22 13:14:09 2022: TfidfVectorizer max_df=0.2 min_df=0.025 max_features=10000 ngram_range=(2, 2)\n",
      "\n",
      "\n",
      "Tue Nov 22 13:14:13 2022: TfidfVectorizer max_df=0.2 min_df=0.025 max_features=10000 ngram_range=(2, 3)\n",
      "\n",
      "TfidfVectorizer max_df=0.2 min_df=0.025 max_features=10000 ngram_range=(3, 3) failed: After pruning, no terms remain. Try a lower min_df or a higher max_df.\n",
      "\n",
      "Tue Nov 22 13:14:18 2022: TfidfVectorizer max_df=0.2 min_df=0.025 max_features=50000 ngram_range=(2, 2)\n",
      "\n",
      "\n",
      "Tue Nov 22 13:14:22 2022: TfidfVectorizer max_df=0.2 min_df=0.025 max_features=50000 ngram_range=(2, 3)\n",
      "\n",
      "TfidfVectorizer max_df=0.2 min_df=0.025 max_features=50000 ngram_range=(3, 3) failed: After pruning, no terms remain. Try a lower min_df or a higher max_df.\n",
      "\n",
      "Tue Nov 22 13:14:26 2022: TfidfVectorizer max_df=0.3 min_df=0 max_features=1000 ngram_range=(2, 2)\n",
      "\n",
      "\n",
      "Tue Nov 22 13:14:31 2022: TfidfVectorizer max_df=0.3 min_df=0 max_features=1000 ngram_range=(2, 3)\n",
      "\n",
      "\n",
      "Tue Nov 22 13:14:33 2022: TfidfVectorizer max_df=0.3 min_df=0 max_features=1000 ngram_range=(3, 3)\n",
      "\n",
      "\n",
      "Tue Nov 22 13:14:35 2022: TfidfVectorizer max_df=0.3 min_df=0 max_features=5000 ngram_range=(2, 2)\n",
      "\n",
      "\n",
      "Tue Nov 22 13:14:40 2022: TfidfVectorizer max_df=0.3 min_df=0 max_features=5000 ngram_range=(2, 3)\n",
      "\n",
      "\n",
      "Tue Nov 22 13:14:43 2022: TfidfVectorizer max_df=0.3 min_df=0 max_features=5000 ngram_range=(3, 3)\n",
      "\n",
      "\n",
      "Tue Nov 22 13:14:45 2022: TfidfVectorizer max_df=0.3 min_df=0 max_features=10000 ngram_range=(2, 2)\n",
      "\n",
      "\n",
      "Tue Nov 22 13:14:50 2022: TfidfVectorizer max_df=0.3 min_df=0 max_features=10000 ngram_range=(2, 3)\n",
      "\n",
      "\n",
      "Tue Nov 22 13:14:53 2022: TfidfVectorizer max_df=0.3 min_df=0 max_features=10000 ngram_range=(3, 3)\n",
      "\n",
      "\n",
      "Tue Nov 22 13:14:55 2022: TfidfVectorizer max_df=0.3 min_df=0 max_features=50000 ngram_range=(2, 2)\n",
      "\n",
      "\n",
      "Tue Nov 22 13:15:00 2022: TfidfVectorizer max_df=0.3 min_df=0 max_features=50000 ngram_range=(2, 3)\n",
      "\n",
      "\n",
      "Tue Nov 22 13:15:03 2022: TfidfVectorizer max_df=0.3 min_df=0 max_features=50000 ngram_range=(3, 3)\n",
      "\n",
      "\n",
      "Tue Nov 22 13:15:05 2022: TfidfVectorizer max_df=0.3 min_df=0.01 max_features=1000 ngram_range=(2, 2)\n",
      "\n",
      "\n",
      "Tue Nov 22 13:15:09 2022: TfidfVectorizer max_df=0.3 min_df=0.01 max_features=1000 ngram_range=(2, 3)\n",
      "\n",
      "TfidfVectorizer max_df=0.3 min_df=0.01 max_features=1000 ngram_range=(3, 3) failed: After pruning, no terms remain. Try a lower min_df or a higher max_df.\n",
      "\n",
      "Tue Nov 22 13:15:13 2022: TfidfVectorizer max_df=0.3 min_df=0.01 max_features=5000 ngram_range=(2, 2)\n",
      "\n",
      "\n",
      "Tue Nov 22 13:15:17 2022: TfidfVectorizer max_df=0.3 min_df=0.01 max_features=5000 ngram_range=(2, 3)\n",
      "\n",
      "TfidfVectorizer max_df=0.3 min_df=0.01 max_features=5000 ngram_range=(3, 3) failed: After pruning, no terms remain. Try a lower min_df or a higher max_df.\n",
      "\n",
      "Tue Nov 22 13:15:21 2022: TfidfVectorizer max_df=0.3 min_df=0.01 max_features=10000 ngram_range=(2, 2)\n",
      "\n",
      "\n",
      "Tue Nov 22 13:15:26 2022: TfidfVectorizer max_df=0.3 min_df=0.01 max_features=10000 ngram_range=(2, 3)\n",
      "\n",
      "TfidfVectorizer max_df=0.3 min_df=0.01 max_features=10000 ngram_range=(3, 3) failed: After pruning, no terms remain. Try a lower min_df or a higher max_df.\n",
      "\n",
      "Tue Nov 22 13:15:30 2022: TfidfVectorizer max_df=0.3 min_df=0.01 max_features=50000 ngram_range=(2, 2)\n",
      "\n",
      "\n",
      "Tue Nov 22 13:15:34 2022: TfidfVectorizer max_df=0.3 min_df=0.01 max_features=50000 ngram_range=(2, 3)\n",
      "\n",
      "TfidfVectorizer max_df=0.3 min_df=0.01 max_features=50000 ngram_range=(3, 3) failed: After pruning, no terms remain. Try a lower min_df or a higher max_df.\n",
      "\n",
      "Tue Nov 22 13:15:39 2022: TfidfVectorizer max_df=0.3 min_df=0.025 max_features=1000 ngram_range=(2, 2)\n",
      "\n",
      "\n",
      "Tue Nov 22 13:15:43 2022: TfidfVectorizer max_df=0.3 min_df=0.025 max_features=1000 ngram_range=(2, 3)\n",
      "\n",
      "TfidfVectorizer max_df=0.3 min_df=0.025 max_features=1000 ngram_range=(3, 3) failed: After pruning, no terms remain. Try a lower min_df or a higher max_df.\n",
      "\n",
      "Tue Nov 22 13:15:48 2022: TfidfVectorizer max_df=0.3 min_df=0.025 max_features=5000 ngram_range=(2, 2)\n",
      "\n",
      "\n",
      "Tue Nov 22 13:15:52 2022: TfidfVectorizer max_df=0.3 min_df=0.025 max_features=5000 ngram_range=(2, 3)\n",
      "\n",
      "TfidfVectorizer max_df=0.3 min_df=0.025 max_features=5000 ngram_range=(3, 3) failed: After pruning, no terms remain. Try a lower min_df or a higher max_df.\n",
      "\n",
      "Tue Nov 22 13:15:56 2022: TfidfVectorizer max_df=0.3 min_df=0.025 max_features=10000 ngram_range=(2, 2)\n",
      "\n",
      "\n",
      "Tue Nov 22 13:16:01 2022: TfidfVectorizer max_df=0.3 min_df=0.025 max_features=10000 ngram_range=(2, 3)\n",
      "\n",
      "TfidfVectorizer max_df=0.3 min_df=0.025 max_features=10000 ngram_range=(3, 3) failed: After pruning, no terms remain. Try a lower min_df or a higher max_df.\n",
      "\n",
      "Tue Nov 22 13:16:06 2022: TfidfVectorizer max_df=0.3 min_df=0.025 max_features=50000 ngram_range=(2, 2)\n",
      "\n",
      "\n",
      "Tue Nov 22 13:16:10 2022: TfidfVectorizer max_df=0.3 min_df=0.025 max_features=50000 ngram_range=(2, 3)\n",
      "\n",
      "TfidfVectorizer max_df=0.3 min_df=0.025 max_features=50000 ngram_range=(3, 3) failed: After pruning, no terms remain. Try a lower min_df or a higher max_df.\n",
      "\n",
      "Tue Nov 22 13:16:14 2022: TfidfVectorizer max_df=1.0 min_df=0 max_features=1000 ngram_range=(2, 2)\n",
      "\n",
      "\n",
      "Tue Nov 22 13:16:19 2022: TfidfVectorizer max_df=1.0 min_df=0 max_features=1000 ngram_range=(2, 3)\n",
      "\n",
      "\n",
      "Tue Nov 22 13:16:22 2022: TfidfVectorizer max_df=1.0 min_df=0 max_features=1000 ngram_range=(3, 3)\n",
      "\n",
      "\n",
      "Tue Nov 22 13:16:24 2022: TfidfVectorizer max_df=1.0 min_df=0 max_features=5000 ngram_range=(2, 2)\n",
      "\n",
      "\n",
      "Tue Nov 22 13:16:29 2022: TfidfVectorizer max_df=1.0 min_df=0 max_features=5000 ngram_range=(2, 3)\n",
      "\n",
      "\n",
      "Tue Nov 22 13:16:32 2022: TfidfVectorizer max_df=1.0 min_df=0 max_features=5000 ngram_range=(3, 3)\n",
      "\n",
      "\n",
      "Tue Nov 22 13:16:34 2022: TfidfVectorizer max_df=1.0 min_df=0 max_features=10000 ngram_range=(2, 2)\n",
      "\n",
      "\n",
      "Tue Nov 22 13:16:39 2022: TfidfVectorizer max_df=1.0 min_df=0 max_features=10000 ngram_range=(2, 3)\n",
      "\n",
      "\n",
      "Tue Nov 22 13:16:42 2022: TfidfVectorizer max_df=1.0 min_df=0 max_features=10000 ngram_range=(3, 3)\n",
      "\n",
      "\n",
      "Tue Nov 22 13:16:44 2022: TfidfVectorizer max_df=1.0 min_df=0 max_features=50000 ngram_range=(2, 2)\n",
      "\n",
      "\n",
      "Tue Nov 22 13:16:49 2022: TfidfVectorizer max_df=1.0 min_df=0 max_features=50000 ngram_range=(2, 3)\n",
      "\n",
      "\n",
      "Tue Nov 22 13:16:52 2022: TfidfVectorizer max_df=1.0 min_df=0 max_features=50000 ngram_range=(3, 3)\n",
      "\n",
      "\n",
      "Tue Nov 22 13:16:55 2022: TfidfVectorizer max_df=1.0 min_df=0.01 max_features=1000 ngram_range=(2, 2)\n",
      "\n",
      "\n",
      "Tue Nov 22 13:16:59 2022: TfidfVectorizer max_df=1.0 min_df=0.01 max_features=1000 ngram_range=(2, 3)\n",
      "\n",
      "TfidfVectorizer max_df=1.0 min_df=0.01 max_features=1000 ngram_range=(3, 3) failed: After pruning, no terms remain. Try a lower min_df or a higher max_df.\n",
      "\n",
      "Tue Nov 22 13:17:03 2022: TfidfVectorizer max_df=1.0 min_df=0.01 max_features=5000 ngram_range=(2, 2)\n",
      "\n",
      "\n",
      "Tue Nov 22 13:17:08 2022: TfidfVectorizer max_df=1.0 min_df=0.01 max_features=5000 ngram_range=(2, 3)\n",
      "\n",
      "TfidfVectorizer max_df=1.0 min_df=0.01 max_features=5000 ngram_range=(3, 3) failed: After pruning, no terms remain. Try a lower min_df or a higher max_df.\n",
      "\n",
      "Tue Nov 22 13:17:12 2022: TfidfVectorizer max_df=1.0 min_df=0.01 max_features=10000 ngram_range=(2, 2)\n",
      "\n",
      "\n",
      "Tue Nov 22 13:17:17 2022: TfidfVectorizer max_df=1.0 min_df=0.01 max_features=10000 ngram_range=(2, 3)\n",
      "\n",
      "TfidfVectorizer max_df=1.0 min_df=0.01 max_features=10000 ngram_range=(3, 3) failed: After pruning, no terms remain. Try a lower min_df or a higher max_df.\n",
      "\n",
      "Tue Nov 22 13:17:22 2022: TfidfVectorizer max_df=1.0 min_df=0.01 max_features=50000 ngram_range=(2, 2)\n",
      "\n",
      "\n",
      "Tue Nov 22 13:17:26 2022: TfidfVectorizer max_df=1.0 min_df=0.01 max_features=50000 ngram_range=(2, 3)\n",
      "\n",
      "TfidfVectorizer max_df=1.0 min_df=0.01 max_features=50000 ngram_range=(3, 3) failed: After pruning, no terms remain. Try a lower min_df or a higher max_df.\n",
      "\n",
      "Tue Nov 22 13:17:31 2022: TfidfVectorizer max_df=1.0 min_df=0.025 max_features=1000 ngram_range=(2, 2)\n",
      "\n",
      "\n",
      "Tue Nov 22 13:17:36 2022: TfidfVectorizer max_df=1.0 min_df=0.025 max_features=1000 ngram_range=(2, 3)\n",
      "\n",
      "TfidfVectorizer max_df=1.0 min_df=0.025 max_features=1000 ngram_range=(3, 3) failed: After pruning, no terms remain. Try a lower min_df or a higher max_df.\n",
      "\n",
      "Tue Nov 22 13:17:40 2022: TfidfVectorizer max_df=1.0 min_df=0.025 max_features=5000 ngram_range=(2, 2)\n",
      "\n",
      "\n",
      "Tue Nov 22 13:17:45 2022: TfidfVectorizer max_df=1.0 min_df=0.025 max_features=5000 ngram_range=(2, 3)\n",
      "\n",
      "TfidfVectorizer max_df=1.0 min_df=0.025 max_features=5000 ngram_range=(3, 3) failed: After pruning, no terms remain. Try a lower min_df or a higher max_df.\n",
      "\n",
      "Tue Nov 22 13:17:50 2022: TfidfVectorizer max_df=1.0 min_df=0.025 max_features=10000 ngram_range=(2, 2)\n",
      "\n",
      "\n",
      "Tue Nov 22 13:17:54 2022: TfidfVectorizer max_df=1.0 min_df=0.025 max_features=10000 ngram_range=(2, 3)\n",
      "\n",
      "TfidfVectorizer max_df=1.0 min_df=0.025 max_features=10000 ngram_range=(3, 3) failed: After pruning, no terms remain. Try a lower min_df or a higher max_df.\n",
      "\n",
      "Tue Nov 22 13:17:59 2022: TfidfVectorizer max_df=1.0 min_df=0.025 max_features=50000 ngram_range=(2, 2)\n",
      "\n",
      "\n",
      "Tue Nov 22 13:18:03 2022: TfidfVectorizer max_df=1.0 min_df=0.025 max_features=50000 ngram_range=(2, 3)\n",
      "\n",
      "TfidfVectorizer max_df=1.0 min_df=0.025 max_features=50000 ngram_range=(3, 3) failed: After pruning, no terms remain. Try a lower min_df or a higher max_df.\n"
     ]
    }
   ],
   "source": [
    "make_report(X_train, X_test, y_train, y_test, create_tfidf_vectorizers())"
   ],
   "metadata": {
    "collapsed": false,
    "pycharm": {
     "name": "#%%\n"
    }
   }
  },
  {
   "cell_type": "code",
   "execution_count": 217,
   "outputs": [],
   "source": [
    "def create_count_vectorizers_letters():\n",
    "    for ngram_range in generate_multiple_ngram_ranges(2, 6):\n",
    "        yield f'CountVectorizer ngram_range={ngram_range} analyzer=char', CountVectorizer(\n",
    "                ngram_range=ngram_range,\n",
    "                analyzer='char',\n",
    "            )"
   ],
   "metadata": {
    "collapsed": false,
    "pycharm": {
     "name": "#%%\n"
    }
   }
  },
  {
   "cell_type": "code",
   "execution_count": 218,
   "outputs": [
    {
     "name": "stdout",
     "output_type": "stream",
     "text": [
      "\n",
      "Tue Nov 22 13:18:09 2022: CountVectorizer ngram_range=(2, 2) analyzer=char\n",
      "\n",
      "\n",
      "Tue Nov 22 13:18:14 2022: CountVectorizer ngram_range=(2, 3) analyzer=char\n",
      "\n",
      "\n",
      "Tue Nov 22 13:18:24 2022: CountVectorizer ngram_range=(2, 4) analyzer=char\n",
      "\n",
      "\n",
      "Tue Nov 22 13:18:40 2022: CountVectorizer ngram_range=(2, 5) analyzer=char\n",
      "\n",
      "\n",
      "Tue Nov 22 13:19:01 2022: CountVectorizer ngram_range=(2, 6) analyzer=char\n",
      "\n",
      "\n",
      "Tue Nov 22 13:19:05 2022: CountVectorizer ngram_range=(3, 3) analyzer=char\n",
      "\n",
      "\n",
      "Tue Nov 22 13:19:11 2022: CountVectorizer ngram_range=(3, 4) analyzer=char\n",
      "\n",
      "\n",
      "Tue Nov 22 13:19:23 2022: CountVectorizer ngram_range=(3, 5) analyzer=char\n",
      "\n",
      "\n",
      "Tue Nov 22 13:19:40 2022: CountVectorizer ngram_range=(3, 6) analyzer=char\n",
      "\n",
      "\n",
      "Tue Nov 22 13:19:43 2022: CountVectorizer ngram_range=(4, 4) analyzer=char\n",
      "\n",
      "\n",
      "Tue Nov 22 13:19:51 2022: CountVectorizer ngram_range=(4, 5) analyzer=char\n",
      "\n",
      "\n",
      "Tue Nov 22 13:20:05 2022: CountVectorizer ngram_range=(4, 6) analyzer=char\n",
      "\n",
      "\n",
      "Tue Nov 22 13:20:09 2022: CountVectorizer ngram_range=(5, 5) analyzer=char\n",
      "\n",
      "\n",
      "Tue Nov 22 13:20:19 2022: CountVectorizer ngram_range=(5, 6) analyzer=char\n",
      "\n",
      "\n",
      "Tue Nov 22 13:20:24 2022: CountVectorizer ngram_range=(6, 6) analyzer=char\n",
      "\n"
     ]
    }
   ],
   "source": [
    "make_report(X_train, X_test, y_train, y_test, create_count_vectorizers_letters())"
   ],
   "metadata": {
    "collapsed": false,
    "pycharm": {
     "name": "#%%\n"
    }
   }
  },
  {
   "cell_type": "code",
   "execution_count": 219,
   "outputs": [],
   "source": [
    "import typing\n",
    "\n",
    "\n",
    "def compare(report_data: typing.List[typing.Tuple[str, str]]):\n",
    "    return pd.DataFrame([\n",
    "            {'name': name, **report['weighted avg']}\n",
    "            for name, report in report_data\n",
    "        ])\n",
    "\n",
    "\n",
    "combined = compare(report_data)"
   ],
   "metadata": {
    "collapsed": false,
    "pycharm": {
     "name": "#%%\n"
    }
   }
  },
  {
   "cell_type": "code",
   "execution_count": 220,
   "outputs": [
    {
     "data": {
      "text/plain": "                                                 name  precision    recall  \\\n113  CountVectorizer ngram_range=(6, 6) analyzer=char   0.709594  0.705722   \n112  CountVectorizer ngram_range=(5, 6) analyzer=char   0.709258  0.704667   \n110  CountVectorizer ngram_range=(4, 6) analyzer=char   0.708820  0.702722   \n107  CountVectorizer ngram_range=(3, 6) analyzer=char   0.707118  0.700111   \n111  CountVectorizer ngram_range=(5, 5) analyzer=char   0.705747  0.699944   \n103  CountVectorizer ngram_range=(2, 6) analyzer=char   0.707112  0.699000   \n109  CountVectorizer ngram_range=(4, 5) analyzer=char   0.705569  0.698500   \n106  CountVectorizer ngram_range=(3, 5) analyzer=char   0.702779  0.694500   \n108  CountVectorizer ngram_range=(4, 4) analyzer=char   0.700184  0.692333   \n102  CountVectorizer ngram_range=(2, 5) analyzer=char   0.701149  0.691667   \n105  CountVectorizer ngram_range=(3, 4) analyzer=char   0.694854  0.685778   \n101  CountVectorizer ngram_range=(2, 4) analyzer=char   0.691348  0.680111   \n104  CountVectorizer ngram_range=(3, 3) analyzer=char   0.685008  0.674000   \n0    CountVectorizer ngram_range=(2, 2) analyzer=word   0.673092  0.676611   \n100  CountVectorizer ngram_range=(2, 3) analyzer=char   0.680645  0.667333   \n\n     f1-score  support  \n113  0.706322    18000  \n112  0.705145    18000  \n110  0.703493    18000  \n107  0.701035    18000  \n111  0.700654    18000  \n103  0.700048    18000  \n109  0.699375    18000  \n106  0.695590    18000  \n108  0.693363    18000  \n102  0.692925    18000  \n105  0.687036    18000  \n101  0.681686    18000  \n104  0.675682    18000  \n0    0.673074    18000  \n100  0.669139    18000  ",
      "text/html": "<div>\n<style scoped>\n    .dataframe tbody tr th:only-of-type {\n        vertical-align: middle;\n    }\n\n    .dataframe tbody tr th {\n        vertical-align: top;\n    }\n\n    .dataframe thead th {\n        text-align: right;\n    }\n</style>\n<table border=\"1\" class=\"dataframe\">\n  <thead>\n    <tr style=\"text-align: right;\">\n      <th></th>\n      <th>name</th>\n      <th>precision</th>\n      <th>recall</th>\n      <th>f1-score</th>\n      <th>support</th>\n    </tr>\n  </thead>\n  <tbody>\n    <tr>\n      <th>113</th>\n      <td>CountVectorizer ngram_range=(6, 6) analyzer=char</td>\n      <td>0.709594</td>\n      <td>0.705722</td>\n      <td>0.706322</td>\n      <td>18000</td>\n    </tr>\n    <tr>\n      <th>112</th>\n      <td>CountVectorizer ngram_range=(5, 6) analyzer=char</td>\n      <td>0.709258</td>\n      <td>0.704667</td>\n      <td>0.705145</td>\n      <td>18000</td>\n    </tr>\n    <tr>\n      <th>110</th>\n      <td>CountVectorizer ngram_range=(4, 6) analyzer=char</td>\n      <td>0.708820</td>\n      <td>0.702722</td>\n      <td>0.703493</td>\n      <td>18000</td>\n    </tr>\n    <tr>\n      <th>107</th>\n      <td>CountVectorizer ngram_range=(3, 6) analyzer=char</td>\n      <td>0.707118</td>\n      <td>0.700111</td>\n      <td>0.701035</td>\n      <td>18000</td>\n    </tr>\n    <tr>\n      <th>111</th>\n      <td>CountVectorizer ngram_range=(5, 5) analyzer=char</td>\n      <td>0.705747</td>\n      <td>0.699944</td>\n      <td>0.700654</td>\n      <td>18000</td>\n    </tr>\n    <tr>\n      <th>103</th>\n      <td>CountVectorizer ngram_range=(2, 6) analyzer=char</td>\n      <td>0.707112</td>\n      <td>0.699000</td>\n      <td>0.700048</td>\n      <td>18000</td>\n    </tr>\n    <tr>\n      <th>109</th>\n      <td>CountVectorizer ngram_range=(4, 5) analyzer=char</td>\n      <td>0.705569</td>\n      <td>0.698500</td>\n      <td>0.699375</td>\n      <td>18000</td>\n    </tr>\n    <tr>\n      <th>106</th>\n      <td>CountVectorizer ngram_range=(3, 5) analyzer=char</td>\n      <td>0.702779</td>\n      <td>0.694500</td>\n      <td>0.695590</td>\n      <td>18000</td>\n    </tr>\n    <tr>\n      <th>108</th>\n      <td>CountVectorizer ngram_range=(4, 4) analyzer=char</td>\n      <td>0.700184</td>\n      <td>0.692333</td>\n      <td>0.693363</td>\n      <td>18000</td>\n    </tr>\n    <tr>\n      <th>102</th>\n      <td>CountVectorizer ngram_range=(2, 5) analyzer=char</td>\n      <td>0.701149</td>\n      <td>0.691667</td>\n      <td>0.692925</td>\n      <td>18000</td>\n    </tr>\n    <tr>\n      <th>105</th>\n      <td>CountVectorizer ngram_range=(3, 4) analyzer=char</td>\n      <td>0.694854</td>\n      <td>0.685778</td>\n      <td>0.687036</td>\n      <td>18000</td>\n    </tr>\n    <tr>\n      <th>101</th>\n      <td>CountVectorizer ngram_range=(2, 4) analyzer=char</td>\n      <td>0.691348</td>\n      <td>0.680111</td>\n      <td>0.681686</td>\n      <td>18000</td>\n    </tr>\n    <tr>\n      <th>104</th>\n      <td>CountVectorizer ngram_range=(3, 3) analyzer=char</td>\n      <td>0.685008</td>\n      <td>0.674000</td>\n      <td>0.675682</td>\n      <td>18000</td>\n    </tr>\n    <tr>\n      <th>0</th>\n      <td>CountVectorizer ngram_range=(2, 2) analyzer=word</td>\n      <td>0.673092</td>\n      <td>0.676611</td>\n      <td>0.673074</td>\n      <td>18000</td>\n    </tr>\n    <tr>\n      <th>100</th>\n      <td>CountVectorizer ngram_range=(2, 3) analyzer=char</td>\n      <td>0.680645</td>\n      <td>0.667333</td>\n      <td>0.669139</td>\n      <td>18000</td>\n    </tr>\n  </tbody>\n</table>\n</div>"
     },
     "execution_count": 220,
     "metadata": {},
     "output_type": "execute_result"
    }
   ],
   "source": [
    "combined.sort_values(by='f1-score', ascending=False).head(15)"
   ],
   "metadata": {
    "collapsed": false,
    "pycharm": {
     "name": "#%%\n"
    }
   }
  },
  {
   "cell_type": "code",
   "execution_count": 221,
   "outputs": [
    {
     "data": {
      "text/plain": "                                                 name  precision    recall  \\\n113  CountVectorizer ngram_range=(6, 6) analyzer=char   0.709594  0.705722   \n112  CountVectorizer ngram_range=(5, 6) analyzer=char   0.709258  0.704667   \n110  CountVectorizer ngram_range=(4, 6) analyzer=char   0.708820  0.702722   \n107  CountVectorizer ngram_range=(3, 6) analyzer=char   0.707118  0.700111   \n103  CountVectorizer ngram_range=(2, 6) analyzer=char   0.707112  0.699000   \n111  CountVectorizer ngram_range=(5, 5) analyzer=char   0.705747  0.699944   \n109  CountVectorizer ngram_range=(4, 5) analyzer=char   0.705569  0.698500   \n106  CountVectorizer ngram_range=(3, 5) analyzer=char   0.702779  0.694500   \n102  CountVectorizer ngram_range=(2, 5) analyzer=char   0.701149  0.691667   \n108  CountVectorizer ngram_range=(4, 4) analyzer=char   0.700184  0.692333   \n105  CountVectorizer ngram_range=(3, 4) analyzer=char   0.694854  0.685778   \n101  CountVectorizer ngram_range=(2, 4) analyzer=char   0.691348  0.680111   \n104  CountVectorizer ngram_range=(3, 3) analyzer=char   0.685008  0.674000   \n100  CountVectorizer ngram_range=(2, 3) analyzer=char   0.680645  0.667333   \n0    CountVectorizer ngram_range=(2, 2) analyzer=word   0.673092  0.676611   \n\n     f1-score  support  \n113  0.706322    18000  \n112  0.705145    18000  \n110  0.703493    18000  \n107  0.701035    18000  \n103  0.700048    18000  \n111  0.700654    18000  \n109  0.699375    18000  \n106  0.695590    18000  \n102  0.692925    18000  \n108  0.693363    18000  \n105  0.687036    18000  \n101  0.681686    18000  \n104  0.675682    18000  \n100  0.669139    18000  \n0    0.673074    18000  ",
      "text/html": "<div>\n<style scoped>\n    .dataframe tbody tr th:only-of-type {\n        vertical-align: middle;\n    }\n\n    .dataframe tbody tr th {\n        vertical-align: top;\n    }\n\n    .dataframe thead th {\n        text-align: right;\n    }\n</style>\n<table border=\"1\" class=\"dataframe\">\n  <thead>\n    <tr style=\"text-align: right;\">\n      <th></th>\n      <th>name</th>\n      <th>precision</th>\n      <th>recall</th>\n      <th>f1-score</th>\n      <th>support</th>\n    </tr>\n  </thead>\n  <tbody>\n    <tr>\n      <th>113</th>\n      <td>CountVectorizer ngram_range=(6, 6) analyzer=char</td>\n      <td>0.709594</td>\n      <td>0.705722</td>\n      <td>0.706322</td>\n      <td>18000</td>\n    </tr>\n    <tr>\n      <th>112</th>\n      <td>CountVectorizer ngram_range=(5, 6) analyzer=char</td>\n      <td>0.709258</td>\n      <td>0.704667</td>\n      <td>0.705145</td>\n      <td>18000</td>\n    </tr>\n    <tr>\n      <th>110</th>\n      <td>CountVectorizer ngram_range=(4, 6) analyzer=char</td>\n      <td>0.708820</td>\n      <td>0.702722</td>\n      <td>0.703493</td>\n      <td>18000</td>\n    </tr>\n    <tr>\n      <th>107</th>\n      <td>CountVectorizer ngram_range=(3, 6) analyzer=char</td>\n      <td>0.707118</td>\n      <td>0.700111</td>\n      <td>0.701035</td>\n      <td>18000</td>\n    </tr>\n    <tr>\n      <th>103</th>\n      <td>CountVectorizer ngram_range=(2, 6) analyzer=char</td>\n      <td>0.707112</td>\n      <td>0.699000</td>\n      <td>0.700048</td>\n      <td>18000</td>\n    </tr>\n    <tr>\n      <th>111</th>\n      <td>CountVectorizer ngram_range=(5, 5) analyzer=char</td>\n      <td>0.705747</td>\n      <td>0.699944</td>\n      <td>0.700654</td>\n      <td>18000</td>\n    </tr>\n    <tr>\n      <th>109</th>\n      <td>CountVectorizer ngram_range=(4, 5) analyzer=char</td>\n      <td>0.705569</td>\n      <td>0.698500</td>\n      <td>0.699375</td>\n      <td>18000</td>\n    </tr>\n    <tr>\n      <th>106</th>\n      <td>CountVectorizer ngram_range=(3, 5) analyzer=char</td>\n      <td>0.702779</td>\n      <td>0.694500</td>\n      <td>0.695590</td>\n      <td>18000</td>\n    </tr>\n    <tr>\n      <th>102</th>\n      <td>CountVectorizer ngram_range=(2, 5) analyzer=char</td>\n      <td>0.701149</td>\n      <td>0.691667</td>\n      <td>0.692925</td>\n      <td>18000</td>\n    </tr>\n    <tr>\n      <th>108</th>\n      <td>CountVectorizer ngram_range=(4, 4) analyzer=char</td>\n      <td>0.700184</td>\n      <td>0.692333</td>\n      <td>0.693363</td>\n      <td>18000</td>\n    </tr>\n    <tr>\n      <th>105</th>\n      <td>CountVectorizer ngram_range=(3, 4) analyzer=char</td>\n      <td>0.694854</td>\n      <td>0.685778</td>\n      <td>0.687036</td>\n      <td>18000</td>\n    </tr>\n    <tr>\n      <th>101</th>\n      <td>CountVectorizer ngram_range=(2, 4) analyzer=char</td>\n      <td>0.691348</td>\n      <td>0.680111</td>\n      <td>0.681686</td>\n      <td>18000</td>\n    </tr>\n    <tr>\n      <th>104</th>\n      <td>CountVectorizer ngram_range=(3, 3) analyzer=char</td>\n      <td>0.685008</td>\n      <td>0.674000</td>\n      <td>0.675682</td>\n      <td>18000</td>\n    </tr>\n    <tr>\n      <th>100</th>\n      <td>CountVectorizer ngram_range=(2, 3) analyzer=char</td>\n      <td>0.680645</td>\n      <td>0.667333</td>\n      <td>0.669139</td>\n      <td>18000</td>\n    </tr>\n    <tr>\n      <th>0</th>\n      <td>CountVectorizer ngram_range=(2, 2) analyzer=word</td>\n      <td>0.673092</td>\n      <td>0.676611</td>\n      <td>0.673074</td>\n      <td>18000</td>\n    </tr>\n  </tbody>\n</table>\n</div>"
     },
     "execution_count": 221,
     "metadata": {},
     "output_type": "execute_result"
    }
   ],
   "source": [
    "combined.sort_values(by='precision', ascending=False).head(15)"
   ],
   "metadata": {
    "collapsed": false,
    "pycharm": {
     "name": "#%%\n"
    }
   }
  },
  {
   "cell_type": "code",
   "execution_count": 222,
   "outputs": [
    {
     "data": {
      "text/plain": "                                                 name  precision    recall  \\\n113  CountVectorizer ngram_range=(6, 6) analyzer=char   0.709594  0.705722   \n112  CountVectorizer ngram_range=(5, 6) analyzer=char   0.709258  0.704667   \n110  CountVectorizer ngram_range=(4, 6) analyzer=char   0.708820  0.702722   \n107  CountVectorizer ngram_range=(3, 6) analyzer=char   0.707118  0.700111   \n111  CountVectorizer ngram_range=(5, 5) analyzer=char   0.705747  0.699944   \n103  CountVectorizer ngram_range=(2, 6) analyzer=char   0.707112  0.699000   \n109  CountVectorizer ngram_range=(4, 5) analyzer=char   0.705569  0.698500   \n106  CountVectorizer ngram_range=(3, 5) analyzer=char   0.702779  0.694500   \n108  CountVectorizer ngram_range=(4, 4) analyzer=char   0.700184  0.692333   \n102  CountVectorizer ngram_range=(2, 5) analyzer=char   0.701149  0.691667   \n105  CountVectorizer ngram_range=(3, 4) analyzer=char   0.694854  0.685778   \n101  CountVectorizer ngram_range=(2, 4) analyzer=char   0.691348  0.680111   \n0    CountVectorizer ngram_range=(2, 2) analyzer=word   0.673092  0.676611   \n104  CountVectorizer ngram_range=(3, 3) analyzer=char   0.685008  0.674000   \n1    CountVectorizer ngram_range=(2, 3) analyzer=word   0.664623  0.668944   \n\n     f1-score  support  \n113  0.706322    18000  \n112  0.705145    18000  \n110  0.703493    18000  \n107  0.701035    18000  \n111  0.700654    18000  \n103  0.700048    18000  \n109  0.699375    18000  \n106  0.695590    18000  \n108  0.693363    18000  \n102  0.692925    18000  \n105  0.687036    18000  \n101  0.681686    18000  \n0    0.673074    18000  \n104  0.675682    18000  \n1    0.664239    18000  ",
      "text/html": "<div>\n<style scoped>\n    .dataframe tbody tr th:only-of-type {\n        vertical-align: middle;\n    }\n\n    .dataframe tbody tr th {\n        vertical-align: top;\n    }\n\n    .dataframe thead th {\n        text-align: right;\n    }\n</style>\n<table border=\"1\" class=\"dataframe\">\n  <thead>\n    <tr style=\"text-align: right;\">\n      <th></th>\n      <th>name</th>\n      <th>precision</th>\n      <th>recall</th>\n      <th>f1-score</th>\n      <th>support</th>\n    </tr>\n  </thead>\n  <tbody>\n    <tr>\n      <th>113</th>\n      <td>CountVectorizer ngram_range=(6, 6) analyzer=char</td>\n      <td>0.709594</td>\n      <td>0.705722</td>\n      <td>0.706322</td>\n      <td>18000</td>\n    </tr>\n    <tr>\n      <th>112</th>\n      <td>CountVectorizer ngram_range=(5, 6) analyzer=char</td>\n      <td>0.709258</td>\n      <td>0.704667</td>\n      <td>0.705145</td>\n      <td>18000</td>\n    </tr>\n    <tr>\n      <th>110</th>\n      <td>CountVectorizer ngram_range=(4, 6) analyzer=char</td>\n      <td>0.708820</td>\n      <td>0.702722</td>\n      <td>0.703493</td>\n      <td>18000</td>\n    </tr>\n    <tr>\n      <th>107</th>\n      <td>CountVectorizer ngram_range=(3, 6) analyzer=char</td>\n      <td>0.707118</td>\n      <td>0.700111</td>\n      <td>0.701035</td>\n      <td>18000</td>\n    </tr>\n    <tr>\n      <th>111</th>\n      <td>CountVectorizer ngram_range=(5, 5) analyzer=char</td>\n      <td>0.705747</td>\n      <td>0.699944</td>\n      <td>0.700654</td>\n      <td>18000</td>\n    </tr>\n    <tr>\n      <th>103</th>\n      <td>CountVectorizer ngram_range=(2, 6) analyzer=char</td>\n      <td>0.707112</td>\n      <td>0.699000</td>\n      <td>0.700048</td>\n      <td>18000</td>\n    </tr>\n    <tr>\n      <th>109</th>\n      <td>CountVectorizer ngram_range=(4, 5) analyzer=char</td>\n      <td>0.705569</td>\n      <td>0.698500</td>\n      <td>0.699375</td>\n      <td>18000</td>\n    </tr>\n    <tr>\n      <th>106</th>\n      <td>CountVectorizer ngram_range=(3, 5) analyzer=char</td>\n      <td>0.702779</td>\n      <td>0.694500</td>\n      <td>0.695590</td>\n      <td>18000</td>\n    </tr>\n    <tr>\n      <th>108</th>\n      <td>CountVectorizer ngram_range=(4, 4) analyzer=char</td>\n      <td>0.700184</td>\n      <td>0.692333</td>\n      <td>0.693363</td>\n      <td>18000</td>\n    </tr>\n    <tr>\n      <th>102</th>\n      <td>CountVectorizer ngram_range=(2, 5) analyzer=char</td>\n      <td>0.701149</td>\n      <td>0.691667</td>\n      <td>0.692925</td>\n      <td>18000</td>\n    </tr>\n    <tr>\n      <th>105</th>\n      <td>CountVectorizer ngram_range=(3, 4) analyzer=char</td>\n      <td>0.694854</td>\n      <td>0.685778</td>\n      <td>0.687036</td>\n      <td>18000</td>\n    </tr>\n    <tr>\n      <th>101</th>\n      <td>CountVectorizer ngram_range=(2, 4) analyzer=char</td>\n      <td>0.691348</td>\n      <td>0.680111</td>\n      <td>0.681686</td>\n      <td>18000</td>\n    </tr>\n    <tr>\n      <th>0</th>\n      <td>CountVectorizer ngram_range=(2, 2) analyzer=word</td>\n      <td>0.673092</td>\n      <td>0.676611</td>\n      <td>0.673074</td>\n      <td>18000</td>\n    </tr>\n    <tr>\n      <th>104</th>\n      <td>CountVectorizer ngram_range=(3, 3) analyzer=char</td>\n      <td>0.685008</td>\n      <td>0.674000</td>\n      <td>0.675682</td>\n      <td>18000</td>\n    </tr>\n    <tr>\n      <th>1</th>\n      <td>CountVectorizer ngram_range=(2, 3) analyzer=word</td>\n      <td>0.664623</td>\n      <td>0.668944</td>\n      <td>0.664239</td>\n      <td>18000</td>\n    </tr>\n  </tbody>\n</table>\n</div>"
     },
     "execution_count": 222,
     "metadata": {},
     "output_type": "execute_result"
    }
   ],
   "source": [
    "combined.sort_values(by='recall', ascending=False).head(15)"
   ],
   "metadata": {
    "collapsed": false,
    "pycharm": {
     "name": "#%%\n"
    }
   }
  },
  {
   "cell_type": "code",
   "execution_count": 223,
   "outputs": [
    {
     "data": {
      "text/plain": "                                                  name  precision    recall  \\\n104   CountVectorizer ngram_range=(3, 3) analyzer=char   0.685008  0.674000   \n10    CountVectorizer ngram_range=(4, 5) analyzer=word   0.524333  0.402667   \n78   TfidfVectorizer max_df=1.0 min_df=0 max_featur...   0.643260  0.637944   \n73   TfidfVectorizer max_df=1.0 min_df=0 max_featur...   0.527410  0.418944   \n7     CountVectorizer ngram_range=(3, 5) analyzer=word   0.562971  0.534278   \n82   TfidfVectorizer max_df=1.0 min_df=0 max_featur...   0.559140  0.507611   \n92   TfidfVectorizer max_df=1.0 min_df=0.025 max_fe...   0.199355  0.295222   \n110   CountVectorizer ngram_range=(4, 6) analyzer=char   0.708820  0.702722   \n108   CountVectorizer ngram_range=(4, 4) analyzer=char   0.700184  0.692333   \n67   TfidfVectorizer max_df=0.3 min_df=0.025 max_fe...   0.199355  0.295222   \n\n     f1-score  support  \n104  0.675682    18000  \n10   0.329883    18000  \n78   0.638625    18000  \n73   0.366263    18000  \n7    0.519073    18000  \n82   0.491500    18000  \n92   0.165981    18000  \n110  0.703493    18000  \n108  0.693363    18000  \n67   0.165981    18000  ",
      "text/html": "<div>\n<style scoped>\n    .dataframe tbody tr th:only-of-type {\n        vertical-align: middle;\n    }\n\n    .dataframe tbody tr th {\n        vertical-align: top;\n    }\n\n    .dataframe thead th {\n        text-align: right;\n    }\n</style>\n<table border=\"1\" class=\"dataframe\">\n  <thead>\n    <tr style=\"text-align: right;\">\n      <th></th>\n      <th>name</th>\n      <th>precision</th>\n      <th>recall</th>\n      <th>f1-score</th>\n      <th>support</th>\n    </tr>\n  </thead>\n  <tbody>\n    <tr>\n      <th>104</th>\n      <td>CountVectorizer ngram_range=(3, 3) analyzer=char</td>\n      <td>0.685008</td>\n      <td>0.674000</td>\n      <td>0.675682</td>\n      <td>18000</td>\n    </tr>\n    <tr>\n      <th>10</th>\n      <td>CountVectorizer ngram_range=(4, 5) analyzer=word</td>\n      <td>0.524333</td>\n      <td>0.402667</td>\n      <td>0.329883</td>\n      <td>18000</td>\n    </tr>\n    <tr>\n      <th>78</th>\n      <td>TfidfVectorizer max_df=1.0 min_df=0 max_featur...</td>\n      <td>0.643260</td>\n      <td>0.637944</td>\n      <td>0.638625</td>\n      <td>18000</td>\n    </tr>\n    <tr>\n      <th>73</th>\n      <td>TfidfVectorizer max_df=1.0 min_df=0 max_featur...</td>\n      <td>0.527410</td>\n      <td>0.418944</td>\n      <td>0.366263</td>\n      <td>18000</td>\n    </tr>\n    <tr>\n      <th>7</th>\n      <td>CountVectorizer ngram_range=(3, 5) analyzer=word</td>\n      <td>0.562971</td>\n      <td>0.534278</td>\n      <td>0.519073</td>\n      <td>18000</td>\n    </tr>\n    <tr>\n      <th>82</th>\n      <td>TfidfVectorizer max_df=1.0 min_df=0 max_featur...</td>\n      <td>0.559140</td>\n      <td>0.507611</td>\n      <td>0.491500</td>\n      <td>18000</td>\n    </tr>\n    <tr>\n      <th>92</th>\n      <td>TfidfVectorizer max_df=1.0 min_df=0.025 max_fe...</td>\n      <td>0.199355</td>\n      <td>0.295222</td>\n      <td>0.165981</td>\n      <td>18000</td>\n    </tr>\n    <tr>\n      <th>110</th>\n      <td>CountVectorizer ngram_range=(4, 6) analyzer=char</td>\n      <td>0.708820</td>\n      <td>0.702722</td>\n      <td>0.703493</td>\n      <td>18000</td>\n    </tr>\n    <tr>\n      <th>108</th>\n      <td>CountVectorizer ngram_range=(4, 4) analyzer=char</td>\n      <td>0.700184</td>\n      <td>0.692333</td>\n      <td>0.693363</td>\n      <td>18000</td>\n    </tr>\n    <tr>\n      <th>67</th>\n      <td>TfidfVectorizer max_df=0.3 min_df=0.025 max_fe...</td>\n      <td>0.199355</td>\n      <td>0.295222</td>\n      <td>0.165981</td>\n      <td>18000</td>\n    </tr>\n  </tbody>\n</table>\n</div>"
     },
     "execution_count": 223,
     "metadata": {},
     "output_type": "execute_result"
    }
   ],
   "source": [
    "combined.sample(10)"
   ],
   "metadata": {
    "collapsed": false,
    "pycharm": {
     "name": "#%%\n"
    }
   }
  },
  {
   "cell_type": "markdown",
   "source": [
    "Как вы видим, лучше всего себя показал `CountVectorizer` по символам с `ngram_range=(6, 6)`."
   ],
   "metadata": {
    "collapsed": false,
    "pycharm": {
     "name": "#%% md\n"
    }
   }
  },
  {
   "cell_type": "markdown",
   "metadata": {
    "id": "5QYTwyMtWhAZ",
    "pycharm": {
     "name": "#%% md\n"
    }
   },
   "source": [
    "## Задание 5.2 Регулярные выражения\n",
    "\n",
    "Регулярные выражения - способ поиска и анализа строк. Например, можно понять, какие даты в наборе строк представлены в формате DD/MM/YYYY, а какие - в других форматах. \n",
    "\n",
    "Или бывает, например, что перед работой с текстом, надо почистить его от своеобразного мусора: упоминаний пользователей, url и так далее.\n",
    "\n",
    "Навык полезный, давайте в нём тоже потренируемся.\n",
    "\n",
    "Для работы с регулярными выражениями есть библиотека **re**"
   ]
  },
  {
   "cell_type": "code",
   "metadata": {
    "id": "VaUW5S4gWhAb",
    "pycharm": {
     "name": "#%%\n"
    }
   },
   "source": [
    "import re"
   ],
   "execution_count": 224,
   "outputs": []
  },
  {
   "cell_type": "markdown",
   "metadata": {
    "id": "D6aYh7Osl8xr",
    "pycharm": {
     "name": "#%% md\n"
    }
   },
   "source": [
    "В регулярных выражениях, кроме привычных символов-букв, есть специальные символы:\n",
    "* **?а** - ноль или один символ **а**\n",
    "* **+а** - один или более символов **а**\n",
    "* **\\*а** - ноль или более символов **а** (не путать с +)\n",
    "* **.** - любое количество любого символа\n",
    "\n",
    "Пример:\n",
    "Выражению \\*a?b. соответствуют последовательности a, ab, abc, aa, aac НО НЕ abb!"
   ]
  },
  {
   "cell_type": "markdown",
   "metadata": {
    "id": "q7zOFFA3l_KQ",
    "pycharm": {
     "name": "#%% md\n"
    }
   },
   "source": [
    "Рассмотрим подробно несколько наиболее полезных функций:"
   ]
  },
  {
   "cell_type": "markdown",
   "metadata": {
    "id": "DbJrUpARWhAd",
    "pycharm": {
     "name": "#%% md\n"
    }
   },
   "source": [
    "### findall\n",
    "возвращает список всех найденных непересекающихся совпадений.\n",
    "\n",
    "Регулярное выражение **ab+c.**: \n",
    "* **a** - просто символ **a**\n",
    "* **b+** - один или более символов **b**\n",
    "* **c** - просто символ **c**\n",
    "* **.** - любой символ\n"
   ]
  },
  {
   "cell_type": "code",
   "metadata": {
    "id": "2athHzKuWhAd",
    "colab": {
     "base_uri": "https://localhost:8080/"
    },
    "outputId": "ff2d7b25-31bb-4877-bd50-95442e6a8158",
    "pycharm": {
     "name": "#%%\n"
    }
   },
   "source": [
    "result = re.findall('ab+c.', 'abcdefghijkabcabcxabc')\n",
    "print(result)"
   ],
   "execution_count": 225,
   "outputs": [
    {
     "name": "stdout",
     "output_type": "stream",
     "text": [
      "['abcd', 'abca']\n"
     ]
    }
   ]
  },
  {
   "cell_type": "markdown",
   "metadata": {
    "id": "A9FpIw5RWhAf",
    "pycharm": {
     "name": "#%% md\n"
    }
   },
   "source": [
    "Вопрос на внимательность: почему нет abcx?\n",
    "- Множества непересекающиеся"
   ]
  },
  {
   "cell_type": "markdown",
   "metadata": {
    "id": "B5ttzoxEWhAg",
    "pycharm": {
     "name": "#%% md\n"
    }
   },
   "source": [
    "**Задание**: вернуть список первых двух букв каждого слова в строке, состоящей из нескольких слов."
   ]
  },
  {
   "cell_type": "code",
   "metadata": {
    "id": "7ZR2AEq3WhAg",
    "pycharm": {
     "name": "#%%\n"
    }
   },
   "source": [
    "text = 'The quick brown fox jumps over the lazy dog.'\n",
    "two_first_letters = re.findall(r'\\w\\w', text)\n",
    "if len(two_first_letters) <= 1:\n",
    "    two_first_letters = []\n",
    "\n",
    "print(two_first_letters)"
   ],
   "execution_count": 226,
   "outputs": [
    {
     "name": "stdout",
     "output_type": "stream",
     "text": [
      "['Th', 'qu', 'ic', 'br', 'ow', 'fo', 'ju', 'mp', 'ov', 'er', 'th', 'la', 'zy', 'do']\n"
     ]
    }
   ]
  },
  {
   "cell_type": "markdown",
   "metadata": {
    "id": "MI18l-l9WhAk",
    "pycharm": {
     "name": "#%% md\n"
    }
   },
   "source": [
    "### split\n",
    "разделяет строку по заданному шаблону\n"
   ]
  },
  {
   "cell_type": "code",
   "metadata": {
    "id": "sVKdRoc1WhAl",
    "colab": {
     "base_uri": "https://localhost:8080/"
    },
    "outputId": "78b5d289-8e8c-4621-fe3c-34aa130c727c",
    "pycharm": {
     "name": "#%%\n"
    }
   },
   "source": [
    "result = re.split(',', 'itsy, bitsy, teenie, weenie')\n",
    "print(result)"
   ],
   "execution_count": 227,
   "outputs": [
    {
     "name": "stdout",
     "output_type": "stream",
     "text": [
      "['itsy', ' bitsy', ' teenie', ' weenie']\n"
     ]
    }
   ]
  },
  {
   "cell_type": "markdown",
   "metadata": {
    "id": "10u5efuSWhAm",
    "pycharm": {
     "name": "#%% md\n"
    }
   },
   "source": [
    "можно указать максимальное количество разбиений"
   ]
  },
  {
   "cell_type": "code",
   "metadata": {
    "id": "9U9EQZMwWhAn",
    "colab": {
     "base_uri": "https://localhost:8080/"
    },
    "outputId": "45699604-9950-4185-cd4f-0e3ad6655629",
    "pycharm": {
     "name": "#%%\n"
    }
   },
   "source": [
    "result = re.split(',', 'itsy, bitsy, teenie, weenie', maxsplit=2)\n",
    "print(result)"
   ],
   "execution_count": 228,
   "outputs": [
    {
     "name": "stdout",
     "output_type": "stream",
     "text": [
      "['itsy', ' bitsy', ' teenie, weenie']\n"
     ]
    }
   ]
  },
  {
   "cell_type": "markdown",
   "metadata": {
    "id": "0EMcMyflWhAp",
    "pycharm": {
     "name": "#%% md\n"
    }
   },
   "source": [
    "**Задание**: разбейте строку, состоящую из нескольких предложений, по точкам, но не более чем на 3 предложения."
   ]
  },
  {
   "cell_type": "code",
   "metadata": {
    "id": "dVgPSjEOWhAp",
    "pycharm": {
     "name": "#%%\n"
    }
   },
   "source": [
    "multiple_sentences_text = 'aboba. bebra. aboba bebra. lol. kek.'\n",
    "re.split(r'\\.', multiple_sentences_text, maxsplit=2)"
   ],
   "execution_count": 229,
   "outputs": [
    {
     "data": {
      "text/plain": "['aboba', ' bebra', ' aboba bebra. lol. kek.']"
     },
     "execution_count": 229,
     "metadata": {},
     "output_type": "execute_result"
    }
   ]
  },
  {
   "cell_type": "markdown",
   "metadata": {
    "id": "1wrEGqBSWhAr",
    "pycharm": {
     "name": "#%% md\n"
    }
   },
   "source": [
    "### sub\n",
    "ищет шаблон в строке и заменяет все совпадения на указанную подстроку\n",
    "\n",
    "параметры: (pattern, repl, string)"
   ]
  },
  {
   "cell_type": "code",
   "metadata": {
    "id": "az3KxKWwWhAr",
    "colab": {
     "base_uri": "https://localhost:8080/"
    },
    "outputId": "93f260be-ce79-405c-b21a-5ca8345ff4b7",
    "pycharm": {
     "name": "#%%\n"
    }
   },
   "source": [
    "result = re.sub('a', 'b', 'abcabc')\n",
    "print (result)"
   ],
   "execution_count": 230,
   "outputs": [
    {
     "name": "stdout",
     "output_type": "stream",
     "text": [
      "bbcbbc\n"
     ]
    }
   ]
  },
  {
   "cell_type": "markdown",
   "metadata": {
    "id": "qD0n7_HPWhAt",
    "pycharm": {
     "name": "#%% md\n"
    }
   },
   "source": [
    "**Задание**: напишите регулярное выражение, которое позволит заменить все цифры в строке на \"DIG\"."
   ]
  },
  {
   "cell_type": "code",
   "metadata": {
    "id": "s_Sdu7xlWhAu",
    "pycharm": {
     "name": "#%%\n"
    }
   },
   "source": [
    "digits_text = '322 is really good number'\n",
    "re.sub(r'\\d', 'DIG', digits_text)"
   ],
   "execution_count": 231,
   "outputs": [
    {
     "data": {
      "text/plain": "'DIGDIGDIG is really good number'"
     },
     "execution_count": 231,
     "metadata": {},
     "output_type": "execute_result"
    }
   ]
  },
  {
   "cell_type": "markdown",
   "metadata": {
    "id": "b8__oi1PWhAv",
    "pycharm": {
     "name": "#%% md\n"
    }
   },
   "source": [
    "**Задание**: напишите  регулярное выражение, которое позволит убрать url из строки."
   ]
  },
  {
   "cell_type": "code",
   "metadata": {
    "id": "KwNS9zt4WhAv",
    "pycharm": {
     "name": "#%%\n"
    }
   },
   "source": [
    "# Регулярная довольно тупая, в ней довольно легко можно найти лазейку, но нормальная\n",
    "# Будет очень большой и сложной\n",
    "\n",
    "url_text = 'https://aboba.com is my awesome web site'\n",
    "re.sub(r'https?://(www\\.)?[\\w\\d.:?/=]+', '', url_text).strip()"
   ],
   "execution_count": 232,
   "outputs": [
    {
     "data": {
      "text/plain": "'is my awesome web site'"
     },
     "execution_count": 232,
     "metadata": {},
     "output_type": "execute_result"
    }
   ]
  },
  {
   "cell_type": "markdown",
   "metadata": {
    "id": "gStgBJy2WhAx",
    "pycharm": {
     "name": "#%% md\n"
    }
   },
   "source": [
    "### compile\n",
    "компилирует регулярное выражение в отдельный объект"
   ]
  },
  {
   "cell_type": "code",
   "metadata": {
    "id": "JstTupisWhAy",
    "colab": {
     "base_uri": "https://localhost:8080/"
    },
    "outputId": "f60e13a6-9d93-46e5-f329-620f6072715f",
    "pycharm": {
     "name": "#%%\n"
    }
   },
   "source": [
    "# Пример: построение списка всех слов строки:\n",
    "prog = re.compile('[А-Яа-яё\\-]+')\n",
    "prog.findall(\"Слова? Да, больше, ещё больше слов! Что-то ещё.\")"
   ],
   "execution_count": 233,
   "outputs": [
    {
     "name": "stderr",
     "output_type": "stream",
     "text": [
      "<>:2: DeprecationWarning: invalid escape sequence \\-\n",
      "<>:2: DeprecationWarning: invalid escape sequence \\-\n",
      "/var/folders/cz/rsh24k2d5sq_37dlsjbd5mb40000gn/T/ipykernel_47646/1061151323.py:2: DeprecationWarning: invalid escape sequence \\-\n",
      "  prog = re.compile('[А-Яа-яё\\-]+')\n"
     ]
    },
    {
     "data": {
      "text/plain": "['Слова', 'Да', 'больше', 'ещё', 'больше', 'слов', 'Что-то', 'ещё']"
     },
     "execution_count": 233,
     "metadata": {},
     "output_type": "execute_result"
    }
   ]
  },
  {
   "cell_type": "markdown",
   "metadata": {
    "id": "WXEXc3G0WhA2",
    "pycharm": {
     "name": "#%% md\n"
    }
   },
   "source": [
    "**Задание**: для выбранной строки постройте список слов, которые длиннее трех символов."
   ]
  },
  {
   "cell_type": "code",
   "metadata": {
    "id": "nFvnIWbUWhA2",
    "pycharm": {
     "name": "#%%\n"
    }
   },
   "source": [
    "more_than_three_letters = re.compile(r'\\w{4,}')\n",
    "more_than_three_letters.findall('aboba bebra aboba bebra lol kek')"
   ],
   "execution_count": 234,
   "outputs": [
    {
     "data": {
      "text/plain": "['aboba', 'bebra', 'aboba', 'bebra']"
     },
     "execution_count": 234,
     "metadata": {},
     "output_type": "execute_result"
    }
   ]
  },
  {
   "cell_type": "markdown",
   "metadata": {
    "id": "SQDNZ3HQWhA3",
    "pycharm": {
     "name": "#%% md\n"
    }
   },
   "source": [
    "**Задание**: вернуть список доменов (@gmail.com) из списка адресов электронной почты:\n",
    "\n",
    "```\n",
    "abc.test@gmail.com, xyz@test.in, test.first@analyticsvidhya.com, first.test@rest.biz\n",
    "```"
   ]
  },
  {
   "cell_type": "code",
   "execution_count": 235,
   "outputs": [
    {
     "data": {
      "text/plain": "['@gmail.com', '@test.in', '@analyticsvidhya.com', '@rest.biz']"
     },
     "execution_count": 235,
     "metadata": {},
     "output_type": "execute_result"
    }
   ],
   "source": [
    "domains = \"abc.test@gmail.com, xyz@test.in, test.first@analyticsvidhya.com, first.test@rest.biz\"\n",
    "domains_pattern = re.compile(r'@[\\w\\d.]+')\n",
    "domains_pattern.findall(domains)"
   ],
   "metadata": {
    "collapsed": false,
    "pycharm": {
     "name": "#%%\n"
    }
   }
  },
  {
   "cell_type": "code",
   "execution_count": 235,
   "outputs": [],
   "source": [],
   "metadata": {
    "collapsed": false,
    "pycharm": {
     "name": "#%%\n"
    }
   }
  }
 ]
}