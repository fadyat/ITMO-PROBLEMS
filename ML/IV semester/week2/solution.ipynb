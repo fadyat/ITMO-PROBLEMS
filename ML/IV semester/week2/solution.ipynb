{
 "cells": [
  {
   "cell_type": "markdown",
   "id": "d3113c8f",
   "metadata": {},
   "source": [
    "![](data/1.png)"
   ]
  },
  {
   "cell_type": "code",
   "execution_count": 1,
   "id": "4ce8ecea",
   "metadata": {},
   "outputs": [],
   "source": [
    "import pandas as pd"
   ]
  },
  {
   "cell_type": "code",
   "execution_count": 2,
   "id": "f688525c",
   "metadata": {},
   "outputs": [
    {
     "data": {
      "text/html": [
       "<div>\n",
       "<style scoped>\n",
       "    .dataframe tbody tr th:only-of-type {\n",
       "        vertical-align: middle;\n",
       "    }\n",
       "\n",
       "    .dataframe tbody tr th {\n",
       "        vertical-align: top;\n",
       "    }\n",
       "\n",
       "    .dataframe thead th {\n",
       "        text-align: right;\n",
       "    }\n",
       "</style>\n",
       "<table border=\"1\" class=\"dataframe\">\n",
       "  <thead>\n",
       "    <tr style=\"text-align: right;\">\n",
       "      <th></th>\n",
       "      <th>mip</th>\n",
       "      <th>stdip</th>\n",
       "      <th>ekip</th>\n",
       "      <th>sip</th>\n",
       "      <th>mc</th>\n",
       "      <th>stdc</th>\n",
       "      <th>ekc</th>\n",
       "      <th>sc</th>\n",
       "      <th>target</th>\n",
       "    </tr>\n",
       "  </thead>\n",
       "  <tbody>\n",
       "    <tr>\n",
       "      <th>0</th>\n",
       "      <td>137.218750</td>\n",
       "      <td>45.390655</td>\n",
       "      <td>0.034985</td>\n",
       "      <td>0.134409</td>\n",
       "      <td>3.204013</td>\n",
       "      <td>17.177857</td>\n",
       "      <td>7.494588</td>\n",
       "      <td>74.003104</td>\n",
       "      <td>0</td>\n",
       "    </tr>\n",
       "    <tr>\n",
       "      <th>1</th>\n",
       "      <td>93.773438</td>\n",
       "      <td>41.883062</td>\n",
       "      <td>0.371402</td>\n",
       "      <td>1.291232</td>\n",
       "      <td>1.482441</td>\n",
       "      <td>12.959050</td>\n",
       "      <td>12.242911</td>\n",
       "      <td>180.158844</td>\n",
       "      <td>0</td>\n",
       "    </tr>\n",
       "    <tr>\n",
       "      <th>2</th>\n",
       "      <td>73.632812</td>\n",
       "      <td>35.461218</td>\n",
       "      <td>1.153607</td>\n",
       "      <td>4.161082</td>\n",
       "      <td>2.099498</td>\n",
       "      <td>13.057474</td>\n",
       "      <td>10.013591</td>\n",
       "      <td>140.894151</td>\n",
       "      <td>0</td>\n",
       "    </tr>\n",
       "    <tr>\n",
       "      <th>3</th>\n",
       "      <td>93.429688</td>\n",
       "      <td>39.883166</td>\n",
       "      <td>0.602060</td>\n",
       "      <td>1.518548</td>\n",
       "      <td>2.475753</td>\n",
       "      <td>14.146578</td>\n",
       "      <td>8.770640</td>\n",
       "      <td>107.970173</td>\n",
       "      <td>0</td>\n",
       "    </tr>\n",
       "    <tr>\n",
       "      <th>4</th>\n",
       "      <td>131.625000</td>\n",
       "      <td>44.111896</td>\n",
       "      <td>0.108905</td>\n",
       "      <td>0.239879</td>\n",
       "      <td>33.888796</td>\n",
       "      <td>70.398342</td>\n",
       "      <td>1.689460</td>\n",
       "      <td>1.031847</td>\n",
       "      <td>0</td>\n",
       "    </tr>\n",
       "  </tbody>\n",
       "</table>\n",
       "</div>"
      ],
      "text/plain": [
       "          mip      stdip      ekip       sip         mc       stdc        ekc  \\\n",
       "0  137.218750  45.390655  0.034985  0.134409   3.204013  17.177857   7.494588   \n",
       "1   93.773438  41.883062  0.371402  1.291232   1.482441  12.959050  12.242911   \n",
       "2   73.632812  35.461218  1.153607  4.161082   2.099498  13.057474  10.013591   \n",
       "3   93.429688  39.883166  0.602060  1.518548   2.475753  14.146578   8.770640   \n",
       "4  131.625000  44.111896  0.108905  0.239879  33.888796  70.398342   1.689460   \n",
       "\n",
       "           sc  target  \n",
       "0   74.003104       0  \n",
       "1  180.158844       0  \n",
       "2  140.894151       0  \n",
       "3  107.970173       0  \n",
       "4    1.031847       0  "
      ]
     },
     "execution_count": 2,
     "metadata": {},
     "output_type": "execute_result"
    }
   ],
   "source": [
    "df = pd.read_csv('data/pulsar_stars.csv')\n",
    "df.head()"
   ]
  },
  {
   "cell_type": "code",
   "execution_count": 3,
   "id": "a5f97b90",
   "metadata": {},
   "outputs": [],
   "source": [
    "first = (df.query('target == 0')\n",
    "  .query('82.9453125 <= mip')\n",
    "  .query('mip <= 84.3515625'))"
   ]
  },
  {
   "cell_type": "code",
   "execution_count": 4,
   "id": "9787492f",
   "metadata": {},
   "outputs": [],
   "source": [
    "second = (df.query('target == 1')\n",
    "  .query('83.7734375 <= mip')\n",
    "  .query('mip <= 92.6015625'))"
   ]
  },
  {
   "cell_type": "code",
   "execution_count": 5,
   "id": "32e32cd3",
   "metadata": {},
   "outputs": [
    {
     "data": {
      "text/plain": [
       "202"
      ]
     },
     "execution_count": 5,
     "metadata": {},
     "output_type": "execute_result"
    }
   ],
   "source": [
    "final_frame = first.append(second)\n",
    "final_frame.shape[0]"
   ]
  },
  {
   "cell_type": "markdown",
   "id": "60526cac",
   "metadata": {},
   "source": [
    "![](data/2.png)"
   ]
  },
  {
   "cell_type": "code",
   "execution_count": 6,
   "id": "841c4d18",
   "metadata": {},
   "outputs": [
    {
     "data": {
      "text/plain": [
       "85.78925587871286"
      ]
     },
     "execution_count": 6,
     "metadata": {},
     "output_type": "execute_result"
    }
   ],
   "source": [
    "final_frame['mip'].mean()"
   ]
  },
  {
   "cell_type": "markdown",
   "id": "fda725b2",
   "metadata": {},
   "source": [
    "![](data/3.png)"
   ]
  },
  {
   "cell_type": "code",
   "execution_count": 7,
   "id": "119e4784",
   "metadata": {},
   "outputs": [],
   "source": [
    "from sklearn import preprocessing"
   ]
  },
  {
   "cell_type": "code",
   "execution_count": 8,
   "id": "40ef92b8",
   "metadata": {},
   "outputs": [
    {
     "data": {
      "text/html": [
       "<div>\n",
       "<style scoped>\n",
       "    .dataframe tbody tr th:only-of-type {\n",
       "        vertical-align: middle;\n",
       "    }\n",
       "\n",
       "    .dataframe tbody tr th {\n",
       "        vertical-align: top;\n",
       "    }\n",
       "\n",
       "    .dataframe thead th {\n",
       "        text-align: right;\n",
       "    }\n",
       "</style>\n",
       "<table border=\"1\" class=\"dataframe\">\n",
       "  <thead>\n",
       "    <tr style=\"text-align: right;\">\n",
       "      <th></th>\n",
       "      <th>mip</th>\n",
       "      <th>stdip</th>\n",
       "      <th>ekip</th>\n",
       "      <th>sip</th>\n",
       "      <th>mc</th>\n",
       "      <th>stdc</th>\n",
       "      <th>ekc</th>\n",
       "      <th>sc</th>\n",
       "    </tr>\n",
       "  </thead>\n",
       "  <tbody>\n",
       "    <tr>\n",
       "      <th>280</th>\n",
       "      <td>83.679688</td>\n",
       "      <td>36.379281</td>\n",
       "      <td>0.572532</td>\n",
       "      <td>2.664611</td>\n",
       "      <td>4.040970</td>\n",
       "      <td>23.169129</td>\n",
       "      <td>7.006681</td>\n",
       "      <td>53.514005</td>\n",
       "    </tr>\n",
       "    <tr>\n",
       "      <th>342</th>\n",
       "      <td>84.039062</td>\n",
       "      <td>38.943951</td>\n",
       "      <td>0.668007</td>\n",
       "      <td>1.586058</td>\n",
       "      <td>1.793478</td>\n",
       "      <td>13.494579</td>\n",
       "      <td>11.433532</td>\n",
       "      <td>161.907833</td>\n",
       "    </tr>\n",
       "    <tr>\n",
       "      <th>385</th>\n",
       "      <td>84.273438</td>\n",
       "      <td>38.399975</td>\n",
       "      <td>0.662579</td>\n",
       "      <td>1.778425</td>\n",
       "      <td>2.984114</td>\n",
       "      <td>16.690291</td>\n",
       "      <td>8.407608</td>\n",
       "      <td>86.913036</td>\n",
       "    </tr>\n",
       "    <tr>\n",
       "      <th>406</th>\n",
       "      <td>83.968750</td>\n",
       "      <td>32.786939</td>\n",
       "      <td>0.972955</td>\n",
       "      <td>4.940515</td>\n",
       "      <td>1.638796</td>\n",
       "      <td>11.934603</td>\n",
       "      <td>12.157317</td>\n",
       "      <td>199.321879</td>\n",
       "    </tr>\n",
       "    <tr>\n",
       "      <th>445</th>\n",
       "      <td>83.531250</td>\n",
       "      <td>42.521674</td>\n",
       "      <td>0.581761</td>\n",
       "      <td>1.230803</td>\n",
       "      <td>3.428094</td>\n",
       "      <td>17.796434</td>\n",
       "      <td>7.050442</td>\n",
       "      <td>61.662594</td>\n",
       "    </tr>\n",
       "  </tbody>\n",
       "</table>\n",
       "</div>"
      ],
      "text/plain": [
       "           mip      stdip      ekip       sip        mc       stdc        ekc  \\\n",
       "280  83.679688  36.379281  0.572532  2.664611  4.040970  23.169129   7.006681   \n",
       "342  84.039062  38.943951  0.668007  1.586058  1.793478  13.494579  11.433532   \n",
       "385  84.273438  38.399975  0.662579  1.778425  2.984114  16.690291   8.407608   \n",
       "406  83.968750  32.786939  0.972955  4.940515  1.638796  11.934603  12.157317   \n",
       "445  83.531250  42.521674  0.581761  1.230803  3.428094  17.796434   7.050442   \n",
       "\n",
       "             sc  \n",
       "280   53.514005  \n",
       "342  161.907833  \n",
       "385   86.913036  \n",
       "406  199.321879  \n",
       "445   61.662594  "
      ]
     },
     "execution_count": 8,
     "metadata": {},
     "output_type": "execute_result"
    }
   ],
   "source": [
    "df_norm = final_frame.drop('target', axis = 1)\n",
    "names = df_norm.columns\n",
    "df_norm.head()"
   ]
  },
  {
   "cell_type": "code",
   "execution_count": 9,
   "id": "9d5e89bc",
   "metadata": {},
   "outputs": [],
   "source": [
    "scaler = preprocessing.MinMaxScaler()"
   ]
  },
  {
   "cell_type": "code",
   "execution_count": 10,
   "id": "bc96e876",
   "metadata": {},
   "outputs": [],
   "source": [
    "normalized = scaler.fit_transform(df_norm)"
   ]
  },
  {
   "cell_type": "code",
   "execution_count": 11,
   "id": "63682f09",
   "metadata": {},
   "outputs": [],
   "source": [
    "scaled_df = pd.DataFrame(normalized, columns=names)"
   ]
  },
  {
   "cell_type": "code",
   "execution_count": 12,
   "id": "3eb576d4",
   "metadata": {},
   "outputs": [
    {
     "data": {
      "text/html": [
       "<div>\n",
       "<style scoped>\n",
       "    .dataframe tbody tr th:only-of-type {\n",
       "        vertical-align: middle;\n",
       "    }\n",
       "\n",
       "    .dataframe tbody tr th {\n",
       "        vertical-align: top;\n",
       "    }\n",
       "\n",
       "    .dataframe thead th {\n",
       "        text-align: right;\n",
       "    }\n",
       "</style>\n",
       "<table border=\"1\" class=\"dataframe\">\n",
       "  <thead>\n",
       "    <tr style=\"text-align: right;\">\n",
       "      <th></th>\n",
       "      <th>mip</th>\n",
       "      <th>stdip</th>\n",
       "      <th>ekip</th>\n",
       "      <th>sip</th>\n",
       "      <th>mc</th>\n",
       "      <th>stdc</th>\n",
       "      <th>ekc</th>\n",
       "      <th>sc</th>\n",
       "    </tr>\n",
       "  </thead>\n",
       "  <tbody>\n",
       "    <tr>\n",
       "      <th>0</th>\n",
       "      <td>0.076052</td>\n",
       "      <td>0.106541</td>\n",
       "      <td>0.108946</td>\n",
       "      <td>0.270927</td>\n",
       "      <td>0.022596</td>\n",
       "      <td>0.152646</td>\n",
       "      <td>0.327457</td>\n",
       "      <td>0.089913</td>\n",
       "    </tr>\n",
       "    <tr>\n",
       "      <th>1</th>\n",
       "      <td>0.113269</td>\n",
       "      <td>0.166718</td>\n",
       "      <td>0.150221</td>\n",
       "      <td>0.190422</td>\n",
       "      <td>0.008328</td>\n",
       "      <td>0.049772</td>\n",
       "      <td>0.510031</td>\n",
       "      <td>0.265987</td>\n",
       "    </tr>\n",
       "    <tr>\n",
       "      <th>2</th>\n",
       "      <td>0.137540</td>\n",
       "      <td>0.153954</td>\n",
       "      <td>0.147875</td>\n",
       "      <td>0.204781</td>\n",
       "      <td>0.015887</td>\n",
       "      <td>0.083754</td>\n",
       "      <td>0.385235</td>\n",
       "      <td>0.144166</td>\n",
       "    </tr>\n",
       "    <tr>\n",
       "      <th>3</th>\n",
       "      <td>0.105987</td>\n",
       "      <td>0.022251</td>\n",
       "      <td>0.282054</td>\n",
       "      <td>0.440805</td>\n",
       "      <td>0.007346</td>\n",
       "      <td>0.033184</td>\n",
       "      <td>0.539882</td>\n",
       "      <td>0.326763</td>\n",
       "    </tr>\n",
       "    <tr>\n",
       "      <th>4</th>\n",
       "      <td>0.060680</td>\n",
       "      <td>0.250665</td>\n",
       "      <td>0.112936</td>\n",
       "      <td>0.163905</td>\n",
       "      <td>0.018706</td>\n",
       "      <td>0.095516</td>\n",
       "      <td>0.329261</td>\n",
       "      <td>0.103149</td>\n",
       "    </tr>\n",
       "  </tbody>\n",
       "</table>\n",
       "</div>"
      ],
      "text/plain": [
       "        mip     stdip      ekip       sip        mc      stdc       ekc  \\\n",
       "0  0.076052  0.106541  0.108946  0.270927  0.022596  0.152646  0.327457   \n",
       "1  0.113269  0.166718  0.150221  0.190422  0.008328  0.049772  0.510031   \n",
       "2  0.137540  0.153954  0.147875  0.204781  0.015887  0.083754  0.385235   \n",
       "3  0.105987  0.022251  0.282054  0.440805  0.007346  0.033184  0.539882   \n",
       "4  0.060680  0.250665  0.112936  0.163905  0.018706  0.095516  0.329261   \n",
       "\n",
       "         sc  \n",
       "0  0.089913  \n",
       "1  0.265987  \n",
       "2  0.144166  \n",
       "3  0.326763  \n",
       "4  0.103149  "
      ]
     },
     "execution_count": 12,
     "metadata": {},
     "output_type": "execute_result"
    }
   ],
   "source": [
    "scaled_df.head()"
   ]
  },
  {
   "cell_type": "code",
   "execution_count": 13,
   "id": "5ea485c9",
   "metadata": {},
   "outputs": [
    {
     "data": {
      "text/plain": [
       "0.2945184081514949"
      ]
     },
     "execution_count": 13,
     "metadata": {},
     "output_type": "execute_result"
    }
   ],
   "source": [
    "scaled_df['mip'].mean()"
   ]
  },
  {
   "cell_type": "markdown",
   "id": "7b5fd75c",
   "metadata": {},
   "source": [
    "![](data/4.png)"
   ]
  },
  {
   "cell_type": "code",
   "execution_count": 14,
   "id": "435cb3e1",
   "metadata": {},
   "outputs": [],
   "source": [
    "import math"
   ]
  },
  {
   "cell_type": "code",
   "execution_count": 15,
   "id": "19d0428c",
   "metadata": {},
   "outputs": [],
   "source": [
    "star = [0.337, 0.513, 0.425, 0.036,\n",
    "        0.928, 0.721, 0.714, 0.261]"
   ]
  },
  {
   "cell_type": "code",
   "execution_count": 16,
   "id": "e920575d",
   "metadata": {},
   "outputs": [
    {
     "data": {
      "text/plain": [
       "0.7828460858809095"
      ]
     },
     "execution_count": 16,
     "metadata": {},
     "output_type": "execute_result"
    }
   ],
   "source": [
    "min_dist = 1e9\n",
    "total_data = scaled_df.values\n",
    "i = 0\n",
    "while i < len(total_data):\n",
    "    current_dist = 0\n",
    "    for j in range(8):\n",
    "        current_dist += (total_data[i][j] - star[j]) ** 2\n",
    "    min_dist = min(min_dist, math.sqrt(current_dist))\n",
    "    i += 1\n",
    "min_dist"
   ]
  }
 ],
 "metadata": {
  "kernelspec": {
   "display_name": "Python 3.9.7 ('base')",
   "language": "python",
   "name": "python397jvsc74a57bd040d3a090f54c6569ab1632332b64b2c03c39dcf918b08424e98f38b5ae0af88f"
  },
  "language_info": {
   "codemirror_mode": {
    "name": "ipython",
    "version": 3
   },
   "file_extension": ".py",
   "mimetype": "text/x-python",
   "name": "python",
   "nbconvert_exporter": "python",
   "pygments_lexer": "ipython3",
   "version": "3.9.7"
  }
 },
 "nbformat": 4,
 "nbformat_minor": 5
}
