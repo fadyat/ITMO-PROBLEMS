{
 "cells": [
  {
   "attachments": {},
   "cell_type": "markdown",
   "id": "16c4e978",
   "metadata": {},
   "source": [
    "### Дихотомия\n",
    "\n",
    "- Берем середину\n",
    "\n",
    "- Берем $\\delta$ - величину отступа\n",
    "\n",
    "- $\\epsilon$ - точность\n",
    "\n",
    "- $x_1 = {(a_i + b_i) \\over 2} - \\delta$\n",
    "\n",
    "- $x_1 = {(a_i + b_i) \\over 2} + \\delta$\n",
    "\n",
    "- Сравниваем значения и сокращаем отрезок\n",
    "\n",
    "- $\\log({(b_0 - a_0) \\over \\epsilon}) \\ \\log(2)$ - число итераций\n",
    "\n",
    "- $2$ вычисления функции"
   ]
  },
  {
   "cell_type": "markdown",
   "id": "0b365962",
   "metadata": {},
   "source": [
    "### Золотое сечение\n",
    "\n",
    "- такое деление отрезка, если отношение меньшей части к большей такое же, как отношение большей части ко всей длине отрезка\n",
    "\n",
    "${3 - \\sqrt 5 \\over 2} \\approx 0.318$\n",
    "\n",
    "- 1 подсчет функции на каждой итерации\n",
    "- больше итераций"
   ]
  },
  {
   "cell_type": "markdown",
   "id": "28c44dc4",
   "metadata": {},
   "source": [
    "### Метод Фиббоначи\n",
    "\n",
    "- 2 раза на первой итерации\n",
    "- 1 раз на последующих\n",
    "- коэффициент сокращения будет меняться с каждой итерацией\n",
    "\n",
    "поместим точку $x_4$ симметрично относительно $x_2$ внутри $(a; b)$\n",
    "\n",
    "- помещаем новую точку относительно имеющейся точки в интервале\n",
    "\n",
    "\n"
   ]
  }
 ],
 "metadata": {
  "kernelspec": {
   "display_name": "Python 3.9.7 ('base')",
   "language": "python",
   "name": "python397jvsc74a57bd040d3a090f54c6569ab1632332b64b2c03c39dcf918b08424e98f38b5ae0af88f"
  },
  "language_info": {
   "codemirror_mode": {
    "name": "ipython",
    "version": 3
   },
   "file_extension": ".py",
   "mimetype": "text/x-python",
   "name": "python",
   "nbconvert_exporter": "python",
   "pygments_lexer": "ipython3",
   "version": "3.9.7"
  }
 },
 "nbformat": 4,
 "nbformat_minor": 5
}
