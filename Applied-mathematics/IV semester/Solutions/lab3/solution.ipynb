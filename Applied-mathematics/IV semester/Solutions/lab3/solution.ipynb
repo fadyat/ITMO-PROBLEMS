{
 "cells": [
  {
   "cell_type": "code",
   "execution_count": 1,
   "outputs": [],
   "source": [
    "import numpy as np\n",
    "from scipy.sparse import lil_matrix as csr\n",
    "\n",
    "\n",
    "class MatrixDecomposition:\n",
    "\n",
    "    def __init__(self, a):\n",
    "        self.n = len(a)\n",
    "        self.a = csr(a, dtype=float)\n",
    "        self.l = csr((self.n, self.n), dtype=float)\n",
    "        self.u = csr(np.eye(self.n), dtype=float)\n",
    "        self._create_lu()\n",
    "\n",
    "    def _create_lu(self):\n",
    "        for i in range(self.n):\n",
    "            for j in range(self.n):\n",
    "                s = sum([self.l[i, k] * self.u[k, j] for k in range(min(j, i))])\n",
    "                if i <= j:\n",
    "                    self.u[i, j] = self.a[i, j] - s\n",
    "                else:\n",
    "                    self.l[i, j] = (self.a[i, j] - s) / self.u[j, j]\n",
    "\n",
    "    def solve_by_gauss(self, b):\n",
    "        # finding solutions ly = b\n",
    "        y = np.zeros(self.n)\n",
    "        for i in range(self.n):\n",
    "            s = sum([self.l[i, j] * y[j] for j in range(i)])\n",
    "            y[i] = b[i] - s\n",
    "\n",
    "        # finding solution for ux = y\n",
    "        x = np.zeros(self.n)\n",
    "        for i in reversed(range(self.n)):\n",
    "            s = sum([self.u[i, j] * x[j] for j in range(i + 1, self.n)])\n",
    "            x[i] = (y[i] - s) / self.u[i, i]\n",
    "\n",
    "        return x\n",
    "\n",
    "    def inverse_matrix(self):\n",
    "        eye = np.eye(self.n)\n",
    "        inv = np.array([self.solve_by_gauss(eye[i]) for i in range(self.n)])\n",
    "        return inv.transpose()\n",
    "\n",
    "    def solve_by_seidel(self, b, eps):\n",
    "        x = np.zeros(self.n)\n",
    "        converges = False\n",
    "        while not converges:\n",
    "            for i in range(self.n):\n",
    "                s = sum([self.a[i, j] * x[j] for j in range(self.n) if i != j])\n",
    "                x[i] = (b[i] - s) / self.a[i, i]\n",
    "            norm = 0.0\n",
    "            for i in range(self.n):\n",
    "                s = sum([self.a[i, j] * x[j] for j in range(self.n)])\n",
    "                norm += (s - b[i]) ** 2\n",
    "            if norm <= eps ** 2:\n",
    "                converges = True\n",
    "\n",
    "        return x"
   ],
   "metadata": {
    "collapsed": false,
    "pycharm": {
     "name": "#%%\n"
    }
   }
  },
  {
   "cell_type": "code",
   "execution_count": 2,
   "outputs": [],
   "source": [
    "from random import randrange\n",
    "from scipy.sparse import diags\n",
    "\n",
    "\n",
    "class MatrixGeneration:\n",
    "\n",
    "    @staticmethod\n",
    "    def tridiagonal(n):\n",
    "        r = randrange(2, 10)\n",
    "        k = [(r // 2) * np.ones(n - 1), r * np.ones(n), (r // 2) * np.ones(n - 1)]\n",
    "        offset = [-1, 0, 1]\n",
    "        return diags(k, offset).toarray()\n",
    "\n",
    "    @staticmethod\n",
    "    def hilbert(n):\n",
    "        return np.array([[1 / (i + j + 1) for i in range(n)] for j in range(n)])\n",
    "\n",
    "    @staticmethod\n",
    "    def right(a):\n",
    "        f = np.array([sum(a[i, j] * (j + 1) for j in range(len(a))) for i in range(len(a))])\n",
    "        return f"
   ],
   "metadata": {
    "collapsed": false,
    "pycharm": {
     "name": "#%%\n"
    }
   }
  },
  {
   "cell_type": "code",
   "execution_count": 3,
   "outputs": [],
   "source": [
    "import time\n",
    "from functools import wraps\n",
    "\n",
    "\n",
    "%load_ext memory_profiler\n",
    "\n",
    "def fn_timer(function):\n",
    "    @wraps(function)\n",
    "    def function_timer(*args, **kwargs):\n",
    "        t0 = time.time()\n",
    "        result = function(*args, **kwargs)\n",
    "        t1 = time.time()\n",
    "        print(\"Total time running '%s': %s seconds\" % (function.__name__, str(t1 - t0)))\n",
    "        return result\n",
    "\n",
    "    return function_timer\n",
    "\n",
    "\n",
    "class Analyzer:\n",
    "\n",
    "    @staticmethod\n",
    "    def analyze_tridiagonal():\n",
    "        %memit Analyzer.analyze_gauss(10, MatrixGeneration.tridiagonal)\n",
    "        %memit Analyzer.analyze_seidel(10, MatrixGeneration.tridiagonal)\n",
    "        %memit Analyzer.analyze_gauss(50, MatrixGeneration.tridiagonal)\n",
    "        %memit Analyzer.analyze_seidel(50, MatrixGeneration.tridiagonal)\n",
    "        %memit Analyzer.analyze_gauss(100, MatrixGeneration.tridiagonal)\n",
    "        %memit Analyzer.analyze_seidel(100, MatrixGeneration.tridiagonal)\n",
    "\n",
    "    @staticmethod\n",
    "    def analyze_hilbert():\n",
    "        %memit Analyzer.analyze_gauss(10, MatrixGeneration.hilbert)\n",
    "        %memit Analyzer.analyze_seidel(10, MatrixGeneration.hilbert)\n",
    "        %memit Analyzer.analyze_gauss(50, MatrixGeneration.hilbert)\n",
    "        %memit Analyzer.analyze_seidel(50, MatrixGeneration.hilbert)\n",
    "        %memit Analyzer.analyze_gauss(100, MatrixGeneration.hilbert)\n",
    "        %memit Analyzer.analyze_seidel(100, MatrixGeneration.hilbert)\n",
    "\n",
    "    @staticmethod\n",
    "    @fn_timer\n",
    "    def analyze_gauss(n, method):\n",
    "        print(f'\\'{method.__name__}\\' {n}')\n",
    "        matrix = method(n)\n",
    "        right = MatrixGeneration.right(matrix)\n",
    "        matrix_decomposition = MatrixDecomposition(matrix)\n",
    "        gauss = matrix_decomposition.solve_by_gauss(right)\n",
    "\n",
    "    @staticmethod\n",
    "    @fn_timer\n",
    "    def analyze_seidel(n, method):\n",
    "        print(f'\\'{method.__name__}\\' {n}')\n",
    "        matrix = method(n)\n",
    "        right = MatrixGeneration.right(matrix)\n",
    "        matrix_decomposition = MatrixDecomposition(matrix)\n",
    "        seidel = matrix_decomposition.solve_by_seidel(right, 1e-3)\n"
   ],
   "metadata": {
    "collapsed": false,
    "pycharm": {
     "name": "#%%\n"
    }
   }
  },
  {
   "cell_type": "code",
   "execution_count": 4,
   "outputs": [
    {
     "name": "stdout",
     "output_type": "stream",
     "text": [
      "'tridiagonal' 10\n",
      "Total time running 'analyze_gauss': 0.0045719146728515625 seconds\n",
      "'tridiagonal' 10\n",
      "Total time running 'analyze_gauss': 0.00423121452331543 seconds\n",
      "'tridiagonal' 10\n",
      "Total time running 'analyze_gauss': 0.0038299560546875 seconds\n",
      "peak memory: 94.34 MiB, increment: -2.69 MiB\n",
      "'tridiagonal' 10\n",
      "Total time running 'analyze_seidel': 0.02301788330078125 seconds\n",
      "'tridiagonal' 10\n",
      "Total time running 'analyze_seidel': 0.010744810104370117 seconds\n",
      "'tridiagonal' 10\n",
      "Total time running 'analyze_seidel': 0.03342604637145996 seconds\n",
      "peak memory: 94.66 MiB, increment: -2.19 MiB\n",
      "'tridiagonal' 50\n",
      "Total time running 'analyze_gauss': 0.15100336074829102 seconds\n",
      "'tridiagonal' 50\n",
      "Total time running 'analyze_gauss': 0.15372085571289062 seconds\n",
      "peak memory: 95.27 MiB, increment: -1.69 MiB\n",
      "'tridiagonal' 50\n",
      "Total time running 'analyze_seidel': 4.2965991497039795 seconds\n",
      "peak memory: 97.12 MiB, increment: 0.01 MiB\n",
      "'tridiagonal' 100\n",
      "Total time running 'analyze_gauss': 1.1336050033569336 seconds\n",
      "peak memory: 97.10 MiB, increment: 0.00 MiB\n",
      "'tridiagonal' 100\n",
      "Total time running 'analyze_seidel': 12.89856481552124 seconds\n",
      "peak memory: 97.25 MiB, increment: 0.00 MiB\n"
     ]
    }
   ],
   "source": [
    "Analyzer.analyze_tridiagonal()"
   ],
   "metadata": {
    "collapsed": false,
    "pycharm": {
     "name": "#%%\n"
    }
   }
  },
  {
   "cell_type": "code",
   "execution_count": 5,
   "outputs": [
    {
     "name": "stdout",
     "output_type": "stream",
     "text": [
      "'hilbert' 10\n",
      "Total time running 'analyze_gauss': 0.003874063491821289 seconds\n",
      "'hilbert' 10\n",
      "Total time running 'analyze_gauss': 0.003064870834350586 seconds\n",
      "'hilbert' 10\n",
      "Total time running 'analyze_gauss': 0.003092050552368164 seconds\n",
      "peak memory: 94.57 MiB, increment: -2.81 MiB\n",
      "'hilbert' 10\n",
      "Total time running 'analyze_seidel': 0.08898591995239258 seconds\n",
      "'hilbert' 10\n",
      "Total time running 'analyze_seidel': 0.09050321578979492 seconds\n",
      "peak memory: 95.16 MiB, increment: -1.98 MiB\n",
      "'hilbert' 50\n",
      "Total time running 'analyze_gauss': 0.16630983352661133 seconds\n",
      "'hilbert' 50\n",
      "Total time running 'analyze_gauss': 0.15967988967895508 seconds\n",
      "peak memory: 95.78 MiB, increment: -1.34 MiB\n",
      "'hilbert' 50\n",
      "Total time running 'analyze_seidel': 27.14517879486084 seconds\n",
      "peak memory: 97.60 MiB, increment: 0.00 MiB\n",
      "'hilbert' 100\n",
      "Total time running 'analyze_gauss': 1.2445569038391113 seconds\n",
      "peak memory: 97.52 MiB, increment: 0.00 MiB\n",
      "'hilbert' 100\n",
      "Total time running 'analyze_seidel': 192.78250694274902 seconds\n",
      "peak memory: 98.35 MiB, increment: 0.00 MiB\n"
     ]
    }
   ],
   "source": [
    "Analyzer.analyze_hilbert()"
   ],
   "metadata": {
    "collapsed": false,
    "pycharm": {
     "name": "#%%\n"
    }
   }
  }
 ],
 "metadata": {
  "kernelspec": {
   "display_name": "Python 3",
   "language": "python",
   "name": "python3"
  },
  "language_info": {
   "codemirror_mode": {
    "name": "ipython",
    "version": 2
   },
   "file_extension": ".py",
   "mimetype": "text/x-python",
   "name": "python",
   "nbconvert_exporter": "python",
   "pygments_lexer": "ipython2",
   "version": "2.7.6"
  }
 },
 "nbformat": 4,
 "nbformat_minor": 0
}