{
 "cells": [
  {
   "cell_type": "code",
   "execution_count": 1,
   "outputs": [],
   "source": [
    "import numpy as np\n",
    "from scipy.sparse import lil_matrix as csr\n",
    "\n",
    "\n",
    "class MatrixDecomposition:\n",
    "\n",
    "    def __init__(self, a):\n",
    "        self.n = len(a)\n",
    "        self.a = csr(a, dtype=float)\n",
    "        self.l = csr((self.n, self.n), dtype=float)\n",
    "        self.u = csr(np.eye(self.n), dtype=float)\n",
    "        self._create_lu()\n",
    "\n",
    "    def _create_lu(self):\n",
    "        for i in range(self.n):\n",
    "            for j in range(self.n):\n",
    "                s = sum([self.l[i, k] * self.u[k, j] for k in range(min(j, i))])\n",
    "                if i <= j:\n",
    "                    self.u[i, j] = self.a[i, j] - s\n",
    "                else:\n",
    "                    self.l[i, j] = (self.a[i, j] - s) / self.u[j, j]\n",
    "\n",
    "    def solve_by_gauss(self, b):\n",
    "        # finding solutions ly = b\n",
    "        y = np.zeros(self.n)\n",
    "        for i in range(self.n):\n",
    "            s = sum([self.l[i, j] * y[j] for j in range(i)])\n",
    "            y[i] = b[i] - s\n",
    "\n",
    "        # finding solution for ux = y\n",
    "        x = np.zeros(self.n)\n",
    "        for i in reversed(range(self.n)):\n",
    "            s = sum([self.u[i, j] * x[j] for j in range(i + 1, self.n)])\n",
    "            x[i] = (y[i] - s) / self.u[i, i]\n",
    "\n",
    "        return x\n",
    "\n",
    "    def inverse_matrix(self):\n",
    "        eye = np.eye(self.n)\n",
    "        inv = np.array([self.solve_by_gauss(eye[i]) for i in range(self.n)])\n",
    "        return inv.transpose()\n",
    "\n",
    "    def solve_by_seidel(self, b, eps):\n",
    "        x = np.zeros(self.n)\n",
    "        converges = False\n",
    "        while not converges:\n",
    "            for i in range(self.n):\n",
    "                s = sum([self.a[i, j] * x[j] for j in range(self.n) if i != j])\n",
    "                x[i] = (b[i] - s) / self.a[i, i]\n",
    "            norm = 0.0\n",
    "            for i in range(self.n):\n",
    "                s = sum([self.a[i, j] * x[j] for j in range(self.n)])\n",
    "                norm += (s - b[i]) ** 2\n",
    "            if norm <= eps ** 2:\n",
    "                converges = True\n",
    "\n",
    "        return x"
   ],
   "metadata": {
    "collapsed": false,
    "pycharm": {
     "name": "#%%\n"
    }
   }
  },
  {
   "cell_type": "code",
   "execution_count": 2,
   "outputs": [],
   "source": [
    "from random import randrange\n",
    "from scipy.sparse import diags\n",
    "\n",
    "\n",
    "class MatrixGeneration:\n",
    "\n",
    "    @staticmethod\n",
    "    def tridiagonal(n):\n",
    "        r = randrange(2, 10)\n",
    "        k = [(r // 2) * np.ones(n - 1), r * np.ones(n), (r // 2) * np.ones(n - 1)]\n",
    "        offset = [-1, 0, 1]\n",
    "        return diags(k, offset).toarray()\n",
    "\n",
    "    @staticmethod\n",
    "    def hilbert(n):\n",
    "        matrix = [1 / (i + j + 1) for i in range(n) for j in range(n)]\n",
    "        return csr(matrix, dtype=float)\n",
    "\n",
    "    @staticmethod\n",
    "    def right(a):\n",
    "        f = [sum(a[i, j] * (j + 1) for j in range(len(a))) for i in range(len(a))]\n",
    "        return f"
   ],
   "metadata": {
    "collapsed": false,
    "pycharm": {
     "name": "#%%\n"
    }
   }
  },
  {
   "cell_type": "code",
   "execution_count": 3,
   "outputs": [],
   "source": [
    "def analyze_tridiagonal():\n",
    "    for eps in 1e-2, 1e-3, 1e-4:\n",
    "        for n in 10, 50, 100, 1000:\n",
    "            tridiagonal = MatrixGeneration.tridiagonal(n)\n",
    "            right = MatrixGeneration.right(tridiagonal)\n",
    "            matrix_decomposition = MatrixDecomposition(tridiagonal)\n",
    "            gauss = matrix_decomposition.solve_by_gauss(right)\n",
    "            seidel = matrix_decomposition.solve_by_seidel(right, eps)\n",
    "            print(f'tridiagonal {n} & {eps}: \\n {gauss} \\n {seidel}')\n",
    "\n",
    "\n",
    "def analyze_hilbert():\n",
    "    for eps in 1e-2, 1e-3, 1e-4:\n",
    "        for n in 10, 50, 100, 1000:\n",
    "            hilbert = MatrixGeneration.hilbert(n)\n",
    "            right = MatrixGeneration.right(hilbert)\n",
    "            matrix_decomposition = MatrixDecomposition(hilbert)\n",
    "            gauss = matrix_decomposition.solve_by_gauss(right)\n",
    "            seidel = matrix_decomposition.solve_by_seidel(right, eps)\n",
    "            print(f'hilbert {n} & {eps}: \\n {gauss} \\n {seidel}')"
   ],
   "metadata": {
    "collapsed": false,
    "pycharm": {
     "name": "#%%\n"
    }
   }
  },
  {
   "cell_type": "code",
   "execution_count": 6,
   "outputs": [],
   "source": [
    "if __name__ == '__main__':\n",
    "    pass\n",
    "    # analyze_tridiagonal()\n",
    "    # analyze_hilbert()"
   ],
   "metadata": {
    "collapsed": false,
    "pycharm": {
     "name": "#%%\n"
    }
   }
  },
  {
   "cell_type": "code",
   "execution_count": null,
   "outputs": [],
   "source": [],
   "metadata": {
    "collapsed": false,
    "pycharm": {
     "name": "#%%\n"
    }
   }
  }
 ],
 "metadata": {
  "kernelspec": {
   "display_name": "Python 3",
   "language": "python",
   "name": "python3"
  },
  "language_info": {
   "codemirror_mode": {
    "name": "ipython",
    "version": 2
   },
   "file_extension": ".py",
   "mimetype": "text/x-python",
   "name": "python",
   "nbconvert_exporter": "python",
   "pygments_lexer": "ipython2",
   "version": "2.7.6"
  }
 },
 "nbformat": 4,
 "nbformat_minor": 0
}