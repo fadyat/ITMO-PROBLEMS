{
 "cells": [
  {
   "cell_type": "code",
   "execution_count": 23,
   "outputs": [],
   "source": [
    "import numpy as np\n",
    "\n",
    "\n",
    "class MatrixDecomposition:\n",
    "    \"\"\" Class with LU decomposition of matrix\"\"\"\n",
    "\n",
    "    def __init__(self, matrix):\n",
    "        self.matrix = matrix\n",
    "        self.l = np.zeros((len(matrix), len(matrix)))\n",
    "        self.u = np.zeros((len(matrix), len(matrix)))\n",
    "        for i in range(len(self.matrix)):\n",
    "            self.l[i][i] = 1\n",
    "\n",
    "    def create_lu(self):\n",
    "        for i in range(len(self.matrix)):\n",
    "            for j in range(len(self.matrix)):\n",
    "                prev_sum = sum([self.l[i][k] * self.u[k][j]\n",
    "                                for k in range(min(j, i))])\n",
    "                if i <= j:\n",
    "                    self.u[i][j] = self.matrix[i][j] - prev_sum\n",
    "                else:\n",
    "                    self.l[i][j] = (self.matrix[i][j] - prev_sum) / self.u[j][j]"
   ],
   "metadata": {
    "collapsed": false,
    "pycharm": {
     "name": "#%%\n"
    }
   }
  },
  {
   "cell_type": "code",
   "execution_count": 40,
   "outputs": [],
   "source": [
    "matrix_decomposition = MatrixDecomposition(np.array([\n",
    "    [1, 2, 3],\n",
    "    [4, 5, 6],\n",
    "    [7, 8, 3]\n",
    "]))"
   ],
   "metadata": {
    "collapsed": false,
    "pycharm": {
     "name": "#%%\n"
    }
   }
  },
  {
   "cell_type": "code",
   "execution_count": 41,
   "outputs": [],
   "source": [
    "matrix_decomposition.create_lu()"
   ],
   "metadata": {
    "collapsed": false,
    "pycharm": {
     "name": "#%%\n"
    }
   }
  },
  {
   "cell_type": "code",
   "execution_count": 42,
   "outputs": [
    {
     "name": "stdout",
     "output_type": "stream",
     "text": [
      "[[1. 0. 0.]\n",
      " [4. 1. 0.]\n",
      " [7. 2. 1.]]\n",
      "[[ 1.  2.  3.]\n",
      " [ 0. -3. -6.]\n",
      " [ 0.  0. -6.]]\n"
     ]
    }
   ],
   "source": [
    "print(matrix_decomposition.l)\n",
    "print(matrix_decomposition.u)"
   ],
   "metadata": {
    "collapsed": false,
    "pycharm": {
     "name": "#%%\n"
    }
   }
  },
  {
   "cell_type": "code",
   "execution_count": 43,
   "outputs": [
    {
     "name": "stdout",
     "output_type": "stream",
     "text": [
      "[[1. 2. 3.]\n",
      " [4. 5. 6.]\n",
      " [7. 8. 3.]]\n"
     ]
    }
   ],
   "source": [
    "print(np.dot(matrix_decomposition.l, matrix_decomposition.u))"
   ],
   "metadata": {
    "collapsed": false,
    "pycharm": {
     "name": "#%%\n"
    }
   }
  }
 ],
 "metadata": {
  "kernelspec": {
   "display_name": "Python 3",
   "language": "python",
   "name": "python3"
  },
  "language_info": {
   "codemirror_mode": {
    "name": "ipython",
    "version": 2
   },
   "file_extension": ".py",
   "mimetype": "text/x-python",
   "name": "python",
   "nbconvert_exporter": "python",
   "pygments_lexer": "ipython2",
   "version": "2.7.6"
  }
 },
 "nbformat": 4,
 "nbformat_minor": 0
}