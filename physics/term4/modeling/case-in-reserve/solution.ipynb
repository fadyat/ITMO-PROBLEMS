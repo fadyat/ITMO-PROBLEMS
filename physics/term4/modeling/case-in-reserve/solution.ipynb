{
 "cells": [
  {
   "cell_type": "markdown",
   "source": [
    "## Случай в заповеднике\n",
    "\n",
    "При обходе заповедника два егеря обнаружили тушу убитого кабана.\n",
    "\n",
    "Ее осмотр показал, что выстрел браконьера был точным и кабан убит наповал.\n",
    "\n",
    "Рассудив, что браконьер должен вернуться за добычей, егеря решили дождаться его, укрывшись недалеко от того места, где лежала туша.\n",
    "\n",
    "Вскоре показались два человека, направлявшиеся прямо к убитому животному. Задержанные всячески отрицали свою причастность к браконьерству.\n",
    "\n",
    "Однако у егерей уже были косвенные улики их виновности, но для ее полного доказательства следовало еще уточнить время, когда был убит кабан.\n",
    "\n",
    "В момент задержания подозреваемых температура туши кабана была равна $t_1 = 31°C$, а спустя час составляла $t_2 = 29°C$.\n",
    "\n",
    "Считая, что в момент выстрела температура воздуха была $a = 21°C$, а температура кабана $x_0 = 37°C$, определить время выстрела.\n",
    "\n",
    "Решите задачу в общем виде так, чтобы на входе программы было возможно ввести время ожидания браконьеров егерями, температуры, вывести виновны или невиновны браконьеры при изменении входных данных, а также учесть проверку правильности входных данных."
   ],
   "metadata": {
    "collapsed": false,
    "pycharm": {
     "name": "#%% md\n"
    }
   }
  },
  {
   "cell_type": "markdown",
   "source": [
    "### Виды теплообмена:\n",
    "\n",
    "- Теплопроводность -- это вид теплообмена, при котором происходит непосредственная передача энергии от частиц более нагретой части тела к частицам его менее нагретой части.\n",
    "- Конвекция — вид теплообмена, при котором внутренняя энергия передаётся струями и потоками самого вещества.\n",
    "- Лучистый теплообмен — это теплообмен, при котором энергия переносится различными лучами."
   ],
   "metadata": {
    "collapsed": false,
    "pycharm": {
     "name": "#%% md\n"
    }
   }
  },
  {
   "cell_type": "markdown",
   "source": [
    "## Закон охлаждения Ньютона\n",
    "Закон охлаждения Ньютона гласит, что скорость потери тепла телом прямо пропорциональна разнице температур между телом и окружающей средой.\n",
    "$\\frac{dx}{dt} = -k (x - a)$ <br>\n",
    "$\\frac{dx}{x - a} = -k dt$ <br>\n",
    "$\\int_{t_1}^{t_2}{\\frac{dx}{x - a}} = \\int{-k dt}$ <br>\n",
    "$\\ln({|t_2 - a|}) - \\ln(|t_1 - a|) = -kt$ <br>\n",
    "$\\ln({\\frac{|t_2 - a|}{|t_1 - a|}}) = -kt \\quad \\rightarrow \\quad \\ln({\\frac{|t_1 - a|}{|t_2 - a|}}) = kt$ <br>"
   ],
   "metadata": {
    "collapsed": false,
    "pycharm": {
     "name": "#%% md\n"
    }
   }
  },
  {
   "cell_type": "code",
   "execution_count": 34,
   "outputs": [],
   "source": [
    "from math import log\n",
    "\n",
    "\n",
    "class Case:\n",
    "    lowest_earth_temperature = -88\n",
    "    highest_earth_temperature = 58\n",
    "\n",
    "    def __init__(self, boar_dead_temperature, boar_dead_temperature_after_time, waiting_time, air_temperature,\n",
    "                 boar_normal_temperature):\n",
    "        self.boar_dead_temperature = boar_dead_temperature\n",
    "        self.boar_dead_temperature_after_time = boar_dead_temperature_after_time\n",
    "        self.waiting_time = waiting_time\n",
    "        self.air_temperature = air_temperature\n",
    "        self.boar_normal_temperature = boar_normal_temperature\n",
    "        assert self._is_correct_data(), 'input data is incorrect!'\n",
    "\n",
    "    def _is_correct_data(self):\n",
    "        correct_boar_temperatures = self.boar_normal_temperature >= self.boar_dead_temperature > self.boar_dead_temperature_after_time\n",
    "        correct_air_temperature = self.lowest_earth_temperature <= self.air_temperature <= self.highest_earth_temperature\n",
    "        correct_waiting_time = self.waiting_time > 0\n",
    "        return correct_boar_temperatures and correct_air_temperature and correct_waiting_time\n",
    "\n",
    "    def calculate(self):\n",
    "        k = log(abs(self.boar_dead_temperature - self.air_temperature) /\n",
    "                abs(self.boar_dead_temperature_after_time - self.air_temperature)) / self.waiting_time\n",
    "        death_time = log(abs(self.boar_normal_temperature - self.air_temperature) /\n",
    "                         abs(self.boar_dead_temperature - self.air_temperature)) / k\n",
    "        hours = int(death_time)\n",
    "        minutes = 60 * (death_time - hours)\n",
    "        return hours, minutes"
   ],
   "metadata": {
    "collapsed": false,
    "pycharm": {
     "name": "#%%\n"
    }
   }
  },
  {
   "cell_type": "code",
   "execution_count": 35,
   "outputs": [
    {
     "name": "stdout",
     "output_type": "stream",
     "text": [
      "boar dead 2 hours and 6.4 minutes ago\n"
     ]
    }
   ],
   "source": [
    "if __name__ == '__main__':\n",
    "    case = Case(31, 29, 1, 21, 37)\n",
    "    h, m = case.calculate()\n",
    "    print(f'boar dead {h} hours and {m:.1f} minutes ago')"
   ],
   "metadata": {
    "collapsed": false,
    "pycharm": {
     "name": "#%%\n"
    }
   }
  }
 ],
 "metadata": {
  "kernelspec": {
   "display_name": "Python 3",
   "language": "python",
   "name": "python3"
  },
  "language_info": {
   "codemirror_mode": {
    "name": "ipython",
    "version": 2
   },
   "file_extension": ".py",
   "mimetype": "text/x-python",
   "name": "python",
   "nbconvert_exporter": "python",
   "pygments_lexer": "ipython2",
   "version": "2.7.6"
  }
 },
 "nbformat": 4,
 "nbformat_minor": 0
}