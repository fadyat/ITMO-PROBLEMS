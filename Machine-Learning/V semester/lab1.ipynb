{
 "nbformat": 4,
 "nbformat_minor": 0,
 "metadata": {
  "colab": {
   "provenance": [],
   "collapsed_sections": []
  },
  "kernelspec": {
   "display_name": "Python 3",
   "language": "python",
   "name": "python3"
  },
  "language_info": {
   "codemirror_mode": {
    "name": "ipython",
    "version": 3
   },
   "file_extension": ".py",
   "mimetype": "text/x-python",
   "name": "python",
   "nbconvert_exporter": "python",
   "pygments_lexer": "ipython3",
   "version": "3.7.4"
  }
 },
 "cells": [
  {
   "cell_type": "markdown",
   "source": [],
   "metadata": {
    "id": "131T1pm5PaF4"
   }
  },
  {
   "cell_type": "markdown",
   "metadata": {
    "id": "BsNwjQDRfmLY"
   },
   "source": [
    "# Задание 1"
   ]
  },
  {
   "cell_type": "markdown",
   "metadata": {
    "id": "wu6r1-s7fmLe"
   },
   "source": [
    "---"
   ]
  },
  {
   "cell_type": "markdown",
   "metadata": {
    "id": "zxRIdPO9gYyX"
   },
   "source": [
    "Напишите программу, которая будет решать систему линейных уравнений вида:\n",
    "\n",
    "\\begin{matrix} a_{11}x+a_{12}y=b_{1}&(1) \\\\ a_{21}x+a_{22}y=b_{2} &(2) \\end{matrix}\n",
    "​\t\n",
    "На вход программа должна принимать 2 строки.\n",
    "\n",
    "Каждая строка содержит 3 действительных числа через пробел: коэффициенты a и b.\n",
    "\n",
    "На выходе программа должна выдавать значения x и y в одну строку через пробел.\n",
    " \n",
    "\n",
    "Примечание 1. Для разделения строки на отдельные элементы используйте функцию split()\n",
    "\n",
    "Примечание 2. В качестве разделителя между целой и дробной частью используйте точку, например 0.2"
   ]
  },
  {
   "cell_type": "code",
   "metadata": {
    "id": "6sxlcLbVlrjl"
   },
   "source": [
    "import numpy as np\n",
    "from numpy import linalg\n",
    "\n",
    "\n",
    "def solve_system_of_linear_equations(\n",
    "    first_equation: str,\n",
    "    second_equation: str\n",
    ") -> str:\n",
    "    *args1, b1 = map(float, first_equation.split())\n",
    "    *args2, b2 = map(float, second_equation.split())\n",
    "    try:\n",
    "        result = linalg.solve(\n",
    "            np.array([args1, args2]),\n",
    "            np.array([b1, b2])\n",
    "        )\n",
    "    except linalg.LinAlgError:\n",
    "        result = ()\n",
    "\n",
    "    return result\n",
    "\n",
    "\n",
    "def formatted_system_of_linear_equations_solution(\n",
    "    first_equation: str,\n",
    "    second_equation: str\n",
    "):\n",
    "    return ' '.join(map(str, solve_system_of_linear_equations(first_equation, second_equation)))"
   ],
   "execution_count": 1,
   "outputs": []
  },
  {
   "cell_type": "code",
   "execution_count": 2,
   "outputs": [
    {
     "data": {
      "text/plain": "'1.25 0.5'"
     },
     "execution_count": 2,
     "metadata": {},
     "output_type": "execute_result"
    }
   ],
   "source": [
    "formatted_system_of_linear_equations_solution('0 2 1', '2 3 4')"
   ],
   "metadata": {
    "collapsed": false
   }
  },
  {
   "cell_type": "markdown",
   "source": [
    "# Задание 2"
   ],
   "metadata": {
    "collapsed": false
   }
  },
  {
   "cell_type": "markdown",
   "source": [
    "Напишите функцию `decorate_matrix`, которая получает на вход одно целое число больше единицы. Функция должна возвращать матрицу n на n, у которой на границах стоят единицы, а на всех остальных позициях(если остались позиции не на границах) стоят нули.\n",
    "\n",
    "Нужно сделать без использования  циклов.\n",
    "\n",
    "```\n",
    "# ожидаемый резальтат для аргумента 5\n",
    "array([[1., 1., 1., 1., 1.],\n",
    "[1., 0., 0., 0., 1.],\n",
    "[1., 0., 0., 0., 1.],\n",
    "[1., 0., 0., 0., 1.],\n",
    "[1., 1., 1., 1., 1.]])\n",
    "```\n",
    "\n"
   ],
   "metadata": {
    "collapsed": false
   }
  },
  {
   "cell_type": "code",
   "execution_count": 5,
   "outputs": [],
   "source": [
    "def decorate_matrix(\n",
    "    n: int\n",
    ") -> np.array:\n",
    "    assert n > 1\n",
    "    a = np.ones((n, n))\n",
    "    a[1:-1, 1:-1] = 0\n",
    "    return a"
   ],
   "metadata": {
    "collapsed": false
   }
  },
  {
   "cell_type": "code",
   "execution_count": 6,
   "outputs": [
    {
     "data": {
      "text/plain": "array([[1., 1., 1., 1.],\n       [1., 0., 0., 1.],\n       [1., 0., 0., 1.],\n       [1., 1., 1., 1.]])"
     },
     "execution_count": 6,
     "metadata": {},
     "output_type": "execute_result"
    }
   ],
   "source": [
    "decorate_matrix(4)"
   ],
   "metadata": {
    "collapsed": false
   }
  },
  {
   "cell_type": "markdown",
   "source": [
    "# Задание 3"
   ],
   "metadata": {
    "collapsed": false
   }
  },
  {
   "cell_type": "markdown",
   "metadata": {
    "id": "2Xq1tBBAS5UJ"
   },
   "source": [
    "1) реализуйте 2 функции:\n",
    "\n",
    "$f(x) = (x+a)^2 - b$ \n",
    "<br>\n",
    "$g(x) = |f(x)|$\n",
    "\n",
    "2) Найдите аргументы, при которых достигается минимум функций $f(x)$ и $g(x)$\n",
    "\n",
    "Пример. \n",
    "Входные значение: $a=3$ и $b=4$\n",
    "\n",
    "Выходные значения:\n",
    "\n",
    "`-3.0 -1.0`"
   ]
  },
  {
   "cell_type": "code",
   "execution_count": 7,
   "outputs": [],
   "source": [
    "from scipy import optimize\n",
    "\n",
    "a, b = ..., ...\n",
    "\n",
    "\n",
    "def f(x):\n",
    "    return (x + a) ** 2 - b\n",
    "\n",
    "\n",
    "def g(x):\n",
    "    return np.abs(f(x))\n",
    "\n",
    "\n",
    "def minimize(func, _a, _b, **params):\n",
    "    global a, b\n",
    "    a, b = _a, _b\n",
    "    return optimize.minimize_scalar(func, **params).x\n",
    "\n",
    "\n",
    "def formatted_minimize(_a, _b):\n",
    "    return ' '.join(map(str, (\n",
    "        minimize(f, _a, _b),\n",
    "        minimize(g, _a, _b),\n",
    "    )))\n"
   ],
   "metadata": {
    "collapsed": false
   }
  },
  {
   "cell_type": "code",
   "execution_count": 8,
   "outputs": [
    {
     "data": {
      "text/plain": "'-0.99999997038 2.8729833708114114'"
     },
     "execution_count": 8,
     "metadata": {},
     "output_type": "execute_result"
    }
   ],
   "source": [
    "formatted_minimize(1, 15)"
   ],
   "metadata": {
    "collapsed": false
   }
  },
  {
   "cell_type": "markdown",
   "source": [
    "# Задание 4"
   ],
   "metadata": {
    "collapsed": false
   }
  },
  {
   "cell_type": "markdown",
   "metadata": {
    "id": "SDZvKcsTVbAW"
   },
   "source": [
    "Постройте графики для функций из предыдущего задания и отметьте другим цветом на графиках точки найденных минимумов."
   ]
  },
  {
   "cell_type": "code",
   "execution_count": 9,
   "outputs": [],
   "source": [
    "import matplotlib.pyplot as plt\n",
    "\n",
    "plt.style.use('dark_background')\n",
    "plt.rcParams[\"figure.figsize\"] = tuple(map(lambda x: 0.7 * x, plt.rcParamsDefault[\"figure.figsize\"]))\n",
    "plt.rcParams['lines.markersize'] = 0.7 * plt.rcParamsDefault[\"lines.markersize\"]\n",
    "\n",
    "\n",
    "def visualize_function(\n",
    "    x_minimals,\n",
    "    func,\n",
    "):\n",
    "    x = np.linspace(-20, 20, 200)\n",
    "    plt.plot(x, func(x))\n",
    "    plt.xlabel('x')\n",
    "    plt.ylabel(f'{func.__name__}(x)')\n",
    "    for x_min in x_minimals:\n",
    "        plt.scatter(x_min, func(x_min), color='r')\n",
    "    plt.show()\n",
    "\n",
    "\n",
    "def visualize(\n",
    "    _a: float,\n",
    "    _b: float\n",
    "):\n",
    "    f_min = minimize(f, _a, _b)\n",
    "    g_min = (\n",
    "        minimize(g, _a, _b, bounds=(f_min, 100), method='bounded'),\n",
    "        minimize(g, _a, _b, bounds=(-100, f_min), method='bounded')\n",
    "    )\n",
    "    visualize_function([f_min], f)\n",
    "    visualize_function(g_min, g)\n"
   ],
   "metadata": {
    "collapsed": false
   }
  },
  {
   "cell_type": "code",
   "execution_count": 10,
   "outputs": [
    {
     "data": {
      "text/plain": "<Figure size 448x336 with 1 Axes>",
      "image/png": "[encoded data removed]"
     },
     "metadata": {},
     "output_type": "display_data"
    },
    {
     "data": {
      "text/plain": "<Figure size 448x336 with 1 Axes>",
      "image/png": "[encoded data removed]"
     },
     "metadata": {},
     "output_type": "display_data"
    }
   ],
   "source": [
    "visualize(1, 15)"
   ],
   "metadata": {
    "collapsed": false
   }
  },
  {
   "cell_type": "markdown",
   "metadata": {
    "id": "mrby3EfiSDKJ"
   },
   "source": [
    "# Задание 5"
   ]
  },
  {
   "cell_type": "markdown",
   "metadata": {
    "id": "J6AZ8785VkQd"
   },
   "source": [
    "1000 человек бросают монетку. Каждый бросил 10 раз подряд.\n",
    "\n",
    " 1. Какова вероятность того, что хотя бы у одного человека монетка выпала 10 раз подряд той же самой стороной (орлом или решкой)? \n",
    " 2. Какова вероятность того, что хотя бы у одного человека монетка выпала 8 раз подряд той же самой стороной (орлом или решкой)? \n",
    " 3. Какова вероятность того, что ровно у троих человек из 1000 монетка выпала 10 раз подряд той же самой стороной (орлом или решкой)?"
   ]
  },
  {
   "cell_type": "code",
   "execution_count": 11,
   "outputs": [
    {
     "name": "stdout",
     "output_type": "stream",
     "text": [
      "0.861\n",
      "1.0\n",
      "0.1814\n"
     ]
    }
   ],
   "source": [
    "from random import randrange\n",
    "\n",
    "humans_count = 1000\n",
    "throws_count = 10\n",
    "\n",
    "\n",
    "def at_least_one_ten_equal():\n",
    "    for _ in range(humans_count):\n",
    "        sample = [randrange(2) for _ in range(throws_count)]\n",
    "        if sum(sample) in [10, 0]:\n",
    "            return 1\n",
    "\n",
    "    return 0\n",
    "\n",
    "\n",
    "def at_least_one_eight_equal():\n",
    "    for _ in range(humans_count):\n",
    "        sample = [randrange(2) for _ in range(throws_count)]\n",
    "        for l in range(throws_count - 8):\n",
    "            if sum(sample[l: throws_count + l]) in [0, 8]:\n",
    "                return 1\n",
    "\n",
    "    return 0\n",
    "\n",
    "\n",
    "def only_three_ten_equal():\n",
    "    count = 0\n",
    "    for _ in range(humans_count):\n",
    "        sample = [randrange(2) for _ in range(throws_count)]\n",
    "        count += sum(sample) in [10, 0]\n",
    "\n",
    "    return count == 3\n",
    "\n",
    "\n",
    "def testing(func, number_of_experiments = 5000):\n",
    "    return sum([func() for _ in range(number_of_experiments)]) / number_of_experiments\n",
    "\n",
    "print(testing(at_least_one_ten_equal))\n",
    "print(testing(at_least_one_eight_equal))\n",
    "print(testing(only_three_ten_equal))"
   ],
   "metadata": {
    "collapsed": false
   }
  },
  {
   "cell_type": "code",
   "execution_count": null,
   "outputs": [],
   "source": [],
   "metadata": {
    "collapsed": false
   }
  }
 ]
}
