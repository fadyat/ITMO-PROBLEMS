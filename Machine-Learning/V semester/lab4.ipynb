{
 "nbformat": 4,
 "nbformat_minor": 0,
 "metadata": {
  "colab": {
   "provenance": [],
   "toc_visible": true
  },
  "kernelspec": {
   "name": "python3",
   "display_name": "Python 3"
  }
 },
 "cells": [
  {
   "cell_type": "markdown",
   "metadata": {
    "id": "hGClrhQA9SAk",
    "pycharm": {
     "name": "#%% md\n"
    }
   },
   "source": [
    "# Деревья решений"
   ]
  },
  {
   "cell_type": "markdown",
   "metadata": {
    "id": "veekMy8WRjBi",
    "pycharm": {
     "name": "#%% md\n"
    }
   },
   "source": [
    "## Построение дерева"
   ]
  },
  {
   "cell_type": "markdown",
   "metadata": {
    "id": "SYkVwAFiUHXj",
    "pycharm": {
     "name": "#%% md\n"
    }
   },
   "source": [
    "Опишем жадный алгоритм построения бинарного дерева решений:\n",
    "1. Начинаем со всей обучающей выборки $X$, которую помещаем в корень $R_1$. \n",
    "2. Задаём функционал качества $Q(X, j, t)$ и критерий остановки. \n",
    "3. Запускаем построение из корня: $SplitNode(1, R_1)$\n",
    "\n",
    "Функция $SplitNode(m, R_m)$\n",
    "1. Если выполнен критерий остановки, то выход.\n",
    "2. Находим наилучший с точки зрения $Q$ предикат: $j, t$: $[x_j<t]$\n",
    "3. Помещаем предикат в вкршину и получаем с его помощью разбиение $X$ на две части: $R_{left} = \\lbrace x|x_j<t \\rbrace$ и $R_{right} = \\lbrace x|x_j \\geqslant t \\rbrace$\n",
    "4. Поместим $R_{left}$ и $R_{right}$ соответсвенно в левое и правое поддерево.\n",
    "5. Рекурсивно повторяем $SplitNode(left, R_{left})$ и $SplitNode(right, R_{right})$.\n",
    "\n",
    "В конце поставим в соответствие каждому листу ответ. Для задачи классификации - это самый частый среди объектов класс или вектор с долями классов (можно интерпретировать как вероятности):\n",
    "$$ c_v = \\arg \\max_{k\\in Y} \\sum_{(x_i,y_i) \\in R_v} [y_i=k]  $$"
   ]
  },
  {
   "cell_type": "markdown",
   "metadata": {
    "id": "9P6FsdBog4Ai",
    "pycharm": {
     "name": "#%% md\n"
    }
   },
   "source": [
    "## Функционал качества для деревьев решений\n"
   ]
  },
  {
   "cell_type": "markdown",
   "metadata": {
    "id": "9VAKO0aykGBD",
    "pycharm": {
     "name": "#%% md\n"
    }
   },
   "source": [
    "Энтропия Шеннона для системы с N возможными состояниями определяется по формуле:\n",
    "$$H = - \\sum_{i=0}^{N} p_i\\log_2p_i $$"
   ]
  },
  {
   "cell_type": "markdown",
   "metadata": {
    "id": "5582B-1Fn2bw",
    "pycharm": {
     "name": "#%% md\n"
    }
   },
   "source": [
    "где $p_i$ – вероятности нахождения системы в $i$-ом состоянии. \n",
    "\n",
    "Это очень важное понятие теории информации, которое позволяет оценить количество информации (степень хаоса в системе). Чем выше энтропия, тем менее упорядочена система и наоборот. С помощью энтропии мы формализуем функционал качества для разделение выборки (для задачи классификации)."
   ]
  },
  {
   "cell_type": "code",
   "metadata": {
    "id": "PbcMUd7bvk05",
    "pycharm": {
     "name": "#%%\n"
    }
   },
   "source": [
    "import numpy as np\n",
    "import pandas as pd\n",
    "\n",
    "import matplotlib.pyplot as plt"
   ],
   "execution_count": 130,
   "outputs": []
  },
  {
   "cell_type": "markdown",
   "metadata": {
    "id": "4AdLxP9CowTm",
    "pycharm": {
     "name": "#%% md\n"
    }
   },
   "source": [
    "Код для расчёта энтропии:"
   ]
  },
  {
   "cell_type": "code",
   "metadata": {
    "id": "2mT8Jq8Av2sM",
    "pycharm": {
     "name": "#%%\n"
    }
   },
   "source": [
    "def entropy(y):\n",
    "    _, counts = np.unique(y, return_counts=True)\n",
    "    probabilities = counts / counts.sum()\n",
    "    entropy = sum(probabilities * -np.log2(probabilities))\n",
    "    return entropy"
   ],
   "execution_count": 131,
   "outputs": []
  },
  {
   "cell_type": "markdown",
   "metadata": {
    "id": "Xk9etb2vo7fK",
    "pycharm": {
     "name": "#%% md\n"
    }
   },
   "source": [
    "Здесь $y$ - это массив значений целевой переменной"
   ]
  },
  {
   "cell_type": "markdown",
   "metadata": {
    "id": "07TCw0USzLus",
    "pycharm": {
     "name": "#%% md\n"
    }
   },
   "source": [
    "Энтропия – по сути степень хаоса (или неопределенности) в системе. Уменьшение энтропии называют приростом информации (information gain, IG).\n",
    "\n",
    "Обочначим $R_v$ - объекты, которые нужно разделить в помощью предиката в вершине $v$. Запишем формулу для расчёта информационного прироста:\n",
    "$$ Q = IG = H(R_v) - (H(R_{left})+H(R_{right}))$$\n",
    "\n",
    "На каждом шаге нам нужно максимизировать этот функционал качества. Как это делать? Например, так можно перебрать $t$ для выбранного $j$."
   ]
  },
  {
   "cell_type": "markdown",
   "metadata": {
    "id": "trEWHDoXg_p9",
    "pycharm": {
     "name": "#%% md\n"
    }
   },
   "source": [
    "Предыдущая версия формулы прироста информации слишком упрощена. В работе необходимо использовать более устойчивую формулу, которая учитывает не только энтропию подмножеств, но и их размер. \n",
    "\n",
    "$$ Q = IG = H(R_v) - \\Big (\\frac{|R_{left}|} {|R_{v}|} H(R_{left})+ \\frac{|R_{right}|} {|R_{v}|} H(R_{right})\\Big)$$\n",
    "\n",
    "где, $|R_{v}|$, $|R_{left}|$ и $|R_{right}|$ - количество элементов в соответствующих множествах."
   ]
  },
  {
   "cell_type": "markdown",
   "metadata": {
    "id": "9xmN6V_N1xBr",
    "pycharm": {
     "name": "#%% md\n"
    }
   },
   "source": [
    "\n",
    "### Задание 4.1"
   ]
  },
  {
   "cell_type": "markdown",
   "metadata": {
    "id": "nWFHZScF2CBF",
    "pycharm": {
     "name": "#%% md\n"
    }
   },
   "source": [
    "Реализуйте алгоритм построения дерева. Должны быть отдельные функции (методы) для расчёта энтропии (уже есть), для разделения дерева (используйте `pandas`), для подсчёта функционала качества $IG$, для выбора наилучшего разделения (с учетом признакоd и порогов), для проверки критерия остановки.\n",
    "\n",
    "Для набора данных `iris` реализуйте алгоритм и минимум три из разными критерия остановки из перечисленных ниже:\n",
    "* максимальной глубины дерева = 5\n",
    "* минимального числа объектов в листе = 5\n",
    "* максимальное количество листьев в дереве = 5\n",
    "* purity (остановка, если все объекты в листе относятся к одному классу)\n",
    "\n",
    "Реализуйте функцию `predict` (на вход функции подаётся датафрейм с объектами)\n",
    "\n",
    "Оцените точность каждой модели с помощью метрики доля правильных ответов (`from sklearn.metrics import accuracy_score` или реализовать свою)."
   ]
  },
  {
   "cell_type": "code",
   "execution_count": 132,
   "outputs": [],
   "source": [
    "def count_info_gain(r_v, r_left, r_right):\n",
    "    left, right = len(r_left) / len(r_v), len(r_right) / len(r_v)\n",
    "    return entropy(r_v) - left * entropy(r_left) - right * entropy(r_right)\n",
    "\n",
    "\n",
    "class Node:\n",
    "    def __init__(self, probabilities=None):\n",
    "        self.right = None\n",
    "        self.left = None\n",
    "        self.probabilities = probabilities\n",
    "        self.feature_index = None\n",
    "        self.t = -1\n",
    "\n",
    "\n",
    "class DecisionTreeClassifier:\n",
    "    def __init__(\n",
    "        self,\n",
    "        max_depth: int = 5,\n",
    "        min_samples_leaf: int = 5,\n",
    "    ):\n",
    "        self.max_depth = max_depth\n",
    "        self.min_samples_leaf = min_samples_leaf\n",
    "        self.n_classes = None\n",
    "        self.tree = None\n",
    "\n",
    "    def probabilities(self, y):\n",
    "        return np.array([len(y[y == y_type]) / len(y) for y_type in range(self.n_classes)])\n",
    "\n",
    "    def _is_stop_condition(self, y, depth, leaf_samples):\n",
    "        over_depth = depth >= self.max_depth\n",
    "        not_enough_samples = len(y) < leaf_samples\n",
    "        purity = len(np.unique(y)) == 1\n",
    "        return over_depth or not_enough_samples or purity\n",
    "\n",
    "    def split_node(self, X, y, node, depth=0):\n",
    "        if self._is_stop_condition(y, depth, self.min_samples_leaf):\n",
    "            return\n",
    "\n",
    "        feature_index, best_t = self._find_best_split(X, y)\n",
    "        if feature_index is None:\n",
    "            return\n",
    "\n",
    "        x_left, y_left = X[X[:, feature_index] < best_t], y[X[:, feature_index] < best_t]\n",
    "        x_right, y_right = X[X[:, feature_index] >= best_t], y[X[:, feature_index] >= best_t]\n",
    "\n",
    "        node.left = Node(self.probabilities(y_left))\n",
    "        node.right = Node(self.probabilities(y_right))\n",
    "        node.feature_index = feature_index\n",
    "        node.t = best_t\n",
    "        self.split_node(x_left, y_left, node.left, depth + 1)\n",
    "        self.split_node(x_right, y_right, node.right, depth + 1)\n",
    "\n",
    "\n",
    "    @staticmethod\n",
    "    def _find_best_split(X, y):\n",
    "        best_idx, best_thr, best_ig = None, None, -1\n",
    "        for i in range(X.shape[1]):\n",
    "            x_col = X[:, i]\n",
    "            for t in x_col:\n",
    "                r_left, r_right = y[x_col < t], y[x_col >= t]\n",
    "                ig = count_info_gain(y, r_left, r_right)\n",
    "                if ig > best_ig:\n",
    "                    best_thr, best_ig, best_idx = t, ig, i\n",
    "\n",
    "        return best_idx, best_thr\n",
    "\n",
    "    def fit(self, X, y):\n",
    "        self.n_classes = len(np.unique(y))\n",
    "        self.tree = Node(self.probabilities(y))\n",
    "        self.split_node(np.asarray(X), y, self.tree)\n",
    "\n",
    "    def predict(self, X):\n",
    "        return [np.argmax(self.predict_node(x, self.tree)) for x in X]\n",
    "\n",
    "    def predict_node(self, x, node):\n",
    "        while node.left:\n",
    "            if x[node.feature_index] < node.t:\n",
    "                return self.predict_node(x, node.left)\n",
    "            else:\n",
    "                return self.predict_node(x, node.right)\n",
    "\n",
    "        return node.probabilities"
   ],
   "metadata": {
    "collapsed": false,
    "pycharm": {
     "name": "#%%\n"
    }
   }
  },
  {
   "cell_type": "code",
   "execution_count": 133,
   "outputs": [],
   "source": [
    "from sklearn.datasets import load_iris\n",
    "\n",
    "iris = load_iris()"
   ],
   "metadata": {
    "collapsed": false,
    "pycharm": {
     "name": "#%%\n"
    }
   }
  },
  {
   "cell_type": "code",
   "execution_count": 134,
   "outputs": [
    {
     "data": {
      "text/plain": "1.0"
     },
     "execution_count": 134,
     "metadata": {},
     "output_type": "execute_result"
    }
   ],
   "source": [
    "from sklearn.metrics import accuracy_score\n",
    "from sklearn.model_selection import train_test_split\n",
    "\n",
    "decision_tree = DecisionTreeClassifier(max_depth=5)\n",
    "X_train, X_test, y_train, y_test = train_test_split(iris.data, iris.target, test_size=0.2, random_state=42)\n",
    "\n",
    "decision_tree.fit(X_train, y_train)\n",
    "y_pred = decision_tree.predict(X_test)\n",
    "accuracy_score(y_test, y_pred)"
   ],
   "metadata": {
    "collapsed": false,
    "pycharm": {
     "name": "#%%\n"
    }
   }
  },
  {
   "cell_type": "code",
   "execution_count": 135,
   "outputs": [
    {
     "data": {
      "text/plain": "<matplotlib.collections.PathCollection at 0x28a8f7e80>"
     },
     "execution_count": 135,
     "metadata": {},
     "output_type": "execute_result"
    },
    {
     "data": {
      "text/plain": "<Figure size 640x480 with 1 Axes>",
      "image/png": "[encoded data removed]"
     },
     "metadata": {},
     "output_type": "display_data"
    }
   ],
   "source": [
    "plt.scatter(X_test[:, 1], X_test[:, 2], c=y_pred)"
   ],
   "metadata": {
    "collapsed": false,
    "pycharm": {
     "name": "#%%\n"
    }
   }
  },
  {
   "cell_type": "code",
   "execution_count": 136,
   "outputs": [
    {
     "data": {
      "text/plain": "1.0"
     },
     "execution_count": 136,
     "metadata": {},
     "output_type": "execute_result"
    }
   ],
   "source": [
    "from sklearn.tree import DecisionTreeClassifier as SklearnDecisionTreeClassifier\n",
    "\n",
    "sklearn_decision_tree = SklearnDecisionTreeClassifier(max_depth=5, min_samples_leaf=5)\n",
    "sklearn_decision_tree.fit(X_train, y_train)\n",
    "y_pred = sklearn_decision_tree.predict(X_test)\n",
    "accuracy_score(y_test, y_pred)"
   ],
   "metadata": {
    "collapsed": false,
    "pycharm": {
     "name": "#%%\n"
    }
   }
  },
  {
   "cell_type": "code",
   "execution_count": 137,
   "outputs": [
    {
     "data": {
      "text/plain": "<matplotlib.collections.PathCollection at 0x28a93dd60>"
     },
     "execution_count": 137,
     "metadata": {},
     "output_type": "execute_result"
    },
    {
     "data": {
      "text/plain": "<Figure size 640x480 with 1 Axes>",
      "image/png": "[encoded data removed]"
     },
     "metadata": {},
     "output_type": "display_data"
    }
   ],
   "source": [
    "plt.scatter(X_test[:, 1], X_test[:, 2], c=y_pred)"
   ],
   "metadata": {
    "collapsed": false,
    "pycharm": {
     "name": "#%%\n"
    }
   }
  },
  {
   "cell_type": "markdown",
   "metadata": {
    "id": "7fKZe1FyRgCa",
    "pycharm": {
     "name": "#%% md\n"
    }
   },
   "source": [
    "Опишем алгоритм случайный лес (*random forest*) и попутно разберём основные идеи:\n",
    "\n",
    "1. Зададим $N$ - число деревьев в лесу.\n",
    "2. Для каждого $n$ из $N$ сгенерируем свою выборку $X_n$. Пусть $m$ - это количество объектов в $X$. При генерации каждой $X_n$ мы будем брать объекты $m$ раз с возвращением. То есть один и тот же объект может попасть в выборку несколько раз, а какие-то объекты не попадут. (Этот способ назвается бутстрап).\n",
    "3. По каждой $X_n$ построим решающее дерево $b_n$. Обычно стараются делать глубокие деревья. В качестве критериев остановки можно использовать `max_depth` или `min_samples_leaf` (например, пока в каждом листе не окажется по одному объекту). При каждом разбиении сначала выбирается $k$ (эвристика $k = \\sqrt d$, где $d$ - это число признаков объектов из выборки $X$) случайных признаков из исходных, и оптимальное разделение выборки ищется только среди них. Обратите внимание, что мы не выбрасываем оставшиеся признаки!\n",
    "4. Итоговый алгоритм будет представлять собой результат голосования (для классификации) и среднее арифметическое (для регрессии). Модификация алгоритма предполагает учёт весов каждого отдельного слабого алгоритма в ансамбле, но в этом особо нет смысла.\n"
   ]
  },
  {
   "cell_type": "markdown",
   "metadata": {
    "id": "YJBQ8lc0WyrN",
    "pycharm": {
     "name": "#%% md\n"
    }
   },
   "source": [
    "### Задание 4.2"
   ]
  },
  {
   "cell_type": "markdown",
   "metadata": {
    "id": "y594Jn04ZTCm",
    "pycharm": {
     "name": "#%% md\n"
    }
   },
   "source": [
    "В качестве набора данных используйте: https://www.kaggle.com/mathchi/churn-for-bank-customers\n",
    "\n",
    "Там есть описание и примеры работы с этими данными. Если кратко, речь идёт про задачу прогнозирования оттока клиентов. Есть данные о 10 тысячах клиентов банка, часть из которых больше не являются клиентами."
   ]
  },
  {
   "cell_type": "markdown",
   "source": [
    "Используя либо свою реализацию, либо  `DecisionTreeClassifier` с разными настройками из `sklearn.tree` реализйте алгоритм \"случайный лес\".\n",
    "\n",
    "Найдите наилучшие гиперпараметры этого алгоритма: количество деревьев, критерий остановки, функционал качества, минимальное количество объектов в листьях и другие.\n",
    "\n",
    "Нельзя использовать готовую реализацию случайного леса из `sklearn`.\n",
    "\n",
    "В подобных задачах очень важна интерпретируемость алгоритма. Попытайтесь оценить информативность признаков, т.е. ответить а вопрос, значения каких признаков являются самыми важными индикаторами того, что банк потеряет клиента."
   ],
   "metadata": {
    "collapsed": false,
    "pycharm": {
     "name": "#%% md\n"
    }
   }
  },
  {
   "cell_type": "code",
   "execution_count": 138,
   "outputs": [],
   "source": [
    "class RandomForestClassifier:\n",
    "    def __init__(\n",
    "        self,\n",
    "        tree_count: int = 50,\n",
    "        tree_max_depth: int = 5,\n",
    "        tree_min_samples_leaf: int = 5\n",
    "    ):\n",
    "        self.tree_count = tree_count\n",
    "        self.tree_max_depth = tree_max_depth\n",
    "        self.tree_min_samples_leaf = tree_min_samples_leaf\n",
    "        self.trees = []\n",
    "\n",
    "    def fit(self, X, y):\n",
    "        objects_count = X.shape[0]\n",
    "        features_count = X.shape[1]\n",
    "\n",
    "        for _ in range(self.tree_count):\n",
    "            random_state = np.random.randint(0, 1000)\n",
    "            X_sample = X.sample(n=objects_count, replace=True, random_state=random_state)\n",
    "            y_sample = y[X_sample.index]\n",
    "\n",
    "            tree = SklearnDecisionTreeClassifier(\n",
    "                max_depth=self.tree_max_depth,\n",
    "                min_samples_leaf=self.tree_min_samples_leaf,\n",
    "                random_state=random_state,\n",
    "                max_features=int(np.sqrt(features_count))\n",
    "            )\n",
    "            tree.fit(X_sample, y_sample)\n",
    "            self.trees.append(tree)\n",
    "\n",
    "    def predict(self, X):\n",
    "        predictions = np.array([tree.predict(X) for tree in self.trees])\n",
    "        return np.mean(predictions, axis=0).round().astype(int)\n",
    "\n",
    "    def feature_importances(self):\n",
    "        return np.mean([tree.feature_importances_ for tree in self.trees], axis=0)\n"
   ],
   "metadata": {
    "collapsed": false,
    "pycharm": {
     "name": "#%%\n"
    }
   }
  },
  {
   "cell_type": "code",
   "execution_count": 139,
   "outputs": [
    {
     "name": "stdout",
     "output_type": "stream",
     "text": [
      "Requirement already satisfied: kaggle in /Users/artyomfadeyev/GitHub/ITMO-PROBLEMS/Machine-Learning/venv/lib/python3.9/site-packages (1.5.12)\r\n",
      "Requirement already satisfied: category_encoders in /Users/artyomfadeyev/GitHub/ITMO-PROBLEMS/Machine-Learning/venv/lib/python3.9/site-packages (2.5.1.post0)\r\n",
      "Requirement already satisfied: requests in /Users/artyomfadeyev/GitHub/ITMO-PROBLEMS/Machine-Learning/venv/lib/python3.9/site-packages (from kaggle) (2.28.1)\r\n",
      "Requirement already satisfied: python-dateutil in /Users/artyomfadeyev/GitHub/ITMO-PROBLEMS/Machine-Learning/venv/lib/python3.9/site-packages (from kaggle) (2.8.2)\r\n",
      "Requirement already satisfied: six>=1.10 in /Users/artyomfadeyev/GitHub/ITMO-PROBLEMS/Machine-Learning/venv/lib/python3.9/site-packages (from kaggle) (1.16.0)\r\n",
      "Requirement already satisfied: certifi in /Users/artyomfadeyev/GitHub/ITMO-PROBLEMS/Machine-Learning/venv/lib/python3.9/site-packages (from kaggle) (2022.9.24)\r\n",
      "Requirement already satisfied: python-slugify in /Users/artyomfadeyev/GitHub/ITMO-PROBLEMS/Machine-Learning/venv/lib/python3.9/site-packages (from kaggle) (6.1.2)\r\n",
      "Requirement already satisfied: urllib3 in /Users/artyomfadeyev/GitHub/ITMO-PROBLEMS/Machine-Learning/venv/lib/python3.9/site-packages (from kaggle) (1.26.12)\r\n",
      "Requirement already satisfied: tqdm in /Users/artyomfadeyev/GitHub/ITMO-PROBLEMS/Machine-Learning/venv/lib/python3.9/site-packages (from kaggle) (4.64.1)\r\n",
      "Requirement already satisfied: scikit-learn>=0.20.0 in /Users/artyomfadeyev/GitHub/ITMO-PROBLEMS/Machine-Learning/venv/lib/python3.9/site-packages (from category_encoders) (1.1.2)\r\n",
      "Requirement already satisfied: numpy>=1.14.0 in /Users/artyomfadeyev/GitHub/ITMO-PROBLEMS/Machine-Learning/venv/lib/python3.9/site-packages (from category_encoders) (1.23.2)\r\n",
      "Requirement already satisfied: pandas>=1.0.5 in /Users/artyomfadeyev/GitHub/ITMO-PROBLEMS/Machine-Learning/venv/lib/python3.9/site-packages (from category_encoders) (1.5.0)\r\n",
      "Requirement already satisfied: patsy>=0.5.1 in /Users/artyomfadeyev/GitHub/ITMO-PROBLEMS/Machine-Learning/venv/lib/python3.9/site-packages (from category_encoders) (0.5.3)\r\n",
      "Requirement already satisfied: statsmodels>=0.9.0 in /Users/artyomfadeyev/GitHub/ITMO-PROBLEMS/Machine-Learning/venv/lib/python3.9/site-packages (from category_encoders) (0.13.5)\r\n",
      "Requirement already satisfied: scipy>=1.0.0 in /Users/artyomfadeyev/GitHub/ITMO-PROBLEMS/Machine-Learning/venv/lib/python3.9/site-packages (from category_encoders) (1.9.1)\r\n",
      "Requirement already satisfied: pytz>=2020.1 in /Users/artyomfadeyev/GitHub/ITMO-PROBLEMS/Machine-Learning/venv/lib/python3.9/site-packages (from pandas>=1.0.5->category_encoders) (2022.2.1)\r\n",
      "Requirement already satisfied: joblib>=1.0.0 in /Users/artyomfadeyev/GitHub/ITMO-PROBLEMS/Machine-Learning/venv/lib/python3.9/site-packages (from scikit-learn>=0.20.0->category_encoders) (1.2.0)\r\n",
      "Requirement already satisfied: threadpoolctl>=2.0.0 in /Users/artyomfadeyev/GitHub/ITMO-PROBLEMS/Machine-Learning/venv/lib/python3.9/site-packages (from scikit-learn>=0.20.0->category_encoders) (3.1.0)\r\n",
      "Requirement already satisfied: packaging>=21.3 in /Users/artyomfadeyev/GitHub/ITMO-PROBLEMS/Machine-Learning/venv/lib/python3.9/site-packages (from statsmodels>=0.9.0->category_encoders) (21.3)\r\n",
      "Requirement already satisfied: text-unidecode>=1.3 in /Users/artyomfadeyev/GitHub/ITMO-PROBLEMS/Machine-Learning/venv/lib/python3.9/site-packages (from python-slugify->kaggle) (1.3)\r\n",
      "Requirement already satisfied: idna<4,>=2.5 in /Users/artyomfadeyev/GitHub/ITMO-PROBLEMS/Machine-Learning/venv/lib/python3.9/site-packages (from requests->kaggle) (3.4)\r\n",
      "Requirement already satisfied: charset-normalizer<3,>=2 in /Users/artyomfadeyev/GitHub/ITMO-PROBLEMS/Machine-Learning/venv/lib/python3.9/site-packages (from requests->kaggle) (2.1.1)\r\n",
      "Requirement already satisfied: pyparsing!=3.0.5,>=2.0.2 in /Users/artyomfadeyev/GitHub/ITMO-PROBLEMS/Machine-Learning/venv/lib/python3.9/site-packages (from packaging>=21.3->statsmodels>=0.9.0->category_encoders) (3.0.9)\r\n",
      "\r\n",
      "\u001B[1m[\u001B[0m\u001B[34;49mnotice\u001B[0m\u001B[1;39;49m]\u001B[0m\u001B[39;49m A new release of pip available: \u001B[0m\u001B[31;49m22.2.2\u001B[0m\u001B[39;49m -> \u001B[0m\u001B[32;49m22.3.1\u001B[0m\r\n",
      "\u001B[1m[\u001B[0m\u001B[34;49mnotice\u001B[0m\u001B[1;39;49m]\u001B[0m\u001B[39;49m To update, run: \u001B[0m\u001B[32;49mpip install --upgrade pip\u001B[0m\r\n"
     ]
    }
   ],
   "source": [
    "!pip install kaggle category_encoders"
   ],
   "metadata": {
    "collapsed": false,
    "pycharm": {
     "name": "#%%\n"
    }
   }
  },
  {
   "cell_type": "code",
   "execution_count": 140,
   "outputs": [
    {
     "name": "stdout",
     "output_type": "stream",
     "text": [
      "churn-for-bank-customers.zip: Skipping, found more recently modified local copy (use --force to force download)\r\n"
     ]
    }
   ],
   "source": [
    "!kaggle datasets download -d mathchi/churn-for-bank-customers -p ./data"
   ],
   "metadata": {
    "collapsed": false,
    "pycharm": {
     "name": "#%%\n"
    }
   }
  },
  {
   "cell_type": "code",
   "execution_count": 141,
   "outputs": [
    {
     "name": "stdout",
     "output_type": "stream",
     "text": [
      "Archive:  ./data/churn-for-bank-customers.zip\r\n",
      "  inflating: ./data/churn.csv        \r\n"
     ]
    }
   ],
   "source": [
    "!unzip ./data/churn-for-bank-customers.zip -d ./data"
   ],
   "metadata": {
    "collapsed": false,
    "pycharm": {
     "name": "#%%\n"
    }
   }
  },
  {
   "cell_type": "code",
   "execution_count": 142,
   "outputs": [
    {
     "name": "stdout",
     "output_type": "stream",
     "text": [
      "<class 'pandas.core.frame.DataFrame'>\n",
      "RangeIndex: 10000 entries, 0 to 9999\n",
      "Data columns (total 14 columns):\n",
      " #   Column           Non-Null Count  Dtype  \n",
      "---  ------           --------------  -----  \n",
      " 0   RowNumber        10000 non-null  int64  \n",
      " 1   CustomerId       10000 non-null  int64  \n",
      " 2   Surname          10000 non-null  object \n",
      " 3   CreditScore      10000 non-null  int64  \n",
      " 4   Geography        10000 non-null  object \n",
      " 5   Gender           10000 non-null  object \n",
      " 6   Age              10000 non-null  int64  \n",
      " 7   Tenure           10000 non-null  int64  \n",
      " 8   Balance          10000 non-null  float64\n",
      " 9   NumOfProducts    10000 non-null  int64  \n",
      " 10  HasCrCard        10000 non-null  int64  \n",
      " 11  IsActiveMember   10000 non-null  int64  \n",
      " 12  EstimatedSalary  10000 non-null  float64\n",
      " 13  Exited           10000 non-null  int64  \n",
      "dtypes: float64(2), int64(9), object(3)\n",
      "memory usage: 1.1+ MB\n"
     ]
    }
   ],
   "source": [
    "churn = pd.read_csv('./data/churn.csv')\n",
    "churn.info()"
   ],
   "metadata": {
    "collapsed": false,
    "pycharm": {
     "name": "#%%\n"
    }
   }
  },
  {
   "cell_type": "code",
   "execution_count": 143,
   "outputs": [],
   "source": [
    "import warnings\n",
    "warnings.filterwarnings('ignore')\n",
    "\n",
    "from category_encoders import TargetEncoder\n",
    "\n",
    "target = churn['Exited']\n",
    "geography_encoder = TargetEncoder()\n",
    "churn['Geography'] = geography_encoder.fit_transform(churn['Geography'], target)"
   ],
   "metadata": {
    "collapsed": false,
    "pycharm": {
     "name": "#%%\n"
    }
   }
  },
  {
   "cell_type": "code",
   "execution_count": 144,
   "outputs": [],
   "source": [
    "gender_encoder  = TargetEncoder()\n",
    "churn['Gender'] = gender_encoder.fit_transform(churn['Gender'], target)"
   ],
   "metadata": {
    "collapsed": false,
    "pycharm": {
     "name": "#%%\n"
    }
   }
  },
  {
   "cell_type": "code",
   "execution_count": 145,
   "outputs": [],
   "source": [
    "churn = churn.drop(['RowNumber', 'CustomerId', 'Surname', 'Exited'], axis=1)"
   ],
   "metadata": {
    "collapsed": false,
    "pycharm": {
     "name": "#%%\n"
    }
   }
  },
  {
   "cell_type": "code",
   "execution_count": 146,
   "outputs": [
    {
     "data": {
      "text/plain": "   CreditScore  Geography    Gender  Age  Tenure    Balance  NumOfProducts  \\\n0          619   0.161548  0.250715   42       2       0.00              1   \n1          608   0.166734  0.250715   41       1   83807.86              1   \n2          502   0.161548  0.250715   42       8  159660.80              3   \n3          699   0.161548  0.250715   39       1       0.00              2   \n4          850   0.166734  0.250715   43       2  125510.82              1   \n\n   HasCrCard  IsActiveMember  EstimatedSalary  \n0          1               1        101348.88  \n1          0               1        112542.58  \n2          1               0        113931.57  \n3          0               0         93826.63  \n4          1               1         79084.10  ",
      "text/html": "<div>\n<style scoped>\n    .dataframe tbody tr th:only-of-type {\n        vertical-align: middle;\n    }\n\n    .dataframe tbody tr th {\n        vertical-align: top;\n    }\n\n    .dataframe thead th {\n        text-align: right;\n    }\n</style>\n<table border=\"1\" class=\"dataframe\">\n  <thead>\n    <tr style=\"text-align: right;\">\n      <th></th>\n      <th>CreditScore</th>\n      <th>Geography</th>\n      <th>Gender</th>\n      <th>Age</th>\n      <th>Tenure</th>\n      <th>Balance</th>\n      <th>NumOfProducts</th>\n      <th>HasCrCard</th>\n      <th>IsActiveMember</th>\n      <th>EstimatedSalary</th>\n    </tr>\n  </thead>\n  <tbody>\n    <tr>\n      <th>0</th>\n      <td>619</td>\n      <td>0.161548</td>\n      <td>0.250715</td>\n      <td>42</td>\n      <td>2</td>\n      <td>0.00</td>\n      <td>1</td>\n      <td>1</td>\n      <td>1</td>\n      <td>101348.88</td>\n    </tr>\n    <tr>\n      <th>1</th>\n      <td>608</td>\n      <td>0.166734</td>\n      <td>0.250715</td>\n      <td>41</td>\n      <td>1</td>\n      <td>83807.86</td>\n      <td>1</td>\n      <td>0</td>\n      <td>1</td>\n      <td>112542.58</td>\n    </tr>\n    <tr>\n      <th>2</th>\n      <td>502</td>\n      <td>0.161548</td>\n      <td>0.250715</td>\n      <td>42</td>\n      <td>8</td>\n      <td>159660.80</td>\n      <td>3</td>\n      <td>1</td>\n      <td>0</td>\n      <td>113931.57</td>\n    </tr>\n    <tr>\n      <th>3</th>\n      <td>699</td>\n      <td>0.161548</td>\n      <td>0.250715</td>\n      <td>39</td>\n      <td>1</td>\n      <td>0.00</td>\n      <td>2</td>\n      <td>0</td>\n      <td>0</td>\n      <td>93826.63</td>\n    </tr>\n    <tr>\n      <th>4</th>\n      <td>850</td>\n      <td>0.166734</td>\n      <td>0.250715</td>\n      <td>43</td>\n      <td>2</td>\n      <td>125510.82</td>\n      <td>1</td>\n      <td>1</td>\n      <td>1</td>\n      <td>79084.10</td>\n    </tr>\n  </tbody>\n</table>\n</div>"
     },
     "execution_count": 146,
     "metadata": {},
     "output_type": "execute_result"
    }
   ],
   "source": [
    "churn.head()"
   ],
   "metadata": {
    "collapsed": false,
    "pycharm": {
     "name": "#%%\n"
    }
   }
  },
  {
   "cell_type": "code",
   "execution_count": 162,
   "outputs": [],
   "source": [
    "max_tree_count_options = [10, 50, 100, 200, 500]\n",
    "max_depth_options = list(range(1, 10))\n",
    "min_samples_leaf_options = list(range(1, 5))\n",
    "\n",
    "\n",
    "def get_best_params(\n",
    "    X,\n",
    "    y,\n",
    "):\n",
    "    best_params = None\n",
    "    best_score = 0\n",
    "\n",
    "    for max_tree_count in max_tree_count_options:\n",
    "        for max_depth in max_depth_options:\n",
    "            for min_samples_leaf in min_samples_leaf_options:\n",
    "                print(f'Fitting with params: {max_tree_count}, {max_depth}, {min_samples_leaf}')\n",
    "                model = RandomForestClassifier(\n",
    "                    tree_count=max_tree_count,\n",
    "                    tree_max_depth=max_depth,\n",
    "                    tree_min_samples_leaf=min_samples_leaf\n",
    "                )\n",
    "                model.fit(X, y)\n",
    "                score = accuracy_score(y, model.predict(X))\n",
    "                if score > best_score:\n",
    "                    best_score = score\n",
    "                    best_params = {\n",
    "                        'tree_count': max_tree_count,\n",
    "                        'tree_max_depth': max_depth,\n",
    "                        'tree_min_samples_leaf': min_samples_leaf\n",
    "                    }\n",
    "    return best_params, best_score"
   ],
   "metadata": {
    "collapsed": false,
    "pycharm": {
     "name": "#%%\n"
    }
   }
  },
  {
   "cell_type": "code",
   "execution_count": 163,
   "outputs": [],
   "source": [
    "from sklearn.model_selection import train_test_split\n",
    "\n",
    "X_train, X_test, y_train, y_test = train_test_split(\n",
    "    churn,\n",
    "    target,\n",
    "    test_size=0.2,\n",
    "    random_state=42\n",
    ")"
   ],
   "metadata": {
    "collapsed": false,
    "pycharm": {
     "name": "#%%\n"
    }
   }
  },
  {
   "cell_type": "code",
   "execution_count": 164,
   "outputs": [
    {
     "name": "stdout",
     "output_type": "stream",
     "text": [
      "Fitting with params: 10, 1, 1\n",
      "Fitting with params: 10, 1, 2\n",
      "Fitting with params: 10, 1, 3\n",
      "Fitting with params: 10, 1, 4\n",
      "Fitting with params: 10, 2, 1\n",
      "Fitting with params: 10, 2, 2\n",
      "Fitting with params: 10, 2, 3\n",
      "Fitting with params: 10, 2, 4\n",
      "Fitting with params: 10, 3, 1\n",
      "Fitting with params: 10, 3, 2\n",
      "Fitting with params: 10, 3, 3\n",
      "Fitting with params: 10, 3, 4\n",
      "Fitting with params: 10, 4, 1\n",
      "Fitting with params: 10, 4, 2\n",
      "Fitting with params: 10, 4, 3\n",
      "Fitting with params: 10, 4, 4\n",
      "Fitting with params: 10, 5, 1\n",
      "Fitting with params: 10, 5, 2\n",
      "Fitting with params: 10, 5, 3\n",
      "Fitting with params: 10, 5, 4\n",
      "Fitting with params: 10, 6, 1\n",
      "Fitting with params: 10, 6, 2\n",
      "Fitting with params: 10, 6, 3\n",
      "Fitting with params: 10, 6, 4\n",
      "Fitting with params: 10, 7, 1\n",
      "Fitting with params: 10, 7, 2\n",
      "Fitting with params: 10, 7, 3\n",
      "Fitting with params: 10, 7, 4\n",
      "Fitting with params: 10, 8, 1\n",
      "Fitting with params: 10, 8, 2\n",
      "Fitting with params: 10, 8, 3\n",
      "Fitting with params: 10, 8, 4\n",
      "Fitting with params: 10, 9, 1\n",
      "Fitting with params: 10, 9, 2\n",
      "Fitting with params: 10, 9, 3\n",
      "Fitting with params: 10, 9, 4\n",
      "Fitting with params: 50, 1, 1\n",
      "Fitting with params: 50, 1, 2\n",
      "Fitting with params: 50, 1, 3\n",
      "Fitting with params: 50, 1, 4\n",
      "Fitting with params: 50, 2, 1\n",
      "Fitting with params: 50, 2, 2\n",
      "Fitting with params: 50, 2, 3\n",
      "Fitting with params: 50, 2, 4\n",
      "Fitting with params: 50, 3, 1\n",
      "Fitting with params: 50, 3, 2\n",
      "Fitting with params: 50, 3, 3\n",
      "Fitting with params: 50, 3, 4\n",
      "Fitting with params: 50, 4, 1\n",
      "Fitting with params: 50, 4, 2\n",
      "Fitting with params: 50, 4, 3\n",
      "Fitting with params: 50, 4, 4\n",
      "Fitting with params: 50, 5, 1\n",
      "Fitting with params: 50, 5, 2\n",
      "Fitting with params: 50, 5, 3\n",
      "Fitting with params: 50, 5, 4\n",
      "Fitting with params: 50, 6, 1\n",
      "Fitting with params: 50, 6, 2\n",
      "Fitting with params: 50, 6, 3\n",
      "Fitting with params: 50, 6, 4\n",
      "Fitting with params: 50, 7, 1\n",
      "Fitting with params: 50, 7, 2\n",
      "Fitting with params: 50, 7, 3\n",
      "Fitting with params: 50, 7, 4\n",
      "Fitting with params: 50, 8, 1\n",
      "Fitting with params: 50, 8, 2\n",
      "Fitting with params: 50, 8, 3\n",
      "Fitting with params: 50, 8, 4\n",
      "Fitting with params: 50, 9, 1\n",
      "Fitting with params: 50, 9, 2\n",
      "Fitting with params: 50, 9, 3\n",
      "Fitting with params: 50, 9, 4\n",
      "Fitting with params: 100, 1, 1\n",
      "Fitting with params: 100, 1, 2\n",
      "Fitting with params: 100, 1, 3\n",
      "Fitting with params: 100, 1, 4\n",
      "Fitting with params: 100, 2, 1\n",
      "Fitting with params: 100, 2, 2\n",
      "Fitting with params: 100, 2, 3\n",
      "Fitting with params: 100, 2, 4\n",
      "Fitting with params: 100, 3, 1\n",
      "Fitting with params: 100, 3, 2\n",
      "Fitting with params: 100, 3, 3\n",
      "Fitting with params: 100, 3, 4\n",
      "Fitting with params: 100, 4, 1\n",
      "Fitting with params: 100, 4, 2\n",
      "Fitting with params: 100, 4, 3\n",
      "Fitting with params: 100, 4, 4\n",
      "Fitting with params: 100, 5, 1\n",
      "Fitting with params: 100, 5, 2\n",
      "Fitting with params: 100, 5, 3\n",
      "Fitting with params: 100, 5, 4\n",
      "Fitting with params: 100, 6, 1\n",
      "Fitting with params: 100, 6, 2\n",
      "Fitting with params: 100, 6, 3\n",
      "Fitting with params: 100, 6, 4\n",
      "Fitting with params: 100, 7, 1\n",
      "Fitting with params: 100, 7, 2\n",
      "Fitting with params: 100, 7, 3\n",
      "Fitting with params: 100, 7, 4\n",
      "Fitting with params: 100, 8, 1\n",
      "Fitting with params: 100, 8, 2\n",
      "Fitting with params: 100, 8, 3\n",
      "Fitting with params: 100, 8, 4\n",
      "Fitting with params: 100, 9, 1\n",
      "Fitting with params: 100, 9, 2\n",
      "Fitting with params: 100, 9, 3\n",
      "Fitting with params: 100, 9, 4\n",
      "Fitting with params: 200, 1, 1\n",
      "Fitting with params: 200, 1, 2\n",
      "Fitting with params: 200, 1, 3\n",
      "Fitting with params: 200, 1, 4\n",
      "Fitting with params: 200, 2, 1\n",
      "Fitting with params: 200, 2, 2\n",
      "Fitting with params: 200, 2, 3\n",
      "Fitting with params: 200, 2, 4\n",
      "Fitting with params: 200, 3, 1\n",
      "Fitting with params: 200, 3, 2\n",
      "Fitting with params: 200, 3, 3\n",
      "Fitting with params: 200, 3, 4\n",
      "Fitting with params: 200, 4, 1\n",
      "Fitting with params: 200, 4, 2\n",
      "Fitting with params: 200, 4, 3\n",
      "Fitting with params: 200, 4, 4\n",
      "Fitting with params: 200, 5, 1\n",
      "Fitting with params: 200, 5, 2\n",
      "Fitting with params: 200, 5, 3\n",
      "Fitting with params: 200, 5, 4\n",
      "Fitting with params: 200, 6, 1\n",
      "Fitting with params: 200, 6, 2\n",
      "Fitting with params: 200, 6, 3\n",
      "Fitting with params: 200, 6, 4\n",
      "Fitting with params: 200, 7, 1\n",
      "Fitting with params: 200, 7, 2\n",
      "Fitting with params: 200, 7, 3\n",
      "Fitting with params: 200, 7, 4\n",
      "Fitting with params: 200, 8, 1\n",
      "Fitting with params: 200, 8, 2\n",
      "Fitting with params: 200, 8, 3\n",
      "Fitting with params: 200, 8, 4\n",
      "Fitting with params: 200, 9, 1\n",
      "Fitting with params: 200, 9, 2\n",
      "Fitting with params: 200, 9, 3\n",
      "Fitting with params: 200, 9, 4\n",
      "Fitting with params: 500, 1, 1\n",
      "Fitting with params: 500, 1, 2\n",
      "Fitting with params: 500, 1, 3\n",
      "Fitting with params: 500, 1, 4\n",
      "Fitting with params: 500, 2, 1\n",
      "Fitting with params: 500, 2, 2\n",
      "Fitting with params: 500, 2, 3\n",
      "Fitting with params: 500, 2, 4\n",
      "Fitting with params: 500, 3, 1\n",
      "Fitting with params: 500, 3, 2\n",
      "Fitting with params: 500, 3, 3\n",
      "Fitting with params: 500, 3, 4\n",
      "Fitting with params: 500, 4, 1\n",
      "Fitting with params: 500, 4, 2\n",
      "Fitting with params: 500, 4, 3\n",
      "Fitting with params: 500, 4, 4\n",
      "Fitting with params: 500, 5, 1\n",
      "Fitting with params: 500, 5, 2\n",
      "Fitting with params: 500, 5, 3\n",
      "Fitting with params: 500, 5, 4\n",
      "Fitting with params: 500, 6, 1\n",
      "Fitting with params: 500, 6, 2\n",
      "Fitting with params: 500, 6, 3\n",
      "Fitting with params: 500, 6, 4\n",
      "Fitting with params: 500, 7, 1\n",
      "Fitting with params: 500, 7, 2\n",
      "Fitting with params: 500, 7, 3\n",
      "Fitting with params: 500, 7, 4\n",
      "Fitting with params: 500, 8, 1\n",
      "Fitting with params: 500, 8, 2\n",
      "Fitting with params: 500, 8, 3\n",
      "Fitting with params: 500, 8, 4\n",
      "Fitting with params: 500, 9, 1\n",
      "Fitting with params: 500, 9, 2\n",
      "Fitting with params: 500, 9, 3\n",
      "Fitting with params: 500, 9, 4\n"
     ]
    }
   ],
   "source": [
    "best_params, best_score = get_best_params(X_train, y_train)"
   ],
   "metadata": {
    "collapsed": false,
    "pycharm": {
     "name": "#%%\n"
    }
   }
  },
  {
   "cell_type": "code",
   "execution_count": 165,
   "outputs": [
    {
     "name": "stdout",
     "output_type": "stream",
     "text": [
      "Best params: {'tree_count': 50, 'tree_max_depth': 9, 'tree_min_samples_leaf': 1}\n",
      "Best score: 0.886375\n"
     ]
    }
   ],
   "source": [
    "print(f'Best params: {best_params}', f'Best score: {best_score}', sep='\\n')"
   ],
   "metadata": {
    "collapsed": false,
    "pycharm": {
     "name": "#%%\n"
    }
   }
  },
  {
   "cell_type": "code",
   "execution_count": 166,
   "outputs": [
    {
     "name": "stdout",
     "output_type": "stream",
     "text": [
      "Accuracy: 0.864\n"
     ]
    }
   ],
   "source": [
    "model = RandomForestClassifier(\n",
    "    tree_count=best_params['tree_count'],\n",
    "    tree_max_depth=best_params['tree_max_depth'],\n",
    "    tree_min_samples_leaf=best_params['tree_min_samples_leaf']\n",
    ")\n",
    "model.fit(X_train, y_train)\n",
    "\n",
    "y_pred = model.predict(X_test)\n",
    "\n",
    "print(f'Accuracy: {accuracy_score(y_test, y_pred)}')"
   ],
   "metadata": {
    "collapsed": false,
    "pycharm": {
     "name": "#%%\n"
    }
   }
  },
  {
   "cell_type": "code",
   "execution_count": 167,
   "outputs": [
    {
     "data": {
      "text/plain": "           feature  importance\n3              Age    0.331526\n6    NumOfProducts    0.252547\n5          Balance    0.099386\n8   IsActiveMember    0.073364\n0      CreditScore    0.064288\n9  EstimatedSalary    0.064238\n1        Geography    0.054356\n4           Tenure    0.034179\n2           Gender    0.017883\n7        HasCrCard    0.008233",
      "text/html": "<div>\n<style scoped>\n    .dataframe tbody tr th:only-of-type {\n        vertical-align: middle;\n    }\n\n    .dataframe tbody tr th {\n        vertical-align: top;\n    }\n\n    .dataframe thead th {\n        text-align: right;\n    }\n</style>\n<table border=\"1\" class=\"dataframe\">\n  <thead>\n    <tr style=\"text-align: right;\">\n      <th></th>\n      <th>feature</th>\n      <th>importance</th>\n    </tr>\n  </thead>\n  <tbody>\n    <tr>\n      <th>3</th>\n      <td>Age</td>\n      <td>0.331526</td>\n    </tr>\n    <tr>\n      <th>6</th>\n      <td>NumOfProducts</td>\n      <td>0.252547</td>\n    </tr>\n    <tr>\n      <th>5</th>\n      <td>Balance</td>\n      <td>0.099386</td>\n    </tr>\n    <tr>\n      <th>8</th>\n      <td>IsActiveMember</td>\n      <td>0.073364</td>\n    </tr>\n    <tr>\n      <th>0</th>\n      <td>CreditScore</td>\n      <td>0.064288</td>\n    </tr>\n    <tr>\n      <th>9</th>\n      <td>EstimatedSalary</td>\n      <td>0.064238</td>\n    </tr>\n    <tr>\n      <th>1</th>\n      <td>Geography</td>\n      <td>0.054356</td>\n    </tr>\n    <tr>\n      <th>4</th>\n      <td>Tenure</td>\n      <td>0.034179</td>\n    </tr>\n    <tr>\n      <th>2</th>\n      <td>Gender</td>\n      <td>0.017883</td>\n    </tr>\n    <tr>\n      <th>7</th>\n      <td>HasCrCard</td>\n      <td>0.008233</td>\n    </tr>\n  </tbody>\n</table>\n</div>"
     },
     "execution_count": 167,
     "metadata": {},
     "output_type": "execute_result"
    }
   ],
   "source": [
    "pd.DataFrame({\n",
    "    'feature': churn.columns,\n",
    "    'importance': model.feature_importances()\n",
    "}).sort_values('importance', ascending=False)"
   ],
   "metadata": {
    "collapsed": false,
    "pycharm": {
     "name": "#%%\n"
    }
   }
  },
  {
   "cell_type": "code",
   "execution_count": 168,
   "outputs": [
    {
     "name": "stdout",
     "output_type": "stream",
     "text": [
      "Accuracy: 0.861\n"
     ]
    }
   ],
   "source": [
    "from sklearn.ensemble import RandomForestClassifier as SklearnRandomForestClassifier\n",
    "\n",
    "sklearn_model = SklearnRandomForestClassifier(\n",
    "    n_estimators=best_params['tree_count'],\n",
    "    max_depth=best_params['tree_max_depth'],\n",
    "    min_samples_leaf=best_params['tree_min_samples_leaf'],\n",
    "    random_state=42\n",
    ")\n",
    "\n",
    "sklearn_model.fit(X_train, y_train)\n",
    "\n",
    "sklearn_y_pred = sklearn_model.predict(X_test)\n",
    "\n",
    "print(f'Accuracy: {accuracy_score(y_test, sklearn_y_pred)}')"
   ],
   "metadata": {
    "collapsed": false,
    "pycharm": {
     "name": "#%%\n"
    }
   }
  },
  {
   "cell_type": "code",
   "execution_count": 169,
   "outputs": [
    {
     "data": {
      "text/plain": "           feature  importance\n3              Age    0.341690\n6    NumOfProducts    0.253271\n5          Balance    0.099159\n8   IsActiveMember    0.068170\n0      CreditScore    0.062768\n9  EstimatedSalary    0.062474\n1        Geography    0.051503\n4           Tenure    0.035072\n2           Gender    0.018524\n7        HasCrCard    0.007369",
      "text/html": "<div>\n<style scoped>\n    .dataframe tbody tr th:only-of-type {\n        vertical-align: middle;\n    }\n\n    .dataframe tbody tr th {\n        vertical-align: top;\n    }\n\n    .dataframe thead th {\n        text-align: right;\n    }\n</style>\n<table border=\"1\" class=\"dataframe\">\n  <thead>\n    <tr style=\"text-align: right;\">\n      <th></th>\n      <th>feature</th>\n      <th>importance</th>\n    </tr>\n  </thead>\n  <tbody>\n    <tr>\n      <th>3</th>\n      <td>Age</td>\n      <td>0.341690</td>\n    </tr>\n    <tr>\n      <th>6</th>\n      <td>NumOfProducts</td>\n      <td>0.253271</td>\n    </tr>\n    <tr>\n      <th>5</th>\n      <td>Balance</td>\n      <td>0.099159</td>\n    </tr>\n    <tr>\n      <th>8</th>\n      <td>IsActiveMember</td>\n      <td>0.068170</td>\n    </tr>\n    <tr>\n      <th>0</th>\n      <td>CreditScore</td>\n      <td>0.062768</td>\n    </tr>\n    <tr>\n      <th>9</th>\n      <td>EstimatedSalary</td>\n      <td>0.062474</td>\n    </tr>\n    <tr>\n      <th>1</th>\n      <td>Geography</td>\n      <td>0.051503</td>\n    </tr>\n    <tr>\n      <th>4</th>\n      <td>Tenure</td>\n      <td>0.035072</td>\n    </tr>\n    <tr>\n      <th>2</th>\n      <td>Gender</td>\n      <td>0.018524</td>\n    </tr>\n    <tr>\n      <th>7</th>\n      <td>HasCrCard</td>\n      <td>0.007369</td>\n    </tr>\n  </tbody>\n</table>\n</div>"
     },
     "execution_count": 169,
     "metadata": {},
     "output_type": "execute_result"
    }
   ],
   "source": [
    "pd.DataFrame({\n",
    "    'feature': churn.columns,\n",
    "    'importance': sklearn_model.feature_importances_\n",
    "}).sort_values('importance', ascending=False)"
   ],
   "metadata": {
    "collapsed": false,
    "pycharm": {
     "name": "#%%\n"
    }
   }
  },
  {
   "cell_type": "code",
   "execution_count": null,
   "outputs": [],
   "source": [],
   "metadata": {
    "collapsed": false,
    "pycharm": {
     "name": "#%%\n"
    }
   }
  }
 ]
}