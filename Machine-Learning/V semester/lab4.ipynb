{
 "nbformat": 4,
 "nbformat_minor": 0,
 "metadata": {
  "colab": {
   "provenance": [],
   "toc_visible": true
  },
  "kernelspec": {
   "name": "python3",
   "display_name": "Python 3"
  }
 },
 "cells": [
  {
   "cell_type": "markdown",
   "metadata": {
    "id": "hGClrhQA9SAk",
    "pycharm": {
     "name": "#%% md\n"
    }
   },
   "source": [
    "# Деревья решений"
   ]
  },
  {
   "cell_type": "markdown",
   "metadata": {
    "id": "veekMy8WRjBi",
    "pycharm": {
     "name": "#%% md\n"
    }
   },
   "source": [
    "## Построение дерева"
   ]
  },
  {
   "cell_type": "markdown",
   "metadata": {
    "id": "SYkVwAFiUHXj",
    "pycharm": {
     "name": "#%% md\n"
    }
   },
   "source": [
    "Опишем жадный алгоритм построения бинарного дерева решений:\n",
    "1. Начинаем со всей обучающей выборки $X$, которую помещаем в корень $R_1$. \n",
    "2. Задаём функционал качества $Q(X, j, t)$ и критерий остановки. \n",
    "3. Запускаем построение из корня: $SplitNode(1, R_1)$\n",
    "\n",
    "Функция $SplitNode(m, R_m)$\n",
    "1. Если выполнен критерий остановки, то выход.\n",
    "2. Находим наилучший с точки зрения $Q$ предикат: $j, t$: $[x_j<t]$\n",
    "3. Помещаем предикат в вкршину и получаем с его помощью разбиение $X$ на две части: $R_{left} = \\lbrace x|x_j<t \\rbrace$ и $R_{right} = \\lbrace x|x_j \\geqslant t \\rbrace$\n",
    "4. Поместим $R_{left}$ и $R_{right}$ соответсвенно в левое и правое поддерево.\n",
    "5. Рекурсивно повторяем $SplitNode(left, R_{left})$ и $SplitNode(right, R_{right})$.\n",
    "\n",
    "В конце поставим в соответствие каждому листу ответ. Для задачи классификации - это самый частый среди объектов класс или вектор с долями классов (можно интерпретировать как вероятности):\n",
    "$$ c_v = \\arg \\max_{k\\in Y} \\sum_{(x_i,y_i) \\in R_v} [y_i=k]  $$"
   ]
  },
  {
   "cell_type": "markdown",
   "metadata": {
    "id": "9P6FsdBog4Ai",
    "pycharm": {
     "name": "#%% md\n"
    }
   },
   "source": [
    "## Функционал качества для деревьев решений\n"
   ]
  },
  {
   "cell_type": "markdown",
   "metadata": {
    "id": "9VAKO0aykGBD",
    "pycharm": {
     "name": "#%% md\n"
    }
   },
   "source": [
    "Энтропия Шеннона для системы с N возможными состояниями определяется по формуле:\n",
    "$$H = - \\sum_{i=0}^{N} p_i\\log_2p_i $$"
   ]
  },
  {
   "cell_type": "markdown",
   "metadata": {
    "id": "5582B-1Fn2bw",
    "pycharm": {
     "name": "#%% md\n"
    }
   },
   "source": [
    "где $p_i$ – вероятности нахождения системы в $i$-ом состоянии. \n",
    "\n",
    "Это очень важное понятие теории информации, которое позволяет оценить количество информации (степень хаоса в системе). Чем выше энтропия, тем менее упорядочена система и наоборот. С помощью энтропии мы формализуем функционал качества для разделение выборки (для задачи классификации)."
   ]
  },
  {
   "cell_type": "code",
   "metadata": {
    "id": "PbcMUd7bvk05",
    "pycharm": {
     "name": "#%%\n"
    }
   },
   "source": [
    "import numpy as np\n",
    "import pandas as pd\n",
    "\n",
    "import matplotlib.pyplot as plt\n",
    "\n",
    "import random\n",
    "from pprint import pprint"
   ],
   "execution_count": 1,
   "outputs": []
  },
  {
   "cell_type": "markdown",
   "metadata": {
    "id": "4AdLxP9CowTm",
    "pycharm": {
     "name": "#%% md\n"
    }
   },
   "source": [
    "Код для расчёта энтропии:"
   ]
  },
  {
   "cell_type": "code",
   "metadata": {
    "id": "2mT8Jq8Av2sM",
    "pycharm": {
     "name": "#%%\n"
    }
   },
   "source": [
    "def entropy(y):\n",
    "    _, counts = np.unique(y, return_counts=True)\n",
    "    probabilities = counts / counts.sum()\n",
    "    entropy = sum(probabilities * -np.log2(probabilities))\n",
    "    return entropy"
   ],
   "execution_count": 2,
   "outputs": []
  },
  {
   "cell_type": "markdown",
   "metadata": {
    "id": "Xk9etb2vo7fK",
    "pycharm": {
     "name": "#%% md\n"
    }
   },
   "source": [
    "Здесь $y$ - это массив значений целевой переменной"
   ]
  },
  {
   "cell_type": "markdown",
   "metadata": {
    "id": "07TCw0USzLus",
    "pycharm": {
     "name": "#%% md\n"
    }
   },
   "source": [
    "Энтропия – по сути степень хаоса (или неопределенности) в системе. Уменьшение энтропии называют приростом информации (information gain, IG).\n",
    "\n",
    "Обочначим $R_v$ - объекты, которые нужно разделить в помощью предиката в вершине $v$. Запишем формулу для расчёта информационного прироста:\n",
    "$$ Q = IG = H(R_v) - (H(R_{left})+H(R_{right}))$$\n",
    "\n",
    "На каждом шаге нам нужно максимизировать этот функционал качества. Как это делать? Например, так можно перебрать $t$ для выбранного $j$."
   ]
  },
  {
   "cell_type": "markdown",
   "metadata": {
    "id": "trEWHDoXg_p9",
    "pycharm": {
     "name": "#%% md\n"
    }
   },
   "source": [
    "Предыдущая версия формулы прироста информации слишком упрощена. В работе необходимо использовать более устойчивую формулу, которая учитывает не только энтропию подмножеств, но и их размер. \n",
    "\n",
    "$$ Q = IG = H(R_v) - \\Big (\\frac{|R_{left}|} {|R_{v}|} H(R_{left})+ \\frac{|R_{right}|} {|R_{v}|} H(R_{right})\\Big)$$\n",
    "\n",
    "где, $|R_{v}|$, $|R_{left}|$ и $|R_{right}|$ - количество элементов в соответствующих множествах."
   ]
  },
  {
   "cell_type": "markdown",
   "metadata": {
    "id": "9xmN6V_N1xBr",
    "pycharm": {
     "name": "#%% md\n"
    }
   },
   "source": [
    "\n",
    "### Задание 4.1"
   ]
  },
  {
   "cell_type": "markdown",
   "metadata": {
    "id": "nWFHZScF2CBF",
    "pycharm": {
     "name": "#%% md\n"
    }
   },
   "source": [
    "Реализуйте алгоритм построения дерева. Должны быть отдельные функции (методы) для расчёта энтропии (уже есть), для разделения дерева (используйте `pandas`), для подсчёта функционала качества $IG$, для выбора наилучшего разделения (с учетом признакоd и порогов), для проверки критерия остановки.\n",
    "\n",
    "Для набора данных `iris` реализуйте алгоритм и минимум три из разными критерия остановки из перечисленных ниже:\n",
    "* максимальной глубины дерева = 5\n",
    "* минимального числа объектов в листе = 5\n",
    "* максимальное количество листьев в дереве = 5\n",
    "* purity (остановка, если все объекты в листе относятся к одному классу)\n",
    "\n",
    "Реализуйте функцию `predict` (на вход функции подаётся датафрейм с объектами)\n",
    "\n",
    "Оцените точность каждой модели с помощью метрики доля правильных ответов (`from sklearn.metrics import accuracy_score` или реализовать свою)."
   ]
  },
  {
   "cell_type": "code",
   "execution_count": 3,
   "outputs": [],
   "source": [
    "def count_info_gain(r_v, r_left, r_right):\n",
    "    left, right = len(r_left) / len(r_v), len(r_right) / len(r_v)\n",
    "    return entropy(r_v) - left * entropy(r_left) - right * entropy(r_right)\n",
    "\n",
    "\n",
    "class Node:\n",
    "    def __init__(self, probabilities=None):\n",
    "        self.right = None\n",
    "        self.left = None\n",
    "        self.probabilities = probabilities\n",
    "        self.feature_index = None\n",
    "        self.t = -1\n",
    "\n",
    "\n",
    "class DecisionTreeClassifier:\n",
    "    def __init__(\n",
    "        self,\n",
    "        max_depth: int = 5,\n",
    "        min_samples_leaf: int = 5,\n",
    "    ):\n",
    "        self.max_depth = max_depth\n",
    "        self.min_samples_leaf = min_samples_leaf\n",
    "        self.n_classes = None\n",
    "        self.tree = None\n",
    "\n",
    "    def probabilities(self, y):\n",
    "        return np.array([len(y[y == y_type]) / len(y) for y_type in range(self.n_classes)])\n",
    "\n",
    "    def _is_stop_condition(self, y, depth, leaf_samples):\n",
    "        over_depth = depth >= self.max_depth\n",
    "        not_enough_samples = len(y) < leaf_samples\n",
    "        purity = len(np.unique(y)) == 1\n",
    "        return over_depth or not_enough_samples or purity\n",
    "\n",
    "    def split_node(self, X, y, node, depth=0):\n",
    "        if self._is_stop_condition(y, depth, self.min_samples_leaf):\n",
    "            return\n",
    "\n",
    "        feature_index, best_t = self._find_best_split(X, y)\n",
    "        if feature_index is None:\n",
    "            return\n",
    "\n",
    "        x_left, y_left = X[X[:, feature_index] < best_t], y[X[:, feature_index] < best_t]\n",
    "        x_right, y_right = X[X[:, feature_index] >= best_t], y[X[:, feature_index] >= best_t]\n",
    "\n",
    "        node.left = Node(self.probabilities(y_left))\n",
    "        node.right = Node(self.probabilities(y_right))\n",
    "        node.feature_index = feature_index\n",
    "        node.t = best_t\n",
    "        self.split_node(x_left, y_left, node.left, depth + 1)\n",
    "        self.split_node(x_right, y_right, node.right, depth + 1)\n",
    "\n",
    "\n",
    "    @staticmethod\n",
    "    def _find_best_split(X, y):\n",
    "        best_idx, best_thr, best_ig = None, None, -1\n",
    "        for i in range(X.shape[1]):\n",
    "            x_col = X[:, i]\n",
    "            for t in x_col:\n",
    "                r_left, r_right = y[x_col < t], y[x_col >= t]\n",
    "                ig = count_info_gain(y, r_left, r_right)\n",
    "                if ig > best_ig:\n",
    "                    best_thr, best_ig, best_idx = t, ig, i\n",
    "\n",
    "        return best_idx, best_thr\n",
    "\n",
    "    def fit(self, X, y):\n",
    "        self.n_classes = len(np.unique(y))\n",
    "        self.tree = Node(self.probabilities(y))\n",
    "        self.split_node(np.asarray(X), y, self.tree)\n",
    "\n",
    "    def predict(self, X):\n",
    "        return [np.argmax(self.predict_node(x, self.tree)) for x in X]\n",
    "\n",
    "    def predict_node(self, x, node):\n",
    "        while node.left:\n",
    "            if x[node.feature_index] < node.t:\n",
    "                return self.predict_node(x, node.left)\n",
    "            else:\n",
    "                return self.predict_node(x, node.right)\n",
    "\n",
    "        return node.probabilities"
   ],
   "metadata": {
    "collapsed": false,
    "pycharm": {
     "name": "#%%\n"
    }
   }
  },
  {
   "cell_type": "code",
   "execution_count": 4,
   "outputs": [],
   "source": [
    "from sklearn.datasets import load_iris\n",
    "\n",
    "iris = load_iris()"
   ],
   "metadata": {
    "collapsed": false,
    "pycharm": {
     "name": "#%%\n"
    }
   }
  },
  {
   "cell_type": "code",
   "execution_count": 5,
   "outputs": [
    {
     "data": {
      "text/plain": "1.0"
     },
     "execution_count": 5,
     "metadata": {},
     "output_type": "execute_result"
    }
   ],
   "source": [
    "from sklearn.metrics import accuracy_score\n",
    "from sklearn.model_selection import train_test_split\n",
    "\n",
    "decision_tree = DecisionTreeClassifier(max_depth=5)\n",
    "X_train, X_test, y_train, y_test = train_test_split(iris.data, iris.target, test_size=0.2, random_state=42)\n",
    "\n",
    "decision_tree.fit(X_train, y_train)\n",
    "y_pred = decision_tree.predict(X_test)\n",
    "accuracy_score(y_test, y_pred)"
   ],
   "metadata": {
    "collapsed": false,
    "pycharm": {
     "name": "#%%\n"
    }
   }
  },
  {
   "cell_type": "code",
   "execution_count": 6,
   "outputs": [
    {
     "data": {
      "text/plain": "<matplotlib.collections.PathCollection at 0x17dff0100>"
     },
     "execution_count": 6,
     "metadata": {},
     "output_type": "execute_result"
    },
    {
     "data": {
      "text/plain": "<Figure size 640x480 with 1 Axes>",
      "image/png": "[encoded data removed]"
     },
     "metadata": {},
     "output_type": "display_data"
    }
   ],
   "source": [
    "plt.scatter(X_test[:, 1], X_test[:, 2], c=y_pred)"
   ],
   "metadata": {
    "collapsed": false,
    "pycharm": {
     "name": "#%%\n"
    }
   }
  },
  {
   "cell_type": "code",
   "execution_count": 7,
   "outputs": [
    {
     "data": {
      "text/plain": "1.0"
     },
     "execution_count": 7,
     "metadata": {},
     "output_type": "execute_result"
    }
   ],
   "source": [
    "from sklearn.tree import DecisionTreeClassifier as SklearnDecisionTreeClassifier\n",
    "\n",
    "sklearn_decision_tree = SklearnDecisionTreeClassifier(max_depth=5, min_samples_leaf=5)\n",
    "sklearn_decision_tree.fit(X_train, y_train)\n",
    "y_pred = sklearn_decision_tree.predict(X_test)\n",
    "accuracy_score(y_test, y_pred)"
   ],
   "metadata": {
    "collapsed": false,
    "pycharm": {
     "name": "#%%\n"
    }
   }
  },
  {
   "cell_type": "code",
   "execution_count": 8,
   "outputs": [
    {
     "data": {
      "text/plain": "<matplotlib.collections.PathCollection at 0x17e9f57c0>"
     },
     "execution_count": 8,
     "metadata": {},
     "output_type": "execute_result"
    },
    {
     "data": {
      "text/plain": "<Figure size 640x480 with 1 Axes>",
      "image/png": "[encoded data removed]"
     },
     "metadata": {},
     "output_type": "display_data"
    }
   ],
   "source": [
    "plt.scatter(X_test[:, 1], X_test[:, 2], c=y_pred)"
   ],
   "metadata": {
    "collapsed": false,
    "pycharm": {
     "name": "#%%\n"
    }
   }
  },
  {
   "cell_type": "code",
   "execution_count": 8,
   "outputs": [],
   "source": [],
   "metadata": {
    "collapsed": false,
    "pycharm": {
     "name": "#%%\n"
    }
   }
  },
  {
   "cell_type": "markdown",
   "metadata": {
    "id": "7fKZe1FyRgCa",
    "pycharm": {
     "name": "#%% md\n"
    }
   },
   "source": [
    "Опишем алгоритм случайный лес (*random forest*) и попутно разберём основные идеи:\n",
    "\n",
    "1. Зададим $N$ - число деревьев в лесу.\n",
    "2. Для каждого $n$ из $N$ сгенерируем свою выборку $X_n$. Пусть $m$ - это количество объектов в $X$. При генерации каждой $X_n$ мы будем брать объекты $m$ раз с возвращением. То есть один и тот же объект может попасть в выборку несколько раз, а какие-то объекты не попадут. (Этот способ назвается бутстрап).\n",
    "3. По каждой $X_n$ построим решающее дерево $b_n$. Обычно стараются делать глубокие деревья. В качестве критериев остановки можно использовать `max_depth` или `min_samples_leaf` (например, пока в каждом листе не окажется по одному объекту). При каждом разбиении сначала выбирается $k$ (эвристика $k = \\sqrt d$, где $d$ - это число признаков объектов из выборки $X$) случайных признаков из исходных, и оптимальное разделение выборки ищется только среди них. Обратите внимание, что мы не выбрасываем оставшиеся признаки!\n",
    "4. Итоговый алгоритм будет представлять собой результат голосования (для классификации) и среднее арифметическое (для регрессии). Модификация алгоритма предполагает учёт весов каждого отдельного слабого алгоритма в ансамбле, но в этом особо нет смысла.\n"
   ]
  },
  {
   "cell_type": "markdown",
   "metadata": {
    "id": "YJBQ8lc0WyrN",
    "pycharm": {
     "name": "#%% md\n"
    }
   },
   "source": [
    "### Задание 4.2"
   ]
  },
  {
   "cell_type": "markdown",
   "metadata": {
    "id": "y594Jn04ZTCm",
    "pycharm": {
     "name": "#%% md\n"
    }
   },
   "source": [
    "В качестве набора данных используйте: https://www.kaggle.com/mathchi/churn-for-bank-customers\n",
    "\n",
    "Там есть описание и примеры работы с этими данными. Если кратко, речь идёт про задачу прогнозирования оттока клиентов. Есть данные о 10 тысячах клиентов банка, часть из которых больше не являются клиентами."
   ]
  },
  {
   "cell_type": "markdown",
   "metadata": {
    "id": "be_mLbdVW2oG",
    "pycharm": {
     "name": "#%% md\n"
    }
   },
   "source": [
    "Используя либо свою реализацию, либо  `DecisionTreeClassifier` с разными настройками из `sklearn.tree` реализйте алгоритм \"случайный лес\". \n",
    "\n",
    "Найдите наилучшие гиперпараметры этого алгоритма: количество деревьев, критерий остановки, функционал качества, минимальное количество объектов в листьях и другие.\n",
    "\n",
    "Нельзя использовать готовую реализацию случайного леса из `sklearn`.\n",
    "\n",
    "В подобных задачах очень важна интерпретируемость алгоритма. Попытайтесь оценить информативность признаков, т.е. ответить а вопрос, значения каких признаков являются самыми важными индикаторами того, что банк потеряет клиента."
   ]
  },
  {
   "cell_type": "code",
   "execution_count": 9,
   "outputs": [],
   "source": [
    "# ..."
   ],
   "metadata": {
    "collapsed": false,
    "pycharm": {
     "name": "#%%\n"
    }
   }
  }
 ]
}