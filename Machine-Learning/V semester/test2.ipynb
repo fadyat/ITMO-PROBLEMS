{
 "nbformat": 4,
 "nbformat_minor": 0,
 "metadata": {
  "kernelspec": {
   "display_name": "Python 3",
   "language": "python",
   "name": "python3"
  },
  "language_info": {
   "codemirror_mode": {
    "name": "ipython",
    "version": 3
   },
   "file_extension": ".py",
   "mimetype": "text/x-python",
   "name": "python",
   "nbconvert_exporter": "python",
   "pygments_lexer": "ipython3",
   "version": "3.6.5"
  },
  "toc": {
   "base_numbering": 1,
   "nav_menu": {},
   "number_sections": true,
   "sideBar": true,
   "skip_h1_title": false,
   "title_cell": "Table of Contents",
   "title_sidebar": "Contents",
   "toc_cell": false,
   "toc_position": {},
   "toc_section_display": true,
   "toc_window_display": false
  },
  "colab": {
   "provenance": [],
   "collapsed_sections": [
    "pJyxgxErLqbg",
    "y8BB5t5DLqb8",
    "RQS6gBO1Lqc5"
   ]
  }
 },
 "cells": [
  {
   "cell_type": "markdown",
   "metadata": {
    "id": "LYKqDli0Lqas",
    "pycharm": {
     "name": "#%% md\n"
    }
   },
   "source": [
    "# Рубежная контрольная работа\n",
    "\n",
    "Эту работу выполнять не обязательно. Баллы набранные за работу просуммируются с баллами, которые были набраны за контрольную работу 1 и выставлены как оценка за промежуточную аттестацию \"автоматом\". "
   ]
  },
  {
   "cell_type": "markdown",
   "metadata": {
    "id": "Cdt8kOfu4K3x",
    "pycharm": {
     "name": "#%% md\n"
    }
   },
   "source": [
    "Сделайте копию ноутбука\n",
    "\n",
    "Присвойте переменной `v` значение свой табельный номер ИСУ, это нужно для определения вашего варианта. Запустите код в следующей ячейке."
   ]
  },
  {
   "cell_type": "code",
   "metadata": {
    "id": "38Ryn8pjvYqb",
    "colab": {
     "base_uri": "https://localhost:8080/"
    },
    "outputId": "b4065293-6b16-49a4-f0b4-2cdae96ccd1e",
    "pycharm": {
     "name": "#%%\n"
    }
   },
   "source": [
    "from datetime import datetime\n",
    "current_datetime = datetime.now()\n",
    "print(current_datetime)\n",
    "v = 311530"
   ],
   "execution_count": 1,
   "outputs": [
    {
     "name": "stdout",
     "output_type": "stream",
     "text": [
      "2022-12-12 11:48:46.211109\n"
     ]
    }
   ]
  },
  {
   "cell_type": "markdown",
   "metadata": {
    "id": "W85i4fC7srcf",
    "pycharm": {
     "name": "#%% md\n"
    }
   },
   "source": [
    "# Общее задание"
   ]
  },
  {
   "cell_type": "markdown",
   "metadata": {
    "id": "tIXprGNhsvTG",
    "pycharm": {
     "name": "#%% md\n"
    }
   },
   "source": [
    "Нужно решить задачу бинарной классификации, предварительно построив признаковое описание объектов на основе нескольких таблиц. \n",
    "\n",
    "Целевая переменная - пол клиента.\n",
    "\n",
    "В качестве модели нужно использовать нейронную сеть, которую нужно строить с помощью `keras` или `torch` на выбор студента."
   ]
  },
  {
   "cell_type": "markdown",
   "metadata": {
    "id": "G5nnK3tftPvc",
    "pycharm": {
     "name": "#%% md\n"
    }
   },
   "source": [
    "# Данные"
   ]
  },
  {
   "cell_type": "markdown",
   "metadata": {
    "id": "y8f3_l3KtSUh",
    "pycharm": {
     "name": "#%% md\n"
    }
   },
   "source": [
    "Для всех последующих заданий будем использовать обезличенные транзакционные банковские данные. Для этого считайте в переменные **transactions, tr_mcc_codes и gender_train** из одноимённых таблиц из папки data. Для таблицы transactions используйте только первые n=1000000 строк."
   ]
  },
  {
   "cell_type": "code",
   "execution_count": 13,
   "outputs": [
    {
     "name": "stdout",
     "output_type": "stream",
     "text": [
      "Downloading...\r\n",
      "From: https://drive.google.com/uc?id=1lEpoRKczv5EvZhff9O2I-0JkdHnbe_Mq\r\n",
      "To: /Users/artyomfadeyev/GitHub/ITMO-PROBLEMS/Machine-Learning/V semester/data/transactions.csv\r\n",
      "100%|████████████████████████████████████████| 314M/314M [00:29<00:00, 10.7MB/s]\r\n",
      "Downloading...\r\n",
      "From: https://drive.google.com/uc?id=10J8RzMIhoYHiad49r-oWNMAk-V5lo3OE\r\n",
      "To: /Users/artyomfadeyev/GitHub/ITMO-PROBLEMS/Machine-Learning/V semester/data/tr_mcc_codes.csv\r\n",
      "100%|██████████████████████████████████████| 14.9k/14.9k [00:00<00:00, 22.0MB/s]\r\n",
      "Downloading...\r\n",
      "From: https://drive.google.com/uc?id=1FG1fopcmvMZ7GBaBOqQipccSeFoMUvNT\r\n",
      "To: /Users/artyomfadeyev/GitHub/ITMO-PROBLEMS/Machine-Learning/V semester/data/gender_train.csv\r\n",
      "100%|██████████████████████████████████████| 99.9k/99.9k [00:00<00:00, 5.88MB/s]\r\n"
     ]
    }
   ],
   "source": [
    "!gdown 1lEpoRKczv5EvZhff9O2I-0JkdHnbe_Mq -O ./data/transactions.csv\n",
    "!gdown 10J8RzMIhoYHiad49r-oWNMAk-V5lo3OE -O ./data/tr_mcc_codes.csv\n",
    "!gdown 1FG1fopcmvMZ7GBaBOqQipccSeFoMUvNT -O ./data/gender_train.csv"
   ],
   "metadata": {
    "collapsed": false,
    "pycharm": {
     "name": "#%%\n"
    }
   }
  },
  {
   "cell_type": "markdown",
   "metadata": {
    "id": "6gIKs_I-tr27",
    "pycharm": {
     "name": "#%% md\n"
    }
   },
   "source": [
    "Эти данные уже использовались в работе 2. Описание данных тут: https://drive.google.com/file/d/13sn8orjkoGfO1SVZYByXNmZQYFRfmOdp/view?usp=sharing\n",
    "\n",
    "Скачать данные отсюда: https://drive.google.com/drive/folders/1YAMe7MiTxA-RSSd8Ex2p-L0Dspe6Gs4L?usp=sharing"
   ]
  },
  {
   "cell_type": "markdown",
   "metadata": {
    "id": "OFP_i1F1Lqay",
    "pycharm": {
     "name": "#%% md\n"
    }
   },
   "source": [
    "## Задание 1\n",
    "\n",
    "В задании требуется на основе нескольких таблиц с данными сделать признаковое описание объектов. \n",
    "\n",
    "Объектами являются клиенты. Клиенты идентифицируются с помощью `customer_id`, которые есть в таблицах **transactions** и **gender_train**. В качестве призаков нужно использовать даннее по категориям транзаций: ```mcc_code``` — mcc-код транзакции есть в таблицах **transactions** и **tr_mcc_codes**\n"
   ]
  },
  {
   "cell_type": "markdown",
   "metadata": {
    "id": "F57T22yav-gp",
    "pycharm": {
     "name": "#%% md\n"
    }
   },
   "source": [
    "Для выбора варианта, запустите код в следующей ячейке\n",
    "\n"
   ]
  },
  {
   "cell_type": "code",
   "execution_count": 10,
   "outputs": [
    {
     "name": "stdout",
     "output_type": "stream",
     "text": [
      "Список категорий\n",
      "['Ювелирные изделия', 'Ремонт', 'Отели', 'Автозапчасти, Автошины и Станции техобслуживания (а также СТО)', 'Образовательные услуги (а также школы, университеты)', 'Ценные бумаги']\n",
      "В качестве значений признаков используйте количество транзакций с тратами и количество транзакций с поступлениями\n"
     ]
    }
   ],
   "source": [
    "feature_list = [\n",
    "    'Одежда (также нужно искать \"одежды\")',\n",
    "    'Ценные бумаги',\n",
    "    'Магазины косметики и Салоны красоты',\n",
    "    'Образовательные услуги (а также школы, университеты)',\n",
    "    'Прокат автомобилей',\n",
    "    'Автозапчасти, Автошины и Станции техобслуживания (а также СТО)',\n",
    "    'Видеоигры (искать надо по \"видеоигр\")',\n",
    "    'Отели',\n",
    "    'Программирование',\n",
    "    'Ремонт',\n",
    "    'Предсказатели будущего',\n",
    "    'Ювелирные изделия'\n",
    "]\n",
    "\n",
    "\n",
    "print ('Список категорий')\n",
    "if (int(str(v)[4]) % 2) == 0:\n",
    "    print(feature_list[::2])\n",
    "    my_features = feature_list[::2]\n",
    "else:\n",
    "    print (feature_list[::-2])\n",
    "    my_features = feature_list[::-2]\n",
    "\n",
    "\n",
    "if (int(str(v)[5]) % 2) == 0:\n",
    "    print ('В качестве значений признаков используйте количество транзакций с тратами и количество транзакций с поступлениями')\n",
    "else:\n",
    "    print ('В качестве значений признаков используйте сумму по транзакциям с тратами и сумму по транзакциям с поступлениями')"
   ],
   "metadata": {
    "collapsed": false,
    "pycharm": {
     "name": "#%%\n"
    }
   }
  },
  {
   "cell_type": "markdown",
   "source": [
    "Каждая категория может быть связана с одним или несколькими mcc-кодами. Например, вот несколько mcc-кодов по категории \"Одежда\": \n",
    "* 5621; Готовая женская одежда\n",
    "* 5641; Детская одежда\n",
    "* 5651; Одежда для всей семьи"
   ],
   "metadata": {
    "collapsed": false,
    "pycharm": {
     "name": "#%% md\n"
    }
   }
  },
  {
   "cell_type": "markdown",
   "metadata": {
    "id": "xgFGtCDIvU4m",
    "pycharm": {
     "name": "#%% md\n"
    }
   },
   "source": [
    "Таким образом получится 12 признаков, то есть шесть категорий, каждая из которых даст два значения: траты и поступления. Например, категория \"Одежда\" даёт признаки \"Одежда траты\" и \"Одежда поступления\"."
   ]
  },
  {
   "cell_type": "markdown",
   "metadata": {
    "id": "xGC6oWTyv9S4",
    "pycharm": {
     "name": "#%% md\n"
    }
   },
   "source": [
    "Сделайте нормализацию значений признаков так, чтобы все означения менялись от 0 до 1. "
   ]
  },
  {
   "cell_type": "code",
   "source": [
    "import pandas as pd\n",
    "\n",
    "transactions = pd.read_csv('./data/transactions.csv', sep=',', nrows=1000000)\n",
    "tr_mcc_codes = pd.read_csv('./data/tr_mcc_codes.csv', sep=';')\n",
    "gender_train = pd.read_csv('./data/gender_train.csv', sep=',')"
   ],
   "metadata": {
    "id": "VHE3inbtwVSf",
    "pycharm": {
     "name": "#%%\n"
    }
   },
   "execution_count": 90,
   "outputs": []
  },
  {
   "cell_type": "code",
   "execution_count": 91,
   "outputs": [
    {
     "data": {
      "text/plain": "   customer_id tr_datetime  mcc_code  tr_type    amount term_id\n0     39026145  0 10:23:26      4814     1030  -2245.92     NaN\n1     39026145  1 10:19:29      6011     7010  56147.89     NaN\n2     39026145  1 10:20:56      4829     2330 -56147.89     NaN\n3     39026145  1 10:39:54      5499     1010  -1392.47     NaN\n4     39026145  2 15:33:42      5499     1010   -920.83     NaN",
      "text/html": "<div>\n<style scoped>\n    .dataframe tbody tr th:only-of-type {\n        vertical-align: middle;\n    }\n\n    .dataframe tbody tr th {\n        vertical-align: top;\n    }\n\n    .dataframe thead th {\n        text-align: right;\n    }\n</style>\n<table border=\"1\" class=\"dataframe\">\n  <thead>\n    <tr style=\"text-align: right;\">\n      <th></th>\n      <th>customer_id</th>\n      <th>tr_datetime</th>\n      <th>mcc_code</th>\n      <th>tr_type</th>\n      <th>amount</th>\n      <th>term_id</th>\n    </tr>\n  </thead>\n  <tbody>\n    <tr>\n      <th>0</th>\n      <td>39026145</td>\n      <td>0 10:23:26</td>\n      <td>4814</td>\n      <td>1030</td>\n      <td>-2245.92</td>\n      <td>NaN</td>\n    </tr>\n    <tr>\n      <th>1</th>\n      <td>39026145</td>\n      <td>1 10:19:29</td>\n      <td>6011</td>\n      <td>7010</td>\n      <td>56147.89</td>\n      <td>NaN</td>\n    </tr>\n    <tr>\n      <th>2</th>\n      <td>39026145</td>\n      <td>1 10:20:56</td>\n      <td>4829</td>\n      <td>2330</td>\n      <td>-56147.89</td>\n      <td>NaN</td>\n    </tr>\n    <tr>\n      <th>3</th>\n      <td>39026145</td>\n      <td>1 10:39:54</td>\n      <td>5499</td>\n      <td>1010</td>\n      <td>-1392.47</td>\n      <td>NaN</td>\n    </tr>\n    <tr>\n      <th>4</th>\n      <td>39026145</td>\n      <td>2 15:33:42</td>\n      <td>5499</td>\n      <td>1010</td>\n      <td>-920.83</td>\n      <td>NaN</td>\n    </tr>\n  </tbody>\n</table>\n</div>"
     },
     "execution_count": 91,
     "metadata": {},
     "output_type": "execute_result"
    }
   ],
   "source": [
    "transactions.head()"
   ],
   "metadata": {
    "collapsed": false,
    "pycharm": {
     "name": "#%%\n"
    }
   }
  },
  {
   "cell_type": "code",
   "execution_count": 92,
   "outputs": [
    {
     "data": {
      "text/plain": "   mcc_code                                    mcc_description\n0       742                                Ветеринарные услуги\n1      1711  Генеральные подрядчики по вентиляции, теплосна...\n2      1731                        Подрядчики по электричеству\n3      1799  Подрядчики, специализированная торговля — нигд...\n4      2741           Разнообразные издательства/печатное дело",
      "text/html": "<div>\n<style scoped>\n    .dataframe tbody tr th:only-of-type {\n        vertical-align: middle;\n    }\n\n    .dataframe tbody tr th {\n        vertical-align: top;\n    }\n\n    .dataframe thead th {\n        text-align: right;\n    }\n</style>\n<table border=\"1\" class=\"dataframe\">\n  <thead>\n    <tr style=\"text-align: right;\">\n      <th></th>\n      <th>mcc_code</th>\n      <th>mcc_description</th>\n    </tr>\n  </thead>\n  <tbody>\n    <tr>\n      <th>0</th>\n      <td>742</td>\n      <td>Ветеринарные услуги</td>\n    </tr>\n    <tr>\n      <th>1</th>\n      <td>1711</td>\n      <td>Генеральные подрядчики по вентиляции, теплосна...</td>\n    </tr>\n    <tr>\n      <th>2</th>\n      <td>1731</td>\n      <td>Подрядчики по электричеству</td>\n    </tr>\n    <tr>\n      <th>3</th>\n      <td>1799</td>\n      <td>Подрядчики, специализированная торговля — нигд...</td>\n    </tr>\n    <tr>\n      <th>4</th>\n      <td>2741</td>\n      <td>Разнообразные издательства/печатное дело</td>\n    </tr>\n  </tbody>\n</table>\n</div>"
     },
     "execution_count": 92,
     "metadata": {},
     "output_type": "execute_result"
    }
   ],
   "source": [
    "tr_mcc_codes.head()"
   ],
   "metadata": {
    "collapsed": false,
    "pycharm": {
     "name": "#%%\n"
    }
   }
  },
  {
   "cell_type": "code",
   "execution_count": 93,
   "outputs": [
    {
     "data": {
      "text/plain": "   customer_id  gender\n0     10928546       1\n1     69348468       1\n2     61009479       0\n3     74045822       0\n4     27979606       1",
      "text/html": "<div>\n<style scoped>\n    .dataframe tbody tr th:only-of-type {\n        vertical-align: middle;\n    }\n\n    .dataframe tbody tr th {\n        vertical-align: top;\n    }\n\n    .dataframe thead th {\n        text-align: right;\n    }\n</style>\n<table border=\"1\" class=\"dataframe\">\n  <thead>\n    <tr style=\"text-align: right;\">\n      <th></th>\n      <th>customer_id</th>\n      <th>gender</th>\n    </tr>\n  </thead>\n  <tbody>\n    <tr>\n      <th>0</th>\n      <td>10928546</td>\n      <td>1</td>\n    </tr>\n    <tr>\n      <th>1</th>\n      <td>69348468</td>\n      <td>1</td>\n    </tr>\n    <tr>\n      <th>2</th>\n      <td>61009479</td>\n      <td>0</td>\n    </tr>\n    <tr>\n      <th>3</th>\n      <td>74045822</td>\n      <td>0</td>\n    </tr>\n    <tr>\n      <th>4</th>\n      <td>27979606</td>\n      <td>1</td>\n    </tr>\n  </tbody>\n</table>\n</div>"
     },
     "execution_count": 93,
     "metadata": {},
     "output_type": "execute_result"
    }
   ],
   "source": [
    "gender_train.head()"
   ],
   "metadata": {
    "collapsed": false,
    "pycharm": {
     "name": "#%%\n"
    }
   }
  },
  {
   "cell_type": "code",
   "execution_count": 94,
   "outputs": [],
   "source": [
    "jewelery_features = ['Ювелирные изделия']\n",
    "repair_features = ['Ремонт']\n",
    "hotel_features = ['Отели']\n",
    "auto_features = [\n",
    "    'Автозапчасти',\n",
    "    'Автошины',\n",
    "    'Станции техобслуживания',\n",
    "    'Станции технического обслуживания',\n",
    "    'СТО',\n",
    "]\n",
    "education_features = [\n",
    "    'Образовательные услуги',\n",
    "    'Школы',\n",
    "    'Университеты',\n",
    "]\n",
    "stock_features = ['Ценные бумаги']\n",
    "\n",
    "total_features = [\n",
    "    *jewelery_features,\n",
    "    *repair_features,\n",
    "    *hotel_features,\n",
    "    *auto_features,\n",
    "    *education_features,\n",
    "    *stock_features,\n",
    "]\n",
    "\n",
    "my_tr_mcc_codes = tr_mcc_codes[tr_mcc_codes.mcc_description.str.contains('|'.join(total_features))]"
   ],
   "metadata": {
    "collapsed": false,
    "pycharm": {
     "name": "#%%\n"
    }
   }
  },
  {
   "cell_type": "code",
   "execution_count": 95,
   "outputs": [
    {
     "data": {
      "text/plain": "     mcc_code                                    mcc_description\n63       5532                                           Автошины\n64       5533                          Автозапчасти и аксессуары\n65       5541                            Станции техобслуживания\n127      6211                      Ценные бумаги: брокеры/дилеры\n131      7011   Отели, мотели, базы отдыха, сервисы бронирования\n148      7531  Станции технического обслуживания для автомоби...\n149      7538                              СТО общего назначения\n151      7629      Ремонт бытовой техники, ремонт электроприборы\n173      8244                        Школы — бизнес и секретарей\n174      8299                             Образовательные услуги",
      "text/html": "<div>\n<style scoped>\n    .dataframe tbody tr th:only-of-type {\n        vertical-align: middle;\n    }\n\n    .dataframe tbody tr th {\n        vertical-align: top;\n    }\n\n    .dataframe thead th {\n        text-align: right;\n    }\n</style>\n<table border=\"1\" class=\"dataframe\">\n  <thead>\n    <tr style=\"text-align: right;\">\n      <th></th>\n      <th>mcc_code</th>\n      <th>mcc_description</th>\n    </tr>\n  </thead>\n  <tbody>\n    <tr>\n      <th>63</th>\n      <td>5532</td>\n      <td>Автошины</td>\n    </tr>\n    <tr>\n      <th>64</th>\n      <td>5533</td>\n      <td>Автозапчасти и аксессуары</td>\n    </tr>\n    <tr>\n      <th>65</th>\n      <td>5541</td>\n      <td>Станции техобслуживания</td>\n    </tr>\n    <tr>\n      <th>127</th>\n      <td>6211</td>\n      <td>Ценные бумаги: брокеры/дилеры</td>\n    </tr>\n    <tr>\n      <th>131</th>\n      <td>7011</td>\n      <td>Отели, мотели, базы отдыха, сервисы бронирования</td>\n    </tr>\n    <tr>\n      <th>148</th>\n      <td>7531</td>\n      <td>Станции технического обслуживания для автомоби...</td>\n    </tr>\n    <tr>\n      <th>149</th>\n      <td>7538</td>\n      <td>СТО общего назначения</td>\n    </tr>\n    <tr>\n      <th>151</th>\n      <td>7629</td>\n      <td>Ремонт бытовой техники, ремонт электроприборы</td>\n    </tr>\n    <tr>\n      <th>173</th>\n      <td>8244</td>\n      <td>Школы — бизнес и секретарей</td>\n    </tr>\n    <tr>\n      <th>174</th>\n      <td>8299</td>\n      <td>Образовательные услуги</td>\n    </tr>\n  </tbody>\n</table>\n</div>"
     },
     "execution_count": 95,
     "metadata": {},
     "output_type": "execute_result"
    }
   ],
   "source": [
    "my_tr_mcc_codes"
   ],
   "metadata": {
    "collapsed": false,
    "pycharm": {
     "name": "#%%\n"
    }
   }
  },
  {
   "cell_type": "code",
   "execution_count": 96,
   "outputs": [
    {
     "data": {
      "text/plain": "   customer_id  tr_datetime  mcc_code  tr_type    amount term_id  \\\n0     39026145   2 15:53:49      5541     1010 -14643.37     NaN   \n1     39026145   7 14:23:17      5541     1010 -14643.37     NaN   \n2     39026145  14 14:29:40      5541     1010  -4873.64     NaN   \n3     39026145  14 14:30:20      5541     1010 -14643.37     NaN   \n4     39026145  16 04:27:37      5541     1010 -43391.09     NaN   \n\n           mcc_description  \n0  Станции техобслуживания  \n1  Станции техобслуживания  \n2  Станции техобслуживания  \n3  Станции техобслуживания  \n4  Станции техобслуживания  ",
      "text/html": "<div>\n<style scoped>\n    .dataframe tbody tr th:only-of-type {\n        vertical-align: middle;\n    }\n\n    .dataframe tbody tr th {\n        vertical-align: top;\n    }\n\n    .dataframe thead th {\n        text-align: right;\n    }\n</style>\n<table border=\"1\" class=\"dataframe\">\n  <thead>\n    <tr style=\"text-align: right;\">\n      <th></th>\n      <th>customer_id</th>\n      <th>tr_datetime</th>\n      <th>mcc_code</th>\n      <th>tr_type</th>\n      <th>amount</th>\n      <th>term_id</th>\n      <th>mcc_description</th>\n    </tr>\n  </thead>\n  <tbody>\n    <tr>\n      <th>0</th>\n      <td>39026145</td>\n      <td>2 15:53:49</td>\n      <td>5541</td>\n      <td>1010</td>\n      <td>-14643.37</td>\n      <td>NaN</td>\n      <td>Станции техобслуживания</td>\n    </tr>\n    <tr>\n      <th>1</th>\n      <td>39026145</td>\n      <td>7 14:23:17</td>\n      <td>5541</td>\n      <td>1010</td>\n      <td>-14643.37</td>\n      <td>NaN</td>\n      <td>Станции техобслуживания</td>\n    </tr>\n    <tr>\n      <th>2</th>\n      <td>39026145</td>\n      <td>14 14:29:40</td>\n      <td>5541</td>\n      <td>1010</td>\n      <td>-4873.64</td>\n      <td>NaN</td>\n      <td>Станции техобслуживания</td>\n    </tr>\n    <tr>\n      <th>3</th>\n      <td>39026145</td>\n      <td>14 14:30:20</td>\n      <td>5541</td>\n      <td>1010</td>\n      <td>-14643.37</td>\n      <td>NaN</td>\n      <td>Станции техобслуживания</td>\n    </tr>\n    <tr>\n      <th>4</th>\n      <td>39026145</td>\n      <td>16 04:27:37</td>\n      <td>5541</td>\n      <td>1010</td>\n      <td>-43391.09</td>\n      <td>NaN</td>\n      <td>Станции техобслуживания</td>\n    </tr>\n  </tbody>\n</table>\n</div>"
     },
     "execution_count": 96,
     "metadata": {},
     "output_type": "execute_result"
    }
   ],
   "source": [
    "transactions = transactions.merge(my_tr_mcc_codes, on='mcc_code', how='inner')\n",
    "transactions.head()"
   ],
   "metadata": {
    "collapsed": false,
    "pycharm": {
     "name": "#%%\n"
    }
   }
  },
  {
   "cell_type": "code",
   "execution_count": 97,
   "outputs": [
    {
     "data": {
      "text/plain": "   customer_id  tr_datetime  mcc_code  tr_type    amount term_id  \\\n0     39026145   2 15:53:49      5541     1010 -14643.37     NaN   \n1     39026145   7 14:23:17      5541     1010 -14643.37     NaN   \n2     39026145  14 14:29:40      5541     1010  -4873.64     NaN   \n3     39026145  14 14:30:20      5541     1010 -14643.37     NaN   \n4     39026145  16 04:27:37      5541     1010 -43391.09     NaN   \n\n           mcc_description  spending  income  \n0  Станции техобслуживания -14643.37    -0.0  \n1  Станции техобслуживания -14643.37    -0.0  \n2  Станции техобслуживания  -4873.64    -0.0  \n3  Станции техобслуживания -14643.37    -0.0  \n4  Станции техобслуживания -43391.09    -0.0  ",
      "text/html": "<div>\n<style scoped>\n    .dataframe tbody tr th:only-of-type {\n        vertical-align: middle;\n    }\n\n    .dataframe tbody tr th {\n        vertical-align: top;\n    }\n\n    .dataframe thead th {\n        text-align: right;\n    }\n</style>\n<table border=\"1\" class=\"dataframe\">\n  <thead>\n    <tr style=\"text-align: right;\">\n      <th></th>\n      <th>customer_id</th>\n      <th>tr_datetime</th>\n      <th>mcc_code</th>\n      <th>tr_type</th>\n      <th>amount</th>\n      <th>term_id</th>\n      <th>mcc_description</th>\n      <th>spending</th>\n      <th>income</th>\n    </tr>\n  </thead>\n  <tbody>\n    <tr>\n      <th>0</th>\n      <td>39026145</td>\n      <td>2 15:53:49</td>\n      <td>5541</td>\n      <td>1010</td>\n      <td>-14643.37</td>\n      <td>NaN</td>\n      <td>Станции техобслуживания</td>\n      <td>-14643.37</td>\n      <td>-0.0</td>\n    </tr>\n    <tr>\n      <th>1</th>\n      <td>39026145</td>\n      <td>7 14:23:17</td>\n      <td>5541</td>\n      <td>1010</td>\n      <td>-14643.37</td>\n      <td>NaN</td>\n      <td>Станции техобслуживания</td>\n      <td>-14643.37</td>\n      <td>-0.0</td>\n    </tr>\n    <tr>\n      <th>2</th>\n      <td>39026145</td>\n      <td>14 14:29:40</td>\n      <td>5541</td>\n      <td>1010</td>\n      <td>-4873.64</td>\n      <td>NaN</td>\n      <td>Станции техобслуживания</td>\n      <td>-4873.64</td>\n      <td>-0.0</td>\n    </tr>\n    <tr>\n      <th>3</th>\n      <td>39026145</td>\n      <td>14 14:30:20</td>\n      <td>5541</td>\n      <td>1010</td>\n      <td>-14643.37</td>\n      <td>NaN</td>\n      <td>Станции техобслуживания</td>\n      <td>-14643.37</td>\n      <td>-0.0</td>\n    </tr>\n    <tr>\n      <th>4</th>\n      <td>39026145</td>\n      <td>16 04:27:37</td>\n      <td>5541</td>\n      <td>1010</td>\n      <td>-43391.09</td>\n      <td>NaN</td>\n      <td>Станции техобслуживания</td>\n      <td>-43391.09</td>\n      <td>-0.0</td>\n    </tr>\n  </tbody>\n</table>\n</div>"
     },
     "execution_count": 97,
     "metadata": {},
     "output_type": "execute_result"
    }
   ],
   "source": [
    "# adding spending and income features\n",
    "transactions['spending'] = transactions['amount'] * (transactions['amount'] < 0)\n",
    "transactions['income'] = transactions['amount'] * (transactions['amount'] > 0)\n",
    "transactions.head()"
   ],
   "metadata": {
    "collapsed": false,
    "pycharm": {
     "name": "#%%\n"
    }
   }
  },
  {
   "cell_type": "code",
   "execution_count": 98,
   "outputs": [],
   "source": [
    "total_categories = [\n",
    "        jewelery_features,\n",
    "        repair_features,\n",
    "        hotel_features,\n",
    "        auto_features,\n",
    "        education_features,\n",
    "        stock_features,\n",
    "]\n",
    "\n",
    "transactions['category'] = 'none'\n",
    "\n",
    "for i, category in enumerate(total_categories):\n",
    "    transactions.loc[transactions.mcc_description.str.contains('|'.join(category)), 'category'] = i\n"
   ],
   "metadata": {
    "collapsed": false,
    "pycharm": {
     "name": "#%%\n"
    }
   }
  },
  {
   "cell_type": "code",
   "execution_count": 99,
   "outputs": [
    {
     "data": {
      "text/plain": "       customer_id   tr_datetime  mcc_code  tr_type     amount   term_id  \\\n21947     81827403   78 07:21:56      5533     1010   -8422.18       NaN   \n2996      83063340  252 00:00:00      5541     1110  -23899.91  00593248   \n19899      4181983  416 06:38:12      5541     1110  -22459.16  77023393   \n15127     35680778  317 15:48:35      5541     1010  -39219.98    126927   \n3626      94223809  214 00:00:00      5541     1110  -32943.09  20000958   \n23477     74376012  308 11:52:21      7011     1010 -131386.07    726212   \n11579     48153184  340 11:15:46      5541     1010  -25199.17  10306224   \n1653      93482866   50 00:00:00      5541     1110  -27929.98       NaN   \n656       69161700  253 11:11:36      5541     1010  -22459.16  10141908   \n10386     86467196  436 00:00:00      5541     1110  -39817.62  RU220031   \n\n                                        mcc_description   spending  income  \\\n21947                         Автозапчасти и аксессуары   -8422.18    -0.0   \n2996                            Станции техобслуживания  -23899.91    -0.0   \n19899                           Станции техобслуживания  -22459.16    -0.0   \n15127                           Станции техобслуживания  -39219.98    -0.0   \n3626                            Станции техобслуживания  -32943.09    -0.0   \n23477  Отели, мотели, базы отдыха, сервисы бронирования -131386.07    -0.0   \n11579                           Станции техобслуживания  -25199.17    -0.0   \n1653                            Станции техобслуживания  -27929.98    -0.0   \n656                             Станции техобслуживания  -22459.16    -0.0   \n10386                           Станции техобслуживания  -39817.62    -0.0   \n\n      category  \n21947        3  \n2996         3  \n19899        3  \n15127        3  \n3626         3  \n23477        2  \n11579        3  \n1653         3  \n656          3  \n10386        3  ",
      "text/html": "<div>\n<style scoped>\n    .dataframe tbody tr th:only-of-type {\n        vertical-align: middle;\n    }\n\n    .dataframe tbody tr th {\n        vertical-align: top;\n    }\n\n    .dataframe thead th {\n        text-align: right;\n    }\n</style>\n<table border=\"1\" class=\"dataframe\">\n  <thead>\n    <tr style=\"text-align: right;\">\n      <th></th>\n      <th>customer_id</th>\n      <th>tr_datetime</th>\n      <th>mcc_code</th>\n      <th>tr_type</th>\n      <th>amount</th>\n      <th>term_id</th>\n      <th>mcc_description</th>\n      <th>spending</th>\n      <th>income</th>\n      <th>category</th>\n    </tr>\n  </thead>\n  <tbody>\n    <tr>\n      <th>21947</th>\n      <td>81827403</td>\n      <td>78 07:21:56</td>\n      <td>5533</td>\n      <td>1010</td>\n      <td>-8422.18</td>\n      <td>NaN</td>\n      <td>Автозапчасти и аксессуары</td>\n      <td>-8422.18</td>\n      <td>-0.0</td>\n      <td>3</td>\n    </tr>\n    <tr>\n      <th>2996</th>\n      <td>83063340</td>\n      <td>252 00:00:00</td>\n      <td>5541</td>\n      <td>1110</td>\n      <td>-23899.91</td>\n      <td>00593248</td>\n      <td>Станции техобслуживания</td>\n      <td>-23899.91</td>\n      <td>-0.0</td>\n      <td>3</td>\n    </tr>\n    <tr>\n      <th>19899</th>\n      <td>4181983</td>\n      <td>416 06:38:12</td>\n      <td>5541</td>\n      <td>1110</td>\n      <td>-22459.16</td>\n      <td>77023393</td>\n      <td>Станции техобслуживания</td>\n      <td>-22459.16</td>\n      <td>-0.0</td>\n      <td>3</td>\n    </tr>\n    <tr>\n      <th>15127</th>\n      <td>35680778</td>\n      <td>317 15:48:35</td>\n      <td>5541</td>\n      <td>1010</td>\n      <td>-39219.98</td>\n      <td>126927</td>\n      <td>Станции техобслуживания</td>\n      <td>-39219.98</td>\n      <td>-0.0</td>\n      <td>3</td>\n    </tr>\n    <tr>\n      <th>3626</th>\n      <td>94223809</td>\n      <td>214 00:00:00</td>\n      <td>5541</td>\n      <td>1110</td>\n      <td>-32943.09</td>\n      <td>20000958</td>\n      <td>Станции техобслуживания</td>\n      <td>-32943.09</td>\n      <td>-0.0</td>\n      <td>3</td>\n    </tr>\n    <tr>\n      <th>23477</th>\n      <td>74376012</td>\n      <td>308 11:52:21</td>\n      <td>7011</td>\n      <td>1010</td>\n      <td>-131386.07</td>\n      <td>726212</td>\n      <td>Отели, мотели, базы отдыха, сервисы бронирования</td>\n      <td>-131386.07</td>\n      <td>-0.0</td>\n      <td>2</td>\n    </tr>\n    <tr>\n      <th>11579</th>\n      <td>48153184</td>\n      <td>340 11:15:46</td>\n      <td>5541</td>\n      <td>1010</td>\n      <td>-25199.17</td>\n      <td>10306224</td>\n      <td>Станции техобслуживания</td>\n      <td>-25199.17</td>\n      <td>-0.0</td>\n      <td>3</td>\n    </tr>\n    <tr>\n      <th>1653</th>\n      <td>93482866</td>\n      <td>50 00:00:00</td>\n      <td>5541</td>\n      <td>1110</td>\n      <td>-27929.98</td>\n      <td>NaN</td>\n      <td>Станции техобслуживания</td>\n      <td>-27929.98</td>\n      <td>-0.0</td>\n      <td>3</td>\n    </tr>\n    <tr>\n      <th>656</th>\n      <td>69161700</td>\n      <td>253 11:11:36</td>\n      <td>5541</td>\n      <td>1010</td>\n      <td>-22459.16</td>\n      <td>10141908</td>\n      <td>Станции техобслуживания</td>\n      <td>-22459.16</td>\n      <td>-0.0</td>\n      <td>3</td>\n    </tr>\n    <tr>\n      <th>10386</th>\n      <td>86467196</td>\n      <td>436 00:00:00</td>\n      <td>5541</td>\n      <td>1110</td>\n      <td>-39817.62</td>\n      <td>RU220031</td>\n      <td>Станции техобслуживания</td>\n      <td>-39817.62</td>\n      <td>-0.0</td>\n      <td>3</td>\n    </tr>\n  </tbody>\n</table>\n</div>"
     },
     "execution_count": 99,
     "metadata": {},
     "output_type": "execute_result"
    }
   ],
   "source": [
    "transactions.sample(10)"
   ],
   "metadata": {
    "collapsed": false,
    "pycharm": {
     "name": "#%%\n"
    }
   }
  },
  {
   "cell_type": "code",
   "execution_count": 100,
   "outputs": [
    {
     "data": {
      "text/plain": "                       spending  income\ncustomer_id category                   \n115617      3        -178222.85     0.0\n127946      3         -71869.31     0.0\n189257      2         -89836.63     0.0\n            3         -65625.66     0.0\n302489      3        -588284.61     0.0",
      "text/html": "<div>\n<style scoped>\n    .dataframe tbody tr th:only-of-type {\n        vertical-align: middle;\n    }\n\n    .dataframe tbody tr th {\n        vertical-align: top;\n    }\n\n    .dataframe thead th {\n        text-align: right;\n    }\n</style>\n<table border=\"1\" class=\"dataframe\">\n  <thead>\n    <tr style=\"text-align: right;\">\n      <th></th>\n      <th></th>\n      <th>spending</th>\n      <th>income</th>\n    </tr>\n    <tr>\n      <th>customer_id</th>\n      <th>category</th>\n      <th></th>\n      <th></th>\n    </tr>\n  </thead>\n  <tbody>\n    <tr>\n      <th>115617</th>\n      <th>3</th>\n      <td>-178222.85</td>\n      <td>0.0</td>\n    </tr>\n    <tr>\n      <th>127946</th>\n      <th>3</th>\n      <td>-71869.31</td>\n      <td>0.0</td>\n    </tr>\n    <tr>\n      <th rowspan=\"2\" valign=\"top\">189257</th>\n      <th>2</th>\n      <td>-89836.63</td>\n      <td>0.0</td>\n    </tr>\n    <tr>\n      <th>3</th>\n      <td>-65625.66</td>\n      <td>0.0</td>\n    </tr>\n    <tr>\n      <th>302489</th>\n      <th>3</th>\n      <td>-588284.61</td>\n      <td>0.0</td>\n    </tr>\n  </tbody>\n</table>\n</div>"
     },
     "execution_count": 100,
     "metadata": {},
     "output_type": "execute_result"
    }
   ],
   "source": [
    "customer_transactions = transactions.groupby(['customer_id', 'category']).agg({'spending': 'sum', 'income': 'sum'})\n",
    "customer_transactions.head()"
   ],
   "metadata": {
    "collapsed": false,
    "pycharm": {
     "name": "#%%\n"
    }
   }
  },
  {
   "cell_type": "code",
   "execution_count": 101,
   "outputs": [],
   "source": [
    "from collections import defaultdict\n",
    "\n",
    "# creating new dataframe, that contains only spending and income features for each category\n",
    "customer_transactions_detailed = defaultdict(dict)\n",
    "\n",
    "for row in customer_transactions.iterrows():\n",
    "    customer_id, category = row[0]\n",
    "    customer_transactions_detailed[customer_id][f'income_{category}'] = row[1]['income']\n",
    "    customer_transactions_detailed[customer_id][f'spending_{category}'] = row[1]['spending']"
   ],
   "metadata": {
    "collapsed": false,
    "pycharm": {
     "name": "#%%\n"
    }
   }
  },
  {
   "cell_type": "code",
   "execution_count": 102,
   "outputs": [],
   "source": [
    "customer_transactions_detailed = pd.DataFrame(customer_transactions_detailed).T"
   ],
   "metadata": {
    "collapsed": false,
    "pycharm": {
     "name": "#%%\n"
    }
   }
  },
  {
   "cell_type": "code",
   "execution_count": 103,
   "outputs": [
    {
     "data": {
      "text/plain": "        income_3  spending_3  income_2  spending_2  income_4  spending_4  \\\n115617      0.00  -178222.85       NaN         NaN       NaN         NaN   \n127946      0.00   -71869.31       NaN         NaN       NaN         NaN   \n189257      0.00   -65625.66       0.0   -89836.63       NaN         NaN   \n302489      0.00  -588284.61       NaN         NaN       NaN         NaN   \n361458  29196.91 -2609259.00       NaN         NaN       NaN         NaN   \n\n        income_1  spending_1  income_5  spending_5  \n115617       NaN         NaN       NaN         NaN  \n127946       NaN         NaN       NaN         NaN  \n189257       NaN         NaN       NaN         NaN  \n302489       NaN         NaN       NaN         NaN  \n361458       NaN         NaN       NaN         NaN  ",
      "text/html": "<div>\n<style scoped>\n    .dataframe tbody tr th:only-of-type {\n        vertical-align: middle;\n    }\n\n    .dataframe tbody tr th {\n        vertical-align: top;\n    }\n\n    .dataframe thead th {\n        text-align: right;\n    }\n</style>\n<table border=\"1\" class=\"dataframe\">\n  <thead>\n    <tr style=\"text-align: right;\">\n      <th></th>\n      <th>income_3</th>\n      <th>spending_3</th>\n      <th>income_2</th>\n      <th>spending_2</th>\n      <th>income_4</th>\n      <th>spending_4</th>\n      <th>income_1</th>\n      <th>spending_1</th>\n      <th>income_5</th>\n      <th>spending_5</th>\n    </tr>\n  </thead>\n  <tbody>\n    <tr>\n      <th>115617</th>\n      <td>0.00</td>\n      <td>-178222.85</td>\n      <td>NaN</td>\n      <td>NaN</td>\n      <td>NaN</td>\n      <td>NaN</td>\n      <td>NaN</td>\n      <td>NaN</td>\n      <td>NaN</td>\n      <td>NaN</td>\n    </tr>\n    <tr>\n      <th>127946</th>\n      <td>0.00</td>\n      <td>-71869.31</td>\n      <td>NaN</td>\n      <td>NaN</td>\n      <td>NaN</td>\n      <td>NaN</td>\n      <td>NaN</td>\n      <td>NaN</td>\n      <td>NaN</td>\n      <td>NaN</td>\n    </tr>\n    <tr>\n      <th>189257</th>\n      <td>0.00</td>\n      <td>-65625.66</td>\n      <td>0.0</td>\n      <td>-89836.63</td>\n      <td>NaN</td>\n      <td>NaN</td>\n      <td>NaN</td>\n      <td>NaN</td>\n      <td>NaN</td>\n      <td>NaN</td>\n    </tr>\n    <tr>\n      <th>302489</th>\n      <td>0.00</td>\n      <td>-588284.61</td>\n      <td>NaN</td>\n      <td>NaN</td>\n      <td>NaN</td>\n      <td>NaN</td>\n      <td>NaN</td>\n      <td>NaN</td>\n      <td>NaN</td>\n      <td>NaN</td>\n    </tr>\n    <tr>\n      <th>361458</th>\n      <td>29196.91</td>\n      <td>-2609259.00</td>\n      <td>NaN</td>\n      <td>NaN</td>\n      <td>NaN</td>\n      <td>NaN</td>\n      <td>NaN</td>\n      <td>NaN</td>\n      <td>NaN</td>\n      <td>NaN</td>\n    </tr>\n  </tbody>\n</table>\n</div>"
     },
     "execution_count": 103,
     "metadata": {},
     "output_type": "execute_result"
    }
   ],
   "source": [
    "customer_transactions_detailed.head()\n"
   ],
   "metadata": {
    "collapsed": false,
    "pycharm": {
     "name": "#%%\n"
    }
   }
  },
  {
   "cell_type": "code",
   "execution_count": 104,
   "outputs": [
    {
     "name": "stdout",
     "output_type": "stream",
     "text": [
      "Customers without transactions: 7784\n",
      "Customers with transactions: 1078\n"
     ]
    }
   ],
   "source": [
    "# customers, that we have in customer_transactions_detailed have at least one transaction in one of the categories\n",
    "# because we inner-joined transactions and tr_mcc_codes\n",
    "\n",
    "all_customers_ids = set(gender_train.customer_id)\n",
    "customers_with_transactions_ids = set(customer_transactions_detailed.index)\n",
    "without = len(all_customers_ids.difference(customers_with_transactions_ids))\n",
    "print(f'Customers without transactions: {without}')\n",
    "print(f'Customers with transactions: {len(customers_with_transactions_ids)}')"
   ],
   "metadata": {
    "collapsed": false,
    "pycharm": {
     "name": "#%%\n"
    }
   }
  },
  {
   "cell_type": "code",
   "execution_count": 108,
   "outputs": [
    {
     "data": {
      "text/plain": "           income_3  spending_3    income_2   spending_2  income_4  \\\n2368868        0.00  -434728.44   281334.19 -10644156.21       NaN   \n3765322        0.00    -4244.78        0.00   -151934.63       0.0   \n7176153    33688.74  -735791.90        0.00   -188656.92       NaN   \n9497605        0.00 -3765967.73        0.00  -3977542.67       0.0   \n15104152       0.00  -809775.09        0.00    -16395.19       NaN   \n16321752       0.00  -209484.44         NaN          NaN       NaN   \n17389182       0.00  -293284.48        0.00 -28739739.92       0.0   \n17923253   21467.36 -1810280.60        0.00   -860747.21       NaN   \n19950741   44918.32 -3517759.43        0.00  -6422427.27       NaN   \n20085540   39550.58 -1846176.45        0.00  -5100644.07       NaN   \n22053688   40426.48 -1220034.04        0.00   -126686.72       NaN   \n30627668       0.00 -5575815.20        0.00  -3319643.19       0.0   \n31457538  238063.03 -2452720.33        0.00  -2414359.46       NaN   \n34039951   22459.16  -289848.01         NaN          NaN       NaN   \n36502881  152354.18 -3358499.46        0.00  -1520717.43       NaN   \n36734991       0.00 -3238374.76  1340811.72 -11499088.76       NaN   \n37210858   89364.99 -3602930.38        0.00   -673774.74       NaN   \n38225348   19786.52 -5109726.79        0.00  -2290112.47       NaN   \n40955904   33688.74  -655154.08        0.00   -350587.45       NaN   \n49662300    5654.54 -3409938.67        0.00   -280745.31       NaN   \n49856670   22459.16 -1861684.54        0.00   -896341.16       NaN   \n49933875       0.00  -854381.63   248901.59  -7435772.99       NaN   \n51907756       0.00  -225349.35     6322.03     -7628.93       NaN   \n54645432   31442.82 -1051614.11        0.00    -96574.38       NaN   \n55516258   40089.60 -1801473.97        0.00    -78607.06       NaN   \n59948285   58932.83 -4312988.46         NaN          NaN       NaN   \n63091006   40426.48  -818061.58        0.00   -548444.54       NaN   \n64050247   60406.15  -116832.99        0.00  -2262445.93       NaN   \n68395511       0.00   -18191.92         NaN          NaN       NaN   \n74376012       0.00 -1532063.62        0.00  -3947691.06       0.0   \n78934051       0.00 -1205620.16        0.00   -280739.47       0.0   \n80585790       0.00  -323119.90        0.00   -220099.75       0.0   \n82581973  142615.65 -9297249.99        0.00    -58393.81       NaN   \n86029773    1263.10 -4595647.20        0.00    -29196.91       NaN   \n86298795       0.00  -398374.93        0.00  -1080285.49       NaN   \n87695373   51274.26 -1038711.39        0.00     -6535.61       NaN   \n90072280   22457.59 -1460234.03        0.00     -6850.04       NaN   \n94322959       0.00 -1105575.63    22459.16  -3927994.38       NaN   \n94926357       0.00  -161256.76        0.00   -568216.68       0.0   \n\n          spending_4  income_1  spending_1   income_5  spending_5  non_zero  \n2368868          NaN       NaN         NaN        NaN         NaN         4  \n3765322   -340031.65       NaN         NaN        NaN         NaN         4  \n7176153          NaN       NaN         NaN        NaN         NaN         4  \n9497605   -108253.14       NaN         NaN        NaN         NaN         4  \n15104152         NaN       NaN         NaN       0.00 -4793014.91         4  \n16321752         NaN       NaN         NaN  125715.13  -167244.81         4  \n17389182  -400578.17       NaN         NaN        NaN         NaN         4  \n17923253         NaN       NaN         NaN        NaN         NaN         4  \n19950741         NaN       NaN         NaN        NaN         NaN         4  \n20085540         NaN       NaN         NaN        NaN         NaN         4  \n22053688         NaN       NaN         NaN        NaN         NaN         4  \n30627668 -3712538.97       NaN         NaN        NaN         NaN         4  \n31457538         NaN       NaN         NaN        NaN         NaN         4  \n34039951         NaN       NaN         NaN       0.00 -3504217.25         4  \n36502881         NaN       NaN         NaN        NaN         NaN         4  \n36734991         NaN       NaN         NaN        NaN         NaN         4  \n37210858         NaN       NaN         NaN        NaN         NaN         4  \n38225348         NaN       NaN         NaN        NaN         NaN         4  \n40955904         NaN       NaN         NaN        NaN         NaN         4  \n49662300         NaN       NaN         NaN        NaN         NaN         4  \n49856670         NaN       NaN         NaN        NaN         NaN         4  \n49933875         NaN       NaN         NaN        NaN         NaN         4  \n51907756         NaN       NaN         NaN        NaN         NaN         4  \n54645432         NaN       NaN         NaN        NaN         NaN         4  \n55516258         NaN       NaN         NaN        NaN         NaN         4  \n59948285         NaN       NaN         NaN       0.00   -28918.42         4  \n63091006         NaN       NaN         NaN        NaN         NaN         4  \n64050247         NaN       NaN         NaN        NaN         NaN         4  \n68395511         NaN       NaN         NaN  112295.79  -224591.58         4  \n74376012   -26950.99       NaN         NaN        NaN         NaN         4  \n78934051   -13475.49       NaN         NaN        NaN         NaN         4  \n80585790   -22234.57       NaN         NaN        NaN         NaN         4  \n82581973         NaN       NaN         NaN        NaN         NaN         4  \n86029773         NaN       NaN         NaN        NaN         NaN         4  \n86298795         NaN       0.0  -184479.53        NaN         NaN         4  \n87695373         NaN       NaN         NaN        NaN         NaN         4  \n90072280         NaN       NaN         NaN        NaN         NaN         4  \n94322959         NaN       NaN         NaN        NaN         NaN         4  \n94926357   -17967.33       NaN         NaN        NaN         NaN         4  ",
      "text/html": "<div>\n<style scoped>\n    .dataframe tbody tr th:only-of-type {\n        vertical-align: middle;\n    }\n\n    .dataframe tbody tr th {\n        vertical-align: top;\n    }\n\n    .dataframe thead th {\n        text-align: right;\n    }\n</style>\n<table border=\"1\" class=\"dataframe\">\n  <thead>\n    <tr style=\"text-align: right;\">\n      <th></th>\n      <th>income_3</th>\n      <th>spending_3</th>\n      <th>income_2</th>\n      <th>spending_2</th>\n      <th>income_4</th>\n      <th>spending_4</th>\n      <th>income_1</th>\n      <th>spending_1</th>\n      <th>income_5</th>\n      <th>spending_5</th>\n      <th>non_zero</th>\n    </tr>\n  </thead>\n  <tbody>\n    <tr>\n      <th>2368868</th>\n      <td>0.00</td>\n      <td>-434728.44</td>\n      <td>281334.19</td>\n      <td>-10644156.21</td>\n      <td>NaN</td>\n      <td>NaN</td>\n      <td>NaN</td>\n      <td>NaN</td>\n      <td>NaN</td>\n      <td>NaN</td>\n      <td>4</td>\n    </tr>\n    <tr>\n      <th>3765322</th>\n      <td>0.00</td>\n      <td>-4244.78</td>\n      <td>0.00</td>\n      <td>-151934.63</td>\n      <td>0.0</td>\n      <td>-340031.65</td>\n      <td>NaN</td>\n      <td>NaN</td>\n      <td>NaN</td>\n      <td>NaN</td>\n      <td>4</td>\n    </tr>\n    <tr>\n      <th>7176153</th>\n      <td>33688.74</td>\n      <td>-735791.90</td>\n      <td>0.00</td>\n      <td>-188656.92</td>\n      <td>NaN</td>\n      <td>NaN</td>\n      <td>NaN</td>\n      <td>NaN</td>\n      <td>NaN</td>\n      <td>NaN</td>\n      <td>4</td>\n    </tr>\n    <tr>\n      <th>9497605</th>\n      <td>0.00</td>\n      <td>-3765967.73</td>\n      <td>0.00</td>\n      <td>-3977542.67</td>\n      <td>0.0</td>\n      <td>-108253.14</td>\n      <td>NaN</td>\n      <td>NaN</td>\n      <td>NaN</td>\n      <td>NaN</td>\n      <td>4</td>\n    </tr>\n    <tr>\n      <th>15104152</th>\n      <td>0.00</td>\n      <td>-809775.09</td>\n      <td>0.00</td>\n      <td>-16395.19</td>\n      <td>NaN</td>\n      <td>NaN</td>\n      <td>NaN</td>\n      <td>NaN</td>\n      <td>0.00</td>\n      <td>-4793014.91</td>\n      <td>4</td>\n    </tr>\n    <tr>\n      <th>16321752</th>\n      <td>0.00</td>\n      <td>-209484.44</td>\n      <td>NaN</td>\n      <td>NaN</td>\n      <td>NaN</td>\n      <td>NaN</td>\n      <td>NaN</td>\n      <td>NaN</td>\n      <td>125715.13</td>\n      <td>-167244.81</td>\n      <td>4</td>\n    </tr>\n    <tr>\n      <th>17389182</th>\n      <td>0.00</td>\n      <td>-293284.48</td>\n      <td>0.00</td>\n      <td>-28739739.92</td>\n      <td>0.0</td>\n      <td>-400578.17</td>\n      <td>NaN</td>\n      <td>NaN</td>\n      <td>NaN</td>\n      <td>NaN</td>\n      <td>4</td>\n    </tr>\n    <tr>\n      <th>17923253</th>\n      <td>21467.36</td>\n      <td>-1810280.60</td>\n      <td>0.00</td>\n      <td>-860747.21</td>\n      <td>NaN</td>\n      <td>NaN</td>\n      <td>NaN</td>\n      <td>NaN</td>\n      <td>NaN</td>\n      <td>NaN</td>\n      <td>4</td>\n    </tr>\n    <tr>\n      <th>19950741</th>\n      <td>44918.32</td>\n      <td>-3517759.43</td>\n      <td>0.00</td>\n      <td>-6422427.27</td>\n      <td>NaN</td>\n      <td>NaN</td>\n      <td>NaN</td>\n      <td>NaN</td>\n      <td>NaN</td>\n      <td>NaN</td>\n      <td>4</td>\n    </tr>\n    <tr>\n      <th>20085540</th>\n      <td>39550.58</td>\n      <td>-1846176.45</td>\n      <td>0.00</td>\n      <td>-5100644.07</td>\n      <td>NaN</td>\n      <td>NaN</td>\n      <td>NaN</td>\n      <td>NaN</td>\n      <td>NaN</td>\n      <td>NaN</td>\n      <td>4</td>\n    </tr>\n    <tr>\n      <th>22053688</th>\n      <td>40426.48</td>\n      <td>-1220034.04</td>\n      <td>0.00</td>\n      <td>-126686.72</td>\n      <td>NaN</td>\n      <td>NaN</td>\n      <td>NaN</td>\n      <td>NaN</td>\n      <td>NaN</td>\n      <td>NaN</td>\n      <td>4</td>\n    </tr>\n    <tr>\n      <th>30627668</th>\n      <td>0.00</td>\n      <td>-5575815.20</td>\n      <td>0.00</td>\n      <td>-3319643.19</td>\n      <td>0.0</td>\n      <td>-3712538.97</td>\n      <td>NaN</td>\n      <td>NaN</td>\n      <td>NaN</td>\n      <td>NaN</td>\n      <td>4</td>\n    </tr>\n    <tr>\n      <th>31457538</th>\n      <td>238063.03</td>\n      <td>-2452720.33</td>\n      <td>0.00</td>\n      <td>-2414359.46</td>\n      <td>NaN</td>\n      <td>NaN</td>\n      <td>NaN</td>\n      <td>NaN</td>\n      <td>NaN</td>\n      <td>NaN</td>\n      <td>4</td>\n    </tr>\n    <tr>\n      <th>34039951</th>\n      <td>22459.16</td>\n      <td>-289848.01</td>\n      <td>NaN</td>\n      <td>NaN</td>\n      <td>NaN</td>\n      <td>NaN</td>\n      <td>NaN</td>\n      <td>NaN</td>\n      <td>0.00</td>\n      <td>-3504217.25</td>\n      <td>4</td>\n    </tr>\n    <tr>\n      <th>36502881</th>\n      <td>152354.18</td>\n      <td>-3358499.46</td>\n      <td>0.00</td>\n      <td>-1520717.43</td>\n      <td>NaN</td>\n      <td>NaN</td>\n      <td>NaN</td>\n      <td>NaN</td>\n      <td>NaN</td>\n      <td>NaN</td>\n      <td>4</td>\n    </tr>\n    <tr>\n      <th>36734991</th>\n      <td>0.00</td>\n      <td>-3238374.76</td>\n      <td>1340811.72</td>\n      <td>-11499088.76</td>\n      <td>NaN</td>\n      <td>NaN</td>\n      <td>NaN</td>\n      <td>NaN</td>\n      <td>NaN</td>\n      <td>NaN</td>\n      <td>4</td>\n    </tr>\n    <tr>\n      <th>37210858</th>\n      <td>89364.99</td>\n      <td>-3602930.38</td>\n      <td>0.00</td>\n      <td>-673774.74</td>\n      <td>NaN</td>\n      <td>NaN</td>\n      <td>NaN</td>\n      <td>NaN</td>\n      <td>NaN</td>\n      <td>NaN</td>\n      <td>4</td>\n    </tr>\n    <tr>\n      <th>38225348</th>\n      <td>19786.52</td>\n      <td>-5109726.79</td>\n      <td>0.00</td>\n      <td>-2290112.47</td>\n      <td>NaN</td>\n      <td>NaN</td>\n      <td>NaN</td>\n      <td>NaN</td>\n      <td>NaN</td>\n      <td>NaN</td>\n      <td>4</td>\n    </tr>\n    <tr>\n      <th>40955904</th>\n      <td>33688.74</td>\n      <td>-655154.08</td>\n      <td>0.00</td>\n      <td>-350587.45</td>\n      <td>NaN</td>\n      <td>NaN</td>\n      <td>NaN</td>\n      <td>NaN</td>\n      <td>NaN</td>\n      <td>NaN</td>\n      <td>4</td>\n    </tr>\n    <tr>\n      <th>49662300</th>\n      <td>5654.54</td>\n      <td>-3409938.67</td>\n      <td>0.00</td>\n      <td>-280745.31</td>\n      <td>NaN</td>\n      <td>NaN</td>\n      <td>NaN</td>\n      <td>NaN</td>\n      <td>NaN</td>\n      <td>NaN</td>\n      <td>4</td>\n    </tr>\n    <tr>\n      <th>49856670</th>\n      <td>22459.16</td>\n      <td>-1861684.54</td>\n      <td>0.00</td>\n      <td>-896341.16</td>\n      <td>NaN</td>\n      <td>NaN</td>\n      <td>NaN</td>\n      <td>NaN</td>\n      <td>NaN</td>\n      <td>NaN</td>\n      <td>4</td>\n    </tr>\n    <tr>\n      <th>49933875</th>\n      <td>0.00</td>\n      <td>-854381.63</td>\n      <td>248901.59</td>\n      <td>-7435772.99</td>\n      <td>NaN</td>\n      <td>NaN</td>\n      <td>NaN</td>\n      <td>NaN</td>\n      <td>NaN</td>\n      <td>NaN</td>\n      <td>4</td>\n    </tr>\n    <tr>\n      <th>51907756</th>\n      <td>0.00</td>\n      <td>-225349.35</td>\n      <td>6322.03</td>\n      <td>-7628.93</td>\n      <td>NaN</td>\n      <td>NaN</td>\n      <td>NaN</td>\n      <td>NaN</td>\n      <td>NaN</td>\n      <td>NaN</td>\n      <td>4</td>\n    </tr>\n    <tr>\n      <th>54645432</th>\n      <td>31442.82</td>\n      <td>-1051614.11</td>\n      <td>0.00</td>\n      <td>-96574.38</td>\n      <td>NaN</td>\n      <td>NaN</td>\n      <td>NaN</td>\n      <td>NaN</td>\n      <td>NaN</td>\n      <td>NaN</td>\n      <td>4</td>\n    </tr>\n    <tr>\n      <th>55516258</th>\n      <td>40089.60</td>\n      <td>-1801473.97</td>\n      <td>0.00</td>\n      <td>-78607.06</td>\n      <td>NaN</td>\n      <td>NaN</td>\n      <td>NaN</td>\n      <td>NaN</td>\n      <td>NaN</td>\n      <td>NaN</td>\n      <td>4</td>\n    </tr>\n    <tr>\n      <th>59948285</th>\n      <td>58932.83</td>\n      <td>-4312988.46</td>\n      <td>NaN</td>\n      <td>NaN</td>\n      <td>NaN</td>\n      <td>NaN</td>\n      <td>NaN</td>\n      <td>NaN</td>\n      <td>0.00</td>\n      <td>-28918.42</td>\n      <td>4</td>\n    </tr>\n    <tr>\n      <th>63091006</th>\n      <td>40426.48</td>\n      <td>-818061.58</td>\n      <td>0.00</td>\n      <td>-548444.54</td>\n      <td>NaN</td>\n      <td>NaN</td>\n      <td>NaN</td>\n      <td>NaN</td>\n      <td>NaN</td>\n      <td>NaN</td>\n      <td>4</td>\n    </tr>\n    <tr>\n      <th>64050247</th>\n      <td>60406.15</td>\n      <td>-116832.99</td>\n      <td>0.00</td>\n      <td>-2262445.93</td>\n      <td>NaN</td>\n      <td>NaN</td>\n      <td>NaN</td>\n      <td>NaN</td>\n      <td>NaN</td>\n      <td>NaN</td>\n      <td>4</td>\n    </tr>\n    <tr>\n      <th>68395511</th>\n      <td>0.00</td>\n      <td>-18191.92</td>\n      <td>NaN</td>\n      <td>NaN</td>\n      <td>NaN</td>\n      <td>NaN</td>\n      <td>NaN</td>\n      <td>NaN</td>\n      <td>112295.79</td>\n      <td>-224591.58</td>\n      <td>4</td>\n    </tr>\n    <tr>\n      <th>74376012</th>\n      <td>0.00</td>\n      <td>-1532063.62</td>\n      <td>0.00</td>\n      <td>-3947691.06</td>\n      <td>0.0</td>\n      <td>-26950.99</td>\n      <td>NaN</td>\n      <td>NaN</td>\n      <td>NaN</td>\n      <td>NaN</td>\n      <td>4</td>\n    </tr>\n    <tr>\n      <th>78934051</th>\n      <td>0.00</td>\n      <td>-1205620.16</td>\n      <td>0.00</td>\n      <td>-280739.47</td>\n      <td>0.0</td>\n      <td>-13475.49</td>\n      <td>NaN</td>\n      <td>NaN</td>\n      <td>NaN</td>\n      <td>NaN</td>\n      <td>4</td>\n    </tr>\n    <tr>\n      <th>80585790</th>\n      <td>0.00</td>\n      <td>-323119.90</td>\n      <td>0.00</td>\n      <td>-220099.75</td>\n      <td>0.0</td>\n      <td>-22234.57</td>\n      <td>NaN</td>\n      <td>NaN</td>\n      <td>NaN</td>\n      <td>NaN</td>\n      <td>4</td>\n    </tr>\n    <tr>\n      <th>82581973</th>\n      <td>142615.65</td>\n      <td>-9297249.99</td>\n      <td>0.00</td>\n      <td>-58393.81</td>\n      <td>NaN</td>\n      <td>NaN</td>\n      <td>NaN</td>\n      <td>NaN</td>\n      <td>NaN</td>\n      <td>NaN</td>\n      <td>4</td>\n    </tr>\n    <tr>\n      <th>86029773</th>\n      <td>1263.10</td>\n      <td>-4595647.20</td>\n      <td>0.00</td>\n      <td>-29196.91</td>\n      <td>NaN</td>\n      <td>NaN</td>\n      <td>NaN</td>\n      <td>NaN</td>\n      <td>NaN</td>\n      <td>NaN</td>\n      <td>4</td>\n    </tr>\n    <tr>\n      <th>86298795</th>\n      <td>0.00</td>\n      <td>-398374.93</td>\n      <td>0.00</td>\n      <td>-1080285.49</td>\n      <td>NaN</td>\n      <td>NaN</td>\n      <td>0.0</td>\n      <td>-184479.53</td>\n      <td>NaN</td>\n      <td>NaN</td>\n      <td>4</td>\n    </tr>\n    <tr>\n      <th>87695373</th>\n      <td>51274.26</td>\n      <td>-1038711.39</td>\n      <td>0.00</td>\n      <td>-6535.61</td>\n      <td>NaN</td>\n      <td>NaN</td>\n      <td>NaN</td>\n      <td>NaN</td>\n      <td>NaN</td>\n      <td>NaN</td>\n      <td>4</td>\n    </tr>\n    <tr>\n      <th>90072280</th>\n      <td>22457.59</td>\n      <td>-1460234.03</td>\n      <td>0.00</td>\n      <td>-6850.04</td>\n      <td>NaN</td>\n      <td>NaN</td>\n      <td>NaN</td>\n      <td>NaN</td>\n      <td>NaN</td>\n      <td>NaN</td>\n      <td>4</td>\n    </tr>\n    <tr>\n      <th>94322959</th>\n      <td>0.00</td>\n      <td>-1105575.63</td>\n      <td>22459.16</td>\n      <td>-3927994.38</td>\n      <td>NaN</td>\n      <td>NaN</td>\n      <td>NaN</td>\n      <td>NaN</td>\n      <td>NaN</td>\n      <td>NaN</td>\n      <td>4</td>\n    </tr>\n    <tr>\n      <th>94926357</th>\n      <td>0.00</td>\n      <td>-161256.76</td>\n      <td>0.00</td>\n      <td>-568216.68</td>\n      <td>0.0</td>\n      <td>-17967.33</td>\n      <td>NaN</td>\n      <td>NaN</td>\n      <td>NaN</td>\n      <td>NaN</td>\n      <td>4</td>\n    </tr>\n  </tbody>\n</table>\n</div>"
     },
     "execution_count": 108,
     "metadata": {},
     "output_type": "execute_result"
    }
   ],
   "source": [
    "# get customer with max non-zero and non-nan values\n",
    "def non_zero_non_none(row):\n",
    "    return len(row[row != 0].dropna())\n",
    "\n",
    "customer_transactions_detailed['non_zero'] = customer_transactions_detailed.apply(non_zero_non_none, axis=1)\n",
    "max_val = customer_transactions_detailed.sort_values('non_zero', ascending=False).iloc[0]['non_zero']\n",
    "customer_transactions_detailed[customer_transactions_detailed.non_zero == max_val]"
   ],
   "metadata": {
    "collapsed": false,
    "pycharm": {
     "name": "#%%\n"
    }
   }
  },
  {
   "cell_type": "markdown",
   "source": [
    "## Вопросы к заданию 1 (6 баллов)"
   ],
   "metadata": {
    "id": "_etoNdFXwY1y",
    "pycharm": {
     "name": "#%% md\n"
    }
   }
  },
  {
   "cell_type": "markdown",
   "source": [
    "1. Для каждой категории выведите соответствующие ей mcc-коды с описаниями.\n",
    "2. Существуют ли пользователи, у которых значения всех признаков не определены?\n",
    "3. Выведите id пользователя, у которого самое большое количество непустых признаков."
   ],
   "metadata": {
    "id": "Mr3MfPI3viIx",
    "pycharm": {
     "name": "#%% md\n"
    }
   }
  },
  {
   "cell_type": "markdown",
   "source": [],
   "metadata": {
    "id": "DIcrEdU2yOxb",
    "pycharm": {
     "name": "#%% md\n"
    }
   }
  },
  {
   "cell_type": "markdown",
   "metadata": {
    "id": "hiXRvXuACblp",
    "pycharm": {
     "name": "#%% md\n"
    }
   },
   "source": [
    "# Задание 2 (3 балла)"
   ]
  },
  {
   "cell_type": "markdown",
   "metadata": {
    "id": "RE1BmT7dCetf",
    "pycharm": {
     "name": "#%% md\n"
    }
   },
   "source": [
    "Модель - многослойная нейронная сеть минимум с двумя скрытыми слоями и с dropout. Количество нейронов в каждом слое выбираете самостоятельно.\n",
    "Функции активации, метод оптимизации, скорость обучения, вероятность dropout - выбираете самостоятельно\n",
    "\n",
    "Модель нужно строить с помощью keras или torch\n",
    "\n",
    "Настроить параметры модели."
   ]
  },
  {
   "cell_type": "markdown",
   "source": [
    "## Вопросы к заданию 2"
   ],
   "metadata": {
    "id": "VQXP8vbzxHQA",
    "pycharm": {
     "name": "#%% md\n"
    }
   }
  },
  {
   "cell_type": "markdown",
   "source": [
    "1. Перечислите все гиперпараметры и их значения вот в таком формате (значения приведены примерные, у вас могут быть другие):\n",
    "\n",
    "* количество эпох: 5\n",
    "* скорость обучения: 0.0001\n",
    "* функция активация на скрытых слоях: ReLU\n",
    "* и т.д.\n",
    "\n",
    "2. Сколько у вашей модели параметров?"
   ],
   "metadata": {
    "id": "TWc06aYwxMcZ",
    "pycharm": {
     "name": "#%% md\n"
    }
   }
  },
  {
   "cell_type": "markdown",
   "source": [
    "## Ответы:"
   ],
   "metadata": {
    "id": "b7U1RuIYyQyE",
    "pycharm": {
     "name": "#%% md\n"
    }
   }
  },
  {
   "cell_type": "markdown",
   "source": [],
   "metadata": {
    "id": "I5pJVKHwyTUH",
    "pycharm": {
     "name": "#%% md\n"
    }
   }
  },
  {
   "cell_type": "markdown",
   "metadata": {
    "id": "vjOJsBFsDOll",
    "pycharm": {
     "name": "#%% md\n"
    }
   },
   "source": [
    "# Задание 3 (2 балла)"
   ]
  },
  {
   "cell_type": "markdown",
   "metadata": {
    "id": "FXHBaQF1CnuI",
    "pycharm": {
     "name": "#%% md\n"
    }
   },
   "source": [
    "\n",
    "Проверить качество модели не менее, чем на трёх разных метриках. "
   ]
  },
  {
   "cell_type": "markdown",
   "source": [
    "## Вопросы к заданию 3"
   ],
   "metadata": {
    "id": "5iRvQtk9xv05",
    "pycharm": {
     "name": "#%% md\n"
    }
   }
  },
  {
   "cell_type": "markdown",
   "source": [
    "1. Выведите значения метрик.\n",
    "2. Как улучшить модель?\n",
    "3. Для чего может понадобиться предсказание пола клиента по его транзакциям?"
   ],
   "metadata": {
    "id": "K2Ahe-rjxyM9",
    "pycharm": {
     "name": "#%% md\n"
    }
   }
  },
  {
   "cell_type": "markdown",
   "source": [
    "## Ответы:"
   ],
   "metadata": {
    "id": "MnpAjlonyUSA",
    "pycharm": {
     "name": "#%% md\n"
    }
   }
  },
  {
   "cell_type": "markdown",
   "metadata": {
    "id": "jnuaWWNID2O8",
    "pycharm": {
     "name": "#%% md\n"
    }
   },
   "source": [
    "После завершения контрольной работы, дайте ссылку на colab в отдельном followup в своей теме на Piazza. Дайте разрешение на его просмотр.\n",
    "\n",
    "Не забудьте запустить код в последней ячейке для контроля времени выполнения."
   ]
  },
  {
   "cell_type": "code",
   "execution_count": 109,
   "outputs": [
    {
     "name": "stdout",
     "output_type": "stream",
     "text": [
      "2022-12-12 13:09:07.771862\n"
     ]
    }
   ],
   "source": [
    "current_datetime = datetime.now()\n",
    "print(current_datetime)"
   ],
   "metadata": {
    "collapsed": false,
    "pycharm": {
     "name": "#%%\n"
    }
   }
  }
 ]
}