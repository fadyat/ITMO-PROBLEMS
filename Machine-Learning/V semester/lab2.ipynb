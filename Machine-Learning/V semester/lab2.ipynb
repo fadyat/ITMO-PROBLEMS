{
 "nbformat": 4,
 "nbformat_minor": 0,
 "metadata": {
  "hide_input": false,
  "kernelspec": {
   "display_name": "Python 3",
   "language": "python",
   "name": "python3"
  },
  "language_info": {
   "codemirror_mode": {
    "name": "ipython",
    "version": 3
   },
   "file_extension": ".py",
   "mimetype": "text/x-python",
   "name": "python",
   "nbconvert_exporter": "python",
   "pygments_lexer": "ipython3",
   "version": "3.7.1"
  },
  "toc": {
   "base_numbering": 1,
   "nav_menu": {},
   "number_sections": true,
   "sideBar": true,
   "skip_h1_title": false,
   "title_cell": "Table of Contents",
   "title_sidebar": "Contents",
   "toc_cell": true,
   "toc_position": {},
   "toc_section_display": true,
   "toc_window_display": false
  },
  "varInspector": {
   "cols": {
    "lenName": 16,
    "lenType": 16,
    "lenVar": 40
   },
   "kernels_config": {
    "python": {
     "delete_cmd_postfix": "",
     "delete_cmd_prefix": "del ",
     "library": "var_list.py",
     "varRefreshCmd": "print(var_dic_list())"
    },
    "r": {
     "delete_cmd_postfix": ") ",
     "delete_cmd_prefix": "rm(",
     "library": "var_list.r",
     "varRefreshCmd": "cat(var_dic_list()) "
    }
   },
   "types_to_exclude": [
    "module",
    "function",
    "builtin_function_or_method",
    "instance",
    "_Feature"
   ],
   "window_display": false
  },
  "colab": {
   "provenance": [],
   "toc_visible": true
  }
 },
 "cells": [
  {
   "cell_type": "markdown",
   "metadata": {
    "id": "xjvL0IIG8Jd0"
   },
   "source": [
    "## Задание 0\n"
   ]
  },
  {
   "cell_type": "markdown",
   "metadata": {
    "id": "yaSxXHvxO0qo"
   },
   "source": [
    "Для всех  заданий будем использовать обезличенные транзакционные банковские данные. Для этого считайте в переменные **tr_mcc_codes, tr_types, transactions и gender_train** из одноимённых таблиц из папки [data](https://drive.google.com/drive/folders/1YAMe7MiTxA-RSSd8Ex2p-L0Dspe6Gs4L). \n",
    "\n",
    "Для таблицы transactions используйте только первые n=1000000 строк. При чтении файлов обратите внимание на разделители внутри каждого из файлов - они могут различаться!"
   ]
  },
  {
   "cell_type": "markdown",
   "metadata": {
    "id": "oP3lX9xC8Jd8"
   },
   "source": [
    "###  Описание данных\n",
    "#### Таблица ```transactions.csv```\n",
    "##### Описание\n",
    "Таблица содержит историю транзакций клиентов банка за один год и три месяца.\n",
    "\n",
    "##### Формат данных\n",
    "\n",
    "```\n",
    "customer_id,tr_datetime,mcc_code,tr_type,amount,term_id\n",
    "111111,15 01:40:52,1111,1000,-5224,111111\n",
    "111112,15 15:18:32,3333,2000,-100,11122233\n",
    "...\n",
    "```\n",
    "##### Описание полей\n",
    "\n",
    " - ```customer_id``` — идентификатор клиента;\n",
    " - ```tr_datetime``` — день и время совершения транзакции (дни нумеруются с начала данных);\n",
    " - ```mcc_code``` — mcc-код транзакции;\n",
    " - ```tr_type``` — тип транзакции;\n",
    " - ```amount``` — сумма транзакции в условных единицах со знаком; ```+``` — начисление средств клиенту (приходная транзакция), ```-``` — списание средств (расходная транзакция);\n",
    " - ```term_id``` — идентификатор терминала;\n",
    "\n",
    "\n",
    "#### Таблица ```gender_train.csv```\n",
    "\n",
    "##### Описание\n",
    "Данная таблица содержит информацию по полу для части клиентов, для которых он известен. Для остальных клиентов пол неизвестен.\n",
    "\n",
    "##### Формат данных\n",
    "```\n",
    "customer_id,gender\n",
    "111111,0\n",
    "111112,1\n",
    "...\n",
    "```\n",
    "\n",
    "##### Описание полей\n",
    " - ```customer_id``` — идентификатор клиента;\n",
    " - ```gender``` — пол клиента;\n",
    "\n",
    "### Таблица ```tr_mcc_codes.csv```\n",
    "\n",
    "##### Описание\n",
    "Данная таблица содержит описание mcc-кодов транзакций.\n",
    "\n",
    "##### Формат данных\n",
    "```\n",
    "mcc_code;mcc_description\n",
    "1000;словесное описание mcc-кода 1000\n",
    "2000;словесное описание mcc-кода 2000\n",
    "...\n",
    "```\n",
    "\n",
    "##### Описание полей\n",
    " - ```mcc_code``` – mcc-код транзакции;\n",
    " - ```mcc_description``` — описание mcc-кода транзакции.\n",
    "\n",
    "#### Таблица ```tr_types.csv```\n",
    "\n",
    "##### Описание\n",
    "Данная таблица содержит описание типов транзакций.\n",
    "\n",
    "##### Формат данных\n",
    "```\n",
    "tr_type;tr_description\n",
    "1000;словесное описание типа транзакции 1000\n",
    "2000;словесное описание типа транзакции 2000\n",
    "...\n",
    "```\n",
    "\n",
    "##### Описание полей\n",
    " - ```tr_type``` – тип транзакции;\n",
    " - ```tr_description``` — описание типа транзакции;"
   ]
  },
  {
   "cell_type": "markdown",
   "metadata": {
    "id": "04CYsBKz8JeB"
   },
   "source": [
    "\n",
    "Задания 1-4 делаются без использования merge!\n",
    "\n",
    "## Задание 1\n",
    "\n"
   ]
  },
  {
   "cell_type": "markdown",
   "metadata": {
    "id": "1hcrfwsYN_Yz"
   },
   "source": [
    "1. Для столбца tr_type датафрейма transactions выберите произвольные 1000 строк с помощью метода sample\n",
    "2. В полученной на предыдущем этапе подвыборке найдите долю транзакций (стобец tr_description в датасете tr_types), в которой содержится подстрока 'POS' или 'ATM'\n"
   ]
  },
  {
   "cell_type": "code",
   "execution_count": 171,
   "outputs": [],
   "source": [
    "import pandas as pd"
   ],
   "metadata": {
    "collapsed": false
   }
  },
  {
   "cell_type": "code",
   "execution_count": 172,
   "outputs": [
    {
     "name": "stdout",
     "output_type": "stream",
     "text": [
      "Requirement already satisfied: gdown in /Users/artyomfadeyev/GitHub/ITMO-PROBLEMS/Machine-Learning/venv/lib/python3.9/site-packages (4.5.1)\r\n",
      "Requirement already satisfied: beautifulsoup4 in /Users/artyomfadeyev/GitHub/ITMO-PROBLEMS/Machine-Learning/venv/lib/python3.9/site-packages (from gdown) (4.11.1)\r\n",
      "Requirement already satisfied: filelock in /Users/artyomfadeyev/GitHub/ITMO-PROBLEMS/Machine-Learning/venv/lib/python3.9/site-packages (from gdown) (3.8.0)\r\n",
      "Requirement already satisfied: requests[socks] in /Users/artyomfadeyev/GitHub/ITMO-PROBLEMS/Machine-Learning/venv/lib/python3.9/site-packages (from gdown) (2.28.1)\r\n",
      "Requirement already satisfied: six in /Users/artyomfadeyev/GitHub/ITMO-PROBLEMS/Machine-Learning/venv/lib/python3.9/site-packages (from gdown) (1.16.0)\r\n",
      "Requirement already satisfied: tqdm in /Users/artyomfadeyev/GitHub/ITMO-PROBLEMS/Machine-Learning/venv/lib/python3.9/site-packages (from gdown) (4.64.1)\r\n",
      "Requirement already satisfied: soupsieve>1.2 in /Users/artyomfadeyev/GitHub/ITMO-PROBLEMS/Machine-Learning/venv/lib/python3.9/site-packages (from beautifulsoup4->gdown) (2.3.2.post1)\r\n",
      "Requirement already satisfied: idna<4,>=2.5 in /Users/artyomfadeyev/GitHub/ITMO-PROBLEMS/Machine-Learning/venv/lib/python3.9/site-packages (from requests[socks]->gdown) (3.4)\r\n",
      "Requirement already satisfied: urllib3<1.27,>=1.21.1 in /Users/artyomfadeyev/GitHub/ITMO-PROBLEMS/Machine-Learning/venv/lib/python3.9/site-packages (from requests[socks]->gdown) (1.26.12)\r\n",
      "Requirement already satisfied: charset-normalizer<3,>=2 in /Users/artyomfadeyev/GitHub/ITMO-PROBLEMS/Machine-Learning/venv/lib/python3.9/site-packages (from requests[socks]->gdown) (2.1.1)\r\n",
      "Requirement already satisfied: certifi>=2017.4.17 in /Users/artyomfadeyev/GitHub/ITMO-PROBLEMS/Machine-Learning/venv/lib/python3.9/site-packages (from requests[socks]->gdown) (2022.9.24)\r\n",
      "Requirement already satisfied: PySocks!=1.5.7,>=1.5.6 in /Users/artyomfadeyev/GitHub/ITMO-PROBLEMS/Machine-Learning/venv/lib/python3.9/site-packages (from requests[socks]->gdown) (1.7.1)\r\n"
     ]
    }
   ],
   "source": [
    "!pip install gdown"
   ],
   "metadata": {
    "collapsed": false
   }
  },
  {
   "cell_type": "code",
   "execution_count": 7,
   "outputs": [
    {
     "name": "stdout",
     "output_type": "stream",
     "text": [
      "Downloading...\r\n",
      "From: https://drive.google.com/uc?id=1lEpoRKczv5EvZhff9O2I-0JkdHnbe_Mq\r\n",
      "To: /Users/artyomfadeyev/GitHub/ITMO-PROBLEMS/Machine-Learning/V semester/data/transactions.csv\r\n",
      "100%|████████████████████████████████████████| 314M/314M [01:07<00:00, 4.67MB/s]\r\n"
     ]
    }
   ],
   "source": [
    "!gdown 1lEpoRKczv5EvZhff9O2I-0JkdHnbe_Mq -O ./data/transactions.csv"
   ],
   "metadata": {
    "collapsed": false
   }
  },
  {
   "cell_type": "code",
   "execution_count": 173,
   "outputs": [
    {
     "data": {
      "text/plain": "Index(['customer_id', 'tr_datetime', 'mcc_code', 'tr_type', 'amount',\n       'term_id'],\n      dtype='object')"
     },
     "execution_count": 173,
     "metadata": {},
     "output_type": "execute_result"
    }
   ],
   "source": [
    "transactions = pd.read_csv('./data/transactions.csv')\n",
    "transactions.columns"
   ],
   "metadata": {
    "collapsed": false
   }
  },
  {
   "cell_type": "code",
   "execution_count": 190,
   "outputs": [
    {
     "data": {
      "text/plain": "6239845    2010\n4920671    1030\n4985848    1030\n6032483    2011\n2109288    1010\nName: tr_type, dtype: int64"
     },
     "execution_count": 190,
     "metadata": {},
     "output_type": "execute_result"
    }
   ],
   "source": [
    "tr_types_samples = transactions.tr_type.sample(1000)\n",
    "tr_types_samples.head()"
   ],
   "metadata": {
    "collapsed": false
   }
  },
  {
   "cell_type": "code",
   "execution_count": 16,
   "outputs": [
    {
     "name": "stdout",
     "output_type": "stream",
     "text": [
      "Downloading...\r\n",
      "From: https://drive.google.com/uc?id=1EP3KrATWS1I_qYdpRhYnSDl-eoBiOBQc\r\n",
      "To: /Users/artyomfadeyev/GitHub/ITMO-PROBLEMS/Machine-Learning/V semester/data/tr_types.csv\r\n",
      "100%|██████████████████████████████████████| 14.2k/14.2k [00:00<00:00, 21.6MB/s]\r\n"
     ]
    }
   ],
   "source": [
    "!gdown 1EP3KrATWS1I_qYdpRhYnSDl-eoBiOBQc -O ./data/tr_types.csv"
   ],
   "metadata": {
    "collapsed": false
   }
  },
  {
   "cell_type": "code",
   "execution_count": 191,
   "outputs": [
    {
     "data": {
      "text/plain": "   tr_type                                     tr_description\n0     3200  Плата за предоставление услуг посредством моби...\n1     3210  Плата за предоставление отчета по счету карты ...\n2     3800  Плата за обслуживание банковской карты (за пер...\n3     4000            Плата за получение наличных в Сбербанке\n4     4001  Плата за получение наличных в Сбербанке (в дру...",
      "text/html": "<div>\n<style scoped>\n    .dataframe tbody tr th:only-of-type {\n        vertical-align: middle;\n    }\n\n    .dataframe tbody tr th {\n        vertical-align: top;\n    }\n\n    .dataframe thead th {\n        text-align: right;\n    }\n</style>\n<table border=\"1\" class=\"dataframe\">\n  <thead>\n    <tr style=\"text-align: right;\">\n      <th></th>\n      <th>tr_type</th>\n      <th>tr_description</th>\n    </tr>\n  </thead>\n  <tbody>\n    <tr>\n      <th>0</th>\n      <td>3200</td>\n      <td>Плата за предоставление услуг посредством моби...</td>\n    </tr>\n    <tr>\n      <th>1</th>\n      <td>3210</td>\n      <td>Плата за предоставление отчета по счету карты ...</td>\n    </tr>\n    <tr>\n      <th>2</th>\n      <td>3800</td>\n      <td>Плата за обслуживание банковской карты (за пер...</td>\n    </tr>\n    <tr>\n      <th>3</th>\n      <td>4000</td>\n      <td>Плата за получение наличных в Сбербанке</td>\n    </tr>\n    <tr>\n      <th>4</th>\n      <td>4001</td>\n      <td>Плата за получение наличных в Сбербанке (в дру...</td>\n    </tr>\n  </tbody>\n</table>\n</div>"
     },
     "execution_count": 191,
     "metadata": {},
     "output_type": "execute_result"
    }
   ],
   "source": [
    "tr_types = pd.read_csv('./data/tr_types.csv', sep=';')\n",
    "tr_types.head()"
   ],
   "metadata": {
    "collapsed": false
   }
  },
  {
   "cell_type": "code",
   "execution_count": 221,
   "outputs": [],
   "source": [
    "types_contains_substrings = tr_types[\n",
    "    tr_types.tr_description.str.contains('POS') |\n",
    "    tr_types.tr_description.str.contains('АТМ') # in Russian\n",
    "].tr_type"
   ],
   "metadata": {
    "collapsed": false
   }
  },
  {
   "cell_type": "code",
   "execution_count": 226,
   "outputs": [
    {
     "data": {
      "text/plain": "0.634"
     },
     "execution_count": 226,
     "metadata": {},
     "output_type": "execute_result"
    }
   ],
   "source": [
    "tr_types_samples.isin(types_contains_substrings).value_counts()[True] / len(tr_types_samples)"
   ],
   "metadata": {
    "collapsed": false
   }
  },
  {
   "cell_type": "markdown",
   "source": [
    "## Задание 2\n"
   ],
   "metadata": {
    "collapsed": false
   }
  },
  {
   "cell_type": "markdown",
   "metadata": {
    "id": "FFKeBUThOCrz"
   },
   "source": [
    "1. Для столбца tr_type датафрейма transactions посчитайте частоту встречаемости всех типов транзакций tr_type в transactions.\n",
    "2. Выведите топ-10 транзакций по частоте встречаемости (вывести для них tr_description тоже)."
   ]
  },
  {
   "cell_type": "code",
   "execution_count": 170,
   "outputs": [
    {
     "data": {
      "text/plain": "1010    0.232100\n2010    0.151943\n1030    0.141764\n1110    0.135510\n7070    0.101016\n2370    0.054972\n7010    0.037681\n7030    0.022659\n1100    0.017209\n7071    0.014037\nName: tr_type, dtype: float64"
     },
     "execution_count": 170,
     "metadata": {},
     "output_type": "execute_result"
    }
   ],
   "source": [
    "transactions = pd.read_csv('./data/transactions.csv')\n",
    "top_transactions = transactions['tr_type'].value_counts(ascending=False, normalize=True).head(10)\n",
    "top_transactions"
   ],
   "metadata": {
    "collapsed": false
   }
  },
  {
   "cell_type": "code",
   "execution_count": 169,
   "outputs": [
    {
     "data": {
      "text/plain": "     tr_type                                     tr_description\n39      7010       Взнос наличных через АТМ (в своем тер.банке)\n47      7030  Перевод на карту (с карты) через АТМ (в предел...\n59      7070  Перевод на карту (с карты) через Мобильный бан...\n60      7071  Перевод на карту (с карты) через Мобильный бан...\n98      1010                              Покупка. POS ТУ СБ РФ\n99      1030                     Оплата услуги. Банкоматы СБ РФ\n100     1100                                Покупка. ТУ  Россия\n101     1110                             Покупка. POS ТУ Россия\n106     2010              Выдача наличных в АТМ Сбербанк России\n129     2370  Списание с карты на карту по операции <перевод...",
      "text/html": "<div>\n<style scoped>\n    .dataframe tbody tr th:only-of-type {\n        vertical-align: middle;\n    }\n\n    .dataframe tbody tr th {\n        vertical-align: top;\n    }\n\n    .dataframe thead th {\n        text-align: right;\n    }\n</style>\n<table border=\"1\" class=\"dataframe\">\n  <thead>\n    <tr style=\"text-align: right;\">\n      <th></th>\n      <th>tr_type</th>\n      <th>tr_description</th>\n    </tr>\n  </thead>\n  <tbody>\n    <tr>\n      <th>39</th>\n      <td>7010</td>\n      <td>Взнос наличных через АТМ (в своем тер.банке)</td>\n    </tr>\n    <tr>\n      <th>47</th>\n      <td>7030</td>\n      <td>Перевод на карту (с карты) через АТМ (в предел...</td>\n    </tr>\n    <tr>\n      <th>59</th>\n      <td>7070</td>\n      <td>Перевод на карту (с карты) через Мобильный бан...</td>\n    </tr>\n    <tr>\n      <th>60</th>\n      <td>7071</td>\n      <td>Перевод на карту (с карты) через Мобильный бан...</td>\n    </tr>\n    <tr>\n      <th>98</th>\n      <td>1010</td>\n      <td>Покупка. POS ТУ СБ РФ</td>\n    </tr>\n    <tr>\n      <th>99</th>\n      <td>1030</td>\n      <td>Оплата услуги. Банкоматы СБ РФ</td>\n    </tr>\n    <tr>\n      <th>100</th>\n      <td>1100</td>\n      <td>Покупка. ТУ  Россия</td>\n    </tr>\n    <tr>\n      <th>101</th>\n      <td>1110</td>\n      <td>Покупка. POS ТУ Россия</td>\n    </tr>\n    <tr>\n      <th>106</th>\n      <td>2010</td>\n      <td>Выдача наличных в АТМ Сбербанк России</td>\n    </tr>\n    <tr>\n      <th>129</th>\n      <td>2370</td>\n      <td>Списание с карты на карту по операции &lt;перевод...</td>\n    </tr>\n  </tbody>\n</table>\n</div>"
     },
     "execution_count": 169,
     "metadata": {},
     "output_type": "execute_result"
    }
   ],
   "source": [
    "tr_types = pd.read_csv('./data/tr_types.csv', sep=';')\n",
    "tr_types[tr_types.tr_type.isin(top_transactions.index)]"
   ],
   "metadata": {
    "collapsed": false
   }
  },
  {
   "cell_type": "markdown",
   "source": [
    "## Задание 3\n",
    "1. В датафрейме transactions найдите клиента с максимальной суммой приходов на карту\n",
    "2. В датафрейме transactions найдите клиента с максимальной суммой расходов по карте\n",
    "3. Найдите модуль разницы для этих клиентов между суммой расходов и суммой приходов"
   ],
   "metadata": {
    "collapsed": false
   }
  },
  {
   "cell_type": "markdown",
   "metadata": {
    "id": "BYrJ5b_E8Jee"
   },
   "source": [
    "## Задание 4\n",
    "1. Найдите среднее арифметическое и медиану по amount по всем типам транзакций из топ 10 из задания 2\n",
    "1. Найдите среднее арифметическое и медиану по amount по всем типам транзакций для клиентов из задания 3"
   ]
  },
  {
   "cell_type": "markdown",
   "metadata": {
    "id": "BYXwM4l3QDBu"
   },
   "source": [
    "## Подготовка для заданий 5-8"
   ]
  },
  {
   "cell_type": "markdown",
   "metadata": {
    "id": "XWQzFeKcQHRe"
   },
   "source": [
    "*Из заданий 5-8 нужно выполнить минимум два любых*\n",
    "\n",
    "Соедините transactions с всеми остальными таблицами (tr_mcc_codes, tr_types, gender_train). Причём с gender_train необходимо смёрджиться с помощью left join, а с оставшимися датафреймами - через inner.\n",
    "После получения результата таблицы gender_train, tr_types, tr_mcc_codes можно удалить. В результате соединения датафреймов должно получиться 999584 строки."
   ]
  },
  {
   "cell_type": "code",
   "metadata": {
    "id": "sndJxjJ7QQf5"
   },
   "source": [
    "transactions = pd.merge(transactions, gender_train, how='left')\n",
    "transactions = pd.merge(transactions, tr_mcc_codes, how='inner')\n",
    "transactions = pd.merge(transactions, tr_types, how='inner')\n",
    "transactions.shape"
   ],
   "execution_count": 4,
   "outputs": [
    {
     "ename": "NameError",
     "evalue": "name 'transactions' is not defined",
     "output_type": "error",
     "traceback": [
      "\u001B[0;31m---------------------------------------------------------------------------\u001B[0m",
      "\u001B[0;31mNameError\u001B[0m                                 Traceback (most recent call last)",
      "Cell \u001B[0;32mIn [4], line 1\u001B[0m\n\u001B[0;32m----> 1\u001B[0m transactions \u001B[38;5;241m=\u001B[39m pd\u001B[38;5;241m.\u001B[39mmerge(\u001B[43mtransactions\u001B[49m, gender_train, how\u001B[38;5;241m=\u001B[39m\u001B[38;5;124m'\u001B[39m\u001B[38;5;124mleft\u001B[39m\u001B[38;5;124m'\u001B[39m)\n\u001B[1;32m      2\u001B[0m transactions \u001B[38;5;241m=\u001B[39m pd\u001B[38;5;241m.\u001B[39mmerge(transactions, tr_mcc_codes, how\u001B[38;5;241m=\u001B[39m\u001B[38;5;124m'\u001B[39m\u001B[38;5;124minner\u001B[39m\u001B[38;5;124m'\u001B[39m)\n\u001B[1;32m      3\u001B[0m transactions \u001B[38;5;241m=\u001B[39m pd\u001B[38;5;241m.\u001B[39mmerge(transactions, tr_types, how\u001B[38;5;241m=\u001B[39m\u001B[38;5;124m'\u001B[39m\u001B[38;5;124minner\u001B[39m\u001B[38;5;124m'\u001B[39m)\n",
      "\u001B[0;31mNameError\u001B[0m: name 'transactions' is not defined"
     ]
    }
   ]
  },
  {
   "cell_type": "markdown",
   "metadata": {
    "id": "8vrFauJ8QgmT"
   },
   "source": [
    "## Задание 5"
   ]
  },
  {
   "cell_type": "markdown",
   "metadata": {
    "id": "rOjEQ5xyQfE_"
   },
   "source": [
    "1. Определите модуль разницы между средними тратами женщин и мужчин (трата - отрицательное значение amount).\n",
    "2. Определите модуль разницы между средними поступлениями у мужчин и женщин\n",
    "\n",
    "Обратите внимание, что для вычисления модуля разности точных знаний о том, \n",
    "какой класc относится к мужчинам, а какой - к женщинам, не требуется."
   ]
  },
  {
   "cell_type": "markdown",
   "metadata": {
    "id": "DSHFLbepQ7G1"
   },
   "source": [
    "## Задание 6"
   ]
  },
  {
   "cell_type": "markdown",
   "metadata": {
    "id": "2EF1490bQ-17"
   },
   "source": [
    "1. По всем типам транзакций рассчитайте максимальную сумму прихода на карту (из строго положительных сумм по столбцу amount) отдельно для мужчин и женщин (назовите ее \"max_income\"). Оставьте по 10 типов транзакций для мужчин и для женщин, наименьших среди всех типов транзакций по полученным значениям \"max_income\". \n",
    "2. Выделите среди них те типы транзакций, которые встречаются одновременно и у мужчин, и у женщин"
   ]
  },
  {
   "cell_type": "markdown",
   "metadata": {
    "id": "W-LaVwRdR3UB"
   },
   "source": [
    "## Задание 7"
   ]
  },
  {
   "cell_type": "markdown",
   "metadata": {
    "id": "rhI4NOciR7e0"
   },
   "source": [
    "1. Найдите суммы затрат по каждой категории (mcc) для мужчин и для женщин. \n",
    "2. Найдите топ 10 категорий с самыми большими относительными модулями разности в тратах для разных полов (в ответе должны присутствовать описания mcc кодов)."
   ]
  },
  {
   "cell_type": "markdown",
   "metadata": {
    "id": "aGaPkQkVSvl8"
   },
   "source": [
    "## Задание 8"
   ]
  },
  {
   "cell_type": "markdown",
   "metadata": {
    "id": "T7Ox1qAXTHQl"
   },
   "source": [
    "1. Из поля tr_datetime выделите час tr_hour, в который произошла транзакция, как первые 2 цифры до \":\". (\\**)\n",
    "2. Посчитайте количество транзакций с amount<0 в ночное время для мужчин и женщин. Ночное время - это примерно 00-06 часов. "
   ]
  }
 ]
}
