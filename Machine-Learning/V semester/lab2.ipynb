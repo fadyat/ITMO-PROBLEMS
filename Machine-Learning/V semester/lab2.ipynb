{
 "nbformat": 4,
 "nbformat_minor": 0,
 "metadata": {
  "hide_input": false,
  "kernelspec": {
   "display_name": "Python 3",
   "language": "python",
   "name": "python3"
  },
  "language_info": {
   "codemirror_mode": {
    "name": "ipython",
    "version": 3
   },
   "file_extension": ".py",
   "mimetype": "text/x-python",
   "name": "python",
   "nbconvert_exporter": "python",
   "pygments_lexer": "ipython3",
   "version": "3.7.1"
  },
  "toc": {
   "base_numbering": 1,
   "nav_menu": {},
   "number_sections": true,
   "sideBar": true,
   "skip_h1_title": false,
   "title_cell": "Table of Contents",
   "title_sidebar": "Contents",
   "toc_cell": true,
   "toc_position": {},
   "toc_section_display": true,
   "toc_window_display": false
  },
  "varInspector": {
   "cols": {
    "lenName": 16,
    "lenType": 16,
    "lenVar": 40
   },
   "kernels_config": {
    "python": {
     "delete_cmd_postfix": "",
     "delete_cmd_prefix": "del ",
     "library": "var_list.py",
     "varRefreshCmd": "print(var_dic_list())"
    },
    "r": {
     "delete_cmd_postfix": ") ",
     "delete_cmd_prefix": "rm(",
     "library": "var_list.r",
     "varRefreshCmd": "cat(var_dic_list()) "
    }
   },
   "types_to_exclude": [
    "module",
    "function",
    "builtin_function_or_method",
    "instance",
    "_Feature"
   ],
   "window_display": false
  },
  "colab": {
   "provenance": [],
   "toc_visible": true
  }
 },
 "cells": [
  {
   "cell_type": "markdown",
   "metadata": {
    "id": "xjvL0IIG8Jd0"
   },
   "source": [
    "## Задание 0\n"
   ]
  },
  {
   "cell_type": "markdown",
   "metadata": {
    "id": "yaSxXHvxO0qo"
   },
   "source": [
    "Для всех  заданий будем использовать обезличенные транзакционные банковские данные. Для этого считайте в переменные **tr_mcc_codes, tr_types, transactions и gender_train** из одноимённых таблиц из папки [data](https://drive.google.com/drive/folders/1YAMe7MiTxA-RSSd8Ex2p-L0Dspe6Gs4L). \n",
    "\n",
    "Для таблицы transactions используйте только первые n=1000000 строк. При чтении файлов обратите внимание на разделители внутри каждого из файлов - они могут различаться!"
   ]
  },
  {
   "cell_type": "markdown",
   "metadata": {
    "id": "04CYsBKz8JeB"
   },
   "source": [
    "\n",
    "Задания 1-4 делаются без использования merge!\n",
    "\n",
    "## Задание 1\n",
    "\n"
   ]
  },
  {
   "cell_type": "markdown",
   "metadata": {
    "id": "1hcrfwsYN_Yz"
   },
   "source": [
    "1. Для столбца tr_type датафрейма transactions выберите произвольные 1000 строк с помощью метода sample\n",
    "2. В полученной на предыдущем этапе подвыборке найдите долю транзакций (стобец tr_description в датасете tr_types), в которой содержится подстрока 'POS' или 'ATM'\n"
   ]
  },
  {
   "cell_type": "code",
   "execution_count": 1,
   "outputs": [],
   "source": [
    "import pandas as pd"
   ],
   "metadata": {
    "collapsed": false
   }
  },
  {
   "cell_type": "code",
   "execution_count": 2,
   "outputs": [
    {
     "name": "stdout",
     "output_type": "stream",
     "text": [
      "Requirement already satisfied: gdown in /Users/artyomfadeyev/GitHub/ITMO-PROBLEMS/Machine-Learning/venv/lib/python3.9/site-packages (4.5.1)\r\n",
      "Requirement already satisfied: filelock in /Users/artyomfadeyev/GitHub/ITMO-PROBLEMS/Machine-Learning/venv/lib/python3.9/site-packages (from gdown) (3.8.0)\r\n",
      "Requirement already satisfied: six in /Users/artyomfadeyev/GitHub/ITMO-PROBLEMS/Machine-Learning/venv/lib/python3.9/site-packages (from gdown) (1.16.0)\r\n",
      "Requirement already satisfied: beautifulsoup4 in /Users/artyomfadeyev/GitHub/ITMO-PROBLEMS/Machine-Learning/venv/lib/python3.9/site-packages (from gdown) (4.11.1)\r\n",
      "Requirement already satisfied: requests[socks] in /Users/artyomfadeyev/GitHub/ITMO-PROBLEMS/Machine-Learning/venv/lib/python3.9/site-packages (from gdown) (2.28.1)\r\n",
      "Requirement already satisfied: tqdm in /Users/artyomfadeyev/GitHub/ITMO-PROBLEMS/Machine-Learning/venv/lib/python3.9/site-packages (from gdown) (4.64.1)\r\n",
      "Requirement already satisfied: soupsieve>1.2 in /Users/artyomfadeyev/GitHub/ITMO-PROBLEMS/Machine-Learning/venv/lib/python3.9/site-packages (from beautifulsoup4->gdown) (2.3.2.post1)\r\n",
      "Requirement already satisfied: charset-normalizer<3,>=2 in /Users/artyomfadeyev/GitHub/ITMO-PROBLEMS/Machine-Learning/venv/lib/python3.9/site-packages (from requests[socks]->gdown) (2.1.1)\r\n",
      "Requirement already satisfied: idna<4,>=2.5 in /Users/artyomfadeyev/GitHub/ITMO-PROBLEMS/Machine-Learning/venv/lib/python3.9/site-packages (from requests[socks]->gdown) (3.4)\r\n",
      "Requirement already satisfied: urllib3<1.27,>=1.21.1 in /Users/artyomfadeyev/GitHub/ITMO-PROBLEMS/Machine-Learning/venv/lib/python3.9/site-packages (from requests[socks]->gdown) (1.26.12)\r\n",
      "Requirement already satisfied: certifi>=2017.4.17 in /Users/artyomfadeyev/GitHub/ITMO-PROBLEMS/Machine-Learning/venv/lib/python3.9/site-packages (from requests[socks]->gdown) (2022.9.24)\r\n",
      "Requirement already satisfied: PySocks!=1.5.7,>=1.5.6 in /Users/artyomfadeyev/GitHub/ITMO-PROBLEMS/Machine-Learning/venv/lib/python3.9/site-packages (from requests[socks]->gdown) (1.7.1)\r\n"
     ]
    }
   ],
   "source": [
    "!pip install gdown"
   ],
   "metadata": {
    "collapsed": false
   }
  },
  {
   "cell_type": "code",
   "execution_count": 3,
   "outputs": [
    {
     "name": "stdout",
     "output_type": "stream",
     "text": [
      "Downloading...\r\n",
      "From: https://drive.google.com/uc?id=1lEpoRKczv5EvZhff9O2I-0JkdHnbe_Mq\r\n",
      "To: /Users/artyomfadeyev/GitHub/ITMO-PROBLEMS/Machine-Learning/V semester/data/transactions.csv\r\n",
      "100%|████████████████████████████████████████| 314M/314M [01:36<00:00, 3.25MB/s]\r\n"
     ]
    }
   ],
   "source": [
    "!gdown 1lEpoRKczv5EvZhff9O2I-0JkdHnbe_Mq -O ./data/transactions.csv"
   ],
   "metadata": {
    "collapsed": false
   }
  },
  {
   "cell_type": "code",
   "execution_count": 4,
   "outputs": [
    {
     "data": {
      "text/plain": "Index(['customer_id', 'tr_datetime', 'mcc_code', 'tr_type', 'amount',\n       'term_id'],\n      dtype='object')"
     },
     "execution_count": 4,
     "metadata": {},
     "output_type": "execute_result"
    }
   ],
   "source": [
    "transactions = pd.read_csv('./data/transactions.csv', nrows=1000000)\n",
    "transactions.columns"
   ],
   "metadata": {
    "collapsed": false
   }
  },
  {
   "cell_type": "code",
   "execution_count": 5,
   "outputs": [
    {
     "data": {
      "text/plain": "520249    2010\n2873      1030\n220057    1010\n619527    1010\n517731    2010\nName: tr_type, dtype: int64"
     },
     "execution_count": 5,
     "metadata": {},
     "output_type": "execute_result"
    }
   ],
   "source": [
    "tr_types_samples = transactions.tr_type.sample(1000)\n",
    "tr_types_samples.head()"
   ],
   "metadata": {
    "collapsed": false
   }
  },
  {
   "cell_type": "code",
   "execution_count": 6,
   "outputs": [
    {
     "name": "stdout",
     "output_type": "stream",
     "text": [
      "Downloading...\r\n",
      "From: https://drive.google.com/uc?id=1EP3KrATWS1I_qYdpRhYnSDl-eoBiOBQc\r\n",
      "To: /Users/artyomfadeyev/GitHub/ITMO-PROBLEMS/Machine-Learning/V semester/data/tr_types.csv\r\n",
      "100%|██████████████████████████████████████| 14.2k/14.2k [00:00<00:00, 19.4MB/s]\r\n"
     ]
    }
   ],
   "source": [
    "!gdown 1EP3KrATWS1I_qYdpRhYnSDl-eoBiOBQc -O ./data/tr_types.csv"
   ],
   "metadata": {
    "collapsed": false
   }
  },
  {
   "cell_type": "code",
   "execution_count": 7,
   "outputs": [
    {
     "data": {
      "text/plain": "   tr_type                                     tr_description\n0     3200  Плата за предоставление услуг посредством моби...\n1     3210  Плата за предоставление отчета по счету карты ...\n2     3800  Плата за обслуживание банковской карты (за пер...\n3     4000            Плата за получение наличных в Сбербанке\n4     4001  Плата за получение наличных в Сбербанке (в дру...",
      "text/html": "<div>\n<style scoped>\n    .dataframe tbody tr th:only-of-type {\n        vertical-align: middle;\n    }\n\n    .dataframe tbody tr th {\n        vertical-align: top;\n    }\n\n    .dataframe thead th {\n        text-align: right;\n    }\n</style>\n<table border=\"1\" class=\"dataframe\">\n  <thead>\n    <tr style=\"text-align: right;\">\n      <th></th>\n      <th>tr_type</th>\n      <th>tr_description</th>\n    </tr>\n  </thead>\n  <tbody>\n    <tr>\n      <th>0</th>\n      <td>3200</td>\n      <td>Плата за предоставление услуг посредством моби...</td>\n    </tr>\n    <tr>\n      <th>1</th>\n      <td>3210</td>\n      <td>Плата за предоставление отчета по счету карты ...</td>\n    </tr>\n    <tr>\n      <th>2</th>\n      <td>3800</td>\n      <td>Плата за обслуживание банковской карты (за пер...</td>\n    </tr>\n    <tr>\n      <th>3</th>\n      <td>4000</td>\n      <td>Плата за получение наличных в Сбербанке</td>\n    </tr>\n    <tr>\n      <th>4</th>\n      <td>4001</td>\n      <td>Плата за получение наличных в Сбербанке (в дру...</td>\n    </tr>\n  </tbody>\n</table>\n</div>"
     },
     "execution_count": 7,
     "metadata": {},
     "output_type": "execute_result"
    }
   ],
   "source": [
    "tr_types = pd.read_csv('./data/tr_types.csv', sep=';')\n",
    "tr_types.head()"
   ],
   "metadata": {
    "collapsed": false
   }
  },
  {
   "cell_type": "code",
   "execution_count": 8,
   "outputs": [],
   "source": [
    "types_contains_substrings = tr_types[(tr_types.tr_description.str.contains('POS')) | (tr_types.tr_description.str.contains('АТМ'))].tr_type"
   ],
   "metadata": {
    "collapsed": false
   }
  },
  {
   "cell_type": "code",
   "execution_count": 9,
   "outputs": [
    {
     "data": {
      "text/plain": "0.649"
     },
     "execution_count": 9,
     "metadata": {},
     "output_type": "execute_result"
    }
   ],
   "source": [
    "tr_types_samples.isin(types_contains_substrings).value_counts()[True] / len(tr_types_samples)"
   ],
   "metadata": {
    "collapsed": false
   }
  },
  {
   "cell_type": "markdown",
   "source": [
    "## Задание 2\n"
   ],
   "metadata": {
    "collapsed": false
   }
  },
  {
   "cell_type": "markdown",
   "metadata": {
    "id": "FFKeBUThOCrz"
   },
   "source": [
    "1. Для столбца tr_type датафрейма transactions посчитайте частоту встречаемости всех типов транзакций tr_type в transactions.\n",
    "2. Выведите топ-10 транзакций по частоте встречаемости (вывести для них tr_description тоже)."
   ]
  },
  {
   "cell_type": "code",
   "execution_count": 10,
   "outputs": [
    {
     "data": {
      "text/plain": "1010    0.231117\n2010    0.151166\n7070    0.149006\n1110    0.137658\n1030    0.118975\n2370    0.049830\n7010    0.028972\n7030    0.026078\n7071    0.015781\n1100    0.015476\nName: tr_type, dtype: float64"
     },
     "execution_count": 10,
     "metadata": {},
     "output_type": "execute_result"
    }
   ],
   "source": [
    "top_transactions = transactions['tr_type'].value_counts(ascending=False, normalize=True).head(10)\n",
    "top_transactions"
   ],
   "metadata": {
    "collapsed": false
   }
  },
  {
   "cell_type": "code",
   "execution_count": 11,
   "outputs": [
    {
     "data": {
      "text/plain": "     tr_type                                     tr_description\n39      7010       Взнос наличных через АТМ (в своем тер.банке)\n47      7030  Перевод на карту (с карты) через АТМ (в предел...\n59      7070  Перевод на карту (с карты) через Мобильный бан...\n60      7071  Перевод на карту (с карты) через Мобильный бан...\n98      1010                              Покупка. POS ТУ СБ РФ\n99      1030                     Оплата услуги. Банкоматы СБ РФ\n100     1100                                Покупка. ТУ  Россия\n101     1110                             Покупка. POS ТУ Россия\n106     2010              Выдача наличных в АТМ Сбербанк России\n129     2370  Списание с карты на карту по операции <перевод...",
      "text/html": "<div>\n<style scoped>\n    .dataframe tbody tr th:only-of-type {\n        vertical-align: middle;\n    }\n\n    .dataframe tbody tr th {\n        vertical-align: top;\n    }\n\n    .dataframe thead th {\n        text-align: right;\n    }\n</style>\n<table border=\"1\" class=\"dataframe\">\n  <thead>\n    <tr style=\"text-align: right;\">\n      <th></th>\n      <th>tr_type</th>\n      <th>tr_description</th>\n    </tr>\n  </thead>\n  <tbody>\n    <tr>\n      <th>39</th>\n      <td>7010</td>\n      <td>Взнос наличных через АТМ (в своем тер.банке)</td>\n    </tr>\n    <tr>\n      <th>47</th>\n      <td>7030</td>\n      <td>Перевод на карту (с карты) через АТМ (в предел...</td>\n    </tr>\n    <tr>\n      <th>59</th>\n      <td>7070</td>\n      <td>Перевод на карту (с карты) через Мобильный бан...</td>\n    </tr>\n    <tr>\n      <th>60</th>\n      <td>7071</td>\n      <td>Перевод на карту (с карты) через Мобильный бан...</td>\n    </tr>\n    <tr>\n      <th>98</th>\n      <td>1010</td>\n      <td>Покупка. POS ТУ СБ РФ</td>\n    </tr>\n    <tr>\n      <th>99</th>\n      <td>1030</td>\n      <td>Оплата услуги. Банкоматы СБ РФ</td>\n    </tr>\n    <tr>\n      <th>100</th>\n      <td>1100</td>\n      <td>Покупка. ТУ  Россия</td>\n    </tr>\n    <tr>\n      <th>101</th>\n      <td>1110</td>\n      <td>Покупка. POS ТУ Россия</td>\n    </tr>\n    <tr>\n      <th>106</th>\n      <td>2010</td>\n      <td>Выдача наличных в АТМ Сбербанк России</td>\n    </tr>\n    <tr>\n      <th>129</th>\n      <td>2370</td>\n      <td>Списание с карты на карту по операции &lt;перевод...</td>\n    </tr>\n  </tbody>\n</table>\n</div>"
     },
     "execution_count": 11,
     "metadata": {},
     "output_type": "execute_result"
    }
   ],
   "source": [
    "tr_types[tr_types.tr_type.isin(top_transactions.index)]"
   ],
   "metadata": {
    "collapsed": false
   }
  },
  {
   "cell_type": "markdown",
   "source": [
    "## Задание 3\n",
    "1. В датафрейме transactions найдите клиента с максимальной суммой приходов на карту\n",
    "2. В датафрейме transactions найдите клиента с максимальной суммой расходов по карте\n",
    "3. Найдите модуль разницы для этих клиентов между суммой расходов и суммой приходов"
   ],
   "metadata": {
    "collapsed": false
   }
  },
  {
   "cell_type": "code",
   "execution_count": 12,
   "outputs": [],
   "source": [
    "customers_amount = transactions[['customer_id', 'amount']]"
   ],
   "metadata": {
    "collapsed": false
   }
  },
  {
   "cell_type": "code",
   "execution_count": 13,
   "outputs": [
    {
     "data": {
      "text/plain": "70780820"
     },
     "execution_count": 13,
     "metadata": {},
     "output_type": "execute_result"
    }
   ],
   "source": [
    "income_best = (\n",
    "    customers_amount[customers_amount.amount > 0].\n",
    "    groupby('customer_id').\n",
    "    sum().\n",
    "    sort_values('amount', ascending=False).\n",
    "    head(1)\n",
    ")\n",
    "income_best_customer = income_best.index.values.astype(int)[0]\n",
    "income_best_customer"
   ],
   "metadata": {
    "collapsed": false
   }
  },
  {
   "cell_type": "code",
   "execution_count": 14,
   "outputs": [
    {
     "data": {
      "text/plain": "70780820"
     },
     "execution_count": 14,
     "metadata": {},
     "output_type": "execute_result"
    }
   ],
   "source": [
    "expense_best = (\n",
    "    customers_amount[customers_amount.amount < 0].\n",
    "    groupby('customer_id').\n",
    "    sum().\n",
    "    sort_values('amount').head(1)\n",
    ")\n",
    "expense_best_customer = expense_best.index.values.astype(int)[0]\n",
    "expense_best_customer"
   ],
   "metadata": {
    "collapsed": false
   }
  },
  {
   "cell_type": "code",
   "execution_count": 15,
   "outputs": [
    {
     "data": {
      "text/plain": "1837317.980000019"
     },
     "execution_count": 15,
     "metadata": {},
     "output_type": "execute_result"
    }
   ],
   "source": [
    "abs(abs(income_best) - abs(expense_best)).amount.values.astype(float)[0]"
   ],
   "metadata": {
    "collapsed": false
   }
  },
  {
   "cell_type": "markdown",
   "source": [
    "    ## Задание 4\n",
    "1. Найдите среднее арифметическое и медиану по amount по всем типам транзакций из топ 10 из задания 2\n",
    "1. Найдите среднее арифметическое и медиану по amount по всем типам транзакций для клиентов из задания 3"
   ],
   "metadata": {
    "collapsed": false
   }
  },
  {
   "cell_type": "code",
   "execution_count": 16,
   "outputs": [],
   "source": [
    "top_transactions_full = transactions[transactions.tr_type.isin(top_transactions.index)]"
   ],
   "metadata": {
    "collapsed": false
   }
  },
  {
   "cell_type": "code",
   "execution_count": 17,
   "outputs": [
    {
     "data": {
      "text/plain": "tr_type\n1010    -19784.748640\n1030     -5320.980222\n1100    -44061.827262\n1110    -32119.330371\n2010   -136077.629325\n2370   -205418.249032\n7010    276391.789596\n7030     86104.332909\n7070     65569.831700\n7071     66806.826623\nName: amount, dtype: float64"
     },
     "execution_count": 17,
     "metadata": {},
     "output_type": "execute_result"
    }
   ],
   "source": [
    "top_transactions_full.groupby('tr_type').amount.mean()"
   ],
   "metadata": {
    "collapsed": false
   }
  },
  {
   "cell_type": "code",
   "execution_count": 18,
   "outputs": [
    {
     "data": {
      "text/plain": "tr_type\n1010     -7411.52\n1030     -2245.92\n1100    -10188.26\n1110    -11207.57\n2010    -44918.32\n2370    -44918.32\n7010    112295.79\n7030     13951.52\n7070     11319.42\n7071      3593.47\nName: amount, dtype: float64"
     },
     "execution_count": 18,
     "metadata": {},
     "output_type": "execute_result"
    }
   ],
   "source": [
    "top_transactions_full.groupby('tr_type').amount.median()"
   ],
   "metadata": {
    "collapsed": false
   }
  },
  {
   "cell_type": "code",
   "execution_count": 19,
   "outputs": [],
   "source": [
    "customers_transactions = transactions[transactions.customer_id.isin([income_best_customer, expense_best_customer])]"
   ],
   "metadata": {
    "collapsed": false
   }
  },
  {
   "cell_type": "code",
   "execution_count": 20,
   "outputs": [
    {
     "data": {
      "text/plain": "tr_type\n2010   -3368873.660\n2330   -2245915.770\n2370   -2245915.770\n6110      10028.010\n7020      10319.985\n7021      28500.670\n7030       8848.910\n7031      12992.620\n7034      14306.480\n7040      14396.320\n7070       8714.150\n7071      12543.440\n7074       9387.930\nName: amount, dtype: float64"
     },
     "execution_count": 20,
     "metadata": {},
     "output_type": "execute_result"
    }
   ],
   "source": [
    "customers_transactions.groupby('tr_type').amount.median()"
   ],
   "metadata": {
    "collapsed": false
   }
  },
  {
   "cell_type": "code",
   "execution_count": 21,
   "outputs": [
    {
     "data": {
      "text/plain": "tr_type\n2010   -2.941056e+06\n2330   -2.382398e+06\n2370   -2.218505e+06\n6110    1.756293e+04\n7020    1.465129e+04\n7021    2.850067e+04\n7030    1.406196e+04\n7031    1.921036e+04\n7034    1.430648e+04\n7040    2.153833e+04\n7070    1.384821e+04\n7071    1.860057e+04\n7074    2.281159e+04\nName: amount, dtype: float64"
     },
     "execution_count": 21,
     "metadata": {},
     "output_type": "execute_result"
    }
   ],
   "source": [
    "customers_transactions.groupby('tr_type').amount.mean()"
   ],
   "metadata": {
    "collapsed": false
   }
  },
  {
   "cell_type": "markdown",
   "source": [
    "## Подготовка для заданий 5-8"
   ],
   "metadata": {
    "collapsed": false
   }
  },
  {
   "cell_type": "markdown",
   "metadata": {
    "id": "XWQzFeKcQHRe"
   },
   "source": [
    "*Из заданий 5-8 нужно выполнить минимум два любых*\n",
    "\n",
    "Соедините transactions с всеми остальными таблицами (tr_mcc_codes, tr_types, gender_train). Причём с gender_train необходимо смёрджиться с помощью left join, а с оставшимися датафреймами - через inner.\n",
    "После получения результата таблицы gender_train, tr_types, tr_mcc_codes можно удалить. В результате соединения датафреймов должно получиться 999584 строки."
   ]
  },
  {
   "cell_type": "code",
   "execution_count": 22,
   "outputs": [
    {
     "name": "stdout",
     "output_type": "stream",
     "text": [
      "Downloading...\r\n",
      "From: https://drive.google.com/uc?id=10J8RzMIhoYHiad49r-oWNMAk-V5lo3OE\r\n",
      "To: /Users/artyomfadeyev/GitHub/ITMO-PROBLEMS/Machine-Learning/V semester/data/tr_mcc_codes.csv\r\n",
      "100%|██████████████████████████████████████| 14.9k/14.9k [00:00<00:00, 19.1MB/s]\r\n"
     ]
    }
   ],
   "source": [
    "!gdown 10J8RzMIhoYHiad49r-oWNMAk-V5lo3OE -O ./data/tr_mcc_codes.csv"
   ],
   "metadata": {
    "collapsed": false
   }
  },
  {
   "cell_type": "code",
   "execution_count": 23,
   "outputs": [
    {
     "name": "stdout",
     "output_type": "stream",
     "text": [
      "Downloading...\r\n",
      "From: https://drive.google.com/uc?id=1FG1fopcmvMZ7GBaBOqQipccSeFoMUvNT\r\n",
      "To: /Users/artyomfadeyev/GitHub/ITMO-PROBLEMS/Machine-Learning/V semester/data/gender_train.csv\r\n",
      "100%|██████████████████████████████████████| 99.9k/99.9k [00:00<00:00, 3.74MB/s]\r\n"
     ]
    }
   ],
   "source": [
    "!gdown 1FG1fopcmvMZ7GBaBOqQipccSeFoMUvNT -O ./data/gender_train.csv"
   ],
   "metadata": {
    "collapsed": false
   }
  },
  {
   "cell_type": "code",
   "execution_count": 24,
   "outputs": [
    {
     "data": {
      "text/plain": "(999584, 9)"
     },
     "execution_count": 24,
     "metadata": {},
     "output_type": "execute_result"
    }
   ],
   "source": [
    "gender_train = pd.read_csv('./data/gender_train.csv')\n",
    "tr_mcc_codes = pd.read_csv('./data/tr_mcc_codes.csv', sep=';')\n",
    "\n",
    "merged_transactions = (\n",
    "    pd.merge(transactions, gender_train, how='left').\n",
    "    merge(tr_mcc_codes, how='inner').\n",
    "    merge(tr_types, how='inner')\n",
    ")\n",
    "merged_transactions.shape"
   ],
   "metadata": {
    "collapsed": false
   }
  },
  {
   "cell_type": "markdown",
   "metadata": {
    "id": "8vrFauJ8QgmT"
   },
   "source": [
    "## Задание 5"
   ]
  },
  {
   "cell_type": "markdown",
   "metadata": {
    "id": "rOjEQ5xyQfE_"
   },
   "source": [
    "1. Определите модуль разницы между средними тратами женщин и мужчин (трата - отрицательное значение amount).\n",
    "2. Определите модуль разницы между средними поступлениями у мужчин и женщин\n",
    "\n",
    "Обратите внимание, что для вычисления модуля разности точных знаний о том, \n",
    "какой класc относится к мужчинам, а какой - к женщинам, не требуется."
   ]
  },
  {
   "cell_type": "markdown",
   "metadata": {
    "id": "DSHFLbepQ7G1"
   },
   "source": [
    "## Задание 6"
   ]
  },
  {
   "cell_type": "markdown",
   "metadata": {
    "id": "2EF1490bQ-17"
   },
   "source": [
    "1. По всем типам транзакций рассчитайте максимальную сумму прихода на карту (из строго положительных сумм по столбцу amount) отдельно для мужчин и женщин (назовите ее \"max_income\"). Оставьте по 10 типов транзакций для мужчин и для женщин, наименьших среди всех типов транзакций по полученным значениям \"max_income\". \n",
    "2. Выделите среди них те типы транзакций, которые встречаются одновременно и у мужчин, и у женщин"
   ]
  },
  {
   "cell_type": "code",
   "execution_count": 25,
   "outputs": [],
   "source": [
    "max_income = merged_transactions[merged_transactions['amount'] > 0].groupby(['gender', 'tr_type']).amount.sum()"
   ],
   "metadata": {
    "collapsed": false
   }
  },
  {
   "cell_type": "code",
   "execution_count": 26,
   "outputs": [
    {
     "data": {
      "text/plain": "tr_type\n4051     1122.96\n4210     2245.92\n4110     2245.92\n2370     2335.75\n7075     6737.75\n2110    22459.16\n1010    31532.66\n4100    40334.88\n2210    68315.82\n1210    83644.87\nName: amount, dtype: float64"
     },
     "execution_count": 26,
     "metadata": {},
     "output_type": "execute_result"
    }
   ],
   "source": [
    "zero_type_max_income = max_income[0].sort_values().head(10)\n",
    "zero_type_max_income"
   ],
   "metadata": {
    "collapsed": false
   }
  },
  {
   "cell_type": "code",
   "execution_count": 27,
   "outputs": [
    {
     "data": {
      "text/plain": "tr_type\n2020      2245.92\n4110      4491.84\n1010     35317.03\n8100     64682.37\n6000     79280.83\n7041     87590.72\n2370    113194.15\n7015    121279.45\n2110    179673.26\n2010    224591.59\nName: amount, dtype: float64"
     },
     "execution_count": 27,
     "metadata": {},
     "output_type": "execute_result"
    }
   ],
   "source": [
    "first_type_max_income = max_income[1].sort_values().head(10)\n",
    "first_type_max_income"
   ],
   "metadata": {
    "collapsed": false
   }
  },
  {
   "cell_type": "code",
   "execution_count": 28,
   "outputs": [
    {
     "data": {
      "text/plain": "   tr_type\n0     2110\n1     1010\n2     2370\n3     4110",
      "text/html": "<div>\n<style scoped>\n    .dataframe tbody tr th:only-of-type {\n        vertical-align: middle;\n    }\n\n    .dataframe tbody tr th {\n        vertical-align: top;\n    }\n\n    .dataframe thead th {\n        text-align: right;\n    }\n</style>\n<table border=\"1\" class=\"dataframe\">\n  <thead>\n    <tr style=\"text-align: right;\">\n      <th></th>\n      <th>tr_type</th>\n    </tr>\n  </thead>\n  <tbody>\n    <tr>\n      <th>0</th>\n      <td>2110</td>\n    </tr>\n    <tr>\n      <th>1</th>\n      <td>1010</td>\n    </tr>\n    <tr>\n      <th>2</th>\n      <td>2370</td>\n    </tr>\n    <tr>\n      <th>3</th>\n      <td>4110</td>\n    </tr>\n  </tbody>\n</table>\n</div>"
     },
     "execution_count": 28,
     "metadata": {},
     "output_type": "execute_result"
    }
   ],
   "source": [
    "pd.DataFrame(set(zero_type_max_income.index).intersection(first_type_max_income.index), columns=['tr_type', ])"
   ],
   "metadata": {
    "collapsed": false
   }
  },
  {
   "cell_type": "markdown",
   "metadata": {
    "id": "W-LaVwRdR3UB"
   },
   "source": [
    "## Задание 7"
   ]
  },
  {
   "cell_type": "markdown",
   "metadata": {
    "id": "rhI4NOciR7e0"
   },
   "source": [
    "1. Найдите суммы затрат по каждой категории (mcc) для мужчин и для женщин. \n",
    "2. Найдите топ 10 категорий с самыми большими относительными модулями разности в тратах для разных полов (в ответе должны присутствовать описания mcc кодов)."
   ]
  },
  {
   "cell_type": "code",
   "execution_count": 29,
   "outputs": [
    {
     "data": {
      "text/plain": "Index(['customer_id', 'tr_datetime', 'mcc_code', 'tr_type', 'amount',\n       'term_id', 'gender', 'mcc_description', 'tr_description'],\n      dtype='object')"
     },
     "execution_count": 29,
     "metadata": {},
     "output_type": "execute_result"
    }
   ],
   "source": [
    "merged_transactions.columns"
   ],
   "metadata": {
    "collapsed": false
   }
  },
  {
   "cell_type": "code",
   "execution_count": 30,
   "outputs": [
    {
     "data": {
      "text/plain": "gender  mcc_code\n0.0     742          -386207.68\n        1711         -674897.69\n        1799         -261626.73\n        2741          -20746.42\n        3000       -74431645.27\nName: amount, dtype: float64"
     },
     "execution_count": 30,
     "metadata": {},
     "output_type": "execute_result"
    }
   ],
   "source": [
    "expenses_by_gender = merged_transactions[merged_transactions.amount <0 ].groupby(['gender', 'mcc_code']).amount.sum()\n",
    "expenses_by_gender.head()"
   ],
   "metadata": {
    "collapsed": false
   }
  },
  {
   "cell_type": "code",
   "execution_count": 31,
   "outputs": [
    {
     "data": {
      "text/plain": "FrozenList(['gender', 'mcc_code'])"
     },
     "execution_count": 31,
     "metadata": {},
     "output_type": "execute_result"
    }
   ],
   "source": [
    "expenses_by_gender.index.names"
   ],
   "metadata": {
    "collapsed": false
   }
  },
  {
   "cell_type": "code",
   "execution_count": 32,
   "outputs": [
    {
     "data": {
      "text/plain": "     mcc_code                                    mcc_description\n22       4829                                  Денежные переводы\n62       5511  Легковой и грузовой транспорт — продажа, серви...\n64       5533                          Автозапчасти и аксессуары\n65       5541                            Станции техобслуживания\n75       5661                                   Обувные магазины\n90       5812             Места общественного питания, рестораны\n116      5977                                 Магазины косметики\n123      6010   Финансовые институты — снятие наличности вручную\n124      6011  Финансовые институты — снятие наличности автом...\n162      7995                       Транзакции по азартным играм",
      "text/html": "<div>\n<style scoped>\n    .dataframe tbody tr th:only-of-type {\n        vertical-align: middle;\n    }\n\n    .dataframe tbody tr th {\n        vertical-align: top;\n    }\n\n    .dataframe thead th {\n        text-align: right;\n    }\n</style>\n<table border=\"1\" class=\"dataframe\">\n  <thead>\n    <tr style=\"text-align: right;\">\n      <th></th>\n      <th>mcc_code</th>\n      <th>mcc_description</th>\n    </tr>\n  </thead>\n  <tbody>\n    <tr>\n      <th>22</th>\n      <td>4829</td>\n      <td>Денежные переводы</td>\n    </tr>\n    <tr>\n      <th>62</th>\n      <td>5511</td>\n      <td>Легковой и грузовой транспорт — продажа, серви...</td>\n    </tr>\n    <tr>\n      <th>64</th>\n      <td>5533</td>\n      <td>Автозапчасти и аксессуары</td>\n    </tr>\n    <tr>\n      <th>65</th>\n      <td>5541</td>\n      <td>Станции техобслуживания</td>\n    </tr>\n    <tr>\n      <th>75</th>\n      <td>5661</td>\n      <td>Обувные магазины</td>\n    </tr>\n    <tr>\n      <th>90</th>\n      <td>5812</td>\n      <td>Места общественного питания, рестораны</td>\n    </tr>\n    <tr>\n      <th>116</th>\n      <td>5977</td>\n      <td>Магазины косметики</td>\n    </tr>\n    <tr>\n      <th>123</th>\n      <td>6010</td>\n      <td>Финансовые институты — снятие наличности вручную</td>\n    </tr>\n    <tr>\n      <th>124</th>\n      <td>6011</td>\n      <td>Финансовые институты — снятие наличности автом...</td>\n    </tr>\n    <tr>\n      <th>162</th>\n      <td>7995</td>\n      <td>Транзакции по азартным играм</td>\n    </tr>\n  </tbody>\n</table>\n</div>"
     },
     "execution_count": 32,
     "metadata": {},
     "output_type": "execute_result"
    }
   ],
   "source": [
    "top_abs_expenses = abs(expenses_by_gender[0] - expenses_by_gender[1]).sort_values(ascending=False).head(10)\n",
    "tr_mcc_codes[tr_mcc_codes.mcc_code.isin(top_abs_expenses.index)]"
   ],
   "metadata": {
    "collapsed": false
   }
  },
  {
   "cell_type": "markdown",
   "metadata": {
    "id": "aGaPkQkVSvl8"
   },
   "source": [
    "## Задание 8"
   ]
  },
  {
   "cell_type": "markdown",
   "metadata": {
    "id": "T7Ox1qAXTHQl"
   },
   "source": [
    "1. Из поля tr_datetime выделите час tr_hour, в который произошла транзакция, как первые 2 цифры до \":\". (\\**)\n",
    "2. Посчитайте количество транзакций с amount<0 в ночное время для мужчин и женщин. Ночное время - это примерно 00-06 часов."
   ]
  },
  {
   "cell_type": "code",
   "execution_count": 33,
   "outputs": [
    {
     "data": {
      "text/plain": "   customer_id  tr_datetime  mcc_code  tr_type   amount term_id  gender  \\\n0     39026145   0 10:23:26      4814     1030 -2245.92     NaN     1.0   \n1     39026145   6 07:08:31      4814     1030 -5614.79     NaN     1.0   \n2     39026145   8 07:06:10      4814     1030 -1122.96     NaN     1.0   \n3     39026145  11 08:49:03      4814     1030 -2245.92     NaN     1.0   \n4     39026145  11 14:12:08      4814     1030 -2245.92     NaN     1.0   \n\n                                     mcc_description  \\\n0  Звонки с использованием телефонов, считывающих...   \n1  Звонки с использованием телефонов, считывающих...   \n2  Звонки с использованием телефонов, считывающих...   \n3  Звонки с использованием телефонов, считывающих...   \n4  Звонки с использованием телефонов, считывающих...   \n\n                   tr_description tr_day   tr_time  \n0  Оплата услуги. Банкоматы СБ РФ      0  10:23:26  \n1  Оплата услуги. Банкоматы СБ РФ      6  07:08:31  \n2  Оплата услуги. Банкоматы СБ РФ      8  07:06:10  \n3  Оплата услуги. Банкоматы СБ РФ     11  08:49:03  \n4  Оплата услуги. Банкоматы СБ РФ     11  14:12:08  ",
      "text/html": "<div>\n<style scoped>\n    .dataframe tbody tr th:only-of-type {\n        vertical-align: middle;\n    }\n\n    .dataframe tbody tr th {\n        vertical-align: top;\n    }\n\n    .dataframe thead th {\n        text-align: right;\n    }\n</style>\n<table border=\"1\" class=\"dataframe\">\n  <thead>\n    <tr style=\"text-align: right;\">\n      <th></th>\n      <th>customer_id</th>\n      <th>tr_datetime</th>\n      <th>mcc_code</th>\n      <th>tr_type</th>\n      <th>amount</th>\n      <th>term_id</th>\n      <th>gender</th>\n      <th>mcc_description</th>\n      <th>tr_description</th>\n      <th>tr_day</th>\n      <th>tr_time</th>\n    </tr>\n  </thead>\n  <tbody>\n    <tr>\n      <th>0</th>\n      <td>39026145</td>\n      <td>0 10:23:26</td>\n      <td>4814</td>\n      <td>1030</td>\n      <td>-2245.92</td>\n      <td>NaN</td>\n      <td>1.0</td>\n      <td>Звонки с использованием телефонов, считывающих...</td>\n      <td>Оплата услуги. Банкоматы СБ РФ</td>\n      <td>0</td>\n      <td>10:23:26</td>\n    </tr>\n    <tr>\n      <th>1</th>\n      <td>39026145</td>\n      <td>6 07:08:31</td>\n      <td>4814</td>\n      <td>1030</td>\n      <td>-5614.79</td>\n      <td>NaN</td>\n      <td>1.0</td>\n      <td>Звонки с использованием телефонов, считывающих...</td>\n      <td>Оплата услуги. Банкоматы СБ РФ</td>\n      <td>6</td>\n      <td>07:08:31</td>\n    </tr>\n    <tr>\n      <th>2</th>\n      <td>39026145</td>\n      <td>8 07:06:10</td>\n      <td>4814</td>\n      <td>1030</td>\n      <td>-1122.96</td>\n      <td>NaN</td>\n      <td>1.0</td>\n      <td>Звонки с использованием телефонов, считывающих...</td>\n      <td>Оплата услуги. Банкоматы СБ РФ</td>\n      <td>8</td>\n      <td>07:06:10</td>\n    </tr>\n    <tr>\n      <th>3</th>\n      <td>39026145</td>\n      <td>11 08:49:03</td>\n      <td>4814</td>\n      <td>1030</td>\n      <td>-2245.92</td>\n      <td>NaN</td>\n      <td>1.0</td>\n      <td>Звонки с использованием телефонов, считывающих...</td>\n      <td>Оплата услуги. Банкоматы СБ РФ</td>\n      <td>11</td>\n      <td>08:49:03</td>\n    </tr>\n    <tr>\n      <th>4</th>\n      <td>39026145</td>\n      <td>11 14:12:08</td>\n      <td>4814</td>\n      <td>1030</td>\n      <td>-2245.92</td>\n      <td>NaN</td>\n      <td>1.0</td>\n      <td>Звонки с использованием телефонов, считывающих...</td>\n      <td>Оплата услуги. Банкоматы СБ РФ</td>\n      <td>11</td>\n      <td>14:12:08</td>\n    </tr>\n  </tbody>\n</table>\n</div>"
     },
     "execution_count": 33,
     "metadata": {},
     "output_type": "execute_result"
    }
   ],
   "source": [
    "merged_transactions[['tr_day', 'tr_time']] = merged_transactions.tr_datetime.str.split(' ', expand=True)\n",
    "merged_transactions.head()"
   ],
   "metadata": {
    "collapsed": false
   }
  },
  {
   "cell_type": "code",
   "execution_count": 34,
   "outputs": [
    {
     "data": {
      "text/plain": "   customer_id  tr_datetime  mcc_code  tr_type   amount term_id  gender  \\\n0     39026145   0 10:23:26      4814     1030 -2245.92     NaN     1.0   \n1     39026145   6 07:08:31      4814     1030 -5614.79     NaN     1.0   \n2     39026145   8 07:06:10      4814     1030 -1122.96     NaN     1.0   \n3     39026145  11 08:49:03      4814     1030 -2245.92     NaN     1.0   \n4     39026145  11 14:12:08      4814     1030 -2245.92     NaN     1.0   \n\n                                     mcc_description  \\\n0  Звонки с использованием телефонов, считывающих...   \n1  Звонки с использованием телефонов, считывающих...   \n2  Звонки с использованием телефонов, считывающих...   \n3  Звонки с использованием телефонов, считывающих...   \n4  Звонки с использованием телефонов, считывающих...   \n\n                   tr_description tr_day   tr_time tr_hour tr_minute tr_second  \n0  Оплата услуги. Банкоматы СБ РФ      0  10:23:26      10        23        26  \n1  Оплата услуги. Банкоматы СБ РФ      6  07:08:31      07        08        31  \n2  Оплата услуги. Банкоматы СБ РФ      8  07:06:10      07        06        10  \n3  Оплата услуги. Банкоматы СБ РФ     11  08:49:03      08        49        03  \n4  Оплата услуги. Банкоматы СБ РФ     11  14:12:08      14        12        08  ",
      "text/html": "<div>\n<style scoped>\n    .dataframe tbody tr th:only-of-type {\n        vertical-align: middle;\n    }\n\n    .dataframe tbody tr th {\n        vertical-align: top;\n    }\n\n    .dataframe thead th {\n        text-align: right;\n    }\n</style>\n<table border=\"1\" class=\"dataframe\">\n  <thead>\n    <tr style=\"text-align: right;\">\n      <th></th>\n      <th>customer_id</th>\n      <th>tr_datetime</th>\n      <th>mcc_code</th>\n      <th>tr_type</th>\n      <th>amount</th>\n      <th>term_id</th>\n      <th>gender</th>\n      <th>mcc_description</th>\n      <th>tr_description</th>\n      <th>tr_day</th>\n      <th>tr_time</th>\n      <th>tr_hour</th>\n      <th>tr_minute</th>\n      <th>tr_second</th>\n    </tr>\n  </thead>\n  <tbody>\n    <tr>\n      <th>0</th>\n      <td>39026145</td>\n      <td>0 10:23:26</td>\n      <td>4814</td>\n      <td>1030</td>\n      <td>-2245.92</td>\n      <td>NaN</td>\n      <td>1.0</td>\n      <td>Звонки с использованием телефонов, считывающих...</td>\n      <td>Оплата услуги. Банкоматы СБ РФ</td>\n      <td>0</td>\n      <td>10:23:26</td>\n      <td>10</td>\n      <td>23</td>\n      <td>26</td>\n    </tr>\n    <tr>\n      <th>1</th>\n      <td>39026145</td>\n      <td>6 07:08:31</td>\n      <td>4814</td>\n      <td>1030</td>\n      <td>-5614.79</td>\n      <td>NaN</td>\n      <td>1.0</td>\n      <td>Звонки с использованием телефонов, считывающих...</td>\n      <td>Оплата услуги. Банкоматы СБ РФ</td>\n      <td>6</td>\n      <td>07:08:31</td>\n      <td>07</td>\n      <td>08</td>\n      <td>31</td>\n    </tr>\n    <tr>\n      <th>2</th>\n      <td>39026145</td>\n      <td>8 07:06:10</td>\n      <td>4814</td>\n      <td>1030</td>\n      <td>-1122.96</td>\n      <td>NaN</td>\n      <td>1.0</td>\n      <td>Звонки с использованием телефонов, считывающих...</td>\n      <td>Оплата услуги. Банкоматы СБ РФ</td>\n      <td>8</td>\n      <td>07:06:10</td>\n      <td>07</td>\n      <td>06</td>\n      <td>10</td>\n    </tr>\n    <tr>\n      <th>3</th>\n      <td>39026145</td>\n      <td>11 08:49:03</td>\n      <td>4814</td>\n      <td>1030</td>\n      <td>-2245.92</td>\n      <td>NaN</td>\n      <td>1.0</td>\n      <td>Звонки с использованием телефонов, считывающих...</td>\n      <td>Оплата услуги. Банкоматы СБ РФ</td>\n      <td>11</td>\n      <td>08:49:03</td>\n      <td>08</td>\n      <td>49</td>\n      <td>03</td>\n    </tr>\n    <tr>\n      <th>4</th>\n      <td>39026145</td>\n      <td>11 14:12:08</td>\n      <td>4814</td>\n      <td>1030</td>\n      <td>-2245.92</td>\n      <td>NaN</td>\n      <td>1.0</td>\n      <td>Звонки с использованием телефонов, считывающих...</td>\n      <td>Оплата услуги. Банкоматы СБ РФ</td>\n      <td>11</td>\n      <td>14:12:08</td>\n      <td>14</td>\n      <td>12</td>\n      <td>08</td>\n    </tr>\n  </tbody>\n</table>\n</div>"
     },
     "execution_count": 34,
     "metadata": {},
     "output_type": "execute_result"
    }
   ],
   "source": [
    "merged_transactions[['tr_hour', 'tr_minute', 'tr_second']] = merged_transactions.tr_time.str.split(':', expand=True)\n",
    "merged_transactions.head()"
   ],
   "metadata": {
    "collapsed": false
   }
  },
  {
   "cell_type": "code",
   "execution_count": 38,
   "outputs": [
    {
     "data": {
      "text/plain": "   customer_id  mcc_code  tr_type   amount term_id  gender  \\\n0     39026145      4814     1030 -2245.92     NaN     1.0   \n1     39026145      4814     1030 -5614.79     NaN     1.0   \n2     39026145      4814     1030 -1122.96     NaN     1.0   \n3     39026145      4814     1030 -2245.92     NaN     1.0   \n4     39026145      4814     1030 -2245.92     NaN     1.0   \n\n                                     mcc_description  \\\n0  Звонки с использованием телефонов, считывающих...   \n1  Звонки с использованием телефонов, считывающих...   \n2  Звонки с использованием телефонов, считывающих...   \n3  Звонки с использованием телефонов, считывающих...   \n4  Звонки с использованием телефонов, считывающих...   \n\n                   tr_description tr_day tr_hour tr_minute tr_second  \n0  Оплата услуги. Банкоматы СБ РФ      0      10        23        26  \n1  Оплата услуги. Банкоматы СБ РФ      6      07        08        31  \n2  Оплата услуги. Банкоматы СБ РФ      8      07        06        10  \n3  Оплата услуги. Банкоматы СБ РФ     11      08        49        03  \n4  Оплата услуги. Банкоматы СБ РФ     11      14        12        08  ",
      "text/html": "<div>\n<style scoped>\n    .dataframe tbody tr th:only-of-type {\n        vertical-align: middle;\n    }\n\n    .dataframe tbody tr th {\n        vertical-align: top;\n    }\n\n    .dataframe thead th {\n        text-align: right;\n    }\n</style>\n<table border=\"1\" class=\"dataframe\">\n  <thead>\n    <tr style=\"text-align: right;\">\n      <th></th>\n      <th>customer_id</th>\n      <th>mcc_code</th>\n      <th>tr_type</th>\n      <th>amount</th>\n      <th>term_id</th>\n      <th>gender</th>\n      <th>mcc_description</th>\n      <th>tr_description</th>\n      <th>tr_day</th>\n      <th>tr_hour</th>\n      <th>tr_minute</th>\n      <th>tr_second</th>\n    </tr>\n  </thead>\n  <tbody>\n    <tr>\n      <th>0</th>\n      <td>39026145</td>\n      <td>4814</td>\n      <td>1030</td>\n      <td>-2245.92</td>\n      <td>NaN</td>\n      <td>1.0</td>\n      <td>Звонки с использованием телефонов, считывающих...</td>\n      <td>Оплата услуги. Банкоматы СБ РФ</td>\n      <td>0</td>\n      <td>10</td>\n      <td>23</td>\n      <td>26</td>\n    </tr>\n    <tr>\n      <th>1</th>\n      <td>39026145</td>\n      <td>4814</td>\n      <td>1030</td>\n      <td>-5614.79</td>\n      <td>NaN</td>\n      <td>1.0</td>\n      <td>Звонки с использованием телефонов, считывающих...</td>\n      <td>Оплата услуги. Банкоматы СБ РФ</td>\n      <td>6</td>\n      <td>07</td>\n      <td>08</td>\n      <td>31</td>\n    </tr>\n    <tr>\n      <th>2</th>\n      <td>39026145</td>\n      <td>4814</td>\n      <td>1030</td>\n      <td>-1122.96</td>\n      <td>NaN</td>\n      <td>1.0</td>\n      <td>Звонки с использованием телефонов, считывающих...</td>\n      <td>Оплата услуги. Банкоматы СБ РФ</td>\n      <td>8</td>\n      <td>07</td>\n      <td>06</td>\n      <td>10</td>\n    </tr>\n    <tr>\n      <th>3</th>\n      <td>39026145</td>\n      <td>4814</td>\n      <td>1030</td>\n      <td>-2245.92</td>\n      <td>NaN</td>\n      <td>1.0</td>\n      <td>Звонки с использованием телефонов, считывающих...</td>\n      <td>Оплата услуги. Банкоматы СБ РФ</td>\n      <td>11</td>\n      <td>08</td>\n      <td>49</td>\n      <td>03</td>\n    </tr>\n    <tr>\n      <th>4</th>\n      <td>39026145</td>\n      <td>4814</td>\n      <td>1030</td>\n      <td>-2245.92</td>\n      <td>NaN</td>\n      <td>1.0</td>\n      <td>Звонки с использованием телефонов, считывающих...</td>\n      <td>Оплата услуги. Банкоматы СБ РФ</td>\n      <td>11</td>\n      <td>14</td>\n      <td>12</td>\n      <td>08</td>\n    </tr>\n  </tbody>\n</table>\n</div>"
     },
     "execution_count": 38,
     "metadata": {},
     "output_type": "execute_result"
    }
   ],
   "source": [
    "merged_transactions = merged_transactions.drop(columns=['tr_datetime', 'tr_time'])\n",
    "merged_transactions.head()"
   ],
   "metadata": {
    "collapsed": false
   }
  },
  {
   "cell_type": "code",
   "execution_count": 39,
   "outputs": [
    {
     "data": {
      "text/plain": "gender\n0.0    43510\n1.0    46694\nName: amount, dtype: int64"
     },
     "execution_count": 39,
     "metadata": {},
     "output_type": "execute_result"
    }
   ],
   "source": [
    "merged_transactions[(merged_transactions.amount < 0) & (merged_transactions.tr_hour.astype(int) <= 6)].groupby('gender').amount.count()"
   ],
   "metadata": {
    "collapsed": false
   }
  },
  {
   "cell_type": "code",
   "execution_count": 36,
   "outputs": [],
   "source": [],
   "metadata": {
    "collapsed": false
   }
  }
 ]
}
