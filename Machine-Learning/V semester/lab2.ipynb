{
 "nbformat": 4,
 "nbformat_minor": 0,
 "metadata": {
  "hide_input": false,
  "kernelspec": {
   "display_name": "Python 3",
   "language": "python",
   "name": "python3"
  },
  "language_info": {
   "codemirror_mode": {
    "name": "ipython",
    "version": 3
   },
   "file_extension": ".py",
   "mimetype": "text/x-python",
   "name": "python",
   "nbconvert_exporter": "python",
   "pygments_lexer": "ipython3",
   "version": "3.7.1"
  },
  "toc": {
   "base_numbering": 1,
   "nav_menu": {},
   "number_sections": true,
   "sideBar": true,
   "skip_h1_title": false,
   "title_cell": "Table of Contents",
   "title_sidebar": "Contents",
   "toc_cell": true,
   "toc_position": {},
   "toc_section_display": true,
   "toc_window_display": false
  },
  "varInspector": {
   "cols": {
    "lenName": 16,
    "lenType": 16,
    "lenVar": 40
   },
   "kernels_config": {
    "python": {
     "delete_cmd_postfix": "",
     "delete_cmd_prefix": "del ",
     "library": "var_list.py",
     "varRefreshCmd": "print(var_dic_list())"
    },
    "r": {
     "delete_cmd_postfix": ") ",
     "delete_cmd_prefix": "rm(",
     "library": "var_list.r",
     "varRefreshCmd": "cat(var_dic_list()) "
    }
   },
   "types_to_exclude": [
    "module",
    "function",
    "builtin_function_or_method",
    "instance",
    "_Feature"
   ],
   "window_display": false
  },
  "colab": {
   "provenance": [],
   "toc_visible": true
  }
 },
 "cells": [
  {
   "cell_type": "markdown",
   "metadata": {
    "id": "xjvL0IIG8Jd0"
   },
   "source": [
    "## Задание 0\n"
   ]
  },
  {
   "cell_type": "markdown",
   "metadata": {
    "id": "yaSxXHvxO0qo"
   },
   "source": [
    "Для всех  заданий будем использовать обезличенные транзакционные банковские данные. Для этого считайте в переменные **tr_mcc_codes, tr_types, transactions и gender_train** из одноимённых таблиц из папки [data](https://drive.google.com/drive/folders/1YAMe7MiTxA-RSSd8Ex2p-L0Dspe6Gs4L). \n",
    "\n",
    "Для таблицы transactions используйте только первые n=1000000 строк. При чтении файлов обратите внимание на разделители внутри каждого из файлов - они могут различаться!"
   ]
  },
  {
   "cell_type": "markdown",
   "metadata": {
    "id": "oP3lX9xC8Jd8"
   },
   "source": [
    "###  Описание данных\n",
    "#### Таблица ```transactions.csv```\n",
    "##### Описание\n",
    "Таблица содержит историю транзакций клиентов банка за один год и три месяца.\n",
    "\n",
    "##### Формат данных\n",
    "\n",
    "```\n",
    "customer_id,tr_datetime,mcc_code,tr_type,amount,term_id\n",
    "111111,15 01:40:52,1111,1000,-5224,111111\n",
    "111112,15 15:18:32,3333,2000,-100,11122233\n",
    "...\n",
    "```\n",
    "##### Описание полей\n",
    "\n",
    " - ```customer_id``` — идентификатор клиента;\n",
    " - ```tr_datetime``` — день и время совершения транзакции (дни нумеруются с начала данных);\n",
    " - ```mcc_code``` — mcc-код транзакции;\n",
    " - ```tr_type``` — тип транзакции;\n",
    " - ```amount``` — сумма транзакции в условных единицах со знаком; ```+``` — начисление средств клиенту (приходная транзакция), ```-``` — списание средств (расходная транзакция);\n",
    " - ```term_id``` — идентификатор терминала;\n",
    "\n",
    "\n",
    "#### Таблица ```gender_train.csv```\n",
    "\n",
    "##### Описание\n",
    "Данная таблица содержит информацию по полу для части клиентов, для которых он известен. Для остальных клиентов пол неизвестен.\n",
    "\n",
    "##### Формат данных\n",
    "```\n",
    "customer_id,gender\n",
    "111111,0\n",
    "111112,1\n",
    "...\n",
    "```\n",
    "\n",
    "##### Описание полей\n",
    " - ```customer_id``` — идентификатор клиента;\n",
    " - ```gender``` — пол клиента;\n",
    "\n",
    "### Таблица ```tr_mcc_codes.csv```\n",
    "\n",
    "##### Описание\n",
    "Данная таблица содержит описание mcc-кодов транзакций.\n",
    "\n",
    "##### Формат данных\n",
    "```\n",
    "mcc_code;mcc_description\n",
    "1000;словесное описание mcc-кода 1000\n",
    "2000;словесное описание mcc-кода 2000\n",
    "...\n",
    "```\n",
    "\n",
    "##### Описание полей\n",
    " - ```mcc_code``` – mcc-код транзакции;\n",
    " - ```mcc_description``` — описание mcc-кода транзакции.\n",
    "\n",
    "#### Таблица ```tr_types.csv```\n",
    "\n",
    "##### Описание\n",
    "Данная таблица содержит описание типов транзакций.\n",
    "\n",
    "##### Формат данных\n",
    "```\n",
    "tr_type;tr_description\n",
    "1000;словесное описание типа транзакции 1000\n",
    "2000;словесное описание типа транзакции 2000\n",
    "...\n",
    "```\n",
    "\n",
    "##### Описание полей\n",
    " - ```tr_type``` – тип транзакции;\n",
    " - ```tr_description``` — описание типа транзакции;"
   ]
  },
  {
   "cell_type": "markdown",
   "metadata": {
    "id": "04CYsBKz8JeB"
   },
   "source": [
    "\n",
    "Задания 1-4 делаются без использования merge!\n",
    "\n",
    "## Задание 1\n",
    "\n"
   ]
  },
  {
   "cell_type": "code",
   "execution_count": 4,
   "outputs": [],
   "source": [
    "%%capture\n",
    "import pandas as pd\n",
    "import numpy as np\n",
    "\n",
    "!pip install pandas\n",
    "!pip install numpy\n",
    "!pip install gdown"
   ],
   "metadata": {
    "collapsed": false
   }
  },
  {
   "cell_type": "code",
   "execution_count": 9,
   "outputs": [],
   "source": [],
   "metadata": {
    "collapsed": false
   }
  },
  {
   "cell_type": "markdown",
   "metadata": {
    "id": "1hcrfwsYN_Yz"
   },
   "source": [
    "1. Для столбца tr_type датафрейма transactions выберите произвольные 1000 строк с помощью метода sample\n",
    "2. В полученной на предыдущем этапе подвыборке найдите долю транзакций (стобец tr_description в датасете tr_types), в которой содержится подстрока 'POS' или 'ATM'\n"
   ]
  },
  {
   "cell_type": "markdown",
   "metadata": {
    "id": "fiZBDIZt8JeS"
   },
   "source": [
    "## Задание 2 \n"
   ]
  },
  {
   "cell_type": "markdown",
   "metadata": {
    "id": "FFKeBUThOCrz"
   },
   "source": [
    "1. Для столбца tr_type датафрейма transactions посчитайте частоту встречаемости всех типов транзакций tr_type в transactions.\n",
    "2. Выведите топ-10 транзакций по частоте встречаемости (вывести для них tr_description тоже)."
   ]
  },
  {
   "cell_type": "markdown",
   "metadata": {
    "id": "mktm_JeA8JeX"
   },
   "source": [
    "## Задание 3\n",
    "1. В датафрейме transactions найдите клиента с максимальной суммой приходов на карту\n",
    "2. В датафрейме transactions найдите клиента с максимальной суммой расходов по карте\n",
    "3. Найдите модуль разницы для этих клиентов между суммой расходов и суммой приходов"
   ]
  },
  {
   "cell_type": "markdown",
   "metadata": {
    "id": "BYrJ5b_E8Jee"
   },
   "source": [
    "## Задание 4\n",
    "1. Найдите среднее арифметическое и медиану по amount по всем типам транзакций из топ 10 из задания 2\n",
    "1. Найдите среднее арифметическое и медиану по amount по всем типам транзакций для клиентов из задания 3"
   ]
  },
  {
   "cell_type": "markdown",
   "metadata": {
    "id": "BYXwM4l3QDBu"
   },
   "source": [
    "## Подготовка для заданий 5-8"
   ]
  },
  {
   "cell_type": "markdown",
   "metadata": {
    "id": "XWQzFeKcQHRe"
   },
   "source": [
    "*Из заданий 5-8 нужно выполнить минимум два любых*\n",
    "\n",
    "Соедините transactions с всеми остальными таблицами (tr_mcc_codes, tr_types, gender_train). Причём с gender_train необходимо смёрджиться с помощью left join, а с оставшимися датафреймами - через inner.\n",
    "После получения результата таблицы gender_train, tr_types, tr_mcc_codes можно удалить. В результате соединения датафреймов должно получиться 999584 строки."
   ]
  },
  {
   "cell_type": "code",
   "metadata": {
    "id": "sndJxjJ7QQf5"
   },
   "source": [
    "transactions = pd.merge(transactions, gender_train, how='left')\n",
    "transactions = pd.merge(transactions, tr_mcc_codes, how='inner')\n",
    "transactions = pd.merge(transactions, tr_types, how='inner')\n",
    "transactions.shape"
   ],
   "execution_count": null,
   "outputs": []
  },
  {
   "cell_type": "markdown",
   "metadata": {
    "id": "8vrFauJ8QgmT"
   },
   "source": [
    "## Задание 5"
   ]
  },
  {
   "cell_type": "markdown",
   "metadata": {
    "id": "rOjEQ5xyQfE_"
   },
   "source": [
    "1. Определите модуль разницы между средними тратами женщин и мужчин (трата - отрицательное значение amount).\n",
    "2. Определите модуль разницы между средними поступлениями у мужчин и женщин\n",
    "\n",
    "Обратите внимание, что для вычисления модуля разности точных знаний о том, \n",
    "какой класc относится к мужчинам, а какой - к женщинам, не требуется."
   ]
  },
  {
   "cell_type": "markdown",
   "metadata": {
    "id": "DSHFLbepQ7G1"
   },
   "source": [
    "## Задание 6"
   ]
  },
  {
   "cell_type": "markdown",
   "metadata": {
    "id": "2EF1490bQ-17"
   },
   "source": [
    "1. По всем типам транзакций рассчитайте максимальную сумму прихода на карту (из строго положительных сумм по столбцу amount) отдельно для мужчин и женщин (назовите ее \"max_income\"). Оставьте по 10 типов транзакций для мужчин и для женщин, наименьших среди всех типов транзакций по полученным значениям \"max_income\". \n",
    "2. Выделите среди них те типы транзакций, которые встречаются одновременно и у мужчин, и у женщин"
   ]
  },
  {
   "cell_type": "markdown",
   "metadata": {
    "id": "W-LaVwRdR3UB"
   },
   "source": [
    "## Задание 7"
   ]
  },
  {
   "cell_type": "markdown",
   "metadata": {
    "id": "rhI4NOciR7e0"
   },
   "source": [
    "1. Найдите суммы затрат по каждой категории (mcc) для мужчин и для женщин. \n",
    "2. Найдите топ 10 категорий с самыми большими относительными модулями разности в тратах для разных полов (в ответе должны присутствовать описания mcc кодов)."
   ]
  },
  {
   "cell_type": "markdown",
   "metadata": {
    "id": "aGaPkQkVSvl8"
   },
   "source": [
    "## Задание 8"
   ]
  },
  {
   "cell_type": "markdown",
   "metadata": {
    "id": "T7Ox1qAXTHQl"
   },
   "source": [
    "1. Из поля tr_datetime выделите час tr_hour, в который произошла транзакция, как первые 2 цифры до \":\". (\\**)\n",
    "2. Посчитайте количество транзакций с amount<0 в ночное время для мужчин и женщин. Ночное время - это примерно 00-06 часов. "
   ]
  }
 ]
}
