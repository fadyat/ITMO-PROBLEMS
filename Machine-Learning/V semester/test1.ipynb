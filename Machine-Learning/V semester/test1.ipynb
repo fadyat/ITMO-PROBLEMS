{
 "nbformat": 4,
 "nbformat_minor": 0,
 "metadata": {
  "kernelspec": {
   "display_name": "Python 3",
   "language": "python",
   "name": "python3"
  },
  "language_info": {
   "codemirror_mode": {
    "name": "ipython",
    "version": 3
   },
   "file_extension": ".py",
   "mimetype": "text/x-python",
   "name": "python",
   "nbconvert_exporter": "python",
   "pygments_lexer": "ipython3",
   "version": "3.6.5"
  },
  "toc": {
   "base_numbering": 1,
   "nav_menu": {},
   "number_sections": true,
   "sideBar": true,
   "skip_h1_title": false,
   "title_cell": "Table of Contents",
   "title_sidebar": "Contents",
   "toc_cell": false,
   "toc_position": {},
   "toc_section_display": true,
   "toc_window_display": false
  },
  "colab": {
   "provenance": [],
   "collapsed_sections": [
    "pJyxgxErLqbg",
    "y8BB5t5DLqb8",
    "RQS6gBO1Lqc5"
   ]
  }
 },
 "cells": [
  {
   "cell_type": "markdown",
   "metadata": {
    "id": "LYKqDli0Lqas",
    "pycharm": {
     "name": "#%% md\n"
    }
   },
   "source": [
    "# Рубежная контрольная работа\n",
    "\n",
    "*Эту работу выполнять не обязательно. Баллы, набранные за эту контрольную работу просуммируются с баллами, которые будут набраны за контрольную работу 2 и выставлены как оценка за экзамен \"автоматом\". Если вы не выполните эту работу, переписать её будет невозможно, просто приходите на экзамен и добирайте баллы там.*"
   ]
  },
  {
   "cell_type": "markdown",
   "metadata": {
    "id": "Cdt8kOfu4K3x",
    "pycharm": {
     "name": "#%% md\n"
    }
   },
   "source": [
    "Сделайте копию ноутбука\n",
    "\n",
    "Присвойте переменной `v` свой табельный номер ИСУ, это нужно для определения вашего варианта. Запустите код в следующей ячейке."
   ]
  },
  {
   "cell_type": "code",
   "metadata": {
    "id": "38Ryn8pjvYqb",
    "colab": {
     "base_uri": "https://localhost:8080/"
    },
    "outputId": "9ead9973-9d6d-427f-81d5-9c6bcc0bfd10",
    "pycharm": {
     "name": "#%%\n"
    }
   },
   "source": [
    "from datetime import datetime\n",
    "\n",
    "current_datetime = datetime.now()\n",
    "print(current_datetime)\n",
    "v = 311530  # по умолчанию вписан мой номер"
   ],
   "execution_count": 1,
   "outputs": [
    {
     "name": "stdout",
     "output_type": "stream",
     "text": [
      "2022-10-24 11:50:54.975988\n"
     ]
    }
   ]
  },
  {
   "cell_type": "markdown",
   "metadata": {
    "id": "Qr0CAgObPOv7",
    "pycharm": {
     "name": "#%% md\n"
    }
   },
   "source": [
    "## Описание метрического алгоритма"
   ]
  },
  {
   "cell_type": "markdown",
   "metadata": {
    "id": "OFP_i1F1Lqay",
    "pycharm": {
     "name": "#%% md\n"
    }
   },
   "source": [
    "Пусть задана обучающая выборка пар \"объект-ответ\" $X^m = \\{(x_1,y_1),\\dots,(x_m,y_m)\\}.$\n",
    "\n",
    "Пусть на множестве объектов задана функция расстояния $\\rho(x,x')$. Чем больше значение этой функции, тем менее схожими являются два объекта $x, x'$. \n",
    "В простейшем случае используется евклидова метрика: $\\rho(x,x') = \\sqrt {\\sum _{i=1}^{n}(x_{i}-x'_{i})^{2}}$,\n",
    "\n",
    "Для произвольного объекта $u$ расположим объекты обучающей выборки $x_i$ в порядке возрастания расстояний до $u$:\n",
    "\n",
    "$$\\rho(u,x_{1; u}) \\leq  \\rho(u,x_{2; u}) \\leq \\cdots \\leq \\rho(u,x_{m; u}),$$\n",
    "где через $x_{i; u}$ обозначается тот объект обучающей выборки, который является $i$-м соседом объекта $u$. Аналогичное обозначение введём и для ответа на $i$-м соседе: $y_{i; u}$. Таким образом, произвольный объект $u$ порождает свою перенумерацию выборки. В наиболее общем виде алгоритм ближайших соседей есть:\n",
    "$$a(u) = \\mathrm{arg}\\max_{y\\in Y} \\sum_{i=1}^m \\bigl[ y_{i; u}=y \\bigr] w(i,u),$$\n",
    "где $w(i,u)$ - заданная весовая функция, которая оценивает степень важности $i$-го соседа для классификации объекта $u$. Естественно полагать, что эта функция не отрицательна и не возрастает по $i$ (поскольку чем дальше объект, тем меньший вклад он должен вносить в пользу своего класса).\n",
    "\n",
    "По-разному задавая весовую функцию, можно получать различные варианты метода ближайших соседей.\n",
    "\n",
    "$w(i,u) = [i=1]$ - простейший метод ближайшего соседа;\n",
    "\n",
    "$w(i,u) = [i\\leq k]$ - метод $k$ ближайших соседей;\n",
    "\n",
    "$w(i,u) = [i\\leq k] q^i$ - метод $k$ экспоненциально взвешенных ближайших соседей, где предполагается константа $q < 1$\n",
    "\n",
    "\n"
   ]
  },
  {
   "cell_type": "markdown",
   "metadata": {
    "id": "9O9wv47JPzIf",
    "pycharm": {
     "name": "#%% md\n"
    }
   },
   "source": [
    "**Использование ядер сглаживания**\n",
    "\n",
    "Для избежания неоднозначности ответа при классификации в качестве весовой функции $w(i, u)$ используют функцию ядра $K(r)$\n",
    "\n",
    "Примеры ядер:\n",
    "\n",
    "Triangular: ${\\displaystyle K(r)=(1-|r|)}$,\n",
    "\n",
    "Parabolic: ${\\displaystyle K(r)={\\frac {3}{4}}(1-r^{2})}$,\n",
    "\n",
    "Tricube: ${\\displaystyle K(r)={\\frac {70}{81}}(1-{\\left|r\\right|}^{3})^{3}}$.\n",
    "\n",
    "**Метод парзеновского окна**\n",
    "\n",
    "Алгоритм $k$ ближайших соседей можно обобщить с помощью функции ядра. Рассмотрим два способа, которыми это можно сделать.\n",
    "\n",
    "Метод парзеновского окна фиксированной ширины  $h$:\n",
    "$$w(i,u) = K\\biggl(\\frac{\\rho(u,x_{i; u})}{h}\\biggr)$$\n",
    "\n",
    "Метод парзеновского окна переменной ширины:\n",
    "$$w(i,u) = K\\biggl(\\frac{\\rho(u,x_{i; u})}{\\rho(u,x_{k+1; u})}\\biggr)$$\n",
    "\n",
    "Таким образом классификаторы, полученные при использовании этих методов, можно записать в следующем виде\n",
    "\n",
    "Фиксированной ширины: $$a_h = a(u, X^m, \\boldsymbol{h}, K) = \\mathrm{arg}\\max_{y\\in Y} \\sum_{i=1}^m \\bigl[ y_{i; u}=y \\bigr] K\\biggl(\\frac{\\rho(u,x_{i; u})}{h}\\biggr)$$\n",
    "\n",
    "Переменной ширины (фиксированное число соседей): \n",
    "$$a_k = a(u, X^m, \\boldsymbol{k}, K) = \\mathrm{arg}\\max_{y\\in Y} \\sum_{i=1}^m \\bigl[ y_{i; u}=y \\bigr] K\\biggl(\\frac{\\rho(u,x_{i; u})}{\\rho(u,x_{k+1; u})}\\biggr)$$\n"
   ]
  },
  {
   "cell_type": "markdown",
   "metadata": {
    "id": "QChjKJIRPWty",
    "pycharm": {
     "name": "#%% md\n"
    }
   },
   "source": [
    "## Задание 1 (7 баллов)\n",
    "\n",
    "В задании требуется написать свою реализацию метрического алгоритма. \n",
    "\n",
    "В качестве расстояния между объектами в этом задании используйте евклидово расстояние. \n",
    "\n",
    "В качестве функции ядра используйте Parabolic."
   ]
  },
  {
   "cell_type": "markdown",
   "metadata": {
    "id": "F57T22yav-gp",
    "pycharm": {
     "name": "#%% md\n"
    }
   },
   "source": [
    "Для выбора варианта, запустите код в следующей ячейке\n",
    "\n"
   ]
  },
  {
   "cell_type": "code",
   "metadata": {
    "id": "zFcuNXzcwMbH",
    "pycharm": {
     "name": "#%%\n"
    }
   },
   "source": [
    "if (int(str(v)[3]) % 2) == 0:\n",
    "    print(\n",
    "        '1.1 В алгоритме число соседей должно быть фиксированным. Настроить гиперпараметр k, для оценки качества использовать F1-меру'\n",
    "    )\n",
    "else:\n",
    "    print(\n",
    "        '1.1 В алгоритме число соседей не должно быть фиксированным. Настроить гиперпараметр h (ширина окна),'\n",
    "        'для оценки качества использовать использовать accuracy'\n",
    "    )\n",
    "\n",
    "if (int(str(v)[3]) % 2) == 0:\n",
    "    print('1.2 Построить график зависимости метрики качества на обучающей выборке от k')\n",
    "else:\n",
    "    print('1.2 Построить график зависимости метрики качества на контрольной выборке от h')"
   ],
   "execution_count": 2,
   "outputs": [
    {
     "name": "stdout",
     "output_type": "stream",
     "text": [
      "1.1 В алгоритме число соседей не должно быть фиксированным. Настроить гиперпараметр h (ширина окна), для оценки качества использовать использовать accuracy\n",
      "1.2 Построить график зависимости метрики качества на контрольной выборке от h\n"
     ]
    }
   ]
  },
  {
   "cell_type": "code",
   "execution_count": 13,
   "outputs": [],
   "source": [
    "from scipy.spatial.distance import euclidean\n",
    "from collections import Counter\n",
    "import numpy as np\n",
    "\n",
    "\n",
    "class KNN:\n",
    "    def __init__(self, k=5, h=0.5):\n",
    "        self.k = k\n",
    "        self.h = h\n",
    "\n",
    "    def fit(self, X, y):\n",
    "        self.X = X\n",
    "        self.y = y\n",
    "\n",
    "    @staticmethod\n",
    "    def parabolic(x):\n",
    "        return 3 / 4 * (1 - x ** 2)\n",
    "\n",
    "    def predict(self, X):\n",
    "        return np.array([self._predict_one(x) for x in X])\n",
    "\n",
    "    def _predict_one(self, x):\n",
    "        distances = np.array([euclidean(x, x_train) for x_train in self.X])\n",
    "        weights = self.parabolic(distances / self.h)\n",
    "        most_common = Counter(self.y[np.argsort(weights)[-self.k:]]).most_common(1)\n",
    "        return most_common[0][0]\n",
    "\n",
    "    def accuracy(self, X, y):\n",
    "        tp, tn, fp, fn = 0, 0, 0, 0\n",
    "        for x, y_true in zip(X, y):\n",
    "            y_pred = self._predict_one(x)\n",
    "            tp += (y_true == 1 and y_pred == 1)\n",
    "            tn += (y_true == 0 and y_pred == 0)\n",
    "            fp += (y_true == 0 and y_pred == 1)\n",
    "            fn += (y_true == 1 and y_pred == 0)\n",
    "\n",
    "        return (tp + tn) / (tp + tn + fp + fn)\n"
   ],
   "metadata": {
    "collapsed": false,
    "pycharm": {
     "name": "#%%\n"
    }
   }
  },
  {
   "cell_type": "markdown",
   "source": [
    "Протестирйуте эту реализацию на наборе данных breast_cancer:\n",
    "\n",
    "https://scikit-learn.org/stable/modules/generated/sklearn.datasets.load_breast_cancer.html"
   ],
   "metadata": {
    "collapsed": false,
    "pycharm": {
     "name": "#%% md\n"
    }
   }
  },
  {
   "cell_type": "markdown",
   "source": [
    "Может понадобиться предобработка данных"
   ],
   "metadata": {
    "id": "OCpbLbb83bbY",
    "pycharm": {
     "name": "#%% md\n"
    }
   }
  },
  {
   "cell_type": "code",
   "execution_count": 14,
   "outputs": [
    {
     "name": "stdout",
     "output_type": "stream",
     "text": [
      "0.9590643274853801\n"
     ]
    }
   ],
   "source": [
    "from sklearn.model_selection import train_test_split\n",
    "from sklearn.datasets import load_breast_cancer\n",
    "\n",
    "data = load_breast_cancer()\n",
    "X_train, X_test, y_train, y_test = train_test_split(data.data, data.target, test_size=0.3, random_state=42)\n",
    "\n",
    "knn = KNN(k=5, h=0.5)\n",
    "knn.fit(X_train, y_train)\n",
    "\n",
    "print(knn.accuracy(X_test, y_test))"
   ],
   "metadata": {
    "collapsed": false,
    "pycharm": {
     "name": "#%%\n"
    }
   }
  },
  {
   "cell_type": "code",
   "execution_count": 26,
   "outputs": [
    {
     "data": {
      "text/plain": "<Figure size 640x480 with 1 Axes>",
      "image/png": "[encoded data removed]"
     },
     "metadata": {},
     "output_type": "display_data"
    }
   ],
   "source": [
    "# plot accuracy vs k vs h\n",
    "\n",
    "import matplotlib.pyplot as plt\n",
    "\n",
    "h_values = np.linspace(0.1, 1, 10)\n",
    "\n",
    "for h in h_values:\n",
    "    knn = KNN(h=h)\n",
    "    knn.fit(X_train, y_train)\n",
    "    plt.plot(h, knn.accuracy(X_test, y_test), 'ro')\n",
    "\n",
    "plt.xlabel('h')\n",
    "plt.ylabel('accuracy')\n",
    "plt.title('Accuracy vs h, k=5')\n",
    "plt.show()"
   ],
   "metadata": {
    "collapsed": false,
    "pycharm": {
     "name": "#%%\n"
    }
   }
  },
  {
   "cell_type": "code",
   "execution_count": null,
   "outputs": [],
   "source": [],
   "metadata": {
    "collapsed": false,
    "pycharm": {
     "name": "#%%\n"
    }
   }
  },
  {
   "cell_type": "markdown",
   "metadata": {
    "id": "XL9H9vXATHcc",
    "pycharm": {
     "name": "#%% md\n"
    }
   },
   "source": [
    "Штрафы:\n",
    "* отсутствие реализации алгоритма (4 балла)\n",
    "* ошибки в реализации алгоритма (2 балла)\n",
    "* отсутствие настройки гиперпараметра (2 балла)\n",
    "* ошибки в настройке гиперпараметра (1 балл)\n",
    "* отсутствие графика (1 балл)"
   ]
  },
  {
   "cell_type": "markdown",
   "metadata": {
    "id": "Mz4rsFhALqbJ",
    "pycharm": {
     "name": "#%% md\n"
    }
   },
   "source": [
    "# Задание 2 (4 балла)"
   ]
  },
  {
   "cell_type": "markdown",
   "metadata": {
    "id": "EHdzuZj-3dsF",
    "pycharm": {
     "name": "#%% md\n"
    }
   },
   "source": [
    "Требуется реализовать метрический алгоритм для предсказания действительного числа (то есть как в задаче регрессии, а не как в задаче классификации). \n",
    "\n",
    "В задании 2 **не** используйте ядра и метод парзеновского окна."
   ]
  },
  {
   "cell_type": "markdown",
   "metadata": {
    "id": "gOM9Kj8pLqbS",
    "pycharm": {
     "name": "#%% md\n"
    }
   },
   "source": [
    "Во этом задании в качестве исходных данных используется словарь кинокритиков и выставленных ими оценок"
   ]
  },
  {
   "cell_type": "code",
   "metadata": {
    "id": "ENkh6Gr98Pit",
    "pycharm": {
     "name": "#%%\n"
    }
   },
   "source": [
    "critics = {\n",
    "    'Lisa Rose': {\n",
    "        'Lady in the Water': 2.5,\n",
    "        'Snakes on a Plane': 3.5,\n",
    "        'Just My Luck': 3.0,\n",
    "        'Superman Returns': 3.5,\n",
    "        'You, Me and Dupree': 2.5,\n",
    "        'The Night Listener': 3.0\n",
    "    },\n",
    "    'Gene Seymour': {\n",
    "        'Lady in the Water': 3.0,\n",
    "        'Snakes on a Plane': 3.5,\n",
    "        'Just My Luck': 1.5,\n",
    "        'Superman Returns': 5.0,\n",
    "        'The Night Listener': 3.0,\n",
    "        'You, Me and Dupree': 3.5\n",
    "    },\n",
    "    'Michael Phillips': {\n",
    "        'Lady in the Water': 2.5,\n",
    "        'Snakes on a Plane': 3.0,\n",
    "        'Superman Returns': 3.5,\n",
    "        'The Night Listener': 4.0},\n",
    "    'Claudia Puig': {\n",
    "        'Snakes on a Plane': 3.5,\n",
    "        'Just My Luck': 3.0,\n",
    "        'The Night Listener': 4.5,\n",
    "        'Superman Returns': 4.0,\n",
    "        'You, Me and Dupree': 2.5\n",
    "    },\n",
    "    'Mick LaSalle': {\n",
    "        'Lady in the Water': 3.0,\n",
    "        'Snakes on a Plane': 4.0,\n",
    "        'Just My Luck': 2.0,\n",
    "        'Superman Returns': 3.0,\n",
    "        'The Night Listener': 3.0,\n",
    "        'You, Me and Dupree': 2.0\n",
    "    },\n",
    "    'Jack Matthews': {\n",
    "        'Lady in the Water': 3.0,\n",
    "        'Snakes on a Plane': 4.0,\n",
    "        'The Night Listener': 3.0,\n",
    "        'Superman Returns': 5.0,\n",
    "        'You, Me and Dupree': 3.5\n",
    "    },\n",
    "    'Toby': {\n",
    "        'Snakes on a Plane': 4.5,\n",
    "        'You, Me and Dupree': 1.0,\n",
    "        'Superman Returns': 4.0\n",
    "    }\n",
    "}"
   ],
   "execution_count": 27,
   "outputs": []
  },
  {
   "cell_type": "markdown",
   "metadata": {
    "id": "MVfEyvFj019l",
    "pycharm": {
     "name": "#%% md\n"
    }
   },
   "source": [
    "По этому словарю нужно сделать Dataframe в pandas. Строки это критики, столбцы - названия фильмов. На пересечении поставленные оценки. При отсуствии оценки у критика за фильм в датафрейме нужно поставить 0."
   ]
  },
  {
   "cell_type": "markdown",
   "metadata": {
    "id": "xakj7Hul1jMp",
    "pycharm": {
     "name": "#%% md\n"
    }
   },
   "source": [
    "Для выбора варианта, запустите код в следующей ячейке"
   ]
  },
  {
   "cell_type": "code",
   "metadata": {
    "id": "fvyYCARr1gLt",
    "pycharm": {
     "name": "#%%\n"
    }
   },
   "source": [
    "if (int(str(v)[4]) % 2) == 0:\n",
    "    print('2.1 Сделайте предсказание оценок для критика Michael Phillips по фильмам, которые он ещё не видел')\n",
    "else:\n",
    "    print('2.1 Сделайте предсказание оценок для фильма Just My Luck по критикам, которые его ещё не видели')\n",
    "print('2.2 Объясните как оценить качество полученного предказания')"
   ],
   "execution_count": 28,
   "outputs": [
    {
     "name": "stdout",
     "output_type": "stream",
     "text": [
      "2.1 Сделайте предсказание оценок для фильма Just My Luck по критикам, которые его ещё не видели\n",
      "2.2 Объясните как оценить качество полученного предказания\n"
     ]
    }
   ]
  },
  {
   "cell_type": "code",
   "execution_count": 30,
   "outputs": [
    {
     "data": {
      "text/plain": "                    Lisa Rose  Gene Seymour  Michael Phillips  Claudia Puig  \\\nLady in the Water         2.5           3.0               2.5           0.0   \nSnakes on a Plane         3.5           3.5               3.0           3.5   \nJust My Luck              3.0           1.5               0.0           3.0   \nSuperman Returns          3.5           5.0               3.5           4.0   \nYou, Me and Dupree        2.5           3.5               0.0           2.5   \nThe Night Listener        3.0           3.0               4.0           4.5   \n\n                    Mick LaSalle  Jack Matthews  Toby  \nLady in the Water            3.0            3.0   0.0  \nSnakes on a Plane            4.0            4.0   4.5  \nJust My Luck                 2.0            0.0   0.0  \nSuperman Returns             3.0            5.0   4.0  \nYou, Me and Dupree           2.0            3.5   1.0  \nThe Night Listener           3.0            3.0   0.0  ",
      "text/html": "<div>\n<style scoped>\n    .dataframe tbody tr th:only-of-type {\n        vertical-align: middle;\n    }\n\n    .dataframe tbody tr th {\n        vertical-align: top;\n    }\n\n    .dataframe thead th {\n        text-align: right;\n    }\n</style>\n<table border=\"1\" class=\"dataframe\">\n  <thead>\n    <tr style=\"text-align: right;\">\n      <th></th>\n      <th>Lisa Rose</th>\n      <th>Gene Seymour</th>\n      <th>Michael Phillips</th>\n      <th>Claudia Puig</th>\n      <th>Mick LaSalle</th>\n      <th>Jack Matthews</th>\n      <th>Toby</th>\n    </tr>\n  </thead>\n  <tbody>\n    <tr>\n      <th>Lady in the Water</th>\n      <td>2.5</td>\n      <td>3.0</td>\n      <td>2.5</td>\n      <td>0.0</td>\n      <td>3.0</td>\n      <td>3.0</td>\n      <td>0.0</td>\n    </tr>\n    <tr>\n      <th>Snakes on a Plane</th>\n      <td>3.5</td>\n      <td>3.5</td>\n      <td>3.0</td>\n      <td>3.5</td>\n      <td>4.0</td>\n      <td>4.0</td>\n      <td>4.5</td>\n    </tr>\n    <tr>\n      <th>Just My Luck</th>\n      <td>3.0</td>\n      <td>1.5</td>\n      <td>0.0</td>\n      <td>3.0</td>\n      <td>2.0</td>\n      <td>0.0</td>\n      <td>0.0</td>\n    </tr>\n    <tr>\n      <th>Superman Returns</th>\n      <td>3.5</td>\n      <td>5.0</td>\n      <td>3.5</td>\n      <td>4.0</td>\n      <td>3.0</td>\n      <td>5.0</td>\n      <td>4.0</td>\n    </tr>\n    <tr>\n      <th>You, Me and Dupree</th>\n      <td>2.5</td>\n      <td>3.5</td>\n      <td>0.0</td>\n      <td>2.5</td>\n      <td>2.0</td>\n      <td>3.5</td>\n      <td>1.0</td>\n    </tr>\n    <tr>\n      <th>The Night Listener</th>\n      <td>3.0</td>\n      <td>3.0</td>\n      <td>4.0</td>\n      <td>4.5</td>\n      <td>3.0</td>\n      <td>3.0</td>\n      <td>0.0</td>\n    </tr>\n  </tbody>\n</table>\n</div>"
     },
     "execution_count": 30,
     "metadata": {},
     "output_type": "execute_result"
    }
   ],
   "source": [
    "import pandas as pd\n",
    "\n",
    "critics_df = pd.DataFrame(critics)\n",
    "\n",
    "critics_df = critics_df.fillna(0)\n",
    "critics_df"
   ],
   "metadata": {
    "collapsed": false,
    "pycharm": {
     "name": "#%%\n"
    }
   }
  },
  {
   "cell_type": "code",
   "execution_count": 33,
   "outputs": [],
   "source": [
    "# predict Just My Luck for critics who didn't see it"
   ],
   "metadata": {
    "collapsed": false,
    "pycharm": {
     "name": "#%%\n"
    }
   }
  },
  {
   "cell_type": "code",
   "execution_count": null,
   "outputs": [],
   "source": [],
   "metadata": {
    "collapsed": false,
    "pycharm": {
     "name": "#%%\n"
    }
   }
  },
  {
   "cell_type": "markdown",
   "source": [
    "Штрафы:\n",
    "* отсутствие реализации алгоритма (2 балла)\n",
    "* ошибки в реализации алгоритма (1 балл)\n",
    "* отсутствие тестирования алгоритма (1 балл)\n",
    "* отсутствие объяснения оценки качества алгоритма (1 балл)"
   ],
   "metadata": {
    "collapsed": false,
    "pycharm": {
     "name": "#%% md\n"
    }
   }
  },
  {
   "cell_type": "markdown",
   "metadata": {
    "id": "v_oFki5H3_vy",
    "pycharm": {
     "name": "#%% md\n"
    }
   },
   "source": [
    "После завершения контрольной работы, дайте ссылку на ноутбук в отдельном followup в своей теме на Piazza. Дайте разрешение на его просмотр.\n",
    "\n",
    "Не забудьте запустить код в последней ячейке для контроля времени выполнения."
   ]
  },
  {
   "cell_type": "code",
   "execution_count": 34,
   "outputs": [
    {
     "name": "stdout",
     "output_type": "stream",
     "text": [
      "2022-10-24 12:59:02.389276\n"
     ]
    }
   ],
   "source": [
    "current_datetime = datetime.now()\n",
    "print(current_datetime)"
   ],
   "metadata": {
    "collapsed": false,
    "pycharm": {
     "name": "#%%\n"
    }
   }
  },
  {
   "cell_type": "code",
   "execution_count": null,
   "outputs": [],
   "source": [],
   "metadata": {
    "collapsed": false,
    "pycharm": {
     "name": "#%%\n"
    }
   }
  }
 ]
}