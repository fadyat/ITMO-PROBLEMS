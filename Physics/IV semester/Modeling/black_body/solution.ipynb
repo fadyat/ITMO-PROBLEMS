{
 "cells": [
  {
   "cell_type": "markdown",
   "source": [
    "# Модель черного тела\n",
    "\n",
    "Создать модель абсолютно черного тела и построить траекторию прохождения электромагнитного излучения через модель.\n",
    "\n",
    "На выходе моделирования необходимо расчитать сколько излучения поглощается, рассеивается.\n",
    "\n",
    "Задать температуру черного тела и получить спектр черного тела у выходящего из отверстия электромагнитного излучения."
   ],
   "metadata": {
    "collapsed": false,
    "pycharm": {
     "name": "#%% md\n"
    }
   }
  },
  {
   "cell_type": "markdown",
   "source": [
    "$R_\\lambda = \\frac{2\\pi hc^2}{\\lambda^5} \\frac{1}{e^{{hc}/{\\lambda k T}} - 1}$"
   ],
   "metadata": {
    "collapsed": false,
    "pycharm": {
     "name": "#%% md\n"
    }
   }
  },
  {
   "cell_type": "code",
   "execution_count": 536,
   "outputs": [],
   "source": [
    "from scipy.constants import h, c, k, micro\n",
    "import numpy as np\n",
    "\n",
    "\n",
    "def blackbody_radiation(l, t):\n",
    "    a = 2 * np.pi * h * c ** 2\n",
    "    b = h * c / (l * k * t)\n",
    "    return a / ((l ** 5) * (np.exp(b) - 1))"
   ],
   "metadata": {
    "collapsed": false,
    "pycharm": {
     "name": "#%%\n"
    }
   }
  },
  {
   "cell_type": "code",
   "execution_count": 537,
   "outputs": [],
   "source": [
    "import matplotlib.pyplot as plt\n",
    "\n",
    "\n",
    "def analyze():\n",
    "    temperatures = np.linspace(1e3, 12e3, 6)\n",
    "    lambdas = np.linspace(0.05, 1, 10000) * micro\n",
    "    for t in temperatures:\n",
    "        plt.plot(lambdas, blackbody_radiation(lambdas, t))\n",
    "        plt.xlabel('$\\lambda$')\n",
    "        plt.ylabel('$R(\\lambda, T)$')"
   ],
   "metadata": {
    "collapsed": false,
    "pycharm": {
     "name": "#%%\n"
    }
   }
  },
  {
   "cell_type": "code",
   "execution_count": 552,
   "outputs": [],
   "source": [
    "import math\n",
    "\n",
    "\n",
    "class Trajectory:\n",
    "    # ax + by + c = 0\n",
    "    # x^2 + y^2 = r^2\n",
    "    eps = 1e-6\n",
    "\n",
    "    def __init__(self, line_coef: tuple, r: float):\n",
    "        self.line_coef = line_coef\n",
    "        self.r = r\n",
    "        self.point = (0, 0)\n",
    "        self.point = self.get_next_point()\n",
    "\n",
    "    @staticmethod\n",
    "    def line_coefficients(p0: tuple, p1: tuple):\n",
    "        # (x - x1) / (x2 - x1) - (y - y1) / (y2 - y1) = 0\n",
    "        x1, y1 = p0\n",
    "        x2, y2 = p1\n",
    "        return 1 / (x2 - x1), -1 / (y2 - y1), y1 / (y2 - y1) - x1 / (x2 - x1)\n",
    "\n",
    "    @staticmethod\n",
    "    def line_value(line_coef: tuple, x0: float):\n",
    "        a, b, c = line_coef\n",
    "        return -(a * x0 + c) / b\n",
    "\n",
    "    def solve_line_circle(self):\n",
    "        a, b, c = self.line_coef\n",
    "        s = (a ** 2 + b ** 2)\n",
    "        x0 = -a * c / s\n",
    "        y0 = -b * c / s\n",
    "        if c ** 2 > self.r ** 2 * s + self.eps or np.abs(c ** 2 - self.r ** 2 * s) < self.eps:\n",
    "            raise ValueError('line don\\'t have 2 intersection points with circle')\n",
    "        else:\n",
    "            d = self.r ** 2 - c ** 2 / s\n",
    "            mult = np.sqrt(d / s)\n",
    "            return (x0 + b * mult, y0 - a * mult), (x0 - b * mult, y0 + a * mult)\n",
    "\n",
    "    @staticmethod\n",
    "    def solve_lines(line_coef1, line_coef2):\n",
    "        a1, b1, c1 = line_coef1\n",
    "        a2, b2, c2 = line_coef2\n",
    "        x = (c2 * b1 - c1 * b2) / (a1 * b2 - a2 * b1)\n",
    "        y = -a2 * x / b2 - c2 / b2\n",
    "        return x, y\n",
    "\n",
    "    @staticmethod\n",
    "    def perpendicular_line_coef(line_coef: tuple, p0: tuple):\n",
    "        a, b, c = line_coef\n",
    "        x, y = p0\n",
    "        return -b, a, b * x - a * y\n",
    "\n",
    "    @staticmethod\n",
    "    def distance_between(p0: tuple, p1: tuple):\n",
    "        return math.dist(p0, p1)\n",
    "\n",
    "    def get_next_point(self):\n",
    "        p0, p1 = self.solve_line_circle()\n",
    "        d0, d1 = self.distance_between(self.point, p0), self.distance_between(self.point, p1)\n",
    "        return p0 if d0 > d1 else p1\n",
    "\n",
    "    @staticmethod\n",
    "    def get_symmetrical_point(p1: tuple, pm: tuple):\n",
    "        x1, y1 = p1\n",
    "        xm, ym = pm\n",
    "        return 2 * xm - x1, 2 * ym - y1\n",
    "\n",
    "    def draw(self, niter=1):\n",
    "        fig = plt.figure()\n",
    "        ax = fig.add_subplot()\n",
    "        ax.scatter(self.point[0], self.point[1], c='black')\n",
    "        while niter > 0:\n",
    "            next_point = self.get_next_point()\n",
    "            radius_line = self.line_coefficients((0, 0), next_point)\n",
    "            perpendicular_line = self.perpendicular_line_coef(radius_line, (0, 0))\n",
    "            intersection_point = self.solve_lines(perpendicular_line, self.line_coef)\n",
    "            symmetrical_point = self.get_symmetrical_point(intersection_point, (0, 0))\n",
    "            symmetrical_line = self.line_coefficients(next_point, symmetrical_point)\n",
    "            points = np.linspace(self.point[0], next_point[0])\n",
    "            ax.plot(points, self.line_value(self.line_coef, points), c='red', alpha=.4)\n",
    "            self.line_coef = symmetrical_line\n",
    "            self.point = next_point\n",
    "            niter -= 1\n",
    "\n",
    "        plt.gcf().gca().add_artist(plt.Circle((0, 0), self.r, fill=False))\n",
    "        ax.set_aspect('equal', adjustable='box')\n",
    "        plt.xlim([-1.2 * self.r, 1.2 * self.r])\n",
    "        plt.ylim([-1.2 * self.r, 1.2 * self.r])\n",
    "        plt.axis('off')"
   ],
   "metadata": {
    "collapsed": false,
    "pycharm": {
     "name": "#%%\n"
    }
   }
  },
  {
   "cell_type": "code",
   "execution_count": 553,
   "outputs": [
    {
     "data": {
      "text/plain": "<Figure size 432x288 with 1 Axes>",
      "image/png": "[encoded data removed]"
     },
     "metadata": {
      "needs_background": "light"
     },
     "output_type": "display_data"
    }
   ],
   "source": [
    "if __name__ == '__main__':\n",
    "    trajectory = Trajectory((-1, 1, 2), 4)\n",
    "    # analyze()\n",
    "    trajectory.draw(34)"
   ],
   "metadata": {
    "collapsed": false,
    "pycharm": {
     "name": "#%%\n"
    }
   }
  },
  {
   "cell_type": "code",
   "execution_count": null,
   "outputs": [],
   "source": [],
   "metadata": {
    "collapsed": false,
    "pycharm": {
     "name": "#%%\n"
    }
   }
  }
 ],
 "metadata": {
  "kernelspec": {
   "display_name": "Python 3",
   "language": "python",
   "name": "python3"
  },
  "language_info": {
   "codemirror_mode": {
    "name": "ipython",
    "version": 2
   },
   "file_extension": ".py",
   "mimetype": "text/x-python",
   "name": "python",
   "nbconvert_exporter": "python",
   "pygments_lexer": "ipython2",
   "version": "2.7.6"
  }
 },
 "nbformat": 4,
 "nbformat_minor": 0
}